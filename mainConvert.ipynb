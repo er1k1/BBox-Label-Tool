{
 "cells": [
  {
   "cell_type": "code",
   "execution_count": 1,
   "metadata": {},
   "outputs": [
    {
     "name": "stdout",
     "output_type": "stream",
     "text": [
      "debug =  False\n",
      "C:\\Users\\erik\\Documents\\GitHub\\BBox-Label-Tool\\Images\\001\n",
      "['C:\\\\Users\\\\erik\\\\Documents\\\\GitHub\\\\BBox-Label-Tool\\\\Images\\\\001\\\\P1010692.JPG', 'C:\\\\Users\\\\erik\\\\Documents\\\\GitHub\\\\BBox-Label-Tool\\\\Images\\\\001\\\\P1010693.JPG', 'C:\\\\Users\\\\erik\\\\Documents\\\\GitHub\\\\BBox-Label-Tool\\\\Images\\\\001\\\\P1010694.JPG', 'C:\\\\Users\\\\erik\\\\Documents\\\\GitHub\\\\BBox-Label-Tool\\\\Images\\\\001\\\\P1010695.JPG', 'C:\\\\Users\\\\erik\\\\Documents\\\\GitHub\\\\BBox-Label-Tool\\\\Images\\\\001\\\\P1010696.JPG', 'C:\\\\Users\\\\erik\\\\Documents\\\\GitHub\\\\BBox-Label-Tool\\\\Images\\\\001\\\\P1010697.JPG', 'C:\\\\Users\\\\erik\\\\Documents\\\\GitHub\\\\BBox-Label-Tool\\\\Images\\\\001\\\\P1010698.JPG', 'C:\\\\Users\\\\erik\\\\Documents\\\\GitHub\\\\BBox-Label-Tool\\\\Images\\\\001\\\\P1010703.JPG', 'C:\\\\Users\\\\erik\\\\Documents\\\\GitHub\\\\BBox-Label-Tool\\\\Images\\\\001\\\\P1010704.JPG', 'C:\\\\Users\\\\erik\\\\Documents\\\\GitHub\\\\BBox-Label-Tool\\\\Images\\\\001\\\\P1010705.JPG', 'C:\\\\Users\\\\erik\\\\Documents\\\\GitHub\\\\BBox-Label-Tool\\\\Images\\\\001\\\\P1010706.JPG', 'C:\\\\Users\\\\erik\\\\Documents\\\\GitHub\\\\BBox-Label-Tool\\\\Images\\\\001\\\\P1010707.JPG', 'C:\\\\Users\\\\erik\\\\Documents\\\\GitHub\\\\BBox-Label-Tool\\\\Images\\\\001\\\\P1010709.JPG', 'C:\\\\Users\\\\erik\\\\Documents\\\\GitHub\\\\BBox-Label-Tool\\\\Images\\\\001\\\\P1010710.JPG', 'C:\\\\Users\\\\erik\\\\Documents\\\\GitHub\\\\BBox-Label-Tool\\\\Images\\\\001\\\\P1010711.JPG', 'C:\\\\Users\\\\erik\\\\Documents\\\\GitHub\\\\BBox-Label-Tool\\\\Images\\\\001\\\\P1010712.JPG', 'C:\\\\Users\\\\erik\\\\Documents\\\\GitHub\\\\BBox-Label-Tool\\\\Images\\\\001\\\\P1010713.JPG', 'C:\\\\Users\\\\erik\\\\Documents\\\\GitHub\\\\BBox-Label-Tool\\\\Images\\\\001\\\\P1010714.JPG', 'C:\\\\Users\\\\erik\\\\Documents\\\\GitHub\\\\BBox-Label-Tool\\\\Images\\\\001\\\\P1010715.JPG', 'C:\\\\Users\\\\erik\\\\Documents\\\\GitHub\\\\BBox-Label-Tool\\\\Images\\\\001\\\\P1010716.JPG', 'C:\\\\Users\\\\erik\\\\Documents\\\\GitHub\\\\BBox-Label-Tool\\\\Images\\\\001\\\\P1010717.JPG', 'C:\\\\Users\\\\erik\\\\Documents\\\\GitHub\\\\BBox-Label-Tool\\\\Images\\\\001\\\\P1010718.JPG', 'C:\\\\Users\\\\erik\\\\Documents\\\\GitHub\\\\BBox-Label-Tool\\\\Images\\\\001\\\\P1010719.JPG', 'C:\\\\Users\\\\erik\\\\Documents\\\\GitHub\\\\BBox-Label-Tool\\\\Images\\\\001\\\\P1010720.JPG', 'C:\\\\Users\\\\erik\\\\Documents\\\\GitHub\\\\BBox-Label-Tool\\\\Images\\\\001\\\\P1010721.JPG', 'C:\\\\Users\\\\erik\\\\Documents\\\\GitHub\\\\BBox-Label-Tool\\\\Images\\\\001\\\\P1010722.JPG', 'C:\\\\Users\\\\erik\\\\Documents\\\\GitHub\\\\BBox-Label-Tool\\\\Images\\\\001\\\\P1010723.JPG', 'C:\\\\Users\\\\erik\\\\Documents\\\\GitHub\\\\BBox-Label-Tool\\\\Images\\\\001\\\\P1010724.JPG', 'C:\\\\Users\\\\erik\\\\Documents\\\\GitHub\\\\BBox-Label-Tool\\\\Images\\\\001\\\\P1010725.JPG', 'C:\\\\Users\\\\erik\\\\Documents\\\\GitHub\\\\BBox-Label-Tool\\\\Images\\\\001\\\\P1010726.JPG', 'C:\\\\Users\\\\erik\\\\Documents\\\\GitHub\\\\BBox-Label-Tool\\\\Images\\\\001\\\\P1010727.JPG', 'C:\\\\Users\\\\erik\\\\Documents\\\\GitHub\\\\BBox-Label-Tool\\\\Images\\\\001\\\\P1010728.JPG', 'C:\\\\Users\\\\erik\\\\Documents\\\\GitHub\\\\BBox-Label-Tool\\\\Images\\\\001\\\\P1010729.JPG', 'C:\\\\Users\\\\erik\\\\Documents\\\\GitHub\\\\BBox-Label-Tool\\\\Images\\\\001\\\\P1010734.JPG', 'C:\\\\Users\\\\erik\\\\Documents\\\\GitHub\\\\BBox-Label-Tool\\\\Images\\\\001\\\\P1010735.JPG', 'C:\\\\Users\\\\erik\\\\Documents\\\\GitHub\\\\BBox-Label-Tool\\\\Images\\\\001\\\\P1010736.JPG', 'C:\\\\Users\\\\erik\\\\Documents\\\\GitHub\\\\BBox-Label-Tool\\\\Images\\\\001\\\\P1010737.JPG', 'C:\\\\Users\\\\erik\\\\Documents\\\\GitHub\\\\BBox-Label-Tool\\\\Images\\\\001\\\\P1010740.JPG', 'C:\\\\Users\\\\erik\\\\Documents\\\\GitHub\\\\BBox-Label-Tool\\\\Images\\\\001\\\\P1010741.JPG', 'C:\\\\Users\\\\erik\\\\Documents\\\\GitHub\\\\BBox-Label-Tool\\\\Images\\\\001\\\\P1010742.JPG', 'C:\\\\Users\\\\erik\\\\Documents\\\\GitHub\\\\BBox-Label-Tool\\\\Images\\\\001\\\\P1010743.JPG', 'C:\\\\Users\\\\erik\\\\Documents\\\\GitHub\\\\BBox-Label-Tool\\\\Images\\\\001\\\\P1010744.JPG', 'C:\\\\Users\\\\erik\\\\Documents\\\\GitHub\\\\BBox-Label-Tool\\\\Images\\\\001\\\\P1010745.JPG', 'C:\\\\Users\\\\erik\\\\Documents\\\\GitHub\\\\BBox-Label-Tool\\\\Images\\\\001\\\\P1010746.JPG', 'C:\\\\Users\\\\erik\\\\Documents\\\\GitHub\\\\BBox-Label-Tool\\\\Images\\\\001\\\\P1010747.JPG', 'C:\\\\Users\\\\erik\\\\Documents\\\\GitHub\\\\BBox-Label-Tool\\\\Images\\\\001\\\\P1010748.JPG', 'C:\\\\Users\\\\erik\\\\Documents\\\\GitHub\\\\BBox-Label-Tool\\\\Images\\\\001\\\\P1010902.JPG', 'C:\\\\Users\\\\erik\\\\Documents\\\\GitHub\\\\BBox-Label-Tool\\\\Images\\\\001\\\\P1010906.JPG', 'C:\\\\Users\\\\erik\\\\Documents\\\\GitHub\\\\BBox-Label-Tool\\\\Images\\\\001\\\\P1010907.JPG', 'C:\\\\Users\\\\erik\\\\Documents\\\\GitHub\\\\BBox-Label-Tool\\\\Images\\\\001\\\\P1010908.JPG', 'C:\\\\Users\\\\erik\\\\Documents\\\\GitHub\\\\BBox-Label-Tool\\\\Images\\\\001\\\\P1010909.JPG', 'C:\\\\Users\\\\erik\\\\Documents\\\\GitHub\\\\BBox-Label-Tool\\\\Images\\\\001\\\\P1010913.JPG', 'C:\\\\Users\\\\erik\\\\Documents\\\\GitHub\\\\BBox-Label-Tool\\\\Images\\\\001\\\\P1010914.JPG', 'C:\\\\Users\\\\erik\\\\Documents\\\\GitHub\\\\BBox-Label-Tool\\\\Images\\\\001\\\\P1010916.JPG', 'C:\\\\Users\\\\erik\\\\Documents\\\\GitHub\\\\BBox-Label-Tool\\\\Images\\\\001\\\\P1010917.JPG', 'C:\\\\Users\\\\erik\\\\Documents\\\\GitHub\\\\BBox-Label-Tool\\\\Images\\\\001\\\\P1010918.JPG', 'C:\\\\Users\\\\erik\\\\Documents\\\\GitHub\\\\BBox-Label-Tool\\\\Images\\\\001\\\\P1010922.JPG', 'C:\\\\Users\\\\erik\\\\Documents\\\\GitHub\\\\BBox-Label-Tool\\\\Images\\\\001\\\\P1010926.JPG', 'C:\\\\Users\\\\erik\\\\Documents\\\\GitHub\\\\BBox-Label-Tool\\\\Images\\\\001\\\\P1010929.JPG', 'C:\\\\Users\\\\erik\\\\Documents\\\\GitHub\\\\BBox-Label-Tool\\\\Images\\\\001\\\\P1010930.JPG', 'C:\\\\Users\\\\erik\\\\Documents\\\\GitHub\\\\BBox-Label-Tool\\\\Images\\\\001\\\\P1010932.JPG', 'C:\\\\Users\\\\erik\\\\Documents\\\\GitHub\\\\BBox-Label-Tool\\\\Images\\\\001\\\\P1010934.JPG', 'C:\\\\Users\\\\erik\\\\Documents\\\\GitHub\\\\BBox-Label-Tool\\\\Images\\\\001\\\\P1030101.JPG', 'C:\\\\Users\\\\erik\\\\Documents\\\\GitHub\\\\BBox-Label-Tool\\\\Images\\\\001\\\\P1030104.JPG', 'C:\\\\Users\\\\erik\\\\Documents\\\\GitHub\\\\BBox-Label-Tool\\\\Images\\\\001\\\\P1030105.JPG', 'C:\\\\Users\\\\erik\\\\Documents\\\\GitHub\\\\BBox-Label-Tool\\\\Images\\\\001\\\\P1030106.JPG', 'C:\\\\Users\\\\erik\\\\Documents\\\\GitHub\\\\BBox-Label-Tool\\\\Images\\\\001\\\\P1030107.JPG', 'C:\\\\Users\\\\erik\\\\Documents\\\\GitHub\\\\BBox-Label-Tool\\\\Images\\\\001\\\\P1030108.JPG', 'C:\\\\Users\\\\erik\\\\Documents\\\\GitHub\\\\BBox-Label-Tool\\\\Images\\\\001\\\\P1030109.JPG', 'C:\\\\Users\\\\erik\\\\Documents\\\\GitHub\\\\BBox-Label-Tool\\\\Images\\\\001\\\\P1030110.JPG', 'C:\\\\Users\\\\erik\\\\Documents\\\\GitHub\\\\BBox-Label-Tool\\\\Images\\\\001\\\\P1030111.JPG', 'C:\\\\Users\\\\erik\\\\Documents\\\\GitHub\\\\BBox-Label-Tool\\\\Images\\\\001\\\\P1030113.JPG', 'C:\\\\Users\\\\erik\\\\Documents\\\\GitHub\\\\BBox-Label-Tool\\\\Images\\\\001\\\\P1030114.JPG', 'C:\\\\Users\\\\erik\\\\Documents\\\\GitHub\\\\BBox-Label-Tool\\\\Images\\\\001\\\\P1030117.JPG', 'C:\\\\Users\\\\erik\\\\Documents\\\\GitHub\\\\BBox-Label-Tool\\\\Images\\\\001\\\\P1030119.JPG', 'C:\\\\Users\\\\erik\\\\Documents\\\\GitHub\\\\BBox-Label-Tool\\\\Images\\\\001\\\\P1030121.JPG', 'C:\\\\Users\\\\erik\\\\Documents\\\\GitHub\\\\BBox-Label-Tool\\\\Images\\\\001\\\\P1030123.JPG', 'C:\\\\Users\\\\erik\\\\Documents\\\\GitHub\\\\BBox-Label-Tool\\\\Images\\\\001\\\\P1030125.JPG', 'C:\\\\Users\\\\erik\\\\Documents\\\\GitHub\\\\BBox-Label-Tool\\\\Images\\\\001\\\\P1030126.JPG', 'C:\\\\Users\\\\erik\\\\Documents\\\\GitHub\\\\BBox-Label-Tool\\\\Images\\\\001\\\\P1030128.JPG', 'C:\\\\Users\\\\erik\\\\Documents\\\\GitHub\\\\BBox-Label-Tool\\\\Images\\\\001\\\\P1030138.JPG', 'C:\\\\Users\\\\erik\\\\Documents\\\\GitHub\\\\BBox-Label-Tool\\\\Images\\\\001\\\\P1030140.JPG', 'C:\\\\Users\\\\erik\\\\Documents\\\\GitHub\\\\BBox-Label-Tool\\\\Images\\\\001\\\\P1030141.JPG', 'C:\\\\Users\\\\erik\\\\Documents\\\\GitHub\\\\BBox-Label-Tool\\\\Images\\\\001\\\\P1030142.JPG', 'C:\\\\Users\\\\erik\\\\Documents\\\\GitHub\\\\BBox-Label-Tool\\\\Images\\\\001\\\\P1030143.JPG', 'C:\\\\Users\\\\erik\\\\Documents\\\\GitHub\\\\BBox-Label-Tool\\\\Images\\\\001\\\\P1030144.JPG', 'C:\\\\Users\\\\erik\\\\Documents\\\\GitHub\\\\BBox-Label-Tool\\\\Images\\\\001\\\\P1030145.JPG', 'C:\\\\Users\\\\erik\\\\Documents\\\\GitHub\\\\BBox-Label-Tool\\\\Images\\\\001\\\\P1030146.JPG', 'C:\\\\Users\\\\erik\\\\Documents\\\\GitHub\\\\BBox-Label-Tool\\\\Images\\\\001\\\\P1030147.JPG', 'C:\\\\Users\\\\erik\\\\Documents\\\\GitHub\\\\BBox-Label-Tool\\\\Images\\\\001\\\\P1030148.JPG', 'C:\\\\Users\\\\erik\\\\Documents\\\\GitHub\\\\BBox-Label-Tool\\\\Images\\\\001\\\\P1030149.JPG', 'C:\\\\Users\\\\erik\\\\Documents\\\\GitHub\\\\BBox-Label-Tool\\\\Images\\\\001\\\\P1030150.JPG', 'C:\\\\Users\\\\erik\\\\Documents\\\\GitHub\\\\BBox-Label-Tool\\\\Images\\\\001\\\\P1030151.JPG', 'C:\\\\Users\\\\erik\\\\Documents\\\\GitHub\\\\BBox-Label-Tool\\\\Images\\\\001\\\\P1030152.JPG', 'C:\\\\Users\\\\erik\\\\Documents\\\\GitHub\\\\BBox-Label-Tool\\\\Images\\\\001\\\\P1030153.JPG', 'C:\\\\Users\\\\erik\\\\Documents\\\\GitHub\\\\BBox-Label-Tool\\\\Images\\\\001\\\\P1030154.JPG', 'C:\\\\Users\\\\erik\\\\Documents\\\\GitHub\\\\BBox-Label-Tool\\\\Images\\\\001\\\\P1030155.JPG', 'C:\\\\Users\\\\erik\\\\Documents\\\\GitHub\\\\BBox-Label-Tool\\\\Images\\\\001\\\\P1030156.JPG', 'C:\\\\Users\\\\erik\\\\Documents\\\\GitHub\\\\BBox-Label-Tool\\\\Images\\\\001\\\\P1030161.JPG', 'C:\\\\Users\\\\erik\\\\Documents\\\\GitHub\\\\BBox-Label-Tool\\\\Images\\\\001\\\\P1030162.JPG', 'C:\\\\Users\\\\erik\\\\Documents\\\\GitHub\\\\BBox-Label-Tool\\\\Images\\\\001\\\\P1030163.JPG', 'C:\\\\Users\\\\erik\\\\Documents\\\\GitHub\\\\BBox-Label-Tool\\\\Images\\\\001\\\\P1030164.JPG', 'C:\\\\Users\\\\erik\\\\Documents\\\\GitHub\\\\BBox-Label-Tool\\\\Images\\\\001\\\\P1030165.JPG', 'C:\\\\Users\\\\erik\\\\Documents\\\\GitHub\\\\BBox-Label-Tool\\\\Images\\\\001\\\\P1090001.JPG', 'C:\\\\Users\\\\erik\\\\Documents\\\\GitHub\\\\BBox-Label-Tool\\\\Images\\\\001\\\\P1090003.JPG', 'C:\\\\Users\\\\erik\\\\Documents\\\\GitHub\\\\BBox-Label-Tool\\\\Images\\\\001\\\\P1090004.JPG', 'C:\\\\Users\\\\erik\\\\Documents\\\\GitHub\\\\BBox-Label-Tool\\\\Images\\\\001\\\\P1090005.JPG', 'C:\\\\Users\\\\erik\\\\Documents\\\\GitHub\\\\BBox-Label-Tool\\\\Images\\\\001\\\\P1090006.JPG', 'C:\\\\Users\\\\erik\\\\Documents\\\\GitHub\\\\BBox-Label-Tool\\\\Images\\\\001\\\\P1090010.JPG', 'C:\\\\Users\\\\erik\\\\Documents\\\\GitHub\\\\BBox-Label-Tool\\\\Images\\\\001\\\\P1090011.JPG', 'C:\\\\Users\\\\erik\\\\Documents\\\\GitHub\\\\BBox-Label-Tool\\\\Images\\\\001\\\\P1090013.JPG', 'C:\\\\Users\\\\erik\\\\Documents\\\\GitHub\\\\BBox-Label-Tool\\\\Images\\\\001\\\\P1090014.JPG', 'C:\\\\Users\\\\erik\\\\Documents\\\\GitHub\\\\BBox-Label-Tool\\\\Images\\\\001\\\\P1090017.JPG', 'C:\\\\Users\\\\erik\\\\Documents\\\\GitHub\\\\BBox-Label-Tool\\\\Images\\\\001\\\\P1090018.JPG', 'C:\\\\Users\\\\erik\\\\Documents\\\\GitHub\\\\BBox-Label-Tool\\\\Images\\\\001\\\\P1090022.JPG', 'C:\\\\Users\\\\erik\\\\Documents\\\\GitHub\\\\BBox-Label-Tool\\\\Images\\\\001\\\\P1090023.JPG', 'C:\\\\Users\\\\erik\\\\Documents\\\\GitHub\\\\BBox-Label-Tool\\\\Images\\\\001\\\\P1090024.JPG', 'C:\\\\Users\\\\erik\\\\Documents\\\\GitHub\\\\BBox-Label-Tool\\\\Images\\\\001\\\\P1090025.JPG', 'C:\\\\Users\\\\erik\\\\Documents\\\\GitHub\\\\BBox-Label-Tool\\\\Images\\\\001\\\\P1090026.JPG', 'C:\\\\Users\\\\erik\\\\Documents\\\\GitHub\\\\BBox-Label-Tool\\\\Images\\\\001\\\\P1090028.JPG', 'C:\\\\Users\\\\erik\\\\Documents\\\\GitHub\\\\BBox-Label-Tool\\\\Images\\\\001\\\\P1090029.JPG', 'C:\\\\Users\\\\erik\\\\Documents\\\\GitHub\\\\BBox-Label-Tool\\\\Images\\\\001\\\\P1090030.JPG', 'C:\\\\Users\\\\erik\\\\Documents\\\\GitHub\\\\BBox-Label-Tool\\\\Images\\\\001\\\\P1090031.JPG', 'C:\\\\Users\\\\erik\\\\Documents\\\\GitHub\\\\BBox-Label-Tool\\\\Images\\\\001\\\\P1090033.JPG', 'C:\\\\Users\\\\erik\\\\Documents\\\\GitHub\\\\BBox-Label-Tool\\\\Images\\\\001\\\\P1090034.JPG', 'C:\\\\Users\\\\erik\\\\Documents\\\\GitHub\\\\BBox-Label-Tool\\\\Images\\\\001\\\\P1090035.JPG', 'C:\\\\Users\\\\erik\\\\Documents\\\\GitHub\\\\BBox-Label-Tool\\\\Images\\\\001\\\\P1090036.JPG', 'C:\\\\Users\\\\erik\\\\Documents\\\\GitHub\\\\BBox-Label-Tool\\\\Images\\\\001\\\\P1090037.JPG', 'C:\\\\Users\\\\erik\\\\Documents\\\\GitHub\\\\BBox-Label-Tool\\\\Images\\\\001\\\\P1090038.JPG', 'C:\\\\Users\\\\erik\\\\Documents\\\\GitHub\\\\BBox-Label-Tool\\\\Images\\\\001\\\\P1090039.JPG', 'C:\\\\Users\\\\erik\\\\Documents\\\\GitHub\\\\BBox-Label-Tool\\\\Images\\\\001\\\\P1090041.JPG', 'C:\\\\Users\\\\erik\\\\Documents\\\\GitHub\\\\BBox-Label-Tool\\\\Images\\\\001\\\\P1090353.JPG', 'C:\\\\Users\\\\erik\\\\Documents\\\\GitHub\\\\BBox-Label-Tool\\\\Images\\\\001\\\\P1090354.JPG', 'C:\\\\Users\\\\erik\\\\Documents\\\\GitHub\\\\BBox-Label-Tool\\\\Images\\\\001\\\\P1090355.JPG', 'C:\\\\Users\\\\erik\\\\Documents\\\\GitHub\\\\BBox-Label-Tool\\\\Images\\\\001\\\\P1090357.JPG', 'C:\\\\Users\\\\erik\\\\Documents\\\\GitHub\\\\BBox-Label-Tool\\\\Images\\\\001\\\\P1090358.JPG', 'C:\\\\Users\\\\erik\\\\Documents\\\\GitHub\\\\BBox-Label-Tool\\\\Images\\\\001\\\\P1090359.JPG', 'C:\\\\Users\\\\erik\\\\Documents\\\\GitHub\\\\BBox-Label-Tool\\\\Images\\\\001\\\\P1090360.JPG', 'C:\\\\Users\\\\erik\\\\Documents\\\\GitHub\\\\BBox-Label-Tool\\\\Images\\\\001\\\\P1090361.JPG', 'C:\\\\Users\\\\erik\\\\Documents\\\\GitHub\\\\BBox-Label-Tool\\\\Images\\\\001\\\\P1090362.JPG', 'C:\\\\Users\\\\erik\\\\Documents\\\\GitHub\\\\BBox-Label-Tool\\\\Images\\\\001\\\\P1090363.JPG', 'C:\\\\Users\\\\erik\\\\Documents\\\\GitHub\\\\BBox-Label-Tool\\\\Images\\\\001\\\\P1090364.JPG', 'C:\\\\Users\\\\erik\\\\Documents\\\\GitHub\\\\BBox-Label-Tool\\\\Images\\\\001\\\\P1090365.JPG', 'C:\\\\Users\\\\erik\\\\Documents\\\\GitHub\\\\BBox-Label-Tool\\\\Images\\\\001\\\\P1090366.JPG', 'C:\\\\Users\\\\erik\\\\Documents\\\\GitHub\\\\BBox-Label-Tool\\\\Images\\\\001\\\\P1090367.JPG', 'C:\\\\Users\\\\erik\\\\Documents\\\\GitHub\\\\BBox-Label-Tool\\\\Images\\\\001\\\\P1090368.JPG', 'C:\\\\Users\\\\erik\\\\Documents\\\\GitHub\\\\BBox-Label-Tool\\\\Images\\\\001\\\\P1090369.JPG', 'C:\\\\Users\\\\erik\\\\Documents\\\\GitHub\\\\BBox-Label-Tool\\\\Images\\\\001\\\\P1090370.JPG', 'C:\\\\Users\\\\erik\\\\Documents\\\\GitHub\\\\BBox-Label-Tool\\\\Images\\\\001\\\\P1090371.JPG', 'C:\\\\Users\\\\erik\\\\Documents\\\\GitHub\\\\BBox-Label-Tool\\\\Images\\\\001\\\\P1090372.JPG', 'C:\\\\Users\\\\erik\\\\Documents\\\\GitHub\\\\BBox-Label-Tool\\\\Images\\\\001\\\\P1090412.JPG', 'C:\\\\Users\\\\erik\\\\Documents\\\\GitHub\\\\BBox-Label-Tool\\\\Images\\\\001\\\\P1090413.JPG', 'C:\\\\Users\\\\erik\\\\Documents\\\\GitHub\\\\BBox-Label-Tool\\\\Images\\\\001\\\\P1090415.JPG', 'C:\\\\Users\\\\erik\\\\Documents\\\\GitHub\\\\BBox-Label-Tool\\\\Images\\\\001\\\\P1090416.JPG', 'C:\\\\Users\\\\erik\\\\Documents\\\\GitHub\\\\BBox-Label-Tool\\\\Images\\\\001\\\\P1090417.JPG', 'C:\\\\Users\\\\erik\\\\Documents\\\\GitHub\\\\BBox-Label-Tool\\\\Images\\\\001\\\\P1090418.JPG', 'C:\\\\Users\\\\erik\\\\Documents\\\\GitHub\\\\BBox-Label-Tool\\\\Images\\\\001\\\\P1090419.JPG', 'C:\\\\Users\\\\erik\\\\Documents\\\\GitHub\\\\BBox-Label-Tool\\\\Images\\\\001\\\\P1090420.JPG', 'C:\\\\Users\\\\erik\\\\Documents\\\\GitHub\\\\BBox-Label-Tool\\\\Images\\\\001\\\\P1090421.JPG', 'C:\\\\Users\\\\erik\\\\Documents\\\\GitHub\\\\BBox-Label-Tool\\\\Images\\\\001\\\\P1090423.JPG', 'C:\\\\Users\\\\erik\\\\Documents\\\\GitHub\\\\BBox-Label-Tool\\\\Images\\\\001\\\\P1090424.JPG', 'C:\\\\Users\\\\erik\\\\Documents\\\\GitHub\\\\BBox-Label-Tool\\\\Images\\\\001\\\\P1090425.JPG', 'C:\\\\Users\\\\erik\\\\Documents\\\\GitHub\\\\BBox-Label-Tool\\\\Images\\\\001\\\\P1090427.JPG', 'C:\\\\Users\\\\erik\\\\Documents\\\\GitHub\\\\BBox-Label-Tool\\\\Images\\\\001\\\\P1090432.JPG', 'C:\\\\Users\\\\erik\\\\Documents\\\\GitHub\\\\BBox-Label-Tool\\\\Images\\\\001\\\\P1090434.JPG', 'C:\\\\Users\\\\erik\\\\Documents\\\\GitHub\\\\BBox-Label-Tool\\\\Images\\\\001\\\\P1090435.JPG', 'C:\\\\Users\\\\erik\\\\Documents\\\\GitHub\\\\BBox-Label-Tool\\\\Images\\\\001\\\\P1090438.JPG', 'C:\\\\Users\\\\erik\\\\Documents\\\\GitHub\\\\BBox-Label-Tool\\\\Images\\\\001\\\\P1090439.JPG', 'C:\\\\Users\\\\erik\\\\Documents\\\\GitHub\\\\BBox-Label-Tool\\\\Images\\\\001\\\\P1090440.JPG', 'C:\\\\Users\\\\erik\\\\Documents\\\\GitHub\\\\BBox-Label-Tool\\\\Images\\\\001\\\\P1090441.JPG', 'C:\\\\Users\\\\erik\\\\Documents\\\\GitHub\\\\BBox-Label-Tool\\\\Images\\\\001\\\\P1090442.JPG', 'C:\\\\Users\\\\erik\\\\Documents\\\\GitHub\\\\BBox-Label-Tool\\\\Images\\\\001\\\\P1090443.JPG', 'C:\\\\Users\\\\erik\\\\Documents\\\\GitHub\\\\BBox-Label-Tool\\\\Images\\\\001\\\\P1090444.JPG', 'C:\\\\Users\\\\erik\\\\Documents\\\\GitHub\\\\BBox-Label-Tool\\\\Images\\\\001\\\\P1090445.JPG', 'C:\\\\Users\\\\erik\\\\Documents\\\\GitHub\\\\BBox-Label-Tool\\\\Images\\\\001\\\\P1090446.JPG', 'C:\\\\Users\\\\erik\\\\Documents\\\\GitHub\\\\BBox-Label-Tool\\\\Images\\\\001\\\\P1090447.JPG', 'C:\\\\Users\\\\erik\\\\Documents\\\\GitHub\\\\BBox-Label-Tool\\\\Images\\\\001\\\\P1090448.JPG', 'C:\\\\Users\\\\erik\\\\Documents\\\\GitHub\\\\BBox-Label-Tool\\\\Images\\\\001\\\\P1090449.JPG', 'C:\\\\Users\\\\erik\\\\Documents\\\\GitHub\\\\BBox-Label-Tool\\\\Images\\\\001\\\\P1090450.JPG', 'C:\\\\Users\\\\erik\\\\Documents\\\\GitHub\\\\BBox-Label-Tool\\\\Images\\\\001\\\\P1090451.JPG', 'C:\\\\Users\\\\erik\\\\Documents\\\\GitHub\\\\BBox-Label-Tool\\\\Images\\\\001\\\\P1090452.JPG', 'C:\\\\Users\\\\erik\\\\Documents\\\\GitHub\\\\BBox-Label-Tool\\\\Images\\\\001\\\\P1090458.JPG', 'C:\\\\Users\\\\erik\\\\Documents\\\\GitHub\\\\BBox-Label-Tool\\\\Images\\\\001\\\\P1090459.JPG', 'C:\\\\Users\\\\erik\\\\Documents\\\\GitHub\\\\BBox-Label-Tool\\\\Images\\\\001\\\\P1090460.JPG', 'C:\\\\Users\\\\erik\\\\Documents\\\\GitHub\\\\BBox-Label-Tool\\\\Images\\\\001\\\\P1090461.JPG', 'C:\\\\Users\\\\erik\\\\Documents\\\\GitHub\\\\BBox-Label-Tool\\\\Images\\\\001\\\\P1090463.JPG', 'C:\\\\Users\\\\erik\\\\Documents\\\\GitHub\\\\BBox-Label-Tool\\\\Images\\\\001\\\\P1090464.JPG', 'C:\\\\Users\\\\erik\\\\Documents\\\\GitHub\\\\BBox-Label-Tool\\\\Images\\\\001\\\\P1090465.JPG', 'C:\\\\Users\\\\erik\\\\Documents\\\\GitHub\\\\BBox-Label-Tool\\\\Images\\\\001\\\\P1090466.JPG', 'C:\\\\Users\\\\erik\\\\Documents\\\\GitHub\\\\BBox-Label-Tool\\\\Images\\\\001\\\\P1090467.JPG', 'C:\\\\Users\\\\erik\\\\Documents\\\\GitHub\\\\BBox-Label-Tool\\\\Images\\\\001\\\\P1090470.JPG', 'C:\\\\Users\\\\erik\\\\Documents\\\\GitHub\\\\BBox-Label-Tool\\\\Images\\\\001\\\\P1090471.JPG', 'C:\\\\Users\\\\erik\\\\Documents\\\\GitHub\\\\BBox-Label-Tool\\\\Images\\\\001\\\\P1090472.JPG', 'C:\\\\Users\\\\erik\\\\Documents\\\\GitHub\\\\BBox-Label-Tool\\\\Images\\\\001\\\\P1090474.JPG', 'C:\\\\Users\\\\erik\\\\Documents\\\\GitHub\\\\BBox-Label-Tool\\\\Images\\\\001\\\\P1090475.JPG', 'C:\\\\Users\\\\erik\\\\Documents\\\\GitHub\\\\BBox-Label-Tool\\\\Images\\\\001\\\\P1090479.JPG', 'C:\\\\Users\\\\erik\\\\Documents\\\\GitHub\\\\BBox-Label-Tool\\\\Images\\\\001\\\\P1090480.JPG', 'C:\\\\Users\\\\erik\\\\Documents\\\\GitHub\\\\BBox-Label-Tool\\\\Images\\\\001\\\\test.JPG', 'C:\\\\Users\\\\erik\\\\Documents\\\\GitHub\\\\BBox-Label-Tool\\\\Images\\\\001\\\\test2.JPG', 'C:\\\\Users\\\\erik\\\\Documents\\\\GitHub\\\\BBox-Label-Tool\\\\Images\\\\001\\\\test3.JPG']\n",
      "True\n"
     ]
    },
    {
     "name": "stdout",
     "output_type": "stream",
     "text": [
      "200 images loaded from 001\n",
      "size (400, 300)\n",
      "('0', '0.10250000000000001', '0.6966666666666667', '0.185', '0.62')\n",
      "('0', '0.81', '0.6900000000000001', '0.215', '0.62')\n",
      "('1', '0.445', '0.6733333333333333', '0.3', '0.64')\n",
      "('2', '0.8225', '0.48333333333333334', '0.125', '0.19333333333333336')\n",
      "('2', '0.4825', '0.465', '0.135', '0.21000000000000002')\n",
      "('2', '0.10875', '0.49833333333333335', '0.1625', '0.23')\n",
      "('7', '0.095', '0.7766666666666667', '0.145', '0.30000000000000004')\n",
      "('7', '0.41375', '0.7883333333333333', '0.2325', '0.33')\n",
      "('7', '0.73625', '0.7983333333333333', '0.0525', '0.4166666666666667')\n",
      "('3', '0.45625', '0.77', '0.1975', '0.44')\n",
      "('3', '0.82125', '0.75', '0.1375', '0.30000000000000004')\n",
      "('3', '0.06875', '0.8016666666666667', '0.0975', '0.36333333333333334')\n",
      "Image No. 1 saved\n",
      "size (400, 300)\n",
      "('3', '0.5750000000000001', '0.67', '0.21', '0.4866666666666667')\n",
      "('3', '0.7825', '0.5933333333333334', '0.15', '0.3066666666666667')\n",
      "('3', '0.04625', '0.6566666666666667', '0.0725', '0.39333333333333337')\n",
      "('0', '0.7875', '0.6333333333333334', '0.2', '0.7333333333333334')\n",
      "('0', '0.05625', '0.6016666666666667', '0.0925', '0.7766666666666667')\n",
      "('1', '0.5437500000000001', '0.615', '0.2925', '0.7766666666666667')\n",
      "('2', '0.62125', '0.325', '0.1075', '0.19666666666666668')\n",
      "('2', '0.775', '0.34833333333333333', '0.115', '0.16333333333333333')\n",
      "('2', '0.04875', '0.33333333333333337', '0.0775', '0.22666666666666668')\n",
      "('5', '0.4975', '0.9600000000000001', '0.12', '0.09333333333333334')\n",
      "('5', '0.73625', '0.8816666666666667', '0.0675', '0.25')\n",
      "('5', '0.05', '0.9316666666666668', '0.065', '0.1366666666666667')\n",
      "('4', '0.60875', '0.9733333333333334', '0.0975', '0.08')\n",
      "('4', '0.82625', '0.8816666666666667', '0.10250000000000001', '0.25')\n",
      "('7', '0.4875', '0.49833333333333335', '0.16', '0.26333333333333336')\n",
      "('7', '0.058750000000000004', '0.6233333333333334', '0.0925', '0.2733333333333334')\n",
      "('6', '0.79', '0.7050000000000001', '0.145', '0.48333333333333334')\n",
      "Image No. 2 saved\n",
      "size (400, 300)\n",
      "('0', '0.6012500000000001', '0.6533333333333333', '0.2475', '0.6933333333333334')\n",
      "('1', '0.38625', '0.6483333333333334', '0.2925', '0.7166666666666667')\n",
      "('2', '0.40125', '0.38333333333333336', '0.0825', '0.16666666666666669')\n",
      "('2', '0.63', '0.39666666666666667', '0.105', '0.18000000000000002')\n",
      "('7', '0.29', '0.6766666666666667', '0.085', '0.4066666666666667')\n",
      "('7', '0.5337500000000001', '0.7316666666666667', '0.0975', '0.17666666666666667')\n",
      "('6', '0.44625000000000004', '0.6083333333333334', '0.1625', '0.23')\n",
      "('6', '0.62625', '0.52', '0.1275', '0.26666666666666666')\n",
      "('5', '0.34875', '0.9133333333333334', '0.10250000000000001', '0.18666666666666668')\n",
      "('5', '0.58625', '0.885', '0.0725', '0.21666666666666667')\n",
      "('4', '0.45375', '0.915', '0.0975', '0.17666666666666667')\n",
      "('4', '0.66125', '0.89', '0.10250000000000001', '0.2066666666666667')\n",
      "('3', '0.40875', '0.6316666666666667', '0.1675', '0.3566666666666667')\n",
      "('3', '0.6475', '0.6233333333333334', '0.13', '0.30000000000000004')\n",
      "Image No. 3 saved\n",
      "size (400, 300)\n",
      "('0', '0.745', '0.6816666666666668', '0.275', '0.6233333333333334')\n",
      "('0', '0.28625', '0.6833333333333333', '0.1975', '0.6333333333333334')\n",
      "('1', '0.6225', '0.6766666666666667', '0.24', '0.6266666666666667')\n",
      "('2', '0.32125', '0.4666666666666667', '0.11750000000000001', '0.17333333333333334')\n",
      "('2', '0.64125', '0.4516666666666667', '0.08750000000000001', '0.15666666666666668')\n",
      "('2', '0.7887500000000001', '0.46', '0.11750000000000001', '0.17333333333333334')\n",
      "('3', '0.27375', '0.67', '0.1475', '0.26')\n",
      "('3', '0.6425', '0.7016666666666667', '0.17', '0.36333333333333334')\n",
      "('3', '0.8', '0.6833333333333333', '0.125', '0.2733333333333334')\n",
      "('5', '0.25', '0.9083333333333334', '0.115', '0.19')\n",
      "('5', '0.58125', '0.9316666666666668', '0.10250000000000001', '0.10333333333333335')\n",
      "('4', '0.68375', '0.9416666666666668', '0.08750000000000001', '0.11')\n",
      "('4', '0.7925', '0.905', '0.11', '0.15666666666666668')\n",
      "Image No. 4 saved\n",
      "size (400, 300)\n",
      "('1', '0.56375', '0.625', '0.2475', '0.7433333333333334')\n",
      "('0', '0.41500000000000004', '0.6433333333333334', '0.17500000000000002', '0.7066666666666667')\n",
      "('0', '0.735', '0.635', '0.17500000000000002', '0.7233333333333334')\n",
      "('2', '0.4425', '0.37333333333333335', '0.125', '0.16')\n",
      "('2', '0.56625', '0.33666666666666667', '0.0775', '0.16')\n",
      "('2', '0.73875', '0.3566666666666667', '0.0925', '0.15333333333333335')\n",
      "('3', '0.39125', '0.5733333333333334', '0.10250000000000001', '0.28')\n",
      "('3', '0.56875', '0.6050000000000001', '0.17250000000000001', '0.37000000000000005')\n",
      "('3', '0.75', '0.5633333333333334', '0.105', '0.24666666666666667')\n",
      "('4', '0.61', '0.8883333333333334', '0.085', '0.19')\n",
      "('4', '0.7675000000000001', '0.8600000000000001', '0.09', '0.26666666666666666')\n",
      "('5', '0.39125', '0.8566666666666667', '0.1225', '0.2733333333333334')\n",
      "('5', '0.51875', '0.8883333333333334', '0.0975', '0.17666666666666667')\n",
      "('5', '0.6950000000000001', '0.8650000000000001', '0.055', '0.22333333333333336')\n",
      "('6', '0.75', '0.6116666666666667', '0.125', '0.3433333333333334')\n",
      "('7', '0.40750000000000003', '0.5933333333333334', '0.08', '0.24000000000000002')\n",
      "('7', '0.49625', '0.55', '0.08750000000000001', '0.25333333333333335')\n",
      "('7', '0.685', '0.6383333333333334', '0.055', '0.37000000000000005')\n",
      "Image No. 5 saved\n",
      "size (400, 300)\n",
      "('2', '0.41500000000000004', '0.32833333333333337', '0.1', '0.16333333333333333')\n",
      "('2', '0.57375', '0.36000000000000004', '0.10250000000000001', '0.16')\n",
      "('0', '0.5825', '0.63', '0.19', '0.7133333333333334')\n",
      "('1', '0.395', '0.6283333333333334', '0.26', '0.7366666666666667')\n",
      "Image No. 6 saved\n",
      "size (400, 300)\n",
      "('0', '0.775', '0.6066666666666667', '0.38', '0.7866666666666667')\n",
      "('1', '0.18125', '0.5833333333333334', '0.3425', '0.8066666666666668')\n",
      "('2', '0.165', '0.35833333333333334', '0.195', '0.3433333333333334')\n",
      "('2', '0.77', '0.39', '0.225', '0.34')\n",
      "('3', '0.17125', '0.765', '0.2925', '0.4566666666666667')\n",
      "('3', '0.77', '0.7866666666666667', '0.225', '0.4266666666666667')\n",
      "('7', '0.10250000000000001', '0.5233333333333333', '0.17', '0.26')\n",
      "Image No. 7 saved\n",
      "size (400, 300)\n",
      "('1', '0.2925', '0.5283333333333333', '0.18', '0.9433333333333334')\n",
      "('2', '0.2925', '0.13166666666666668', '0.1', '0.1366666666666667')\n",
      "('3', '0.275', '0.3433333333333334', '0.115', '0.24666666666666667')\n",
      "('7', '0.31625000000000003', '0.395', '0.1325', '0.36333333333333334')\n",
      "('5', '0.27375', '0.7200000000000001', '0.1325', '0.5066666666666667')\n",
      "('4', '0.23', '0.7350000000000001', '0.05', '0.4766666666666667')\n",
      "Image No. 8 saved\n"
     ]
    },
    {
     "name": "stderr",
     "output_type": "stream",
     "text": [
      "Exception in Tkinter callback\n",
      "Traceback (most recent call last):\n",
      "  File \"D:\\apps\\Anaconda3\\lib\\tkinter\\__init__.py\", line 1699, in __call__\n",
      "    return self.func(*args)\n",
      "TypeError: setClass() missing 2 required positional arguments: 'b' and 'c'\n"
     ]
    },
    {
     "name": "stdout",
     "output_type": "stream",
     "text": [
      "set label class to : Rleg 5\n"
     ]
    },
    {
     "name": "stderr",
     "output_type": "stream",
     "text": [
      "Exception in Tkinter callback\n",
      "Traceback (most recent call last):\n",
      "  File \"D:\\apps\\Anaconda3\\lib\\tkinter\\__init__.py\", line 1699, in __call__\n",
      "    return self.func(*args)\n",
      "TypeError: setClass() missing 2 required positional arguments: 'b' and 'c'\n"
     ]
    },
    {
     "name": "stdout",
     "output_type": "stream",
     "text": [
      "size (400, 300)\n",
      "box (12, 150, 68, 279, 5)\n",
      "size (400, 300)\n",
      "box (76, 164, 103, 256, 5)\n",
      "size (400, 300)\n",
      "box (143, 168, 171, 242, 5)\n",
      "set label class to : Rarm 7\n"
     ]
    },
    {
     "name": "stderr",
     "output_type": "stream",
     "text": [
      "Exception in Tkinter callback\n",
      "Traceback (most recent call last):\n",
      "  File \"D:\\apps\\Anaconda3\\lib\\tkinter\\__init__.py\", line 1699, in __call__\n",
      "    return self.func(*args)\n",
      "TypeError: setClass() missing 2 required positional arguments: 'b' and 'c'\n"
     ]
    },
    {
     "name": "stdout",
     "output_type": "stream",
     "text": [
      "size (400, 300)\n",
      "box (155, 129, 178, 192, 7)\n",
      "size (400, 300)\n",
      "box (83, 132, 117, 196, 7)\n",
      "size (400, 300)\n",
      "box (48, 108, 97, 205, 7)\n",
      "set label class to : Lleg 4\n"
     ]
    },
    {
     "name": "stderr",
     "output_type": "stream",
     "text": [
      "Exception in Tkinter callback\n",
      "Traceback (most recent call last):\n",
      "  File \"D:\\apps\\Anaconda3\\lib\\tkinter\\__init__.py\", line 1699, in __call__\n",
      "    return self.func(*args)\n",
      "TypeError: setClass() missing 2 required positional arguments: 'b' and 'c'\n"
     ]
    },
    {
     "name": "stdout",
     "output_type": "stream",
     "text": [
      "size (400, 300)\n",
      "box (169, 179, 181, 241, 4)\n",
      "size (400, 300)\n",
      "('1', '0.41125', '0.5900000000000001', '0.11750000000000001', '0.46')\n",
      "('1', '0.15', '0.6083333333333334', '0.265', '0.67')\n",
      "('0', '0.26', '0.62', '0.155', '0.48000000000000004')\n",
      "('2', '0.24875', '0.32666666666666666', '0.0775', '0.10666666666666667')\n",
      "('2', '0.30625', '0.42333333333333334', '0.0625', '0.08666666666666667')\n",
      "('2', '0.43875000000000003', '0.405', '0.0475', '0.09666666666666668')\n",
      "(5, 0.1, 0.7150000000000001, 0.14, 0.43000000000000005)\n",
      "(5, 0.22375, 0.7000000000000001, 0.0675, 0.3066666666666667)\n",
      "(5, 0.3925, 0.6833333333333333, 0.07, 0.24666666666666667)\n",
      "(7, 0.41625, 0.535, 0.0575, 0.21000000000000002)\n",
      "(7, 0.25, 0.5466666666666667, 0.085, 0.21333333333333335)\n",
      "(7, 0.18125, 0.5216666666666667, 0.1225, 0.32333333333333336)\n",
      "(4, 0.4375, 0.7000000000000001, 0.03, 0.2066666666666667)\n",
      "Image No. 9 saved\n",
      "size (400, 300)\n",
      "box (163, 138, 179, 204, 4)\n",
      "set label class to : Rleg 5\n"
     ]
    },
    {
     "name": "stderr",
     "output_type": "stream",
     "text": [
      "Exception in Tkinter callback\n",
      "Traceback (most recent call last):\n",
      "  File \"D:\\apps\\Anaconda3\\lib\\tkinter\\__init__.py\", line 1699, in __call__\n",
      "    return self.func(*args)\n",
      "TypeError: setClass() missing 2 required positional arguments: 'b' and 'c'\n"
     ]
    },
    {
     "name": "stdout",
     "output_type": "stream",
     "text": [
      "size (400, 300)\n",
      "box (139, 136, 163, 202, 5)\n",
      "size (400, 300)\n",
      "box (11, 130, 49, 216, 5)\n",
      "set label class to : Rarm 7\n"
     ]
    },
    {
     "name": "stderr",
     "output_type": "stream",
     "text": [
      "Exception in Tkinter callback\n",
      "Traceback (most recent call last):\n",
      "  File \"D:\\apps\\Anaconda3\\lib\\tkinter\\__init__.py\", line 1699, in __call__\n",
      "    return self.func(*args)\n",
      "TypeError: setClass() missing 2 required positional arguments: 'b' and 'c'\n"
     ]
    },
    {
     "name": "stdout",
     "output_type": "stream",
     "text": [
      "size (400, 300)\n",
      "box (37, 109, 76, 168, 7)\n",
      "size (400, 300)\n",
      "box (137, 98, 155, 158, 7)\n",
      "size (400, 300)\n",
      "box (4, 81, 44, 165, 7)\n",
      "set label class to : Larm 6\n"
     ]
    },
    {
     "name": "stderr",
     "output_type": "stream",
     "text": [
      "Exception in Tkinter callback\n",
      "Traceback (most recent call last):\n",
      "  File \"D:\\apps\\Anaconda3\\lib\\tkinter\\__init__.py\", line 1699, in __call__\n",
      "    return self.func(*args)\n",
      "TypeError: setClass() missing 2 required positional arguments: 'b' and 'c'\n"
     ]
    },
    {
     "name": "stdout",
     "output_type": "stream",
     "text": [
      "size (400, 300)\n",
      "box (173, 97, 209, 116, 6)\n",
      "size (400, 300)\n",
      "('1', '0.43', '0.4683333333333334', '0.18', '0.45')\n",
      "('1', '0.075', '0.3866666666666667', '0.14', '0.3866666666666667')\n",
      "('0', '0.11625', '0.5133333333333334', '0.2025', '0.44')\n",
      "('2', '0.41000000000000003', '0.29333333333333333', '0.05', '0.09333333333333334')\n",
      "('2', '0.11375', '0.24666666666666667', '0.0675', '0.10666666666666667')\n",
      "('2', '0.18625', '0.34500000000000003', '0.0675', '0.09666666666666668')\n",
      "(4, 0.4275, 0.5700000000000001, 0.04, 0.22)\n",
      "(5, 0.3775, 0.5633333333333334, 0.06, 0.22)\n",
      "(5, 0.075, 0.5766666666666667, 0.095, 0.2866666666666667)\n",
      "(7, 0.14125000000000001, 0.46166666666666667, 0.0975, 0.19666666666666668)\n",
      "(7, 0.365, 0.4266666666666667, 0.045, 0.2)\n",
      "(7, 0.06, 0.41000000000000003, 0.1, 0.28)\n",
      "(6, 0.47750000000000004, 0.35500000000000004, 0.09, 0.06333333333333334)\n",
      "Image No. 10 saved\n",
      "size (400, 300)\n",
      "box (229, 111, 244, 140, 6)\n",
      "set label class to : Rarm 7\n"
     ]
    },
    {
     "name": "stderr",
     "output_type": "stream",
     "text": [
      "Exception in Tkinter callback\n",
      "Traceback (most recent call last):\n",
      "  File \"D:\\apps\\Anaconda3\\lib\\tkinter\\__init__.py\", line 1699, in __call__\n",
      "    return self.func(*args)\n",
      "TypeError: setClass() missing 2 required positional arguments: 'b' and 'c'\n"
     ]
    },
    {
     "name": "stdout",
     "output_type": "stream",
     "text": [
      "size (400, 300)\n",
      "box (185, 108, 220, 157, 7)\n",
      "size (400, 300)\n",
      "box (119, 16, 155, 150, 7)\n",
      "set label class to : Rleg 5\n"
     ]
    },
    {
     "name": "stderr",
     "output_type": "stream",
     "text": [
      "Exception in Tkinter callback\n",
      "Traceback (most recent call last):\n",
      "  File \"D:\\apps\\Anaconda3\\lib\\tkinter\\__init__.py\", line 1699, in __call__\n",
      "    return self.func(*args)\n",
      "TypeError: setClass() missing 2 required positional arguments: 'b' and 'c'\n"
     ]
    },
    {
     "name": "stdout",
     "output_type": "stream",
     "text": [
      "size (400, 300)\n",
      "box (205, 146, 235, 215, 5)\n",
      "size (400, 300)\n",
      "box (49, 113, 127, 260, 5)\n",
      "set label class to : Lleg 4\n"
     ]
    },
    {
     "name": "stderr",
     "output_type": "stream",
     "text": [
      "Exception in Tkinter callback\n",
      "Traceback (most recent call last):\n",
      "  File \"D:\\apps\\Anaconda3\\lib\\tkinter\\__init__.py\", line 1699, in __call__\n",
      "    return self.func(*args)\n",
      "TypeError: setClass() missing 2 required positional arguments: 'b' and 'c'\n"
     ]
    },
    {
     "name": "stdout",
     "output_type": "stream",
     "text": [
      "size (400, 300)\n",
      "box (188, 152, 225, 210, 4)\n",
      "size (400, 300)\n",
      "box (116, 140, 143, 259, 4)\n",
      "size (400, 300)\n",
      "('2', '0.56', '0.3116666666666667', '0.045', '0.08333333333333334')\n",
      "('1', '0.25375000000000003', '0.44333333333333336', '0.2775', '0.8733333333333334')\n",
      "('1', '0.53', '0.4966666666666667', '0.135', '0.46')\n",
      "(6, 0.59125, 0.41833333333333333, 0.0375, 0.09666666666666668)\n",
      "(7, 0.50625, 0.4416666666666667, 0.08750000000000001, 0.16333333333333333)\n",
      "(7, 0.3425, 0.27666666666666667, 0.09, 0.4466666666666667)\n",
      "(5, 0.55, 0.6016666666666667, 0.075, 0.23)\n",
      "(5, 0.22, 0.6216666666666667, 0.195, 0.49000000000000005)\n",
      "(4, 0.51625, 0.6033333333333334, 0.0925, 0.19333333333333336)\n",
      "(4, 0.32375, 0.665, 0.0675, 0.39666666666666667)\n",
      "Image No. 11 saved\n",
      "size (400, 300)\n",
      "box (225, 120, 247, 162, 4)\n",
      "size (400, 300)\n",
      "box (333, 112, 358, 173, 4)\n",
      "size (400, 300)\n",
      "box (69, 90, 85, 186, 4)\n",
      "set label class to : Rleg 5\n"
     ]
    },
    {
     "name": "stderr",
     "output_type": "stream",
     "text": [
      "Exception in Tkinter callback\n",
      "Traceback (most recent call last):\n",
      "  File \"D:\\apps\\Anaconda3\\lib\\tkinter\\__init__.py\", line 1699, in __call__\n",
      "    return self.func(*args)\n",
      "TypeError: setClass() missing 2 required positional arguments: 'b' and 'c'\n"
     ]
    },
    {
     "name": "stdout",
     "output_type": "stream",
     "text": [
      "size (400, 300)\n",
      "box (354, 115, 373, 174, 5)\n",
      "size (400, 300)\n",
      "box (46, 89, 74, 188, 5)\n",
      "size (400, 300)\n",
      "box (208, 121, 223, 163, 5)\n",
      "set label class to : head 2\n"
     ]
    },
    {
     "name": "stderr",
     "output_type": "stream",
     "text": [
      "Exception in Tkinter callback\n",
      "Traceback (most recent call last):\n",
      "  File \"D:\\apps\\Anaconda3\\lib\\tkinter\\__init__.py\", line 1699, in __call__\n",
      "    return self.func(*args)\n",
      "TypeError: setClass() missing 2 required positional arguments: 'b' and 'c'\n"
     ]
    },
    {
     "name": "stdout",
     "output_type": "stream",
     "text": [
      "size (400, 300)\n",
      "box (344, 52, 363, 72, 2)\n",
      "size (400, 300)\n",
      "box (225, 79, 241, 96, 2)\n",
      "size (400, 300)\n",
      "box (62, 2, 87, 26, 2)\n",
      "set label class to : Rarm 7\n"
     ]
    },
    {
     "name": "stderr",
     "output_type": "stream",
     "text": [
      "Exception in Tkinter callback\n",
      "Traceback (most recent call last):\n",
      "  File \"D:\\apps\\Anaconda3\\lib\\tkinter\\__init__.py\", line 1699, in __call__\n",
      "    return self.func(*args)\n",
      "TypeError: setClass() missing 2 required positional arguments: 'b' and 'c'\n"
     ]
    },
    {
     "name": "stdout",
     "output_type": "stream",
     "text": [
      "size (400, 300)\n",
      "box (57, 24, 82, 82, 7)\n",
      "size (400, 300)\n",
      "box (221, 94, 257, 119, 7)\n",
      "size (400, 300)\n",
      "box (363, 73, 375, 120, 7)\n",
      "set label class to : Larm 6\n"
     ]
    },
    {
     "name": "stderr",
     "output_type": "stream",
     "text": [
      "Exception in Tkinter callback\n",
      "Traceback (most recent call last):\n",
      "  File \"D:\\apps\\Anaconda3\\lib\\tkinter\\__init__.py\", line 1699, in __call__\n",
      "    return self.func(*args)\n",
      "TypeError: setClass() missing 2 required positional arguments: 'b' and 'c'\n"
     ]
    },
    {
     "name": "stdout",
     "output_type": "stream",
     "text": [
      "size (400, 300)\n",
      "box (323, 73, 347, 118, 6)\n",
      "size (400, 300)\n",
      "box (39, 28, 67, 79, 6)\n",
      "size (400, 300)\n",
      "('1', '0.5775', '0.4083333333333334', '0.125', '0.30333333333333334')\n",
      "('1', '0.1575', '0.32333333333333336', '0.13', '0.62')\n",
      "('0', '0.86875', '0.3816666666666667', '0.14250000000000002', '0.43000000000000005')\n",
      "(4, 0.59, 0.47000000000000003, 0.055, 0.14)\n",
      "(4, 0.86375, 0.47500000000000003, 0.0625, 0.20333333333333334)\n",
      "(4, 0.1925, 0.46, 0.04, 0.32)\n",
      "(5, 0.9087500000000001, 0.4816666666666667, 0.0475, 0.19666666666666668)\n",
      "(5, 0.15, 0.46166666666666667, 0.07, 0.33)\n",
      "(5, 0.5387500000000001, 0.4733333333333334, 0.0375, 0.14)\n",
      "(2, 0.88375, 0.2066666666666667, 0.0475, 0.06666666666666667)\n",
      "(2, 0.5825, 0.2916666666666667, 0.04, 0.05666666666666667)\n",
      "(2, 0.18625, 0.04666666666666667, 0.0625, 0.08)\n",
      "(7, 0.17375000000000002, 0.17666666666666667, 0.0625, 0.19333333333333336)\n",
      "(7, 0.5975, 0.35500000000000004, 0.09, 0.08333333333333334)\n",
      "(7, 0.9225, 0.3216666666666667, 0.03, 0.15666666666666668)\n",
      "(6, 0.8375, 0.31833333333333336, 0.06, 0.15000000000000002)\n",
      "(6, 0.1325, 0.17833333333333334, 0.07, 0.17)\n",
      "Image No. 12 saved\n",
      "set label class to : head 2\n"
     ]
    },
    {
     "name": "stderr",
     "output_type": "stream",
     "text": [
      "Exception in Tkinter callback\n",
      "Traceback (most recent call last):\n",
      "  File \"D:\\apps\\Anaconda3\\lib\\tkinter\\__init__.py\", line 1699, in __call__\n",
      "    return self.func(*args)\n",
      "TypeError: setClass() missing 2 required positional arguments: 'b' and 'c'\n"
     ]
    },
    {
     "name": "stdout",
     "output_type": "stream",
     "text": [
      "size (400, 300)\n",
      "box (49, 64, 66, 85, 2)\n",
      "size (400, 300)\n",
      "box (131, 106, 149, 120, 2)\n",
      "size (400, 300)\n",
      "box (218, 112, 231, 126, 2)\n",
      "size (400, 300)\n",
      "box (260, 108, 273, 124, 2)\n",
      "size (400, 300)\n",
      "box (345, 112, 361, 122, 2)\n",
      "size (400, 300)\n",
      "('0', '0.34500000000000003', '0.48000000000000004', '0.07', '0.26666666666666666')\n",
      "('0', '0.66125', '0.49000000000000005', '0.0675', '0.2733333333333334')\n",
      "('0', '0.88375', '0.49000000000000005', '0.0725', '0.25333333333333335')\n",
      "('1', '0.57125', '0.4816666666666667', '0.08750000000000001', '0.21666666666666667')\n",
      "('1', '0.12625', '0.41833333333333333', '0.10250000000000001', '0.4366666666666667')\n",
      "(2, 0.14375000000000002, 0.24833333333333335, 0.0425, 0.07)\n",
      "(2, 0.35000000000000003, 0.3766666666666667, 0.045, 0.04666666666666667)\n",
      "(2, 0.56125, 0.39666666666666667, 0.0325, 0.04666666666666667)\n",
      "(2, 0.66625, 0.3866666666666667, 0.0325, 0.05333333333333334)\n",
      "(2, 0.8825000000000001, 0.39, 0.04, 0.03333333333333333)\n",
      "Image No. 13 saved\n",
      "size (400, 300)\n",
      "('0', '0.27', '0.6133333333333334', '0.485', '0.7533333333333334')\n",
      "('0', '0.79125', '0.5750000000000001', '0.3725', '0.8300000000000001')\n",
      "('2', '0.2625', '0.39666666666666667', '0.17', '0.31333333333333335')\n",
      "('2', '0.7937500000000001', '0.275', '0.1325', '0.20333333333333334')\n",
      "('3', '0.18375', '0.7566666666666667', '0.2475', '0.38')\n",
      "('3', '0.7212500000000001', '0.5166666666666667', '0.1925', '0.24666666666666667')\n",
      "('5', '0.7625000000000001', '0.78', '0.3', '0.4266666666666667')\n",
      "('4', '0.87625', '0.7533333333333334', '0.20750000000000002', '0.4666666666666667')\n",
      "('4', '0.41500000000000004', '0.8450000000000001', '0.20500000000000002', '0.27')\n",
      "('7', '0.775', '0.6633333333333333', '0.265', '0.5266666666666667')\n",
      "('7', '0.1225', '0.7766666666666667', '0.19', '0.4066666666666667')\n",
      "('6', '0.3325', '0.6733333333333333', '0.06', '0.37333333333333335')\n",
      "('6', '0.9025', '0.5900000000000001', '0.16', '0.4133333333333334')\n",
      "Image No. 14 saved\n",
      "set label class to : Rarm 7\n"
     ]
    },
    {
     "name": "stderr",
     "output_type": "stream",
     "text": [
      "Exception in Tkinter callback\n",
      "Traceback (most recent call last):\n",
      "  File \"D:\\apps\\Anaconda3\\lib\\tkinter\\__init__.py\", line 1699, in __call__\n",
      "    return self.func(*args)\n",
      "TypeError: setClass() missing 2 required positional arguments: 'b' and 'c'\n"
     ]
    },
    {
     "name": "stdout",
     "output_type": "stream",
     "text": [
      "size (400, 300)\n",
      "box (5, 147, 153, 298, 7)\n",
      "size (400, 300)\n",
      "box (242, 106, 342, 260, 7)\n",
      "set label class to : Larm 6\n"
     ]
    },
    {
     "name": "stderr",
     "output_type": "stream",
     "text": [
      "Exception in Tkinter callback\n",
      "Traceback (most recent call last):\n",
      "  File \"D:\\apps\\Anaconda3\\lib\\tkinter\\__init__.py\", line 1699, in __call__\n",
      "    return self.func(*args)\n",
      "TypeError: setClass() missing 2 required positional arguments: 'b' and 'c'\n"
     ]
    },
    {
     "name": "stdout",
     "output_type": "stream",
     "text": [
      "size (400, 300)\n",
      "box (309, 96, 374, 226, 6)\n",
      "size (400, 300)\n",
      "box (108, 152, 135, 240, 6)\n",
      "set label class to : Rleg 5\n"
     ]
    },
    {
     "name": "stderr",
     "output_type": "stream",
     "text": [
      "Exception in Tkinter callback\n",
      "Traceback (most recent call last):\n",
      "  File \"D:\\apps\\Anaconda3\\lib\\tkinter\\__init__.py\", line 1699, in __call__\n",
      "    return self.func(*args)\n",
      "TypeError: setClass() missing 2 required positional arguments: 'b' and 'c'\n"
     ]
    },
    {
     "name": "stdout",
     "output_type": "stream",
     "text": [
      "size (400, 300)\n",
      "box (226, 152, 350, 300, 5)\n",
      "size (400, 300)\n",
      "('0', '0.25875', '0.6016666666666667', '0.4925', '0.7966666666666667')\n",
      "('0', '0.745', '0.5700000000000001', '0.395', '0.8600000000000001')\n",
      "('2', '0.2325', '0.3766666666666667', '0.185', '0.35333333333333333')\n",
      "('2', '0.75375', '0.2566666666666667', '0.1275', '0.22')\n",
      "(7, 0.1975, 0.7416666666666667, 0.37, 0.5033333333333334)\n",
      "(7, 0.73, 0.61, 0.25, 0.5133333333333334)\n",
      "(6, 0.85375, 0.5366666666666667, 0.1625, 0.43333333333333335)\n",
      "(6, 0.30375, 0.6533333333333333, 0.0675, 0.29333333333333333)\n",
      "(5, 0.72, 0.7533333333333334, 0.31, 0.49333333333333335)\n",
      "Image No. 15 saved\n",
      "set label class to : Larm 6\n"
     ]
    },
    {
     "name": "stderr",
     "output_type": "stream",
     "text": [
      "Exception in Tkinter callback\n",
      "Traceback (most recent call last):\n",
      "  File \"D:\\apps\\Anaconda3\\lib\\tkinter\\__init__.py\", line 1699, in __call__\n",
      "    return self.func(*args)\n",
      "TypeError: setClass() missing 2 required positional arguments: 'b' and 'c'\n"
     ]
    },
    {
     "name": "stdout",
     "output_type": "stream",
     "text": [
      "size (400, 300)\n",
      "box (220, 112, 386, 248, 6)\n",
      "set label class to : Rarm 7\n"
     ]
    },
    {
     "name": "stderr",
     "output_type": "stream",
     "text": [
      "Exception in Tkinter callback\n",
      "Traceback (most recent call last):\n",
      "  File \"D:\\apps\\Anaconda3\\lib\\tkinter\\__init__.py\", line 1699, in __call__\n",
      "    return self.func(*args)\n",
      "TypeError: setClass() missing 2 required positional arguments: 'b' and 'c'\n"
     ]
    },
    {
     "name": "stdout",
     "output_type": "stream",
     "text": [
      "size (400, 300)\n",
      "box (75, 170, 145, 220, 7)\n",
      "set label class to : Rleg 5\n"
     ]
    },
    {
     "name": "stderr",
     "output_type": "stream",
     "text": [
      "Exception in Tkinter callback\n",
      "Traceback (most recent call last):\n",
      "  File \"D:\\apps\\Anaconda3\\lib\\tkinter\\__init__.py\", line 1699, in __call__\n",
      "    return self.func(*args)\n",
      "TypeError: setClass() missing 2 required positional arguments: 'b' and 'c'\n"
     ]
    },
    {
     "name": "stdout",
     "output_type": "stream",
     "text": [
      "size (400, 300)\n",
      "box (55, 204, 135, 294, 5)\n",
      "size (400, 300)\n",
      "('0', '0.17500000000000002', '0.6816666666666668', '0.34500000000000003', '0.6366666666666667')\n",
      "('1', '0.665', '0.5066666666666667', '0.595', '0.9733333333333334')\n",
      "('2', '0.70125', '0.19833333333333333', '0.1825', '0.33')\n",
      "('2', '0.16375', '0.4766666666666667', '0.1475', '0.21333333333333335')\n",
      "(6, 0.7575000000000001, 0.6000000000000001, 0.41500000000000004, 0.45333333333333337)\n",
      "(7, 0.275, 0.65, 0.17500000000000002, 0.16666666666666669)\n",
      "(5, 0.23750000000000002, 0.8300000000000001, 0.2, 0.30000000000000004)\n",
      "Image No. 16 saved\n",
      "size (400, 300)\n",
      "Image No. 17 saved\n",
      "size (400, 300)\n",
      "box (312, 168, 400, 222, 5)\n",
      "size (400, 300)\n",
      "box (41, 78, 139, 173, 5)\n",
      "set label class to : Lleg 4\n"
     ]
    },
    {
     "name": "stderr",
     "output_type": "stream",
     "text": [
      "Exception in Tkinter callback\n",
      "Traceback (most recent call last):\n",
      "  File \"D:\\apps\\Anaconda3\\lib\\tkinter\\__init__.py\", line 1699, in __call__\n",
      "    return self.func(*args)\n",
      "TypeError: setClass() missing 2 required positional arguments: 'b' and 'c'\n"
     ]
    },
    {
     "name": "stdout",
     "output_type": "stream",
     "text": [
      "size (400, 300)\n",
      "box (112, 80, 186, 152, 4)\n",
      "set label class to : Rarm 7\n"
     ]
    },
    {
     "name": "stderr",
     "output_type": "stream",
     "text": [
      "Exception in Tkinter callback\n",
      "Traceback (most recent call last):\n",
      "  File \"D:\\apps\\Anaconda3\\lib\\tkinter\\__init__.py\", line 1699, in __call__\n",
      "    return self.func(*args)\n",
      "TypeError: setClass() missing 2 required positional arguments: 'b' and 'c'\n"
     ]
    },
    {
     "name": "stdout",
     "output_type": "stream",
     "text": [
      "size (400, 300)\n",
      "box (251, 56, 309, 252, 7)\n",
      "size (400, 300)\n",
      "box (5, 102, 65, 134, 7)\n",
      "set label class to : Larm 6\n"
     ]
    },
    {
     "name": "stderr",
     "output_type": "stream",
     "text": [
      "Exception in Tkinter callback\n",
      "Traceback (most recent call last):\n",
      "  File \"D:\\apps\\Anaconda3\\lib\\tkinter\\__init__.py\", line 1699, in __call__\n",
      "    return self.func(*args)\n",
      "TypeError: setClass() missing 2 required positional arguments: 'b' and 'c'\n"
     ]
    },
    {
     "name": "stdout",
     "output_type": "stream",
     "text": [
      "size (400, 300)\n",
      "box (140, 55, 231, 191, 6)\n",
      "size (400, 300)\n",
      "('0', '0.24', '0.42833333333333334', '0.465', '0.35000000000000003')\n",
      "('0', '0.67375', '0.42833333333333334', '0.6525', '0.8566666666666667')\n",
      "('2', '0.68125', '0.095', '0.1875', '0.17')\n",
      "(5, 0.89, 0.65, 0.22, 0.18000000000000002)\n",
      "(5, 0.225, 0.41833333333333333, 0.245, 0.3166666666666667)\n",
      "(4, 0.3725, 0.3866666666666667, 0.185, 0.24000000000000002)\n",
      "(7, 0.7000000000000001, 0.5133333333333334, 0.145, 0.6533333333333333)\n",
      "(7, 0.08750000000000001, 0.39333333333333337, 0.15, 0.10666666666666667)\n",
      "(6, 0.46375, 0.41000000000000003, 0.2275, 0.45333333333333337)\n",
      "Image No. 18 saved\n",
      "set label class to : Rleg 5\n"
     ]
    },
    {
     "name": "stderr",
     "output_type": "stream",
     "text": [
      "Exception in Tkinter callback\n",
      "Traceback (most recent call last):\n",
      "  File \"D:\\apps\\Anaconda3\\lib\\tkinter\\__init__.py\", line 1699, in __call__\n",
      "    return self.func(*args)\n",
      "TypeError: setClass() missing 2 required positional arguments: 'b' and 'c'\n"
     ]
    },
    {
     "name": "stdout",
     "output_type": "stream",
     "text": [
      "size (400, 300)\n",
      "box (150, 171, 399, 272, 5)\n",
      "set label class to : Lleg 4\n"
     ]
    },
    {
     "name": "stderr",
     "output_type": "stream",
     "text": [
      "Exception in Tkinter callback\n",
      "Traceback (most recent call last):\n",
      "  File \"D:\\apps\\Anaconda3\\lib\\tkinter\\__init__.py\", line 1699, in __call__\n",
      "    return self.func(*args)\n",
      "TypeError: setClass() missing 2 required positional arguments: 'b' and 'c'\n"
     ]
    },
    {
     "name": "stdout",
     "output_type": "stream",
     "text": [
      "size (400, 300)\n",
      "box (147, 15, 401, 168, 4)\n",
      "set label class to : head 2\n"
     ]
    },
    {
     "name": "stderr",
     "output_type": "stream",
     "text": [
      "Exception in Tkinter callback\n",
      "Traceback (most recent call last):\n",
      "  File \"D:\\apps\\Anaconda3\\lib\\tkinter\\__init__.py\", line 1699, in __call__\n",
      "    return self.func(*args)\n",
      "TypeError: setClass() missing 2 required positional arguments: 'b' and 'c'\n"
     ]
    },
    {
     "name": "stdout",
     "output_type": "stream",
     "text": [
      "size (400, 300)\n",
      "box (43, 157, 90, 206, 2)\n",
      "size (400, 300)\n",
      "('0', '0.54625', '0.48500000000000004', '0.9175', '0.9033333333333334')\n",
      "(5, 0.68625, 0.7383333333333334, 0.6225, 0.33666666666666667)\n",
      "(4, 0.685, 0.305, 0.635, 0.51)\n",
      "(2, 0.16625, 0.6050000000000001, 0.11750000000000001, 0.16333333333333333)\n",
      "Image No. 19 saved\n",
      "size (400, 300)\n",
      "box (53, 120, 87, 150, 2)\n",
      "set label class to : Rarm 7\n"
     ]
    },
    {
     "name": "stderr",
     "output_type": "stream",
     "text": [
      "Exception in Tkinter callback\n",
      "Traceback (most recent call last):\n",
      "  File \"D:\\apps\\Anaconda3\\lib\\tkinter\\__init__.py\", line 1699, in __call__\n",
      "    return self.func(*args)\n",
      "TypeError: setClass() missing 2 required positional arguments: 'b' and 'c'\n"
     ]
    },
    {
     "name": "stdout",
     "output_type": "stream",
     "text": [
      "size (400, 300)\n",
      "box (237, 90, 330, 262, 7)\n",
      "set label class to : Larm 6\n"
     ]
    },
    {
     "name": "stderr",
     "output_type": "stream",
     "text": [
      "Exception in Tkinter callback\n",
      "Traceback (most recent call last):\n",
      "  File \"D:\\apps\\Anaconda3\\lib\\tkinter\\__init__.py\", line 1699, in __call__\n",
      "    return self.func(*args)\n",
      "TypeError: setClass() missing 2 required positional arguments: 'b' and 'c'\n"
     ]
    },
    {
     "name": "stdout",
     "output_type": "stream",
     "text": [
      "size (400, 300)\n",
      "box (183, 96, 287, 192, 6)\n",
      "size (400, 300)\n",
      "('0', '0.3175', '0.4866666666666667', '0.36', '0.26666666666666666')\n",
      "('0', '0.6', '0.5933333333333334', '0.505', '0.6000000000000001')\n",
      "('2', '0.455', '0.7366666666666667', '0.19', '0.22')\n",
      "(2, 0.17500000000000002, 0.45, 0.085, 0.1)\n",
      "(7, 0.70875, 0.5866666666666667, 0.2325, 0.5733333333333334)\n",
      "(6, 0.5875, 0.48000000000000004, 0.26, 0.32)\n",
      "Image No. 20 saved\n",
      "size (400, 300)\n",
      "box (137, 124, 229, 299, 6)\n",
      "set label class to : Rarm 7\n"
     ]
    },
    {
     "name": "stderr",
     "output_type": "stream",
     "text": [
      "Exception in Tkinter callback\n",
      "Traceback (most recent call last):\n",
      "  File \"D:\\apps\\Anaconda3\\lib\\tkinter\\__init__.py\", line 1699, in __call__\n",
      "    return self.func(*args)\n",
      "TypeError: setClass() missing 2 required positional arguments: 'b' and 'c'\n"
     ]
    },
    {
     "name": "stdout",
     "output_type": "stream",
     "text": [
      "size (400, 300)\n",
      "box (286, 116, 385, 298, 7)\n",
      "size (400, 300)\n",
      "box (83, 124, 182, 253, 7)\n",
      "size (400, 300)\n",
      "('0', '0.25375000000000003', '0.6266666666666667', '0.4675', '0.76')\n",
      "('0', '0.65375', '0.56', '0.6325000000000001', '0.8666666666666667')\n",
      "('2', '0.42125', '0.36000000000000004', '0.1325', '0.22666666666666668')\n",
      "('2', '0.64', '0.26833333333333337', '0.18', '0.27')\n",
      "(6, 0.4575, 0.7050000000000001, 0.23, 0.5833333333333334)\n",
      "(7, 0.83875, 0.6900000000000001, 0.2475, 0.6066666666666667)\n",
      "(7, 0.33125, 0.6283333333333334, 0.2475, 0.43000000000000005)\n",
      "Image No. 21 saved\n",
      "size (400, 300)\n",
      "box (125, 152, 242, 290, 7)\n",
      "size (400, 300)\n",
      "box (47, 121, 152, 225, 7)\n",
      "set label class to : Larm 6\n"
     ]
    },
    {
     "name": "stderr",
     "output_type": "stream",
     "text": [
      "Exception in Tkinter callback\n",
      "Traceback (most recent call last):\n",
      "  File \"D:\\apps\\Anaconda3\\lib\\tkinter\\__init__.py\", line 1699, in __call__\n",
      "    return self.func(*args)\n",
      "TypeError: setClass() missing 2 required positional arguments: 'b' and 'c'\n"
     ]
    },
    {
     "name": "stdout",
     "output_type": "stream",
     "text": [
      "size (400, 300)\n",
      "box (290, 170, 353, 258, 6)\n",
      "size (400, 300)\n",
      "('0', '0.29875', '0.6900000000000001', '0.3875', '0.6466666666666667')\n",
      "('0', '0.65625', '0.655', '0.6975', '0.67')\n",
      "('2', '0.4225', '0.47000000000000003', '0.13', '0.2066666666666667')\n",
      "('2', '0.59', '0.4466666666666667', '0.17', '0.24000000000000002')\n",
      "(7, 0.45875, 0.7366666666666667, 0.2925, 0.46)\n",
      "(7, 0.24875, 0.5766666666666667, 0.2625, 0.3466666666666667)\n",
      "(6, 0.80375, 0.7133333333333334, 0.1575, 0.29333333333333333)\n",
      "Image No. 22 saved\n",
      "size (400, 300)\n",
      "box (276, 140, 391, 292, 6)\n",
      "set label class to : Rarm 7\n"
     ]
    },
    {
     "name": "stderr",
     "output_type": "stream",
     "text": [
      "Exception in Tkinter callback\n",
      "Traceback (most recent call last):\n",
      "  File \"D:\\apps\\Anaconda3\\lib\\tkinter\\__init__.py\", line 1699, in __call__\n",
      "    return self.func(*args)\n",
      "TypeError: setClass() missing 2 required positional arguments: 'b' and 'c'\n"
     ]
    },
    {
     "name": "stdout",
     "output_type": "stream",
     "text": [
      "size (400, 300)\n",
      "box (131, 144, 223, 282, 7)\n",
      "size (400, 300)\n",
      "('0', '0.34', '0.675', '0.455', '0.65')\n",
      "('0', '0.65375', '0.6266666666666667', '0.6525', '0.7333333333333334')\n",
      "('2', '0.48875', '0.44333333333333336', '0.1475', '0.18000000000000002')\n",
      "('2', '0.645', '0.42000000000000004', '0.145', '0.22666666666666668')\n",
      "(6, 0.83375, 0.7200000000000001, 0.28750000000000003, 0.5066666666666667)\n",
      "(7, 0.4425, 0.7100000000000001, 0.23, 0.46)\n",
      "Image No. 23 saved\n",
      "size (400, 300)\n",
      "box (3, 178, 133, 293, 7)\n",
      "size (400, 300)\n",
      "box (119, 178, 219, 248, 7)\n",
      "size (400, 300)\n",
      "('0', '0.42', '0.6783333333333333', '0.275', '0.48333333333333334')\n",
      "('0', '0.7175', '0.5416666666666667', '0.225', '0.3433333333333334')\n",
      "('1', '0.17500000000000002', '0.6566666666666667', '0.335', '0.66')\n",
      "('1', '0.9175', '0.6166666666666667', '0.155', '0.42000000000000004')\n",
      "('2', '0.23375', '0.4733333333333334', '0.1875', '0.26')\n",
      "('2', '0.42125', '0.5333333333333333', '0.1075', '0.16')\n",
      "('2', '0.6950000000000001', '0.4816666666666667', '0.11', '0.18333333333333335')\n",
      "('2', '0.93125', '0.5116666666666667', '0.1275', '0.20333333333333334')\n",
      "(7, 0.17, 0.785, 0.325, 0.38333333333333336)\n",
      "(7, 0.4225, 0.7100000000000001, 0.25, 0.23333333333333334)\n",
      "Image No. 24 saved\n",
      "size (400, 300)\n",
      "box (6, 170, 82, 254, 7)\n",
      "set label class to : Larm 6\n"
     ]
    },
    {
     "name": "stderr",
     "output_type": "stream",
     "text": [
      "Exception in Tkinter callback\n",
      "Traceback (most recent call last):\n",
      "  File \"D:\\apps\\Anaconda3\\lib\\tkinter\\__init__.py\", line 1699, in __call__\n",
      "    return self.func(*args)\n",
      "TypeError: setClass() missing 2 required positional arguments: 'b' and 'c'\n"
     ]
    },
    {
     "name": "stdout",
     "output_type": "stream",
     "text": [
      "size (400, 300)\n",
      "box (194, 170, 231, 250, 6)\n",
      "size (400, 300)\n",
      "box (289, 150, 358, 252, 6)\n",
      "size (400, 300)\n",
      "('0', '0.12875', '0.6266666666666667', '0.2425', '0.5066666666666667')\n",
      "('0', '0.4675', '0.5983333333333334', '0.23', '0.47000000000000003')\n",
      "('1', '0.74', '0.6116666666666667', '0.315', '0.4566666666666667')\n",
      "('2', '0.14625', '0.49000000000000005', '0.1475', '0.19333333333333336')\n",
      "('2', '0.49125', '0.48833333333333334', '0.1325', '0.19666666666666668')\n",
      "('2', '0.6637500000000001', '0.49500000000000005', '0.1375', '0.20333333333333334')\n",
      "(7, 0.11, 0.7066666666666667, 0.19, 0.28)\n",
      "(6, 0.53125, 0.7000000000000001, 0.0925, 0.26666666666666666)\n",
      "(6, 0.80875, 0.67, 0.17250000000000001, 0.34)\n",
      "Image No. 25 saved\n",
      "set label class to : Rarm 7\n"
     ]
    },
    {
     "name": "stderr",
     "output_type": "stream",
     "text": [
      "Exception in Tkinter callback\n",
      "Traceback (most recent call last):\n",
      "  File \"D:\\apps\\Anaconda3\\lib\\tkinter\\__init__.py\", line 1699, in __call__\n",
      "    return self.func(*args)\n",
      "TypeError: setClass() missing 2 required positional arguments: 'b' and 'c'\n"
     ]
    },
    {
     "name": "stdout",
     "output_type": "stream",
     "text": [
      "size (400, 300)\n",
      "box (83, 130, 175, 245, 7)\n",
      "size (400, 300)\n",
      "('1', '0.225', '0.6466666666666667', '0.405', '0.7066666666666667')\n",
      "('1', '0.41375', '0.22666666666666668', '0.1225', '0.26666666666666666')\n",
      "('1', '0.94625', '0.545', '0.1075', '0.44333333333333336')\n",
      "('0', '0.4525', '0.5983333333333334', '0.215', '0.44333333333333336')\n",
      "('0', '0.7325', '0.4966666666666667', '0.23', '0.32666666666666666')\n",
      "('2', '0.35875', '0.4166666666666667', '0.1375', '0.22666666666666668')\n",
      "('2', '0.49125', '0.4633333333333334', '0.0925', '0.15333333333333335')\n",
      "('2', '0.67875', '0.43500000000000005', '0.11750000000000001', '0.17666666666666667')\n",
      "('2', '0.4325', '0.165', '0.085', '0.11666666666666667')\n",
      "(7, 0.3225, 0.625, 0.23, 0.38333333333333336)\n",
      "Image No. 26 saved\n",
      "size (400, 300)\n",
      "('0', '0.50625', '0.6433333333333334', '0.41250000000000003', '0.6733333333333333')\n",
      "('0', '0.745', '0.5766666666666667', '0.515', '0.8466666666666667')\n",
      "('2', '0.6075', '0.5166666666666667', '0.20500000000000002', '0.4066666666666667')\n",
      "('2', '0.845', '0.43333333333333335', '0.315', '0.5133333333333334')\n",
      "Image No. 27 saved\n",
      "set label class to : head 2\n"
     ]
    },
    {
     "name": "stderr",
     "output_type": "stream",
     "text": [
      "Exception in Tkinter callback\n",
      "Traceback (most recent call last):\n",
      "  File \"D:\\apps\\Anaconda3\\lib\\tkinter\\__init__.py\", line 1699, in __call__\n",
      "    return self.func(*args)\n",
      "TypeError: setClass() missing 2 required positional arguments: 'b' and 'c'\n"
     ]
    },
    {
     "name": "stdout",
     "output_type": "stream",
     "text": [
      "size (400, 300)\n",
      "box (298, 116, 365, 162, 2)\n",
      "size (400, 300)\n",
      "box (135, 75, 173, 112, 2)\n",
      "set label class to : Rarm 7\n"
     ]
    },
    {
     "name": "stderr",
     "output_type": "stream",
     "text": [
      "Exception in Tkinter callback\n",
      "Traceback (most recent call last):\n",
      "  File \"D:\\apps\\Anaconda3\\lib\\tkinter\\__init__.py\", line 1699, in __call__\n",
      "    return self.func(*args)\n",
      "TypeError: setClass() missing 2 required positional arguments: 'b' and 'c'\n"
     ]
    },
    {
     "name": "stdout",
     "output_type": "stream",
     "text": [
      "size (400, 300)\n",
      "box (258, 166, 378, 278, 7)\n",
      "size (400, 300)\n",
      "('0', '0.775', '0.675', '0.375', '0.6233333333333334')\n",
      "('1', '0.3875', '0.41833333333333333', '0.23', '0.3566666666666667')\n",
      "(2, 0.82875, 0.4633333333333334, 0.1675, 0.15333333333333335)\n",
      "(2, 0.385, 0.3116666666666667, 0.095, 0.12333333333333334)\n",
      "(7, 0.795, 0.7400000000000001, 0.3, 0.37333333333333335)\n",
      "Image No. 28 saved\n",
      "size (400, 300)\n",
      "('0', '0.535', '0.6133333333333334', '0.435', '0.7666666666666667')\n",
      "('2', '0.46', '0.39333333333333337', '0.18', '0.2866666666666667')\n",
      "Image No. 29 saved\n",
      "set label class to : Larm 6\n"
     ]
    },
    {
     "name": "stderr",
     "output_type": "stream",
     "text": [
      "Exception in Tkinter callback\n",
      "Traceback (most recent call last):\n",
      "  File \"D:\\apps\\Anaconda3\\lib\\tkinter\\__init__.py\", line 1699, in __call__\n",
      "    return self.func(*args)\n",
      "TypeError: setClass() missing 2 required positional arguments: 'b' and 'c'\n"
     ]
    },
    {
     "name": "stdout",
     "output_type": "stream",
     "text": [
      "size (400, 300)\n",
      "box (86, 135, 166, 246, 6)\n",
      "size (400, 300)\n",
      "('0', '0.78', '0.5283333333333333', '0.335', '0.5433333333333333')\n",
      "('1', '0.2175', '0.5633333333333334', '0.41000000000000003', '0.8666666666666667')\n",
      "('2', '0.78625', '0.3866666666666667', '0.1475', '0.24000000000000002')\n",
      "('2', '0.20625000000000002', '0.30000000000000004', '0.20750000000000002', '0.32')\n",
      "(6, 0.315, 0.635, 0.2, 0.37000000000000005)\n",
      "Image No. 30 saved\n",
      "size (400, 300)\n",
      "('0', '0.2025', '0.5433333333333333', '0.35000000000000003', '0.5266666666666667')\n",
      "('1', '0.8425', '0.63', '0.31', '0.7133333333333334')\n",
      "('2', '0.21375', '0.40166666666666667', '0.1575', '0.21666666666666667')\n",
      "('2', '0.8462500000000001', '0.4', '0.1825', '0.22666666666666668')\n",
      "('3', '0.21625', '0.65', '0.1825', '0.26')\n",
      "('3', '0.84375', '0.7400000000000001', '0.1575', '0.4133333333333334')\n",
      "('7', '0.17', '0.6383333333333334', '0.275', '0.26333333333333336')\n",
      "('7', '0.7675000000000001', '0.7283333333333334', '0.11', '0.41000000000000003')\n",
      "('6', '0.22', '0.6483333333333334', '0.305', '0.27')\n",
      "('6', '0.8875000000000001', '0.7400000000000001', '0.215', '0.4866666666666667')\n",
      "Image No. 31 saved\n",
      "size (400, 300)\n",
      "box (232, 162, 345, 293, 6)\n",
      "size (400, 300)\n",
      "('1', '0.57625', '0.535', '0.8425', '0.9166666666666667')\n",
      "('2', '0.5', '0.305', '0.23500000000000001', '0.43000000000000005')\n",
      "('3', '0.44625000000000004', '0.7100000000000001', '0.3225', '0.5266666666666667')\n",
      "('7', '0.27875', '0.7383333333333334', '0.2125', '0.4766666666666667')\n",
      "('6', '0.79', '0.765', '0.405', '0.4366666666666667')\n",
      "(6, 0.7212500000000001, 0.7583333333333334, 0.28250000000000003, 0.4366666666666667)\n",
      "Image No. 32 saved\n",
      "size (400, 300)\n",
      "('1', '0.65125', '0.5833333333333334', '0.4175', '0.8200000000000001')\n",
      "('0', '0.3075', '0.66', '0.365', '0.6533333333333333')\n",
      "('2', '0.305', '0.6666666666666667', '0.355', '0.64')\n",
      "('2', '0.65125', '0.5783333333333334', '0.4025', '0.8033333333333333')\n",
      "Image No. 33 saved\n",
      "size (400, 300)\n",
      "Image No. 34 saved\n",
      "size (400, 300)\n",
      "box (263, 187, 341, 220, 6)\n",
      "set label class to : Rleg 5\n"
     ]
    },
    {
     "name": "stderr",
     "output_type": "stream",
     "text": [
      "Exception in Tkinter callback\n",
      "Traceback (most recent call last):\n",
      "  File \"D:\\apps\\Anaconda3\\lib\\tkinter\\__init__.py\", line 1699, in __call__\n",
      "    return self.func(*args)\n",
      "TypeError: setClass() missing 2 required positional arguments: 'b' and 'c'\n"
     ]
    },
    {
     "name": "stdout",
     "output_type": "stream",
     "text": [
      "size (400, 300)\n",
      "box (319, 182, 401, 207, 5)\n",
      "set label class to : Lleg 4\n"
     ]
    },
    {
     "name": "stderr",
     "output_type": "stream",
     "text": [
      "Exception in Tkinter callback\n",
      "Traceback (most recent call last):\n",
      "  File \"D:\\apps\\Anaconda3\\lib\\tkinter\\__init__.py\", line 1699, in __call__\n",
      "    return self.func(*args)\n",
      "TypeError: setClass() missing 2 required positional arguments: 'b' and 'c'\n"
     ]
    },
    {
     "name": "stdout",
     "output_type": "stream",
     "text": [
      "size (400, 300)\n",
      "box (317, 164, 400, 182, 4)\n",
      "set label class to : Larm 6\n"
     ]
    },
    {
     "name": "stderr",
     "output_type": "stream",
     "text": [
      "Exception in Tkinter callback\n",
      "Traceback (most recent call last):\n",
      "  File \"D:\\apps\\Anaconda3\\lib\\tkinter\\__init__.py\", line 1699, in __call__\n",
      "    return self.func(*args)\n",
      "TypeError: setClass() missing 2 required positional arguments: 'b' and 'c'\n"
     ]
    },
    {
     "name": "stdout",
     "output_type": "stream",
     "text": [
      "size (400, 300)\n",
      "box (273, 154, 337, 186, 6)\n",
      "size (400, 300)\n",
      "('1', '0.7925', '0.6233333333333334', '0.41000000000000003', '0.23333333333333334')\n",
      "('1', '0.8075', '0.26666666666666666', '0.39', '0.28')\n",
      "('2', '0.6375000000000001', '0.5800000000000001', '0.095', '0.08666666666666667')\n",
      "(6, 0.755, 0.6783333333333333, 0.195, 0.11)\n",
      "(5, 0.9, 0.6483333333333334, 0.20500000000000002, 0.08333333333333334)\n",
      "(4, 0.89625, 0.5766666666666667, 0.20750000000000002, 0.060000000000000005)\n",
      "(6, 0.7625000000000001, 0.5666666666666667, 0.16, 0.10666666666666667)\n",
      "Image No. 35 saved\n",
      "size (400, 300)\n",
      "box (153, 200, 370, 297, 6)\n",
      "set label class to : Lleg 4\n"
     ]
    },
    {
     "name": "stderr",
     "output_type": "stream",
     "text": [
      "Exception in Tkinter callback\n",
      "Traceback (most recent call last):\n",
      "  File \"D:\\apps\\Anaconda3\\lib\\tkinter\\__init__.py\", line 1699, in __call__\n",
      "    return self.func(*args)\n",
      "TypeError: setClass() missing 2 required positional arguments: 'b' and 'c'\n"
     ]
    },
    {
     "name": "stdout",
     "output_type": "stream",
     "text": [
      "size (400, 300)\n",
      "box (339, 125, 399, 194, 4)\n",
      "set label class to : Rleg 5\n"
     ]
    },
    {
     "name": "stderr",
     "output_type": "stream",
     "text": [
      "Exception in Tkinter callback\n",
      "Traceback (most recent call last):\n",
      "  File \"D:\\apps\\Anaconda3\\lib\\tkinter\\__init__.py\", line 1699, in __call__\n",
      "    return self.func(*args)\n",
      "TypeError: setClass() missing 2 required positional arguments: 'b' and 'c'\n"
     ]
    },
    {
     "name": "stdout",
     "output_type": "stream",
     "text": [
      "size (400, 300)\n",
      "box (343, 194, 399, 269, 5)\n",
      "size (400, 300)\n",
      "('0', '0.56375', '0.6733333333333333', '0.8775000000000001', '0.64')\n",
      "('2', '0.26625', '0.5866666666666667', '0.2475', '0.29333333333333333')\n",
      "(6, 0.65375, 0.8283333333333334, 0.5425, 0.32333333333333336)\n",
      "(4, 0.9225, 0.5316666666666667, 0.15, 0.23)\n",
      "(5, 0.9275, 0.7716666666666667, 0.14, 0.25)\n",
      "Image No. 36 saved\n",
      "size (400, 300)\n",
      "('0', '0.5825', '0.7000000000000001', '0.8250000000000001', '0.6133333333333334')\n",
      "('2', '0.29875', '0.5650000000000001', '0.2275', '0.21666666666666667')\n",
      "('3', '0.6625', '0.5900000000000001', '0.45', '0.39333333333333337')\n",
      "('5', '0.9475', '0.6833333333333333', '0.1', '0.23333333333333334')\n",
      "('4', '0.9450000000000001', '0.4966666666666667', '0.1', '0.14')\n",
      "('7', '0.6575', '0.8683333333333334', '0.45', '0.27')\n",
      "Image No. 37 saved\n",
      "set label class to : body 3\n"
     ]
    },
    {
     "name": "stderr",
     "output_type": "stream",
     "text": [
      "Exception in Tkinter callback\n",
      "Traceback (most recent call last):\n",
      "  File \"D:\\apps\\Anaconda3\\lib\\tkinter\\__init__.py\", line 1699, in __call__\n",
      "    return self.func(*args)\n",
      "TypeError: setClass() missing 2 required positional arguments: 'b' and 'c'\n"
     ]
    },
    {
     "name": "stdout",
     "output_type": "stream",
     "text": [
      "size (400, 300)\n",
      "box (153, 121, 348, 251, 3)\n",
      "size (400, 300)\n",
      "('0', '0.56375', '0.6733333333333333', '0.8775000000000001', '0.64')\n",
      "('2', '0.26625', '0.5866666666666667', '0.2475', '0.29333333333333333')\n",
      "('6', '0.65375', '0.8283333333333334', '0.5425', '0.32333333333333336')\n",
      "('4', '0.9225', '0.5316666666666667', '0.15', '0.23')\n",
      "('5', '0.9275', '0.7716666666666667', '0.14', '0.25')\n",
      "(3, 0.62625, 0.62, 0.4875, 0.43333333333333335)\n",
      "Image No. 36 saved\n",
      "size (400, 300)\n",
      "box (263, 160, 321, 208, 3)\n",
      "size (400, 300)\n",
      "('1', '0.7925', '0.6233333333333334', '0.41000000000000003', '0.23333333333333334')\n",
      "('1', '0.8075', '0.26666666666666666', '0.39', '0.28')\n",
      "('2', '0.6375000000000001', '0.5800000000000001', '0.095', '0.08666666666666667')\n",
      "('6', '0.755', '0.6783333333333333', '0.195', '0.11')\n",
      "('5', '0.9', '0.6483333333333334', '0.20500000000000002', '0.08333333333333334')\n",
      "('4', '0.89625', '0.5766666666666667', '0.20750000000000002', '0.060000000000000005')\n",
      "('6', '0.7625000000000001', '0.5666666666666667', '0.16', '0.10666666666666667')\n",
      "(3, 0.73, 0.6133333333333334, 0.145, 0.16)\n",
      "Image No. 35 saved\n",
      "size (400, 300)\n",
      "Image No. 34 saved\n",
      "size (400, 300)\n",
      "('1', '0.65125', '0.5833333333333334', '0.4175', '0.8200000000000001')\n",
      "('0', '0.3075', '0.66', '0.365', '0.6533333333333333')\n",
      "('2', '0.305', '0.6666666666666667', '0.355', '0.64')\n",
      "('2', '0.65125', '0.5783333333333334', '0.4025', '0.8033333333333333')\n",
      "Image No. 33 saved\n",
      "size (400, 300)\n",
      "('1', '0.57625', '0.535', '0.8425', '0.9166666666666667')\n",
      "('2', '0.5', '0.305', '0.23500000000000001', '0.43000000000000005')\n",
      "('3', '0.44625000000000004', '0.7100000000000001', '0.3225', '0.5266666666666667')\n",
      "('7', '0.27875', '0.7383333333333334', '0.2125', '0.4766666666666667')\n",
      "('6', '0.79', '0.765', '0.405', '0.4366666666666667')\n",
      "('6', '0.7212500000000001', '0.7583333333333334', '0.28250000000000003', '0.4366666666666667')\n",
      "Image No. 32 saved\n",
      "size (400, 300)\n",
      "('0', '0.2025', '0.5433333333333333', '0.35000000000000003', '0.5266666666666667')\n",
      "('1', '0.8425', '0.63', '0.31', '0.7133333333333334')\n",
      "('2', '0.21375', '0.40166666666666667', '0.1575', '0.21666666666666667')\n",
      "('2', '0.8462500000000001', '0.4', '0.1825', '0.22666666666666668')\n",
      "('3', '0.21625', '0.65', '0.1825', '0.26')\n",
      "('3', '0.84375', '0.7400000000000001', '0.1575', '0.4133333333333334')\n",
      "('7', '0.17', '0.6383333333333334', '0.275', '0.26333333333333336')\n",
      "('7', '0.7675000000000001', '0.7283333333333334', '0.11', '0.41000000000000003')\n",
      "('6', '0.22', '0.6483333333333334', '0.305', '0.27')\n",
      "('6', '0.8875000000000001', '0.7400000000000001', '0.215', '0.4866666666666667')\n",
      "Image No. 31 saved\n",
      "size (400, 300)\n",
      "box (281, 144, 351, 232, 3)\n",
      "size (400, 300)\n",
      "box (17, 123, 107, 282, 3)\n",
      "size (400, 300)\n",
      "('0', '0.78', '0.5283333333333333', '0.335', '0.5433333333333333')\n",
      "('1', '0.2175', '0.5633333333333334', '0.41000000000000003', '0.8666666666666667')\n",
      "('2', '0.78625', '0.3866666666666667', '0.1475', '0.24000000000000002')\n",
      "('2', '0.20625000000000002', '0.30000000000000004', '0.20750000000000002', '0.32')\n",
      "('6', '0.315', '0.635', '0.2', '0.37000000000000005')\n",
      "(3, 0.79, 0.6266666666666667, 0.17500000000000002, 0.29333333333333333)\n",
      "(3, 0.155, 0.675, 0.225, 0.53)\n",
      "Image No. 30 saved\n",
      "size (400, 300)\n",
      "box (153, 162, 265, 296, 3)\n",
      "size (400, 300)\n",
      "('0', '0.535', '0.6133333333333334', '0.435', '0.7666666666666667')\n",
      "('2', '0.46', '0.39333333333333337', '0.18', '0.2866666666666667')\n",
      "(3, 0.5225, 0.7633333333333334, 0.28, 0.4466666666666667)\n",
      "Image No. 29 saved\n",
      "size (400, 300)\n",
      "('0', '0.775', '0.675', '0.375', '0.6233333333333334')\n",
      "('1', '0.3875', '0.41833333333333333', '0.23', '0.3566666666666667')\n",
      "('2', '0.82875', '0.4633333333333334', '0.1675', '0.15333333333333335')\n",
      "('2', '0.385', '0.3116666666666667', '0.095', '0.12333333333333334')\n",
      "('7', '0.795', '0.7400000000000001', '0.3', '0.37333333333333335')\n",
      "Image No. 28 saved\n",
      "size (400, 300)\n",
      "box (271, 212, 403, 297, 3)\n",
      "size (400, 300)\n",
      "box (134, 182, 241, 287, 3)\n",
      "size (400, 300)\n",
      "('0', '0.50625', '0.6433333333333334', '0.41250000000000003', '0.6733333333333333')\n",
      "('0', '0.745', '0.5766666666666667', '0.515', '0.8466666666666667')\n",
      "('2', '0.6075', '0.5166666666666667', '0.20500000000000002', '0.4066666666666667')\n",
      "('2', '0.845', '0.43333333333333335', '0.315', '0.5133333333333334')\n",
      "(3, 0.8425, 0.8483333333333334, 0.33, 0.2833333333333333)\n",
      "(3, 0.46875, 0.7816666666666667, 0.2675, 0.35000000000000003)\n",
      "Image No. 27 saved\n",
      "size (400, 300)\n",
      "('1', '0.225', '0.6466666666666667', '0.405', '0.7066666666666667')\n",
      "('1', '0.41375', '0.22666666666666668', '0.1225', '0.26666666666666666')\n",
      "('1', '0.94625', '0.545', '0.1075', '0.44333333333333336')\n",
      "('0', '0.4525', '0.5983333333333334', '0.215', '0.44333333333333336')\n",
      "('0', '0.7325', '0.4966666666666667', '0.23', '0.32666666666666666')\n",
      "('2', '0.35875', '0.4166666666666667', '0.1375', '0.22666666666666668')\n",
      "('2', '0.49125', '0.4633333333333334', '0.0925', '0.15333333333333335')\n",
      "('2', '0.67875', '0.43500000000000005', '0.11750000000000001', '0.17666666666666667')\n",
      "('2', '0.4325', '0.165', '0.085', '0.11666666666666667')\n",
      "('7', '0.3225', '0.625', '0.23', '0.38333333333333336')\n",
      "Image No. 26 saved\n",
      "size (400, 300)\n",
      "('0', '0.12875', '0.6266666666666667', '0.2425', '0.5066666666666667')\n",
      "('0', '0.4675', '0.5983333333333334', '0.23', '0.47000000000000003')\n",
      "('1', '0.74', '0.6116666666666667', '0.315', '0.4566666666666667')\n",
      "('2', '0.14625', '0.49000000000000005', '0.1475', '0.19333333333333336')\n",
      "('2', '0.49125', '0.48833333333333334', '0.1325', '0.19666666666666668')\n",
      "('2', '0.6637500000000001', '0.49500000000000005', '0.1375', '0.20333333333333334')\n",
      "('7', '0.11', '0.7066666666666667', '0.19', '0.28')\n",
      "('6', '0.53125', '0.7000000000000001', '0.0925', '0.26666666666666666')\n",
      "('6', '0.80875', '0.67', '0.17250000000000001', '0.34')\n",
      "Image No. 25 saved\n",
      "size (400, 300)\n",
      "('0', '0.42', '0.6783333333333333', '0.275', '0.48333333333333334')\n",
      "('0', '0.7175', '0.5416666666666667', '0.225', '0.3433333333333334')\n",
      "('1', '0.17500000000000002', '0.6566666666666667', '0.335', '0.66')\n",
      "('1', '0.9175', '0.6166666666666667', '0.155', '0.42000000000000004')\n",
      "('2', '0.23375', '0.4733333333333334', '0.1875', '0.26')\n",
      "('2', '0.42125', '0.5333333333333333', '0.1075', '0.16')\n",
      "('2', '0.6950000000000001', '0.4816666666666667', '0.11', '0.18333333333333335')\n",
      "('2', '0.93125', '0.5116666666666667', '0.1275', '0.20333333333333334')\n",
      "('7', '0.17', '0.785', '0.325', '0.38333333333333336')\n",
      "('7', '0.4225', '0.7100000000000001', '0.25', '0.23333333333333334')\n",
      "Image No. 24 saved\n",
      "size (400, 300)\n",
      "('0', '0.34', '0.675', '0.455', '0.65')\n",
      "('0', '0.65375', '0.6266666666666667', '0.6525', '0.7333333333333334')\n",
      "('2', '0.48875', '0.44333333333333336', '0.1475', '0.18000000000000002')\n",
      "('2', '0.645', '0.42000000000000004', '0.145', '0.22666666666666668')\n",
      "('6', '0.83375', '0.7200000000000001', '0.28750000000000003', '0.5066666666666667')\n",
      "('7', '0.4425', '0.7100000000000001', '0.23', '0.46')\n",
      "Image No. 23 saved\n",
      "size (400, 300)\n",
      "('0', '0.29875', '0.6900000000000001', '0.3875', '0.6466666666666667')\n",
      "('0', '0.65625', '0.655', '0.6975', '0.67')\n",
      "('2', '0.4225', '0.47000000000000003', '0.13', '0.2066666666666667')\n",
      "('2', '0.59', '0.4466666666666667', '0.17', '0.24000000000000002')\n",
      "('7', '0.45875', '0.7366666666666667', '0.2925', '0.46')\n",
      "('7', '0.24875', '0.5766666666666667', '0.2625', '0.3466666666666667')\n",
      "('6', '0.80375', '0.7133333333333334', '0.1575', '0.29333333333333333')\n",
      "Image No. 22 saved\n",
      "size (400, 300)\n",
      "('0', '0.34', '0.675', '0.455', '0.65')\n",
      "('0', '0.65375', '0.6266666666666667', '0.6525', '0.7333333333333334')\n",
      "('2', '0.48875', '0.44333333333333336', '0.1475', '0.18000000000000002')\n",
      "('2', '0.645', '0.42000000000000004', '0.145', '0.22666666666666668')\n",
      "('6', '0.83375', '0.7200000000000001', '0.28750000000000003', '0.5066666666666667')\n",
      "('7', '0.4425', '0.7100000000000001', '0.23', '0.46')\n",
      "Image No. 23 saved\n",
      "size (400, 300)\n",
      "('0', '0.42', '0.6783333333333333', '0.275', '0.48333333333333334')\n",
      "('0', '0.7175', '0.5416666666666667', '0.225', '0.3433333333333334')\n",
      "('1', '0.17500000000000002', '0.6566666666666667', '0.335', '0.66')\n",
      "('1', '0.9175', '0.6166666666666667', '0.155', '0.42000000000000004')\n",
      "('2', '0.23375', '0.4733333333333334', '0.1875', '0.26')\n",
      "('2', '0.42125', '0.5333333333333333', '0.1075', '0.16')\n",
      "('2', '0.6950000000000001', '0.4816666666666667', '0.11', '0.18333333333333335')\n",
      "('2', '0.93125', '0.5116666666666667', '0.1275', '0.20333333333333334')\n",
      "('7', '0.17', '0.785', '0.325', '0.38333333333333336')\n",
      "('7', '0.4225', '0.7100000000000001', '0.25', '0.23333333333333334')\n",
      "Image No. 24 saved\n"
     ]
    },
    {
     "name": "stdout",
     "output_type": "stream",
     "text": [
      "size (400, 300)\n",
      "('0', '0.12875', '0.6266666666666667', '0.2425', '0.5066666666666667')\n",
      "('0', '0.4675', '0.5983333333333334', '0.23', '0.47000000000000003')\n",
      "('1', '0.74', '0.6116666666666667', '0.315', '0.4566666666666667')\n",
      "('2', '0.14625', '0.49000000000000005', '0.1475', '0.19333333333333336')\n",
      "('2', '0.49125', '0.48833333333333334', '0.1325', '0.19666666666666668')\n",
      "('2', '0.6637500000000001', '0.49500000000000005', '0.1375', '0.20333333333333334')\n",
      "('7', '0.11', '0.7066666666666667', '0.19', '0.28')\n",
      "('6', '0.53125', '0.7000000000000001', '0.0925', '0.26666666666666666')\n",
      "('6', '0.80875', '0.67', '0.17250000000000001', '0.34')\n",
      "Image No. 25 saved\n",
      "size (400, 300)\n",
      "('1', '0.225', '0.6466666666666667', '0.405', '0.7066666666666667')\n",
      "('1', '0.41375', '0.22666666666666668', '0.1225', '0.26666666666666666')\n",
      "('1', '0.94625', '0.545', '0.1075', '0.44333333333333336')\n",
      "('0', '0.4525', '0.5983333333333334', '0.215', '0.44333333333333336')\n",
      "('0', '0.7325', '0.4966666666666667', '0.23', '0.32666666666666666')\n",
      "('2', '0.35875', '0.4166666666666667', '0.1375', '0.22666666666666668')\n",
      "('2', '0.49125', '0.4633333333333334', '0.0925', '0.15333333333333335')\n",
      "('2', '0.67875', '0.43500000000000005', '0.11750000000000001', '0.17666666666666667')\n",
      "('2', '0.4325', '0.165', '0.085', '0.11666666666666667')\n",
      "('7', '0.3225', '0.625', '0.23', '0.38333333333333336')\n",
      "Image No. 26 saved\n",
      "size (400, 300)\n",
      "('0', '0.50625', '0.6433333333333334', '0.41250000000000003', '0.6733333333333333')\n",
      "('0', '0.745', '0.5766666666666667', '0.515', '0.8466666666666667')\n",
      "('2', '0.6075', '0.5166666666666667', '0.20500000000000002', '0.4066666666666667')\n",
      "('2', '0.845', '0.43333333333333335', '0.315', '0.5133333333333334')\n",
      "('3', '0.8425', '0.8483333333333334', '0.33', '0.2833333333333333')\n",
      "('3', '0.46875', '0.7816666666666667', '0.2675', '0.35000000000000003')\n",
      "Image No. 27 saved\n",
      "size (400, 300)\n",
      "('0', '0.775', '0.675', '0.375', '0.6233333333333334')\n",
      "('1', '0.3875', '0.41833333333333333', '0.23', '0.3566666666666667')\n",
      "('2', '0.82875', '0.4633333333333334', '0.1675', '0.15333333333333335')\n",
      "('2', '0.385', '0.3116666666666667', '0.095', '0.12333333333333334')\n",
      "('7', '0.795', '0.7400000000000001', '0.3', '0.37333333333333335')\n",
      "Image No. 28 saved\n",
      "size (400, 300)\n",
      "('0', '0.535', '0.6133333333333334', '0.435', '0.7666666666666667')\n",
      "('2', '0.46', '0.39333333333333337', '0.18', '0.2866666666666667')\n",
      "('3', '0.5225', '0.7633333333333334', '0.28', '0.4466666666666667')\n",
      "Image No. 29 saved\n",
      "size (400, 300)\n",
      "('0', '0.78', '0.5283333333333333', '0.335', '0.5433333333333333')\n",
      "('1', '0.2175', '0.5633333333333334', '0.41000000000000003', '0.8666666666666667')\n",
      "('2', '0.78625', '0.3866666666666667', '0.1475', '0.24000000000000002')\n",
      "('2', '0.20625000000000002', '0.30000000000000004', '0.20750000000000002', '0.32')\n",
      "('6', '0.315', '0.635', '0.2', '0.37000000000000005')\n",
      "('3', '0.79', '0.6266666666666667', '0.17500000000000002', '0.29333333333333333')\n",
      "('3', '0.155', '0.675', '0.225', '0.53')\n",
      "Image No. 30 saved\n",
      "size (400, 300)\n",
      "('0', '0.2025', '0.5433333333333333', '0.35000000000000003', '0.5266666666666667')\n",
      "('1', '0.8425', '0.63', '0.31', '0.7133333333333334')\n",
      "('2', '0.21375', '0.40166666666666667', '0.1575', '0.21666666666666667')\n",
      "('2', '0.8462500000000001', '0.4', '0.1825', '0.22666666666666668')\n",
      "('3', '0.21625', '0.65', '0.1825', '0.26')\n",
      "('3', '0.84375', '0.7400000000000001', '0.1575', '0.4133333333333334')\n",
      "('7', '0.17', '0.6383333333333334', '0.275', '0.26333333333333336')\n",
      "('7', '0.7675000000000001', '0.7283333333333334', '0.11', '0.41000000000000003')\n",
      "('6', '0.22', '0.6483333333333334', '0.305', '0.27')\n",
      "('6', '0.8875000000000001', '0.7400000000000001', '0.215', '0.4866666666666667')\n",
      "Image No. 31 saved\n",
      "size (400, 300)\n",
      "('1', '0.57625', '0.535', '0.8425', '0.9166666666666667')\n",
      "('2', '0.5', '0.305', '0.23500000000000001', '0.43000000000000005')\n",
      "('3', '0.44625000000000004', '0.7100000000000001', '0.3225', '0.5266666666666667')\n",
      "('7', '0.27875', '0.7383333333333334', '0.2125', '0.4766666666666667')\n",
      "('6', '0.79', '0.765', '0.405', '0.4366666666666667')\n",
      "('6', '0.7212500000000001', '0.7583333333333334', '0.28250000000000003', '0.4366666666666667')\n",
      "Image No. 32 saved\n",
      "size (400, 300)\n",
      "('1', '0.65125', '0.5833333333333334', '0.4175', '0.8200000000000001')\n",
      "('0', '0.3075', '0.66', '0.365', '0.6533333333333333')\n",
      "('2', '0.305', '0.6666666666666667', '0.355', '0.64')\n",
      "('2', '0.65125', '0.5783333333333334', '0.4025', '0.8033333333333333')\n",
      "Image No. 33 saved\n",
      "size (400, 300)\n",
      "Image No. 34 saved\n",
      "size (400, 300)\n",
      "('1', '0.7925', '0.6233333333333334', '0.41000000000000003', '0.23333333333333334')\n",
      "('1', '0.8075', '0.26666666666666666', '0.39', '0.28')\n",
      "('2', '0.6375000000000001', '0.5800000000000001', '0.095', '0.08666666666666667')\n",
      "('6', '0.755', '0.6783333333333333', '0.195', '0.11')\n",
      "('5', '0.9', '0.6483333333333334', '0.20500000000000002', '0.08333333333333334')\n",
      "('4', '0.89625', '0.5766666666666667', '0.20750000000000002', '0.060000000000000005')\n",
      "('6', '0.7625000000000001', '0.5666666666666667', '0.16', '0.10666666666666667')\n",
      "('3', '0.73', '0.6133333333333334', '0.145', '0.16')\n",
      "Image No. 35 saved\n",
      "size (400, 300)\n",
      "('0', '0.56375', '0.6733333333333333', '0.8775000000000001', '0.64')\n",
      "('2', '0.26625', '0.5866666666666667', '0.2475', '0.29333333333333333')\n",
      "('6', '0.65375', '0.8283333333333334', '0.5425', '0.32333333333333336')\n",
      "('4', '0.9225', '0.5316666666666667', '0.15', '0.23')\n",
      "('5', '0.9275', '0.7716666666666667', '0.14', '0.25')\n",
      "('3', '0.62625', '0.62', '0.4875', '0.43333333333333335')\n",
      "Image No. 36 saved\n",
      "size (400, 300)\n",
      "('0', '0.5825', '0.7000000000000001', '0.8250000000000001', '0.6133333333333334')\n",
      "('2', '0.29875', '0.5650000000000001', '0.2275', '0.21666666666666667')\n",
      "('3', '0.6625', '0.5900000000000001', '0.45', '0.39333333333333337')\n",
      "('5', '0.9475', '0.6833333333333333', '0.1', '0.23333333333333334')\n",
      "('4', '0.9450000000000001', '0.4966666666666667', '0.1', '0.14')\n",
      "('7', '0.6575', '0.8683333333333334', '0.45', '0.27')\n",
      "Image No. 37 saved\n",
      "size (400, 300)\n",
      "('0', '0.5975', '0.7166666666666667', '0.8', '0.4466666666666667')\n",
      "('2', '0.31875000000000003', '0.6883333333333334', '0.2175', '0.2366666666666667')\n",
      "Image No. 38 saved\n",
      "size (400, 300)\n",
      "('0', '0.51', '0.53', '0.975', '0.48000000000000004')\n",
      "('2', '0.12375', '0.5266666666666667', '0.20750000000000002', '0.16')\n",
      "('3', '0.4425', '0.5850000000000001', '0.45', '0.26333333333333336')\n",
      "('5', '0.82875', '0.62', '0.3325', '0.21333333333333335')\n",
      "('4', '0.83125', '0.43833333333333335', '0.34750000000000003', '0.14333333333333334')\n",
      "('7', '0.5375', '0.4066666666666667', '0.61', '0.2')\n",
      "('6', '0.45125', '0.7166666666666667', '0.4575', '0.09333333333333334')\n",
      "Image No. 39 saved\n",
      "size (400, 300)\n",
      "('0', '0.52125', '0.385', '0.9475', '0.77')\n",
      "('2', '0.215', '0.4866666666666667', '0.18', '0.2')\n",
      "Image No. 40 saved\n",
      "size (400, 300)\n",
      "('0', '0.535', '0.5266666666666667', '0.745', '0.5066666666666667')\n",
      "('2', '0.385', '0.5583333333333333', '0.08', '0.11')\n",
      "Image No. 41 saved\n",
      "size (400, 300)\n",
      "('0', '0.5475', '0.4216666666666667', '0.56', '0.33666666666666667')\n",
      "('2', '0.315', '0.4133333333333334', '0.06', '0.09333333333333334')\n",
      "Image No. 42 saved\n",
      "size (400, 300)\n",
      "box (59, 132, 151, 218, 3)\n",
      "set label class to : Rleg 5\n"
     ]
    },
    {
     "name": "stderr",
     "output_type": "stream",
     "text": [
      "Exception in Tkinter callback\n",
      "Traceback (most recent call last):\n",
      "  File \"D:\\apps\\Anaconda3\\lib\\tkinter\\__init__.py\", line 1699, in __call__\n",
      "    return self.func(*args)\n",
      "TypeError: setClass() missing 2 required positional arguments: 'b' and 'c'\n"
     ]
    },
    {
     "name": "stdout",
     "output_type": "stream",
     "text": [
      "size (400, 300)\n",
      "box (152, 164, 337, 246, 5)\n",
      "set label class to : Lleg 4\n"
     ]
    },
    {
     "name": "stderr",
     "output_type": "stream",
     "text": [
      "Exception in Tkinter callback\n",
      "Traceback (most recent call last):\n",
      "  File \"D:\\apps\\Anaconda3\\lib\\tkinter\\__init__.py\", line 1699, in __call__\n",
      "    return self.func(*args)\n",
      "TypeError: setClass() missing 2 required positional arguments: 'b' and 'c'\n"
     ]
    },
    {
     "name": "stdout",
     "output_type": "stream",
     "text": [
      "size (400, 300)\n",
      "box (158, 150, 338, 220, 4)\n",
      "size (400, 300)\n",
      "('0', '0.4325', '0.5766666666666667', '0.835', '0.4866666666666667')\n",
      "('2', '0.0825', '0.4816666666666667', '0.125', '0.18333333333333335')\n",
      "(3, 0.2625, 0.5833333333333334, 0.23, 0.2866666666666667)\n",
      "(5, 0.61125, 0.6833333333333333, 0.4625, 0.2733333333333334)\n",
      "(4, 0.62, 0.6166666666666667, 0.45, 0.23333333333333334)\n",
      "Image No. 43 saved\n",
      "size (400, 300)\n",
      "box (199, 104, 327, 130, 4)\n",
      "set label class to : Rleg 5\n"
     ]
    },
    {
     "name": "stderr",
     "output_type": "stream",
     "text": [
      "Exception in Tkinter callback\n",
      "Traceback (most recent call last):\n",
      "  File \"D:\\apps\\Anaconda3\\lib\\tkinter\\__init__.py\", line 1699, in __call__\n",
      "    return self.func(*args)\n",
      "TypeError: setClass() missing 2 required positional arguments: 'b' and 'c'\n"
     ]
    },
    {
     "name": "stdout",
     "output_type": "stream",
     "text": [
      "size (400, 300)\n",
      "box (193, 122, 321, 150, 5)\n",
      "set label class to : body 3\n"
     ]
    },
    {
     "name": "stderr",
     "output_type": "stream",
     "text": [
      "Exception in Tkinter callback\n",
      "Traceback (most recent call last):\n",
      "  File \"D:\\apps\\Anaconda3\\lib\\tkinter\\__init__.py\", line 1699, in __call__\n",
      "    return self.func(*args)\n",
      "TypeError: setClass() missing 2 required positional arguments: 'b' and 'c'\n"
     ]
    },
    {
     "name": "stdout",
     "output_type": "stream",
     "text": [
      "size (400, 300)\n",
      "box (134, 103, 190, 142, 3)\n",
      "set label class to : Rarm 7\n"
     ]
    },
    {
     "name": "stderr",
     "output_type": "stream",
     "text": [
      "Exception in Tkinter callback\n",
      "Traceback (most recent call last):\n",
      "  File \"D:\\apps\\Anaconda3\\lib\\tkinter\\__init__.py\", line 1699, in __call__\n",
      "    return self.func(*args)\n",
      "TypeError: setClass() missing 2 required positional arguments: 'b' and 'c'\n"
     ]
    },
    {
     "name": "stdout",
     "output_type": "stream",
     "text": [
      "size (400, 300)\n",
      "box (107, 132, 147, 172, 7)\n",
      "size (400, 300)\n",
      "('0', '0.5475', '0.4216666666666667', '0.56', '0.33666666666666667')\n",
      "('2', '0.315', '0.4133333333333334', '0.06', '0.09333333333333334')\n",
      "(4, 0.6575, 0.39, 0.32, 0.08666666666666667)\n",
      "(5, 0.6425, 0.45333333333333337, 0.32, 0.09333333333333334)\n",
      "(3, 0.405, 0.4083333333333334, 0.14, 0.13)\n",
      "(7, 0.3175, 0.5066666666666667, 0.1, 0.13333333333333333)\n",
      "Image No. 42 saved\n",
      "size (400, 300)\n",
      "box (177, 180, 219, 239, 7)\n",
      "set label class to : Rleg 5\n"
     ]
    },
    {
     "name": "stderr",
     "output_type": "stream",
     "text": [
      "Exception in Tkinter callback\n",
      "Traceback (most recent call last):\n",
      "  File \"D:\\apps\\Anaconda3\\lib\\tkinter\\__init__.py\", line 1699, in __call__\n",
      "    return self.func(*args)\n",
      "TypeError: setClass() missing 2 required positional arguments: 'b' and 'c'\n"
     ]
    },
    {
     "name": "stdout",
     "output_type": "stream",
     "text": [
      "size (400, 300)\n",
      "box (229, 141, 359, 192, 5)\n",
      "set label class to : Lleg 4\n"
     ]
    },
    {
     "name": "stderr",
     "output_type": "stream",
     "text": [
      "Exception in Tkinter callback\n",
      "Traceback (most recent call last):\n",
      "  File \"D:\\apps\\Anaconda3\\lib\\tkinter\\__init__.py\", line 1699, in __call__\n",
      "    return self.func(*args)\n",
      "TypeError: setClass() missing 2 required positional arguments: 'b' and 'c'\n"
     ]
    },
    {
     "name": "stdout",
     "output_type": "stream",
     "text": [
      "size (400, 300)\n",
      "box (231, 86, 361, 139, 4)\n",
      "set label class to : Larm 6\n"
     ]
    },
    {
     "name": "stderr",
     "output_type": "stream",
     "text": [
      "Exception in Tkinter callback\n",
      "Traceback (most recent call last):\n",
      "  File \"D:\\apps\\Anaconda3\\lib\\tkinter\\__init__.py\", line 1699, in __call__\n",
      "    return self.func(*args)\n",
      "TypeError: setClass() missing 2 required positional arguments: 'b' and 'c'\n"
     ]
    },
    {
     "name": "stdout",
     "output_type": "stream",
     "text": [
      "size (400, 300)\n",
      "box (66, 114, 165, 150, 6)\n",
      "set label class to : body 3\n"
     ]
    },
    {
     "name": "stderr",
     "output_type": "stream",
     "text": [
      "Exception in Tkinter callback\n",
      "Traceback (most recent call last):\n",
      "  File \"D:\\apps\\Anaconda3\\lib\\tkinter\\__init__.py\", line 1699, in __call__\n",
      "    return self.func(*args)\n",
      "TypeError: setClass() missing 2 required positional arguments: 'b' and 'c'\n"
     ]
    },
    {
     "name": "stdout",
     "output_type": "stream",
     "text": [
      "size (400, 300)\n",
      "box (164, 121, 233, 171, 3)\n",
      "size (400, 300)\n",
      "('0', '0.535', '0.5266666666666667', '0.745', '0.5066666666666667')\n",
      "('2', '0.385', '0.5583333333333333', '0.08', '0.11')\n",
      "(7, 0.495, 0.6983333333333334, 0.105, 0.19666666666666668)\n",
      "(5, 0.735, 0.555, 0.325, 0.17)\n",
      "(4, 0.74, 0.375, 0.325, 0.17666666666666667)\n",
      "(6, 0.28875, 0.44, 0.2475, 0.12000000000000001)\n",
      "(3, 0.49625, 0.4866666666666667, 0.17250000000000001, 0.16666666666666669)\n",
      "Image No. 41 saved\n",
      "size (400, 300)\n",
      "box (109, 52, 239, 166, 3)\n",
      "set label class to : Rarm 7\n"
     ]
    },
    {
     "name": "stderr",
     "output_type": "stream",
     "text": [
      "Exception in Tkinter callback\n",
      "Traceback (most recent call last):\n",
      "  File \"D:\\apps\\Anaconda3\\lib\\tkinter\\__init__.py\", line 1699, in __call__\n",
      "    return self.func(*args)\n",
      "TypeError: setClass() missing 2 required positional arguments: 'b' and 'c'\n"
     ]
    },
    {
     "name": "stdout",
     "output_type": "stream",
     "text": [
      "size (400, 300)\n",
      "box (135, 156, 237, 225, 7)\n",
      "set label class to : Rleg 5\n"
     ]
    },
    {
     "name": "stderr",
     "output_type": "stream",
     "text": [
      "Exception in Tkinter callback\n",
      "Traceback (most recent call last):\n",
      "  File \"D:\\apps\\Anaconda3\\lib\\tkinter\\__init__.py\", line 1699, in __call__\n",
      "    return self.func(*args)\n",
      "TypeError: setClass() missing 2 required positional arguments: 'b' and 'c'\n"
     ]
    },
    {
     "name": "stdout",
     "output_type": "stream",
     "text": [
      "size (400, 300)\n",
      "box (242, 91, 398, 171, 5)\n",
      "set label class to : Lleg 4\n"
     ]
    },
    {
     "name": "stderr",
     "output_type": "stream",
     "text": [
      "Exception in Tkinter callback\n",
      "Traceback (most recent call last):\n",
      "  File \"D:\\apps\\Anaconda3\\lib\\tkinter\\__init__.py\", line 1699, in __call__\n",
      "    return self.func(*args)\n",
      "TypeError: setClass() missing 2 required positional arguments: 'b' and 'c'\n"
     ]
    },
    {
     "name": "stdout",
     "output_type": "stream",
     "text": [
      "size (400, 300)\n",
      "box (243, 24, 400, 82, 4)\n",
      "set label class to : Larm 6\n"
     ]
    },
    {
     "name": "stderr",
     "output_type": "stream",
     "text": [
      "Exception in Tkinter callback\n",
      "Traceback (most recent call last):\n",
      "  File \"D:\\apps\\Anaconda3\\lib\\tkinter\\__init__.py\", line 1699, in __call__\n",
      "    return self.func(*args)\n",
      "TypeError: setClass() missing 2 required positional arguments: 'b' and 'c'\n"
     ]
    },
    {
     "name": "stdout",
     "output_type": "stream",
     "text": [
      "size (400, 300)\n",
      "box (15, 3, 119, 108, 6)\n",
      "size (400, 300)\n",
      "('0', '0.52125', '0.385', '0.9475', '0.77')\n",
      "('2', '0.215', '0.4866666666666667', '0.18', '0.2')\n",
      "(3, 0.435, 0.36333333333333334, 0.325, 0.38)\n",
      "(7, 0.465, 0.635, 0.255, 0.23)\n",
      "(5, 0.8, 0.4366666666666667, 0.39, 0.26666666666666666)\n",
      "(4, 0.80375, 0.17666666666666667, 0.3925, 0.19333333333333336)\n",
      "(6, 0.1675, 0.18500000000000003, 0.26, 0.35000000000000003)\n",
      "Image No. 40 saved\n",
      "size (400, 300)\n",
      "('0', '0.51', '0.53', '0.975', '0.48000000000000004')\n",
      "('2', '0.12375', '0.5266666666666667', '0.20750000000000002', '0.16')\n",
      "('3', '0.4425', '0.5850000000000001', '0.45', '0.26333333333333336')\n",
      "('5', '0.82875', '0.62', '0.3325', '0.21333333333333335')\n",
      "('4', '0.83125', '0.43833333333333335', '0.34750000000000003', '0.14333333333333334')\n",
      "('7', '0.5375', '0.4066666666666667', '0.61', '0.2')\n",
      "('6', '0.45125', '0.7166666666666667', '0.4575', '0.09333333333333334')\n",
      "Image No. 39 saved\n",
      "set label class to : Rarm 7\n"
     ]
    },
    {
     "name": "stderr",
     "output_type": "stream",
     "text": [
      "Exception in Tkinter callback\n",
      "Traceback (most recent call last):\n",
      "  File \"D:\\apps\\Anaconda3\\lib\\tkinter\\__init__.py\", line 1699, in __call__\n",
      "    return self.func(*args)\n",
      "TypeError: setClass() missing 2 required positional arguments: 'b' and 'c'\n"
     ]
    },
    {
     "name": "stdout",
     "output_type": "stream",
     "text": [
      "size (400, 300)\n",
      "box (174, 160, 331, 277, 7)\n",
      "set label class to : body 3\n"
     ]
    },
    {
     "name": "stderr",
     "output_type": "stream",
     "text": [
      "Exception in Tkinter callback\n",
      "Traceback (most recent call last):\n",
      "  File \"D:\\apps\\Anaconda3\\lib\\tkinter\\__init__.py\", line 1699, in __call__\n",
      "    return self.func(*args)\n",
      "TypeError: setClass() missing 2 required positional arguments: 'b' and 'c'\n"
     ]
    },
    {
     "name": "stdout",
     "output_type": "stream",
     "text": [
      "size (400, 300)\n",
      "box (189, 182, 311, 252, 3)\n",
      "size (400, 300)\n",
      "('0', '0.5975', '0.7166666666666667', '0.8', '0.4466666666666667')\n",
      "('2', '0.31875000000000003', '0.6883333333333334', '0.2175', '0.2366666666666667')\n",
      "(7, 0.63125, 0.7283333333333334, 0.3925, 0.39)\n",
      "(3, 0.625, 0.7233333333333334, 0.305, 0.23333333333333334)\n",
      "Image No. 38 saved\n",
      "size (400, 300)\n",
      "('0', '0.5825', '0.7000000000000001', '0.8250000000000001', '0.6133333333333334')\n",
      "('2', '0.29875', '0.5650000000000001', '0.2275', '0.21666666666666667')\n",
      "('3', '0.6625', '0.5900000000000001', '0.45', '0.39333333333333337')\n",
      "('5', '0.9475', '0.6833333333333333', '0.1', '0.23333333333333334')\n",
      "('4', '0.9450000000000001', '0.4966666666666667', '0.1', '0.14')\n",
      "('7', '0.6575', '0.8683333333333334', '0.45', '0.27')\n",
      "Image No. 37 saved\n",
      "size (400, 300)\n",
      "('0', '0.56375', '0.6733333333333333', '0.8775000000000001', '0.64')\n",
      "('2', '0.26625', '0.5866666666666667', '0.2475', '0.29333333333333333')\n",
      "('6', '0.65375', '0.8283333333333334', '0.5425', '0.32333333333333336')\n",
      "('4', '0.9225', '0.5316666666666667', '0.15', '0.23')\n",
      "('5', '0.9275', '0.7716666666666667', '0.14', '0.25')\n",
      "('3', '0.62625', '0.62', '0.4875', '0.43333333333333335')\n",
      "Image No. 36 saved\n",
      "size (400, 300)\n",
      "('0', '0.5825', '0.7000000000000001', '0.8250000000000001', '0.6133333333333334')\n",
      "('2', '0.29875', '0.5650000000000001', '0.2275', '0.21666666666666667')\n",
      "('3', '0.6625', '0.5900000000000001', '0.45', '0.39333333333333337')\n",
      "('5', '0.9475', '0.6833333333333333', '0.1', '0.23333333333333334')\n",
      "('4', '0.9450000000000001', '0.4966666666666667', '0.1', '0.14')\n",
      "('7', '0.6575', '0.8683333333333334', '0.45', '0.27')\n",
      "Image No. 37 saved\n",
      "size (400, 300)\n",
      "('0', '0.5975', '0.7166666666666667', '0.8', '0.4466666666666667')\n",
      "('2', '0.31875000000000003', '0.6883333333333334', '0.2175', '0.2366666666666667')\n",
      "('7', '0.63125', '0.7283333333333334', '0.3925', '0.39')\n",
      "('3', '0.625', '0.7233333333333334', '0.305', '0.23333333333333334')\n",
      "Image No. 38 saved\n",
      "size (400, 300)\n",
      "('0', '0.51', '0.53', '0.975', '0.48000000000000004')\n",
      "('2', '0.12375', '0.5266666666666667', '0.20750000000000002', '0.16')\n",
      "('3', '0.4425', '0.5850000000000001', '0.45', '0.26333333333333336')\n",
      "('5', '0.82875', '0.62', '0.3325', '0.21333333333333335')\n",
      "('4', '0.83125', '0.43833333333333335', '0.34750000000000003', '0.14333333333333334')\n",
      "('7', '0.5375', '0.4066666666666667', '0.61', '0.2')\n",
      "('6', '0.45125', '0.7166666666666667', '0.4575', '0.09333333333333334')\n",
      "Image No. 39 saved\n",
      "size (400, 300)\n",
      "('0', '0.52125', '0.385', '0.9475', '0.77')\n",
      "('2', '0.215', '0.4866666666666667', '0.18', '0.2')\n",
      "('3', '0.435', '0.36333333333333334', '0.325', '0.38')\n",
      "('7', '0.465', '0.635', '0.255', '0.23')\n",
      "('5', '0.8', '0.4366666666666667', '0.39', '0.26666666666666666')\n",
      "('4', '0.80375', '0.17666666666666667', '0.3925', '0.19333333333333336')\n",
      "('6', '0.1675', '0.18500000000000003', '0.26', '0.35000000000000003')\n",
      "Image No. 40 saved\n",
      "size (400, 300)\n",
      "('0', '0.535', '0.5266666666666667', '0.745', '0.5066666666666667')\n",
      "('2', '0.385', '0.5583333333333333', '0.08', '0.11')\n",
      "('7', '0.495', '0.6983333333333334', '0.105', '0.19666666666666668')\n",
      "('5', '0.735', '0.555', '0.325', '0.17')\n",
      "('4', '0.74', '0.375', '0.325', '0.17666666666666667')\n",
      "('6', '0.28875', '0.44', '0.2475', '0.12000000000000001')\n",
      "('3', '0.49625', '0.4866666666666667', '0.17250000000000001', '0.16666666666666669')\n",
      "Image No. 41 saved\n",
      "size (400, 300)\n",
      "('0', '0.5475', '0.4216666666666667', '0.56', '0.33666666666666667')\n",
      "('2', '0.315', '0.4133333333333334', '0.06', '0.09333333333333334')\n",
      "('4', '0.6575', '0.39', '0.32', '0.08666666666666667')\n",
      "('5', '0.6425', '0.45333333333333337', '0.32', '0.09333333333333334')\n",
      "('3', '0.405', '0.4083333333333334', '0.14', '0.13')\n",
      "('7', '0.3175', '0.5066666666666667', '0.1', '0.13333333333333333')\n",
      "Image No. 42 saved\n",
      "size (400, 300)\n",
      "('0', '0.4325', '0.5766666666666667', '0.835', '0.4866666666666667')\n",
      "('2', '0.0825', '0.4816666666666667', '0.125', '0.18333333333333335')\n",
      "('3', '0.2625', '0.5833333333333334', '0.23', '0.2866666666666667')\n",
      "('5', '0.61125', '0.6833333333333333', '0.4625', '0.2733333333333334')\n",
      "('4', '0.62', '0.6166666666666667', '0.45', '0.23333333333333334')\n",
      "Image No. 43 saved\n",
      "size (400, 300)\n",
      "box (124, 54, 231, 143, 3)\n",
      "set label class to : Rleg 5\n"
     ]
    },
    {
     "name": "stderr",
     "output_type": "stream",
     "text": [
      "Exception in Tkinter callback\n",
      "Traceback (most recent call last):\n",
      "  File \"D:\\apps\\Anaconda3\\lib\\tkinter\\__init__.py\", line 1699, in __call__\n",
      "    return self.func(*args)\n",
      "TypeError: setClass() missing 2 required positional arguments: 'b' and 'c'\n"
     ]
    },
    {
     "name": "stdout",
     "output_type": "stream",
     "text": [
      "size (400, 300)\n",
      "box (229, 89, 395, 153, 5)\n",
      "set label class to : Lleg 4\n"
     ]
    },
    {
     "name": "stderr",
     "output_type": "stream",
     "text": [
      "Exception in Tkinter callback\n",
      "Traceback (most recent call last):\n",
      "  File \"D:\\apps\\Anaconda3\\lib\\tkinter\\__init__.py\", line 1699, in __call__\n",
      "    return self.func(*args)\n",
      "TypeError: setClass() missing 2 required positional arguments: 'b' and 'c'\n"
     ]
    },
    {
     "name": "stdout",
     "output_type": "stream",
     "text": [
      "size (400, 300)\n",
      "box (224, 24, 397, 84, 4)\n",
      "set label class to : Larm 6\n"
     ]
    },
    {
     "name": "stderr",
     "output_type": "stream",
     "text": [
      "Exception in Tkinter callback\n",
      "Traceback (most recent call last):\n",
      "  File \"D:\\apps\\Anaconda3\\lib\\tkinter\\__init__.py\", line 1699, in __call__\n",
      "    return self.func(*args)\n",
      "TypeError: setClass() missing 2 required positional arguments: 'b' and 'c'\n"
     ]
    },
    {
     "name": "stdout",
     "output_type": "stream",
     "text": [
      "size (400, 300)\n",
      "box (93, 31, 245, 72, 6)\n",
      "set label class to : Rarm 7\n"
     ]
    },
    {
     "name": "stderr",
     "output_type": "stream",
     "text": [
      "Exception in Tkinter callback\n",
      "Traceback (most recent call last):\n",
      "  File \"D:\\apps\\Anaconda3\\lib\\tkinter\\__init__.py\", line 1699, in __call__\n",
      "    return self.func(*args)\n",
      "TypeError: setClass() missing 2 required positional arguments: 'b' and 'c'\n"
     ]
    },
    {
     "name": "stdout",
     "output_type": "stream",
     "text": [
      "size (400, 300)\n",
      "box (101, 126, 303, 162, 7)\n",
      "size (400, 300)\n",
      "('0', '0.5175', '0.315', '0.9500000000000001', '0.5033333333333334')\n",
      "('2', '0.14', '0.36500000000000005', '0.18', '0.21666666666666667')\n",
      "(3, 0.44375000000000003, 0.32833333333333337, 0.2675, 0.2966666666666667)\n",
      "(5, 0.78, 0.4033333333333334, 0.41500000000000004, 0.21333333333333335)\n",
      "(4, 0.77625, 0.18000000000000002, 0.4325, 0.2)\n",
      "(6, 0.4225, 0.1716666666666667, 0.38, 0.1366666666666667)\n",
      "(7, 0.505, 0.48000000000000004, 0.505, 0.12000000000000001)\n",
      "Image No. 44 saved\n",
      "size (400, 300)\n",
      "box (48, 72, 115, 190, 7)\n",
      "set label class to : Rleg 5\n"
     ]
    },
    {
     "name": "stderr",
     "output_type": "stream",
     "text": [
      "Exception in Tkinter callback\n",
      "Traceback (most recent call last):\n",
      "  File \"D:\\apps\\Anaconda3\\lib\\tkinter\\__init__.py\", line 1699, in __call__\n",
      "    return self.func(*args)\n",
      "TypeError: setClass() missing 2 required positional arguments: 'b' and 'c'\n"
     ]
    },
    {
     "name": "stdout",
     "output_type": "stream",
     "text": [
      "size (400, 300)\n",
      "box (156, 179, 376, 241, 5)\n",
      "set label class to : Lleg 4\n"
     ]
    },
    {
     "name": "stderr",
     "output_type": "stream",
     "text": [
      "Exception in Tkinter callback\n",
      "Traceback (most recent call last):\n",
      "  File \"D:\\apps\\Anaconda3\\lib\\tkinter\\__init__.py\", line 1699, in __call__\n",
      "    return self.func(*args)\n",
      "TypeError: setClass() missing 2 required positional arguments: 'b' and 'c'\n"
     ]
    },
    {
     "name": "stdout",
     "output_type": "stream",
     "text": [
      "size (400, 300)\n",
      "box (169, 118, 360, 181, 4)\n",
      "set label class to : body 3\n"
     ]
    },
    {
     "name": "stderr",
     "output_type": "stream",
     "text": [
      "Exception in Tkinter callback\n",
      "Traceback (most recent call last):\n",
      "  File \"D:\\apps\\Anaconda3\\lib\\tkinter\\__init__.py\", line 1699, in __call__\n",
      "    return self.func(*args)\n",
      "TypeError: setClass() missing 2 required positional arguments: 'b' and 'c'\n"
     ]
    },
    {
     "name": "stdout",
     "output_type": "stream",
     "text": [
      "size (400, 300)\n",
      "box (67, 149, 161, 225, 3)\n",
      "size (400, 300)\n",
      "('0', '0.485', '0.53', '0.925', '0.5733333333333334')\n",
      "('2', '0.09875', '0.5566666666666668', '0.1475', '0.19333333333333336')\n",
      "(7, 0.20375000000000001, 0.4366666666666667, 0.1675, 0.39333333333333337)\n",
      "(5, 0.665, 0.7000000000000001, 0.55, 0.2066666666666667)\n",
      "(4, 0.66125, 0.49833333333333335, 0.47750000000000004, 0.21000000000000002)\n",
      "(3, 0.28500000000000003, 0.6233333333333334, 0.23500000000000001, 0.25333333333333335)\n",
      "Image No. 45 saved\n",
      "size (400, 300)\n",
      "box (136, 129, 191, 172, 3)\n",
      "set label class to : Rleg 5\n"
     ]
    },
    {
     "name": "stderr",
     "output_type": "stream",
     "text": [
      "Exception in Tkinter callback\n",
      "Traceback (most recent call last):\n",
      "  File \"D:\\apps\\Anaconda3\\lib\\tkinter\\__init__.py\", line 1699, in __call__\n",
      "    return self.func(*args)\n",
      "TypeError: setClass() missing 2 required positional arguments: 'b' and 'c'\n"
     ]
    },
    {
     "name": "stdout",
     "output_type": "stream",
     "text": [
      "size (400, 300)\n",
      "box (185, 131, 311, 178, 5)\n",
      "set label class to : Lleg 4\n"
     ]
    },
    {
     "name": "stderr",
     "output_type": "stream",
     "text": [
      "Exception in Tkinter callback\n",
      "Traceback (most recent call last):\n",
      "  File \"D:\\apps\\Anaconda3\\lib\\tkinter\\__init__.py\", line 1699, in __call__\n",
      "    return self.func(*args)\n",
      "TypeError: setClass() missing 2 required positional arguments: 'b' and 'c'\n"
     ]
    },
    {
     "name": "stdout",
     "output_type": "stream",
     "text": [
      "size (400, 300)\n",
      "box (171, 160, 247, 256, 4)\n",
      "set label class to : Rarm 7\n"
     ]
    },
    {
     "name": "stderr",
     "output_type": "stream",
     "text": [
      "Exception in Tkinter callback\n",
      "Traceback (most recent call last):\n",
      "  File \"D:\\apps\\Anaconda3\\lib\\tkinter\\__init__.py\", line 1699, in __call__\n",
      "    return self.func(*args)\n",
      "TypeError: setClass() missing 2 required positional arguments: 'b' and 'c'\n"
     ]
    },
    {
     "name": "stdout",
     "output_type": "stream",
     "text": [
      "size (400, 300)\n",
      "box (121, 110, 169, 162, 7)\n",
      "size (400, 300)\n",
      "('0', '0.495', '0.6000000000000001', '0.5750000000000001', '0.5333333333333333')\n",
      "('2', '0.26375', '0.42333333333333334', '0.0925', '0.1')\n",
      "(3, 0.40875, 0.5016666666666667, 0.1375, 0.14333333333333334)\n",
      "(5, 0.62, 0.515, 0.315, 0.15666666666666668)\n",
      "(4, 0.5225, 0.6933333333333334, 0.19, 0.32)\n",
      "(7, 0.3625, 0.45333333333333337, 0.12, 0.17333333333333334)\n",
      "Image No. 46 saved\n",
      "set label class to : head 2\n"
     ]
    },
    {
     "name": "stderr",
     "output_type": "stream",
     "text": [
      "Exception in Tkinter callback\n",
      "Traceback (most recent call last):\n",
      "  File \"D:\\apps\\Anaconda3\\lib\\tkinter\\__init__.py\", line 1699, in __call__\n",
      "    return self.func(*args)\n",
      "TypeError: setClass() missing 2 required positional arguments: 'b' and 'c'\n"
     ]
    },
    {
     "name": "stdout",
     "output_type": "stream",
     "text": [
      "size (400, 300)\n",
      "box (301, 86, 335, 120, 2)\n",
      "size (400, 300)\n",
      "box (340, 250, 382, 295, 2)\n",
      "size (400, 300)\n",
      "('0', '0.87', '0.3616666666666667', '0.245', '0.16333333333333333')\n",
      "('0', '0.9187500000000001', '0.9066666666666667', '0.1575', '0.16666666666666669')\n",
      "(2, 0.795, 0.3433333333333334, 0.085, 0.11333333333333334)\n",
      "(2, 0.9025, 0.9083333333333334, 0.105, 0.15000000000000002)\n",
      "Image No. 47 saved\n",
      "set label class to : Larm 6\n"
     ]
    },
    {
     "name": "stderr",
     "output_type": "stream",
     "text": [
      "Exception in Tkinter callback\n",
      "Traceback (most recent call last):\n",
      "  File \"D:\\apps\\Anaconda3\\lib\\tkinter\\__init__.py\", line 1699, in __call__\n",
      "    return self.func(*args)\n",
      "TypeError: setClass() missing 2 required positional arguments: 'b' and 'c'\n"
     ]
    },
    {
     "name": "stdout",
     "output_type": "stream",
     "text": [
      "size (400, 300)\n",
      "box (147, 105, 329, 287, 6)\n",
      "size (400, 300)\n",
      "('0', '0.515', '0.6583333333333333', '0.9550000000000001', '0.67')\n",
      "('2', '0.20625000000000002', '0.5616666666666666', '0.3225', '0.31')\n",
      "(6, 0.595, 0.6533333333333333, 0.455, 0.6066666666666667)\n",
      "Image No. 48 saved\n",
      "size (400, 300)\n",
      "box (271, 180, 341, 226, 6)\n",
      "set label class to : head 2\n"
     ]
    },
    {
     "name": "stderr",
     "output_type": "stream",
     "text": [
      "Exception in Tkinter callback\n",
      "Traceback (most recent call last):\n",
      "  File \"D:\\apps\\Anaconda3\\lib\\tkinter\\__init__.py\", line 1699, in __call__\n",
      "    return self.func(*args)\n",
      "TypeError: setClass() missing 2 required positional arguments: 'b' and 'c'\n"
     ]
    },
    {
     "name": "stdout",
     "output_type": "stream",
     "text": [
      "size (400, 300)\n",
      "box (238, 190, 269, 222, 2)\n",
      "size (400, 300)\n",
      "box (223, 150, 259, 178, 2)\n",
      "size (400, 300)\n",
      "box (229, 9, 287, 66, 2)\n",
      "set label class to : Larm 6\n"
     ]
    },
    {
     "name": "stderr",
     "output_type": "stream",
     "text": [
      "Exception in Tkinter callback\n",
      "Traceback (most recent call last):\n",
      "  File \"D:\\apps\\Anaconda3\\lib\\tkinter\\__init__.py\", line 1699, in __call__\n",
      "    return self.func(*args)\n",
      "TypeError: setClass() missing 2 required positional arguments: 'b' and 'c'\n"
     ]
    },
    {
     "name": "stdout",
     "output_type": "stream",
     "text": [
      "size (400, 300)\n",
      "box (285, 6, 401, 44, 6)\n",
      "size (400, 300)\n",
      "('1', '0.685', '0.545', '0.28', '0.15666666666666668')\n",
      "('1', '0.7675000000000001', '0.4366666666666667', '0.45', '0.26')\n",
      "('0', '0.7837500000000001', '0.14833333333333334', '0.4325', '0.27666666666666667')\n",
      "('0', '0.7837500000000001', '0.685', '0.4025', '0.19')\n",
      "(6, 0.765, 0.6766666666666667, 0.17500000000000002, 0.15333333333333335)\n",
      "(2, 0.63375, 0.6866666666666668, 0.0775, 0.10666666666666667)\n",
      "(2, 0.6025, 0.5466666666666667, 0.09, 0.09333333333333334)\n",
      "(2, 0.645, 0.125, 0.145, 0.19)\n",
      "(6, 0.8575, 0.08333333333333334, 0.29, 0.12666666666666668)\n",
      "Image No. 49 saved\n",
      "size (400, 300)\n",
      "box (148, 77, 255, 191, 6)\n",
      "size (400, 300)\n",
      "box (159, 208, 204, 293, 6)\n",
      "size (400, 300)\n",
      "('0', '0.58375', '0.4466666666666667', '0.8425', '0.3866666666666667')\n",
      "('0', '0.435', '0.8416666666666667', '0.405', '0.27666666666666667')\n",
      "('2', '0.31375000000000003', '0.8366666666666667', '0.1575', '0.23333333333333334')\n",
      "('2', '0.28', '0.445', '0.21', '0.29000000000000004')\n",
      "(6, 0.50375, 0.4466666666666667, 0.2675, 0.38)\n",
      "(6, 0.45375, 0.8350000000000001, 0.1125, 0.2833333333333333)\n",
      "Image No. 50 saved\n",
      "size (400, 300)\n",
      "Image No. 51 saved\n"
     ]
    },
    {
     "name": "stderr",
     "output_type": "stream",
     "text": [
      "Exception in Tkinter callback\n",
      "Traceback (most recent call last):\n",
      "  File \"D:\\apps\\Anaconda3\\lib\\tkinter\\__init__.py\", line 1699, in __call__\n",
      "    return self.func(*args)\n",
      "TypeError: setClass() missing 2 required positional arguments: 'b' and 'c'\n"
     ]
    },
    {
     "name": "stdout",
     "output_type": "stream",
     "text": [
      "size (400, 300)\n",
      "box (57, 123, 164, 222, 6)\n",
      "set label class to : body 3\n"
     ]
    },
    {
     "name": "stderr",
     "output_type": "stream",
     "text": [
      "Exception in Tkinter callback\n",
      "Traceback (most recent call last):\n",
      "  File \"D:\\apps\\Anaconda3\\lib\\tkinter\\__init__.py\", line 1699, in __call__\n",
      "    return self.func(*args)\n",
      "TypeError: setClass() missing 2 required positional arguments: 'b' and 'c'\n"
     ]
    },
    {
     "name": "stdout",
     "output_type": "stream",
     "text": [
      "size (400, 300)\n",
      "box (89, 125, 215, 206, 3)\n",
      "size (400, 300)\n",
      "('0', '0.50875', '0.5583333333333333', '0.9725', '0.4633333333333334')\n",
      "('2', '0.11', '0.655', '0.16', '0.17666666666666667')\n",
      "('5', '0.77', '0.6566666666666667', '0.44', '0.2')\n",
      "('4', '0.76625', '0.43000000000000005', '0.4425', '0.15333333333333335')\n",
      "(6, 0.27625, 0.5750000000000001, 0.2675, 0.33)\n",
      "(3, 0.38, 0.5516666666666667, 0.315, 0.27)\n",
      "Image No. 52 saved\n",
      "set label class to : Rarm 7\n"
     ]
    },
    {
     "name": "stderr",
     "output_type": "stream",
     "text": [
      "Exception in Tkinter callback\n",
      "Traceback (most recent call last):\n",
      "  File \"D:\\apps\\Anaconda3\\lib\\tkinter\\__init__.py\", line 1699, in __call__\n",
      "    return self.func(*args)\n",
      "TypeError: setClass() missing 2 required positional arguments: 'b' and 'c'\n"
     ]
    },
    {
     "name": "stdout",
     "output_type": "stream",
     "text": [
      "size (400, 300)\n",
      "box (157, 154, 189, 203, 7)\n",
      "size (400, 300)\n",
      "('1', '0.46125', '0.5800000000000001', '0.3125', '0.2066666666666667')\n",
      "('2', '0.34750000000000003', '0.5883333333333334', '0.075', '0.07666666666666667')\n",
      "(7, 0.4325, 0.5950000000000001, 0.08, 0.16333333333333333)\n",
      "Image No. 53 saved\n",
      "size (400, 300)\n",
      "box (67, 187, 151, 213, 7)\n",
      "set label class to : body 3\n"
     ]
    },
    {
     "name": "stderr",
     "output_type": "stream",
     "text": [
      "Exception in Tkinter callback\n",
      "Traceback (most recent call last):\n",
      "  File \"D:\\apps\\Anaconda3\\lib\\tkinter\\__init__.py\", line 1699, in __call__\n",
      "    return self.func(*args)\n",
      "TypeError: setClass() missing 2 required positional arguments: 'b' and 'c'\n"
     ]
    },
    {
     "name": "stdout",
     "output_type": "stream",
     "text": [
      "size (400, 300)\n",
      "box (71, 126, 170, 192, 3)\n",
      "size (400, 300)\n",
      "box (74, 118, 149, 136, 3)\n"
     ]
    },
    {
     "name": "stderr",
     "output_type": "stream",
     "text": [
      "Exception in Tkinter callback\n",
      "Traceback (most recent call last):\n",
      "  File \"D:\\apps\\Anaconda3\\lib\\tkinter\\__init__.py\", line 1699, in __call__\n",
      "    return self.func(*args)\n",
      "TypeError: setClass() missing 2 required positional arguments: 'b' and 'c'\n"
     ]
    },
    {
     "name": "stdout",
     "output_type": "stream",
     "text": [
      "set label class to : Larm 6\n"
     ]
    },
    {
     "name": "stderr",
     "output_type": "stream",
     "text": [
      "Exception in Tkinter callback\n",
      "Traceback (most recent call last):\n",
      "  File \"D:\\apps\\Anaconda3\\lib\\tkinter\\__init__.py\", line 1699, in __call__\n",
      "    return self.func(*args)\n",
      "TypeError: setClass() missing 2 required positional arguments: 'b' and 'c'\n"
     ]
    },
    {
     "name": "stdout",
     "output_type": "stream",
     "text": [
      "size (400, 300)\n",
      "box (67, 187, 151, 214, 6)\n",
      "set label class to : Rarm 7\n"
     ]
    },
    {
     "name": "stderr",
     "output_type": "stream",
     "text": [
      "Exception in Tkinter callback\n",
      "Traceback (most recent call last):\n",
      "  File \"D:\\apps\\Anaconda3\\lib\\tkinter\\__init__.py\", line 1699, in __call__\n",
      "    return self.func(*args)\n",
      "TypeError: setClass() missing 2 required positional arguments: 'b' and 'c'\n"
     ]
    },
    {
     "name": "stdout",
     "output_type": "stream",
     "text": [
      "size (400, 300)\n",
      "box (74, 116, 146, 133, 7)\n",
      "size (400, 300)\n",
      "('0', '0.505', '0.55', '0.985', '0.33333333333333337')\n",
      "('2', '0.09625', '0.6083333333333334', '0.14250000000000002', '0.17')\n",
      "('4', '0.73', '0.6383333333333334', '0.53', '0.15000000000000002')\n",
      "('5', '0.73375', '0.49333333333333335', '0.5275', '0.13333333333333333')\n",
      "(3, 0.30125, 0.53, 0.2475, 0.22)\n",
      "(6, 0.2725, 0.6683333333333333, 0.21, 0.09000000000000001)\n",
      "(7, 0.275, 0.41500000000000004, 0.18, 0.05666666666666667)\n",
      "Image No. 54 saved\n",
      "size (400, 533)\n",
      "box (198, 62, 287, 218, 7)\n",
      "size (400, 533)\n",
      "box (225, 264, 354, 358, 7)\n",
      "size (400, 533)\n",
      "box (147, 166, 257, 369, 7)\n",
      "set label class to : body 3\n"
     ]
    },
    {
     "name": "stderr",
     "output_type": "stream",
     "text": [
      "Exception in Tkinter callback\n",
      "Traceback (most recent call last):\n",
      "  File \"D:\\apps\\Anaconda3\\lib\\tkinter\\__init__.py\", line 1699, in __call__\n",
      "    return self.func(*args)\n",
      "TypeError: setClass() missing 2 required positional arguments: 'b' and 'c'\n"
     ]
    },
    {
     "name": "stdout",
     "output_type": "stream",
     "text": [
      "size (400, 533)\n",
      "box (77, 149, 194, 380, 3)\n",
      "size (400, 533)\n",
      "box (255, 206, 342, 334, 3)\n",
      "set label class to : Rleg 5\n"
     ]
    },
    {
     "name": "stderr",
     "output_type": "stream",
     "text": [
      "Exception in Tkinter callback\n",
      "Traceback (most recent call last):\n",
      "  File \"D:\\apps\\Anaconda3\\lib\\tkinter\\__init__.py\", line 1699, in __call__\n",
      "    return self.func(*args)\n",
      "TypeError: setClass() missing 2 required positional arguments: 'b' and 'c'\n",
      "Exception in Tkinter callback\n",
      "Traceback (most recent call last):\n",
      "  File \"D:\\apps\\Anaconda3\\lib\\tkinter\\__init__.py\", line 1699, in __call__\n",
      "    return self.func(*args)\n",
      "TypeError: setClass() missing 2 required positional arguments: 'b' and 'c'\n"
     ]
    },
    {
     "name": "stdout",
     "output_type": "stream",
     "text": [
      "size (400, 533)\n",
      "box (199, 404, 199, 406, 5)\n",
      "size (400, 533)\n",
      "box (198, 399, 308, 532, 5)\n",
      "size (400, 533)\n",
      "('0', '0.6950000000000001', '0.46622889305816134', '0.405', '0.726078799249531')\n",
      "('1', '0.37', '0.5375234521575984', '0.56', '0.9136960600375235')\n",
      "('2', '0.42125', '0.19136960600375236', '0.14250000000000002', '0.19136960600375236')\n",
      "('2', '0.795', '0.3433395872420263', '0.145', '0.11632270168855535')\n",
      "(7, 0.6062500000000001, 0.2626641651031895, 0.2225, 0.2926829268292683)\n",
      "(7, 0.72375, 0.5834896810506567, 0.3225, 0.17636022514071295)\n",
      "(7, 0.505, 0.50187617260788, 0.275, 0.3808630393996248)\n",
      "(3, 0.33875, 0.49624765478424016, 0.2925, 0.4333958724202627)\n",
      "(3, 0.74625, 0.5065666041275797, 0.2175, 0.2401500938086304)\n",
      "(5, 0.6325000000000001, 0.873358348968105, 0.275, 0.24953095684803)\n",
      "Image No. 55 saved\n"
     ]
    },
    {
     "name": "stderr",
     "output_type": "stream",
     "text": [
      "Exception in Tkinter callback\n",
      "Traceback (most recent call last):\n",
      "  File \"D:\\apps\\Anaconda3\\lib\\tkinter\\__init__.py\", line 1699, in __call__\n",
      "    return self.func(*args)\n",
      "TypeError: setClass() missing 2 required positional arguments: 'b' and 'c'\n"
     ]
    },
    {
     "name": "stdout",
     "output_type": "stream",
     "text": [
      "set label class to : Rarm 7\n"
     ]
    },
    {
     "name": "stderr",
     "output_type": "stream",
     "text": [
      "Exception in Tkinter callback\n",
      "Traceback (most recent call last):\n",
      "  File \"D:\\apps\\Anaconda3\\lib\\tkinter\\__init__.py\", line 1699, in __call__\n",
      "    return self.func(*args)\n",
      "TypeError: setClass() missing 2 required positional arguments: 'b' and 'c'\n"
     ]
    },
    {
     "name": "stdout",
     "output_type": "stream",
     "text": [
      "size (400, 300)\n",
      "box (145, 66, 303, 530, 7)\n",
      "size (400, 300)\n",
      "box (249, 156, 250, 156, 7)\n",
      "size (400, 300)\n",
      "box (137, 68, 248, 161, 7)\n"
     ]
    },
    {
     "name": "stderr",
     "output_type": "stream",
     "text": [
      "Exception in Tkinter callback\n",
      "Traceback (most recent call last):\n",
      "  File \"D:\\apps\\Anaconda3\\lib\\tkinter\\__init__.py\", line 1699, in __call__\n",
      "    return self.func(*args)\n",
      "TypeError: setClass() missing 2 required positional arguments: 'b' and 'c'\n"
     ]
    },
    {
     "name": "stdout",
     "output_type": "stream",
     "text": [
      "set label class to : body 3\n"
     ]
    },
    {
     "name": "stderr",
     "output_type": "stream",
     "text": [
      "Exception in Tkinter callback\n",
      "Traceback (most recent call last):\n",
      "  File \"D:\\apps\\Anaconda3\\lib\\tkinter\\__init__.py\", line 1699, in __call__\n",
      "    return self.func(*args)\n",
      "TypeError: setClass() missing 2 required positional arguments: 'b' and 'c'\n"
     ]
    },
    {
     "name": "stdout",
     "output_type": "stream",
     "text": [
      "size (400, 300)\n",
      "box (113, 150, 291, 247, 3)\n",
      "set label class to : Rleg 5\n"
     ]
    },
    {
     "name": "stderr",
     "output_type": "stream",
     "text": [
      "Exception in Tkinter callback\n",
      "Traceback (most recent call last):\n",
      "  File \"D:\\apps\\Anaconda3\\lib\\tkinter\\__init__.py\", line 1699, in __call__\n",
      "    return self.func(*args)\n",
      "TypeError: setClass() missing 2 required positional arguments: 'b' and 'c'\n"
     ]
    },
    {
     "name": "stdout",
     "output_type": "stream",
     "text": [
      "size (400, 300)\n",
      "box (297, 148, 399, 204, 5)\n",
      "set label class to : Lleg 4\n"
     ]
    },
    {
     "name": "stderr",
     "output_type": "stream",
     "text": [
      "Exception in Tkinter callback\n",
      "Traceback (most recent call last):\n",
      "  File \"D:\\apps\\Anaconda3\\lib\\tkinter\\__init__.py\", line 1699, in __call__\n",
      "    return self.func(*args)\n",
      "TypeError: setClass() missing 2 required positional arguments: 'b' and 'c'\n"
     ]
    },
    {
     "name": "stdout",
     "output_type": "stream",
     "text": [
      "size (400, 300)\n",
      "box (293, 206, 399, 257, 4)\n",
      "size (400, 300)\n",
      "('1', '0.5650000000000001', '0.5433333333333333', '0.875', '0.6466666666666667')\n",
      "('0', '0.52375', '0.3116666666666667', '0.47750000000000004', '0.3433333333333334')\n",
      "('2', '0.2175', '0.4766666666666667', '0.17500000000000002', '0.2')\n",
      "('2', '0.35000000000000003', '0.22833333333333336', '0.12', '0.16333333333333333')\n",
      "(7, 0.48125, 0.3816666666666667, 0.2775, 0.31)\n",
      "(3, 0.505, 0.6616666666666667, 0.445, 0.32333333333333336)\n",
      "(5, 0.87, 0.5866666666666667, 0.255, 0.18666666666666668)\n",
      "(4, 0.865, 0.7716666666666667, 0.265, 0.17)\n",
      "Image No. 56 saved\n",
      "size (400, 300)\n",
      "Image No. 57 saved\n",
      "set label class to : body 3\n"
     ]
    },
    {
     "name": "stderr",
     "output_type": "stream",
     "text": [
      "Exception in Tkinter callback\n",
      "Traceback (most recent call last):\n",
      "  File \"D:\\apps\\Anaconda3\\lib\\tkinter\\__init__.py\", line 1699, in __call__\n",
      "    return self.func(*args)\n",
      "TypeError: setClass() missing 2 required positional arguments: 'b' and 'c'\n"
     ]
    },
    {
     "name": "stdout",
     "output_type": "stream",
     "text": [
      "size (400, 300)\n",
      "box (221, 98, 381, 196, 3)\n",
      "set label class to : Larm 6\n"
     ]
    },
    {
     "name": "stderr",
     "output_type": "stream",
     "text": [
      "Exception in Tkinter callback\n",
      "Traceback (most recent call last):\n",
      "  File \"D:\\apps\\Anaconda3\\lib\\tkinter\\__init__.py\", line 1699, in __call__\n",
      "    return self.func(*args)\n",
      "TypeError: setClass() missing 2 required positional arguments: 'b' and 'c'\n"
     ]
    },
    {
     "name": "stdout",
     "output_type": "stream",
     "text": [
      "size (400, 300)\n",
      "box (223, 40, 359, 94, 6)\n",
      "size (400, 300)\n",
      "('0', '0.64', '0.5533333333333333', '0.6950000000000001', '0.8666666666666667')\n",
      "('2', '0.42375', '0.48833333333333334', '0.2575', '0.27')\n",
      "(3, 0.7525000000000001, 0.49000000000000005, 0.4, 0.32666666666666666)\n",
      "(6, 0.7275, 0.22333333333333336, 0.34, 0.18000000000000002)\n",
      "Image No. 58 saved\n",
      "size (400, 300)\n",
      "Image No. 59 saved\n",
      "size (400, 300)\n",
      "Image No. 60 saved\n",
      "set label class to : head 2\n"
     ]
    },
    {
     "name": "stderr",
     "output_type": "stream",
     "text": [
      "Exception in Tkinter callback\n",
      "Traceback (most recent call last):\n",
      "  File \"D:\\apps\\Anaconda3\\lib\\tkinter\\__init__.py\", line 1699, in __call__\n",
      "    return self.func(*args)\n",
      "TypeError: setClass() missing 2 required positional arguments: 'b' and 'c'\n"
     ]
    },
    {
     "name": "stdout",
     "output_type": "stream",
     "text": [
      "size (400, 300)\n",
      "box (80, 196, 144, 249, 2)\n",
      "set label class to : Lleg 4\n"
     ]
    },
    {
     "name": "stderr",
     "output_type": "stream",
     "text": [
      "Exception in Tkinter callback\n",
      "Traceback (most recent call last):\n",
      "  File \"D:\\apps\\Anaconda3\\lib\\tkinter\\__init__.py\", line 1699, in __call__\n",
      "    return self.func(*args)\n",
      "TypeError: setClass() missing 2 required positional arguments: 'b' and 'c'\n"
     ]
    },
    {
     "name": "stdout",
     "output_type": "stream",
     "text": [
      "size (400, 300)\n",
      "box (244, 195, 396, 250, 4)\n",
      "size (400, 300)\n",
      "('0', '0.5825', '0.7483333333333334', '0.8250000000000001', '0.22333333333333336')\n",
      "(2, 0.28, 0.7416666666666667, 0.16, 0.17666666666666667)\n",
      "(4, 0.8, 0.7416666666666667, 0.38, 0.18333333333333335)\n",
      "Image No. 61 saved\n",
      "set label class to : body 3\n"
     ]
    },
    {
     "name": "stderr",
     "output_type": "stream",
     "text": [
      "Exception in Tkinter callback\n",
      "Traceback (most recent call last):\n",
      "  File \"D:\\apps\\Anaconda3\\lib\\tkinter\\__init__.py\", line 1699, in __call__\n",
      "    return self.func(*args)\n",
      "TypeError: setClass() missing 2 required positional arguments: 'b' and 'c'\n"
     ]
    },
    {
     "name": "stdout",
     "output_type": "stream",
     "text": [
      "size (400, 300)\n",
      "box (143, 64, 240, 114, 3)\n",
      "set label class to : Rarm 7\n"
     ]
    },
    {
     "name": "stderr",
     "output_type": "stream",
     "text": [
      "Exception in Tkinter callback\n",
      "Traceback (most recent call last):\n",
      "  File \"D:\\apps\\Anaconda3\\lib\\tkinter\\__init__.py\", line 1699, in __call__\n",
      "    return self.func(*args)\n",
      "TypeError: setClass() missing 2 required positional arguments: 'b' and 'c'\n"
     ]
    },
    {
     "name": "stdout",
     "output_type": "stream",
     "text": [
      "size (400, 300)\n",
      "box (149, 35, 215, 109, 7)\n",
      "set label class to : woman 0\n"
     ]
    },
    {
     "name": "stderr",
     "output_type": "stream",
     "text": [
      "Exception in Tkinter callback\n",
      "Traceback (most recent call last):\n",
      "  File \"D:\\apps\\Anaconda3\\lib\\tkinter\\__init__.py\", line 1699, in __call__\n",
      "    return self.func(*args)\n",
      "TypeError: setClass() missing 2 required positional arguments: 'b' and 'c'\n"
     ]
    },
    {
     "name": "stdout",
     "output_type": "stream",
     "text": [
      "size (400, 300)\n",
      "box (146, 222, 307, 294, 0)\n",
      "set label class to : head 2\n"
     ]
    },
    {
     "name": "stderr",
     "output_type": "stream",
     "text": [
      "Exception in Tkinter callback\n",
      "Traceback (most recent call last):\n",
      "  File \"D:\\apps\\Anaconda3\\lib\\tkinter\\__init__.py\", line 1699, in __call__\n",
      "    return self.func(*args)\n",
      "TypeError: setClass() missing 2 required positional arguments: 'b' and 'c'\n"
     ]
    },
    {
     "name": "stdout",
     "output_type": "stream",
     "text": [
      "size (400, 300)\n",
      "box (155, 226, 201, 270, 2)\n",
      "set label class to : Rarm 7\n"
     ]
    },
    {
     "name": "stderr",
     "output_type": "stream",
     "text": [
      "Exception in Tkinter callback\n",
      "Traceback (most recent call last):\n",
      "  File \"D:\\apps\\Anaconda3\\lib\\tkinter\\__init__.py\", line 1699, in __call__\n",
      "    return self.func(*args)\n",
      "TypeError: setClass() missing 2 required positional arguments: 'b' and 'c'\n"
     ]
    },
    {
     "name": "stdout",
     "output_type": "stream",
     "text": [
      "size (400, 300)\n",
      "box (188, 226, 242, 290, 7)\n",
      "size (400, 300)\n",
      "('2', '0.31', '0.17833333333333334', '0.12', '0.1366666666666667')\n",
      "('1', '0.6012500000000001', '0.25833333333333336', '0.7075', '0.31')\n",
      "(3, 0.47875, 0.2966666666666667, 0.2425, 0.16666666666666669)\n",
      "(7, 0.455, 0.24000000000000002, 0.165, 0.24666666666666667)\n",
      "(0, 0.56625, 0.8600000000000001, 0.4025, 0.24000000000000002)\n",
      "(2, 0.445, 0.8266666666666668, 0.115, 0.14666666666666667)\n",
      "(7, 0.5375, 0.8600000000000001, 0.135, 0.21333333333333335)\n",
      "Image No. 62 saved\n",
      "size (400, 300)\n",
      "('0', '0.49', '0.7933333333333333', '0.215', '0.4266666666666667')\n",
      "('0', '0.3725', '0.7733333333333334', '0.155', '0.45333333333333337')\n",
      "('0', '0.09125', '0.8033333333333333', '0.1575', '0.38')\n",
      "('0', '0.8300000000000001', '0.8', '0.195', '0.3866666666666667')\n",
      "('2', '0.07625', '0.7166666666666667', '0.11750000000000001', '0.18000000000000002')\n",
      "('2', '0.3675', '0.6583333333333333', '0.135', '0.15666666666666668')\n",
      "('2', '0.5375', '0.66', '0.115', '0.13333333333333333')\n",
      "Image No. 63 saved\n",
      "set label class to : head 2\n"
     ]
    },
    {
     "name": "stderr",
     "output_type": "stream",
     "text": [
      "Exception in Tkinter callback\n",
      "Traceback (most recent call last):\n",
      "  File \"D:\\apps\\Anaconda3\\lib\\tkinter\\__init__.py\", line 1699, in __call__\n",
      "    return self.func(*args)\n",
      "TypeError: setClass() missing 2 required positional arguments: 'b' and 'c'\n"
     ]
    },
    {
     "name": "stdout",
     "output_type": "stream",
     "text": [
      "size (400, 300)\n",
      "box (91, 165, 157, 220, 2)\n",
      "size (400, 300)\n",
      "('0', '0.5125', '0.5833333333333334', '0.605', '0.5')\n",
      "(2, 0.31, 0.6416666666666667, 0.165, 0.18333333333333335)\n",
      "Image No. 64 saved\n",
      "set label class to : body 3\n"
     ]
    },
    {
     "name": "stderr",
     "output_type": "stream",
     "text": [
      "Exception in Tkinter callback\n",
      "Traceback (most recent call last):\n",
      "  File \"D:\\apps\\Anaconda3\\lib\\tkinter\\__init__.py\", line 1699, in __call__\n",
      "    return self.func(*args)\n",
      "TypeError: setClass() missing 2 required positional arguments: 'b' and 'c'\n"
     ]
    },
    {
     "name": "stdout",
     "output_type": "stream",
     "text": [
      "size (400, 300)\n",
      "box (6, 50, 175, 292, 3)\n",
      "set label class to : woman 0\n"
     ]
    },
    {
     "name": "stderr",
     "output_type": "stream",
     "text": [
      "Exception in Tkinter callback\n",
      "Traceback (most recent call last):\n",
      "  File \"D:\\apps\\Anaconda3\\lib\\tkinter\\__init__.py\", line 1699, in __call__\n",
      "    return self.func(*args)\n",
      "TypeError: setClass() missing 2 required positional arguments: 'b' and 'c'\n"
     ]
    },
    {
     "name": "stdout",
     "output_type": "stream",
     "text": [
      "size (400, 300)\n",
      "box (0, 48, 399, 296, 0)\n",
      "size (400, 300)\n",
      "('5', '0.7225', '0.7966666666666667', '0.55', '0.38')\n",
      "('4', '0.7175', '0.37833333333333335', '0.545', '0.44333333333333336')\n",
      "(3, 0.22625, 0.5700000000000001, 0.4225, 0.8066666666666668)\n",
      "(0, 0.49875, 0.5733333333333334, 0.9975, 0.8266666666666668)\n",
      "Image No. 65 saved\n",
      "size (400, 300)\n",
      "('0', '0.505', '0.5', '0.99', '0.9600000000000001')\n",
      "Image No. 66 saved\n",
      "size (400, 300)\n",
      "('5', '0.7225', '0.7966666666666667', '0.55', '0.38')\n",
      "('4', '0.7175', '0.37833333333333335', '0.545', '0.44333333333333336')\n",
      "('3', '0.22625', '0.5700000000000001', '0.4225', '0.8066666666666668')\n",
      "('0', '0.49875', '0.5733333333333334', '0.9975', '0.8266666666666668')\n",
      "Image No. 65 saved\n",
      "set label class to : body 3\n"
     ]
    },
    {
     "name": "stderr",
     "output_type": "stream",
     "text": [
      "Exception in Tkinter callback\n",
      "Traceback (most recent call last):\n",
      "  File \"D:\\apps\\Anaconda3\\lib\\tkinter\\__init__.py\", line 1699, in __call__\n",
      "    return self.func(*args)\n",
      "TypeError: setClass() missing 2 required positional arguments: 'b' and 'c'\n"
     ]
    },
    {
     "name": "stdout",
     "output_type": "stream",
     "text": [
      "size (400, 300)\n",
      "box (7, 80, 261, 288, 3)\n",
      "set label class to : Larm 6\n"
     ]
    },
    {
     "name": "stderr",
     "output_type": "stream",
     "text": [
      "Exception in Tkinter callback\n",
      "Traceback (most recent call last):\n",
      "  File \"D:\\apps\\Anaconda3\\lib\\tkinter\\__init__.py\", line 1699, in __call__\n",
      "    return self.func(*args)\n",
      "TypeError: setClass() missing 2 required positional arguments: 'b' and 'c'\n"
     ]
    },
    {
     "name": "stdout",
     "output_type": "stream",
     "text": [
      "size (400, 300)\n",
      "box (3, 6, 309, 154, 6)\n",
      "size (400, 300)\n",
      "('0', '0.505', '0.5', '0.99', '0.9600000000000001')\n",
      "(3, 0.335, 0.6133333333333334, 0.635, 0.6933333333333334)\n",
      "(6, 0.39, 0.26666666666666666, 0.765, 0.49333333333333335)\n",
      "Image No. 66 saved\n",
      "set label class to : woman 0\n"
     ]
    },
    {
     "name": "stderr",
     "output_type": "stream",
     "text": [
      "Exception in Tkinter callback\n",
      "Traceback (most recent call last):\n",
      "  File \"D:\\apps\\Anaconda3\\lib\\tkinter\\__init__.py\", line 1699, in __call__\n",
      "    return self.func(*args)\n",
      "TypeError: setClass() missing 2 required positional arguments: 'b' and 'c'\n"
     ]
    },
    {
     "name": "stdout",
     "output_type": "stream",
     "text": [
      "size (400, 300)\n",
      "box (69, 42, 401, 274, 0)\n",
      "set label class to : head 2\n"
     ]
    },
    {
     "name": "stderr",
     "output_type": "stream",
     "text": [
      "Exception in Tkinter callback\n",
      "Traceback (most recent call last):\n",
      "  File \"D:\\apps\\Anaconda3\\lib\\tkinter\\__init__.py\", line 1699, in __call__\n",
      "    return self.func(*args)\n",
      "TypeError: setClass() missing 2 required positional arguments: 'b' and 'c'\n"
     ]
    },
    {
     "name": "stdout",
     "output_type": "stream",
     "text": [
      "size (400, 300)\n",
      "box (75, 84, 210, 200, 2)\n",
      "set label class to : Larm 6\n"
     ]
    },
    {
     "name": "stderr",
     "output_type": "stream",
     "text": [
      "Exception in Tkinter callback\n",
      "Traceback (most recent call last):\n",
      "  File \"D:\\apps\\Anaconda3\\lib\\tkinter\\__init__.py\", line 1699, in __call__\n",
      "    return self.func(*args)\n",
      "TypeError: setClass() missing 2 required positional arguments: 'b' and 'c'\n"
     ]
    },
    {
     "name": "stdout",
     "output_type": "stream",
     "text": [
      "size (400, 300)\n",
      "box (226, 46, 370, 186, 6)\n",
      "set label class to : body 3\n"
     ]
    },
    {
     "name": "stderr",
     "output_type": "stream",
     "text": [
      "Exception in Tkinter callback\n",
      "Traceback (most recent call last):\n",
      "  File \"D:\\apps\\Anaconda3\\lib\\tkinter\\__init__.py\", line 1699, in __call__\n",
      "    return self.func(*args)\n",
      "TypeError: setClass() missing 2 required positional arguments: 'b' and 'c'\n"
     ]
    },
    {
     "name": "stdout",
     "output_type": "stream",
     "text": [
      "size (400, 300)\n",
      "box (213, 96, 371, 212, 3)\n",
      "size (400, 300)\n",
      "(0, 0.5875, 0.5266666666666667, 0.8300000000000001, 0.7733333333333334)\n",
      "(2, 0.35625, 0.4733333333333334, 0.3375, 0.3866666666666667)\n",
      "(6, 0.745, 0.3866666666666667, 0.36, 0.4666666666666667)\n",
      "(3, 0.73, 0.5133333333333334, 0.395, 0.3866666666666667)\n",
      "Image No. 67 saved\n",
      "size (400, 300)\n",
      "('0', '0.61', '0.3566666666666667', '0.785', '0.6866666666666668')\n",
      "('2', '0.4425', '0.3616666666666667', '0.38', '0.5033333333333334')\n",
      "Image No. 68 saved\n",
      "set label class to : woman 0\n"
     ]
    },
    {
     "name": "stderr",
     "output_type": "stream",
     "text": [
      "Exception in Tkinter callback\n",
      "Traceback (most recent call last):\n",
      "  File \"D:\\apps\\Anaconda3\\lib\\tkinter\\__init__.py\", line 1699, in __call__\n",
      "    return self.func(*args)\n",
      "TypeError: setClass() missing 2 required positional arguments: 'b' and 'c'\n"
     ]
    },
    {
     "name": "stdout",
     "output_type": "stream",
     "text": [
      "size (400, 300)\n",
      "box (111, 6, 401, 240, 0)\n",
      "set label class to : head 2\n"
     ]
    },
    {
     "name": "stderr",
     "output_type": "stream",
     "text": [
      "Exception in Tkinter callback\n",
      "Traceback (most recent call last):\n",
      "  File \"D:\\apps\\Anaconda3\\lib\\tkinter\\__init__.py\", line 1699, in __call__\n",
      "    return self.func(*args)\n",
      "TypeError: setClass() missing 2 required positional arguments: 'b' and 'c'\n"
     ]
    },
    {
     "name": "stdout",
     "output_type": "stream",
     "text": [
      "size (400, 300)\n",
      "box (122, 16, 347, 166, 2)\n",
      "size (400, 300)\n",
      "(0, 0.64, 0.41000000000000003, 0.725, 0.78)\n",
      "(2, 0.58625, 0.30333333333333334, 0.5625, 0.5)\n",
      "Image No. 69 saved\n",
      "set label class to : body 3\n"
     ]
    },
    {
     "name": "stderr",
     "output_type": "stream",
     "text": [
      "Exception in Tkinter callback\n",
      "Traceback (most recent call last):\n",
      "  File \"D:\\apps\\Anaconda3\\lib\\tkinter\\__init__.py\", line 1699, in __call__\n",
      "    return self.func(*args)\n",
      "TypeError: setClass() missing 2 required positional arguments: 'b' and 'c'\n"
     ]
    },
    {
     "name": "stdout",
     "output_type": "stream",
     "text": [
      "size (400, 300)\n",
      "box (212, 119, 399, 271, 3)\n",
      "set label class to : Larm 6\n"
     ]
    },
    {
     "name": "stderr",
     "output_type": "stream",
     "text": [
      "Exception in Tkinter callback\n",
      "Traceback (most recent call last):\n",
      "  File \"D:\\apps\\Anaconda3\\lib\\tkinter\\__init__.py\", line 1699, in __call__\n",
      "    return self.func(*args)\n",
      "TypeError: setClass() missing 2 required positional arguments: 'b' and 'c'\n"
     ]
    },
    {
     "name": "stdout",
     "output_type": "stream",
     "text": [
      "size (400, 300)\n",
      "box (160, 6, 380, 95, 6)\n",
      "set label class to : head 2\n"
     ]
    },
    {
     "name": "stderr",
     "output_type": "stream",
     "text": [
      "Exception in Tkinter callback\n",
      "Traceback (most recent call last):\n",
      "  File \"D:\\apps\\Anaconda3\\lib\\tkinter\\__init__.py\", line 1699, in __call__\n",
      "    return self.func(*args)\n",
      "TypeError: setClass() missing 2 required positional arguments: 'b' and 'c'\n"
     ]
    },
    {
     "name": "stdout",
     "output_type": "stream",
     "text": [
      "size (400, 300)\n",
      "box (47, 3, 192, 42, 2)\n",
      "size (400, 300)\n",
      "('0', '0.58875', '0.64', '0.8225', '0.6666666666666667')\n",
      "('0', '0.54', '0.18000000000000002', '0.91', '0.33333333333333337')\n",
      "('2', '0.37125', '0.7000000000000001', '0.3625', '0.37333333333333335')\n",
      "(3, 0.76375, 0.65, 0.4675, 0.5066666666666667)\n",
      "(6, 0.675, 0.16833333333333333, 0.55, 0.2966666666666667)\n",
      "(2, 0.29875, 0.07500000000000001, 0.3625, 0.13)\n",
      "Image No. 70 saved\n",
      "set label class to : Rarm 7\n"
     ]
    },
    {
     "name": "stderr",
     "output_type": "stream",
     "text": [
      "Exception in Tkinter callback\n",
      "Traceback (most recent call last):\n",
      "  File \"D:\\apps\\Anaconda3\\lib\\tkinter\\__init__.py\", line 1699, in __call__\n",
      "    return self.func(*args)\n",
      "TypeError: setClass() missing 2 required positional arguments: 'b' and 'c'\n"
     ]
    },
    {
     "name": "stdout",
     "output_type": "stream",
     "text": [
      "size (400, 300)\n",
      "box (236, 90, 399, 254, 7)\n",
      "set label class to : body 3\n"
     ]
    },
    {
     "name": "stderr",
     "output_type": "stream",
     "text": [
      "Exception in Tkinter callback\n",
      "Traceback (most recent call last):\n",
      "  File \"D:\\apps\\Anaconda3\\lib\\tkinter\\__init__.py\", line 1699, in __call__\n",
      "    return self.func(*args)\n",
      "TypeError: setClass() missing 2 required positional arguments: 'b' and 'c'\n"
     ]
    },
    {
     "name": "stdout",
     "output_type": "stream",
     "text": [
      "size (400, 300)\n",
      "box (221, 144, 355, 197, 3)\n",
      "size (400, 300)\n",
      "('0', '0.615', '0.5983333333333334', '0.78', '0.6233333333333334')\n",
      "('2', '0.38625', '0.6183333333333334', '0.3175', '0.32333333333333336')\n",
      "(7, 0.7937500000000001, 0.5733333333333334, 0.40750000000000003, 0.5466666666666667)\n",
      "(3, 0.72, 0.5683333333333334, 0.335, 0.17666666666666667)\n",
      "Image No. 71 saved\n",
      "size (400, 300)\n",
      "('0', '0.505', '0.6333333333333334', '0.98', '0.32666666666666666')\n",
      "('0', '0.5075000000000001', '0.7766666666666667', '0.975', '0.24000000000000002')\n",
      "('0', '0.40125', '0.38833333333333336', '0.7825', '0.19')\n",
      "('2', '0.085', '0.8150000000000001', '0.135', '0.15666666666666668')\n",
      "('2', '0.095', '0.6033333333333334', '0.17', '0.19333333333333336')\n",
      "('4', '0.73', '0.6066666666666667', '0.53', '0.2066666666666667')\n",
      "('4', '0.7525000000000001', '0.7933333333333333', '0.485', '0.16')\n",
      "('6', '0.4', '0.6616666666666667', '0.445', '0.3433333333333334')\n",
      "Image No. 72 saved\n",
      "size (400, 300)\n",
      "box (90, 135, 195, 206, 3)\n",
      "size (400, 300)\n",
      "box (77, 40, 177, 110, 3)\n",
      "set label class to : head 2\n"
     ]
    },
    {
     "name": "stderr",
     "output_type": "stream",
     "text": [
      "Exception in Tkinter callback\n",
      "Traceback (most recent call last):\n",
      "  File \"D:\\apps\\Anaconda3\\lib\\tkinter\\__init__.py\", line 1699, in __call__\n",
      "    return self.func(*args)\n",
      "TypeError: setClass() missing 2 required positional arguments: 'b' and 'c'\n"
     ]
    },
    {
     "name": "stdout",
     "output_type": "stream",
     "text": [
      "size (400, 300)\n",
      "('0', '0.52625', '0.6216666666666667', '0.9325', '0.44333333333333336')\n",
      "('0', '0.51375', '0.24166666666666667', '0.9175', '0.3166666666666667')\n",
      "('6', '0.38125000000000003', '0.7466666666666667', '0.3075', '0.14666666666666667')\n",
      "('4', '0.74875', '0.6766666666666667', '0.4875', '0.16666666666666669')\n",
      "('4', '0.69875', '0.29833333333333334', '0.5375', '0.17666666666666667')\n",
      "('5', '0.69375', '0.19833333333333333', '0.4975', '0.13')\n",
      "('5', '0.74625', '0.52', '0.4875', '0.12000000000000001')\n",
      "(3, 0.35625, 0.5683333333333334, 0.2625, 0.2366666666666667)\n",
      "(3, 0.3175, 0.25, 0.25, 0.23333333333333334)\n",
      "Image No. 73 saved\n",
      "size (400, 300)\n",
      "box (75, 91, 113, 127, 2)\n",
      "set label class to : body 3\n"
     ]
    },
    {
     "name": "stderr",
     "output_type": "stream",
     "text": [
      "Exception in Tkinter callback\n",
      "Traceback (most recent call last):\n",
      "  File \"D:\\apps\\Anaconda3\\lib\\tkinter\\__init__.py\", line 1699, in __call__\n",
      "    return self.func(*args)\n",
      "TypeError: setClass() missing 2 required positional arguments: 'b' and 'c'\n"
     ]
    },
    {
     "name": "stdout",
     "output_type": "stream",
     "text": [
      "size (400, 300)\n",
      "box (113, 81, 171, 120, 3)\n",
      "set label class to : Lleg 4\n"
     ]
    },
    {
     "name": "stderr",
     "output_type": "stream",
     "text": [
      "Exception in Tkinter callback\n",
      "Traceback (most recent call last):\n",
      "  File \"D:\\apps\\Anaconda3\\lib\\tkinter\\__init__.py\", line 1699, in __call__\n",
      "    return self.func(*args)\n",
      "TypeError: setClass() missing 2 required positional arguments: 'b' and 'c'\n"
     ]
    },
    {
     "name": "stdout",
     "output_type": "stream",
     "text": [
      "size (400, 300)\n",
      "box (167, 99, 267, 149, 4)\n",
      "set label class to : Rleg 5\n"
     ]
    },
    {
     "name": "stderr",
     "output_type": "stream",
     "text": [
      "Exception in Tkinter callback\n",
      "Traceback (most recent call last):\n",
      "  File \"D:\\apps\\Anaconda3\\lib\\tkinter\\__init__.py\", line 1699, in __call__\n",
      "    return self.func(*args)\n",
      "TypeError: setClass() missing 2 required positional arguments: 'b' and 'c'\n"
     ]
    },
    {
     "name": "stdout",
     "output_type": "stream",
     "text": [
      "size (400, 300)\n",
      "box (187, 90, 270, 124, 5)\n",
      "size (400, 300)\n",
      "('0', '0.43125', '0.37000000000000005', '0.4925', '0.30000000000000004')\n",
      "(2, 0.23500000000000001, 0.36333333333333334, 0.095, 0.12000000000000001)\n",
      "(3, 0.355, 0.335, 0.145, 0.13)\n",
      "(4, 0.5425, 0.4133333333333334, 0.25, 0.16666666666666669)\n",
      "(5, 0.57125, 0.3566666666666667, 0.20750000000000002, 0.11333333333333334)\n",
      "Image No. 74 saved\n",
      "set label class to : head 2\n"
     ]
    },
    {
     "name": "stderr",
     "output_type": "stream",
     "text": [
      "Exception in Tkinter callback\n",
      "Traceback (most recent call last):\n",
      "  File \"D:\\apps\\Anaconda3\\lib\\tkinter\\__init__.py\", line 1699, in __call__\n",
      "    return self.func(*args)\n",
      "TypeError: setClass() missing 2 required positional arguments: 'b' and 'c'\n"
     ]
    },
    {
     "name": "stdout",
     "output_type": "stream",
     "text": [
      "size (400, 300)\n",
      "box (41, 56, 95, 112, 2)\n",
      "size (400, 300)\n",
      "box (257, 48, 317, 98, 2)\n",
      "set label class to : Lleg 4\n"
     ]
    },
    {
     "name": "stderr",
     "output_type": "stream",
     "text": [
      "Exception in Tkinter callback\n",
      "Traceback (most recent call last):\n",
      "  File \"D:\\apps\\Anaconda3\\lib\\tkinter\\__init__.py\", line 1699, in __call__\n",
      "    return self.func(*args)\n",
      "TypeError: setClass() missing 2 required positional arguments: 'b' and 'c'\n"
     ]
    },
    {
     "name": "stdout",
     "output_type": "stream",
     "text": [
      "size (400, 300)\n",
      "box (275, 140, 332, 217, 4)\n",
      "size (400, 300)\n",
      "box (69, 174, 145, 237, 4)\n",
      "set label class to : Rarm 7\n"
     ]
    },
    {
     "name": "stderr",
     "output_type": "stream",
     "text": [
      "Exception in Tkinter callback\n",
      "Traceback (most recent call last):\n",
      "  File \"D:\\apps\\Anaconda3\\lib\\tkinter\\__init__.py\", line 1699, in __call__\n",
      "    return self.func(*args)\n",
      "TypeError: setClass() missing 2 required positional arguments: 'b' and 'c'\n"
     ]
    },
    {
     "name": "stdout",
     "output_type": "stream",
     "text": [
      "size (400, 300)\n",
      "box (19, 112, 69, 200, 7)\n",
      "set label class to : Larm 6\n"
     ]
    },
    {
     "name": "stderr",
     "output_type": "stream",
     "text": [
      "Exception in Tkinter callback\n",
      "Traceback (most recent call last):\n",
      "  File \"D:\\apps\\Anaconda3\\lib\\tkinter\\__init__.py\", line 1699, in __call__\n",
      "    return self.func(*args)\n",
      "TypeError: setClass() missing 2 required positional arguments: 'b' and 'c'\n"
     ]
    },
    {
     "name": "stdout",
     "output_type": "stream",
     "text": [
      "size (400, 300)\n",
      "box (283, 100, 335, 164, 6)\n",
      "size (400, 300)\n",
      "('0', '0.2025', '0.48000000000000004', '0.335', '0.66')\n",
      "('0', '0.7325', '0.4716666666666667', '0.195', '0.65')\n",
      "(2, 0.17, 0.28, 0.135, 0.18666666666666668)\n",
      "(2, 0.7175, 0.24333333333333335, 0.15, 0.16666666666666669)\n",
      "(4, 0.75875, 0.5950000000000001, 0.14250000000000002, 0.2566666666666667)\n",
      "(4, 0.2675, 0.685, 0.19, 0.21000000000000002)\n",
      "(7, 0.11, 0.52, 0.125, 0.29333333333333333)\n",
      "(6, 0.7725, 0.44, 0.13, 0.21333333333333335)\n",
      "Image No. 75 saved\n",
      "set label class to : head 2\n"
     ]
    },
    {
     "name": "stderr",
     "output_type": "stream",
     "text": [
      "Exception in Tkinter callback\n",
      "Traceback (most recent call last):\n",
      "  File \"D:\\apps\\Anaconda3\\lib\\tkinter\\__init__.py\", line 1699, in __call__\n",
      "    return self.func(*args)\n",
      "TypeError: setClass() missing 2 required positional arguments: 'b' and 'c'\n"
     ]
    },
    {
     "name": "stdout",
     "output_type": "stream",
     "text": [
      "size (400, 300)\n",
      "box (47, 48, 98, 107, 2)\n",
      "size (400, 300)\n",
      "box (99, 62, 137, 110, 2)\n",
      "set label class to : Rarm 7\n"
     ]
    },
    {
     "name": "stderr",
     "output_type": "stream",
     "text": [
      "Exception in Tkinter callback\n",
      "Traceback (most recent call last):\n",
      "  File \"D:\\apps\\Anaconda3\\lib\\tkinter\\__init__.py\", line 1699, in __call__\n",
      "    return self.func(*args)\n",
      "TypeError: setClass() missing 2 required positional arguments: 'b' and 'c'\n"
     ]
    },
    {
     "name": "stdout",
     "output_type": "stream",
     "text": [
      "size (400, 300)\n",
      "box (55, 110, 149, 165, 7)\n",
      "size (400, 300)\n",
      "('0', '0.23375', '0.5', '0.3075', '0.7133333333333334')\n",
      "('0', '0.4', '0.4816666666666667', '0.32', '0.5633333333333334')\n",
      "(2, 0.18125, 0.25833333333333336, 0.1275, 0.19666666666666668)\n",
      "(2, 0.295, 0.2866666666666667, 0.095, 0.16)\n",
      "(7, 0.255, 0.45833333333333337, 0.23500000000000001, 0.18333333333333335)\n",
      "Image No. 76 saved\n",
      "size (400, 300)\n",
      "box (74, 159, 172, 290, 7)\n",
      "size (400, 300)\n",
      "box (199, 171, 305, 286, 7)\n",
      "set label class to : Larm 6\n"
     ]
    },
    {
     "name": "stderr",
     "output_type": "stream",
     "text": [
      "Exception in Tkinter callback\n",
      "Traceback (most recent call last):\n",
      "  File \"D:\\apps\\Anaconda3\\lib\\tkinter\\__init__.py\", line 1699, in __call__\n",
      "    return self.func(*args)\n",
      "TypeError: setClass() missing 2 required positional arguments: 'b' and 'c'\n"
     ]
    },
    {
     "name": "stdout",
     "output_type": "stream",
     "text": [
      "size (400, 300)\n",
      "box (255, 148, 320, 266, 6)\n",
      "set label class to : head 2\n"
     ]
    },
    {
     "name": "stderr",
     "output_type": "stream",
     "text": [
      "Exception in Tkinter callback\n",
      "Traceback (most recent call last):\n",
      "  File \"D:\\apps\\Anaconda3\\lib\\tkinter\\__init__.py\", line 1699, in __call__\n",
      "    return self.func(*args)\n",
      "TypeError: setClass() missing 2 required positional arguments: 'b' and 'c'\n"
     ]
    },
    {
     "name": "stdout",
     "output_type": "stream",
     "text": [
      "size (400, 300)\n",
      "box (141, 90, 192, 163, 2)\n",
      "size (400, 300)\n",
      "box (197, 116, 236, 168, 2)\n",
      "set label class to : body 3\n"
     ]
    },
    {
     "name": "stderr",
     "output_type": "stream",
     "text": [
      "Exception in Tkinter callback\n",
      "Traceback (most recent call last):\n",
      "  File \"D:\\apps\\Anaconda3\\lib\\tkinter\\__init__.py\", line 1699, in __call__\n",
      "    return self.func(*args)\n",
      "TypeError: setClass() missing 2 required positional arguments: 'b' and 'c'\n"
     ]
    },
    {
     "name": "stdout",
     "output_type": "stream",
     "text": [
      "size (400, 300)\n",
      "box (114, 168, 198, 278, 3)\n",
      "size (400, 300)\n",
      "box (219, 162, 285, 247, 3)\n",
      "size (400, 300)\n",
      "('0', '0.6425', '0.6683333333333333', '0.325', '0.5966666666666667')\n",
      "('1', '0.34625', '0.6316666666666667', '0.3925', '0.6900000000000001')\n",
      "(7, 0.3075, 0.7483333333333334, 0.245, 0.4366666666666667)\n",
      "(7, 0.63, 0.7616666666666667, 0.265, 0.38333333333333336)\n",
      "(6, 0.71875, 0.6900000000000001, 0.1625, 0.39333333333333337)\n",
      "(2, 0.41625, 0.4216666666666667, 0.1275, 0.24333333333333335)\n",
      "(2, 0.54125, 0.4733333333333334, 0.0975, 0.17333333333333334)\n",
      "(3, 0.39, 0.7433333333333334, 0.21, 0.3666666666666667)\n",
      "(3, 0.63, 0.6816666666666668, 0.165, 0.2833333333333333)\n",
      "Image No. 77 saved\n",
      "set label class to : woman 0\n"
     ]
    },
    {
     "name": "stderr",
     "output_type": "stream",
     "text": [
      "Exception in Tkinter callback\n",
      "Traceback (most recent call last):\n",
      "  File \"D:\\apps\\Anaconda3\\lib\\tkinter\\__init__.py\", line 1699, in __call__\n",
      "    return self.func(*args)\n",
      "TypeError: setClass() missing 2 required positional arguments: 'b' and 'c'\n"
     ]
    },
    {
     "name": "stdout",
     "output_type": "stream",
     "text": [
      "size (400, 300)\n",
      "box (13, 32, 395, 293, 0)\n",
      "set label class to : head 2\n"
     ]
    },
    {
     "name": "stderr",
     "output_type": "stream",
     "text": [
      "Exception in Tkinter callback\n",
      "Traceback (most recent call last):\n",
      "  File \"D:\\apps\\Anaconda3\\lib\\tkinter\\__init__.py\", line 1699, in __call__\n",
      "    return self.func(*args)\n",
      "TypeError: setClass() missing 2 required positional arguments: 'b' and 'c'\n"
     ]
    },
    {
     "name": "stdout",
     "output_type": "stream",
     "text": [
      "size (400, 300)\n",
      "box (17, 111, 128, 224, 2)\n",
      "set label class to : Rarm 7\n"
     ]
    },
    {
     "name": "stderr",
     "output_type": "stream",
     "text": [
      "Exception in Tkinter callback\n",
      "Traceback (most recent call last):\n",
      "  File \"D:\\apps\\Anaconda3\\lib\\tkinter\\__init__.py\", line 1699, in __call__\n",
      "    return self.func(*args)\n",
      "TypeError: setClass() missing 2 required positional arguments: 'b' and 'c'\n"
     ]
    },
    {
     "name": "stdout",
     "output_type": "stream",
     "text": [
      "size (400, 300)\n",
      "box (66, 116, 391, 284, 7)\n",
      "set label class to : Larm 6\n"
     ]
    },
    {
     "name": "stderr",
     "output_type": "stream",
     "text": [
      "Exception in Tkinter callback\n",
      "Traceback (most recent call last):\n",
      "  File \"D:\\apps\\Anaconda3\\lib\\tkinter\\__init__.py\", line 1699, in __call__\n",
      "    return self.func(*args)\n",
      "TypeError: setClass() missing 2 required positional arguments: 'b' and 'c'\n"
     ]
    },
    {
     "name": "stdout",
     "output_type": "stream",
     "text": [
      "size (400, 300)\n",
      "box (64, 40, 355, 108, 6)\n",
      "size (400, 300)\n",
      "(0, 0.51, 0.5416666666666667, 0.9550000000000001, 0.8700000000000001)\n",
      "(2, 0.18125, 0.5583333333333333, 0.2775, 0.3766666666666667)\n",
      "(7, 0.57125, 0.6666666666666667, 0.8125, 0.56)\n",
      "(6, 0.52375, 0.24666666666666667, 0.7275, 0.22666666666666668)\n",
      "Image No. 78 saved\n",
      "size (400, 300)\n",
      "box (11, 122, 133, 257, 6)\n",
      "set label class to : head 2\n"
     ]
    },
    {
     "name": "stderr",
     "output_type": "stream",
     "text": [
      "Exception in Tkinter callback\n",
      "Traceback (most recent call last):\n",
      "  File \"D:\\apps\\Anaconda3\\lib\\tkinter\\__init__.py\", line 1699, in __call__\n",
      "    return self.func(*args)\n",
      "TypeError: setClass() missing 2 required positional arguments: 'b' and 'c'\n"
     ]
    },
    {
     "name": "stdout",
     "output_type": "stream",
     "text": [
      "size (400, 300)\n",
      "box (11, 6, 139, 144, 2)\n",
      "size (400, 300)\n",
      "box (153, 130, 224, 204, 2)\n",
      "set label class to : body 3\n"
     ]
    },
    {
     "name": "stderr",
     "output_type": "stream",
     "text": [
      "Exception in Tkinter callback\n",
      "Traceback (most recent call last):\n",
      "  File \"D:\\apps\\Anaconda3\\lib\\tkinter\\__init__.py\", line 1699, in __call__\n",
      "    return self.func(*args)\n",
      "TypeError: setClass() missing 2 required positional arguments: 'b' and 'c'\n"
     ]
    },
    {
     "name": "stdout",
     "output_type": "stream",
     "text": [
      "size (400, 300)\n",
      "box (150, 210, 235, 287, 3)\n",
      "size (400, 300)\n",
      "('1', '0.18', '0.44333333333333336', '0.33', '0.8600000000000001')\n",
      "('0', '0.47375', '0.6983333333333334', '0.2975', '0.55')\n",
      "(6, 0.18, 0.6316666666666667, 0.305, 0.45)\n",
      "(2, 0.1875, 0.25, 0.32, 0.46)\n",
      "(2, 0.47125, 0.5566666666666668, 0.1775, 0.24666666666666667)\n",
      "(3, 0.48125, 0.8283333333333334, 0.2125, 0.2566666666666667)\n",
      "Image No. 79 saved\n",
      "size (400, 300)\n",
      "box (141, 151, 229, 233, 3)\n",
      "size (400, 300)\n",
      "box (264, 174, 361, 294, 3)\n",
      "set label class to : Rarm 7\n"
     ]
    },
    {
     "name": "stderr",
     "output_type": "stream",
     "text": [
      "Exception in Tkinter callback\n",
      "Traceback (most recent call last):\n",
      "  File \"D:\\apps\\Anaconda3\\lib\\tkinter\\__init__.py\", line 1699, in __call__\n",
      "    return self.func(*args)\n",
      "TypeError: setClass() missing 2 required positional arguments: 'b' and 'c'\n"
     ]
    },
    {
     "name": "stdout",
     "output_type": "stream",
     "text": [
      "size (400, 300)\n",
      "box (68, 132, 167, 264, 7)\n",
      "size (400, 300)\n",
      "('0', '0.785', '0.615', '0.43', '0.7433333333333334')\n",
      "('1', '0.38875', '0.5466666666666667', '0.4575', '0.7533333333333334')\n",
      "('2', '0.42125', '0.3433333333333334', '0.2175', '0.35333333333333333')\n",
      "('2', '0.71875', '0.4083333333333334', '0.2425', '0.31')\n",
      "(3, 0.4625, 0.64, 0.22, 0.2733333333333334)\n",
      "(3, 0.78125, 0.78, 0.2425, 0.4)\n",
      "(7, 0.29375, 0.66, 0.2475, 0.44)\n",
      "Image No. 80 saved\n",
      "size (400, 300)\n",
      "Image No. 81 saved\n",
      "size (400, 300)\n",
      "('1', '0.6825', '0.17', '0.635', '0.32666666666666666')\n",
      "('0', '0.7175', '0.5316666666666667', '0.5650000000000001', '0.51')\n",
      "('2', '0.58625', '0.44333333333333336', '0.2675', '0.2866666666666667')\n",
      "('2', '0.5425', '0.14666666666666667', '0.335', '0.25333333333333335')\n",
      "Image No. 82 saved\n",
      "set label class to : Larm 6\n"
     ]
    },
    {
     "name": "stderr",
     "output_type": "stream",
     "text": [
      "Exception in Tkinter callback\n",
      "Traceback (most recent call last):\n",
      "  File \"D:\\apps\\Anaconda3\\lib\\tkinter\\__init__.py\", line 1699, in __call__\n",
      "    return self.func(*args)\n",
      "TypeError: setClass() missing 2 required positional arguments: 'b' and 'c'\n"
     ]
    },
    {
     "name": "stdout",
     "output_type": "stream",
     "text": [
      "size (400, 300)\n",
      "box (148, 83, 360, 133, 6)\n",
      "size (400, 300)\n",
      "box (171, 200, 284, 271, 6)\n",
      "set label class to : body 3\n"
     ]
    },
    {
     "name": "stderr",
     "output_type": "stream",
     "text": [
      "Exception in Tkinter callback\n",
      "Traceback (most recent call last):\n",
      "  File \"D:\\apps\\Anaconda3\\lib\\tkinter\\__init__.py\", line 1699, in __call__\n",
      "    return self.func(*args)\n",
      "TypeError: setClass() missing 2 required positional arguments: 'b' and 'c'\n"
     ]
    },
    {
     "name": "stdout",
     "output_type": "stream",
     "text": [
      "size (400, 300)\n",
      "box (149, 110, 345, 194, 3)\n",
      "size (400, 300)\n",
      "box (171, 220, 327, 294, 3)\n",
      "set label class to : Lleg 4\n"
     ]
    },
    {
     "name": "stderr",
     "output_type": "stream",
     "text": [
      "Exception in Tkinter callback\n",
      "Traceback (most recent call last):\n",
      "  File \"D:\\apps\\Anaconda3\\lib\\tkinter\\__init__.py\", line 1699, in __call__\n",
      "    return self.func(*args)\n",
      "TypeError: setClass() missing 2 required positional arguments: 'b' and 'c'\n"
     ]
    },
    {
     "name": "stdout",
     "output_type": "stream",
     "text": [
      "size (400, 300)\n",
      "box (335, 92, 398, 152, 4)\n",
      "size (400, 300)\n",
      "box (327, 211, 395, 268, 4)\n",
      "set label class to : Rleg 5\n"
     ]
    },
    {
     "name": "stderr",
     "output_type": "stream",
     "text": [
      "Exception in Tkinter callback\n",
      "Traceback (most recent call last):\n",
      "  File \"D:\\apps\\Anaconda3\\lib\\tkinter\\__init__.py\", line 1699, in __call__\n",
      "    return self.func(*args)\n",
      "TypeError: setClass() missing 2 required positional arguments: 'b' and 'c'\n"
     ]
    },
    {
     "name": "stdout",
     "output_type": "stream",
     "text": [
      "size (400, 300)\n",
      "box (329, 156, 398, 208, 5)\n",
      "size (400, 300)\n",
      "box (322, 259, 401, 301, 5)\n",
      "size (400, 300)\n",
      "('1', '0.59', '0.51', '0.8300000000000001', '0.4733333333333334')\n",
      "('0', '0.62', '0.8333333333333334', '0.76', '0.32666666666666666')\n",
      "('2', '0.28875', '0.5633333333333334', '0.20750000000000002', '0.2066666666666667')\n",
      "('2', '0.34', '0.8333333333333334', '0.19', '0.2')\n",
      "(6, 0.635, 0.36000000000000004, 0.53, 0.16666666666666669)\n",
      "(6, 0.56875, 0.785, 0.28250000000000003, 0.2366666666666667)\n",
      "(3, 0.6175, 0.5066666666666667, 0.49, 0.28)\n",
      "(3, 0.6225, 0.8566666666666667, 0.39, 0.24666666666666667)\n",
      "(4, 0.91625, 0.4066666666666667, 0.1575, 0.2)\n",
      "(4, 0.9025, 0.7983333333333333, 0.17, 0.19)\n",
      "(5, 0.9087500000000001, 0.6066666666666667, 0.17250000000000001, 0.17333333333333334)\n",
      "(5, 0.90375, 0.9333333333333333, 0.1975, 0.14)\n",
      "Image No. 83 saved\n",
      "size (400, 300)\n",
      "box (11, 261, 170, 298, 5)\n",
      "size (400, 300)\n",
      "box (201, 139, 297, 176, 5)\n",
      "set label class to : Rarm 7\n"
     ]
    },
    {
     "name": "stderr",
     "output_type": "stream",
     "text": [
      "Exception in Tkinter callback\n",
      "Traceback (most recent call last):\n",
      "  File \"D:\\apps\\Anaconda3\\lib\\tkinter\\__init__.py\", line 1699, in __call__\n",
      "    return self.func(*args)\n",
      "TypeError: setClass() missing 2 required positional arguments: 'b' and 'c'\n"
     ]
    },
    {
     "name": "stdout",
     "output_type": "stream",
     "text": [
      "size (400, 300)\n",
      "box (95, 150, 204, 248, 7)\n",
      "size (400, 300)\n",
      "('0', '0.265', '0.7316666666666667', '0.48', '0.5233333333333333')\n",
      "('1', '0.21375', '0.37000000000000005', '0.23750000000000002', '0.43333333333333335')\n",
      "('1', '0.3775', '0.33333333333333337', '0.165', '0.36000000000000004')\n",
      "('1', '0.59', '0.43000000000000005', '0.24', '0.2866666666666667')\n",
      "('2', '0.27', '0.26', '0.125', '0.2')\n",
      "('2', '0.4025', '0.24500000000000002', '0.075', '0.14333333333333334')\n",
      "('2', '0.38375000000000004', '0.5616666666666666', '0.1575', '0.19')\n",
      "('2', '0.51875', '0.34', '0.0475', '0.10666666666666667')\n",
      "(5, 0.22625, 0.9316666666666668, 0.3975, 0.12333333333333334)\n",
      "(5, 0.6225, 0.525, 0.24, 0.12333333333333334)\n",
      "(7, 0.37375, 0.6633333333333333, 0.2725, 0.32666666666666666)\n",
      "Image No. 84 saved\n",
      "size (400, 300)\n",
      "('0', '0.57875', '0.445', '0.3925', '0.5966666666666667')\n",
      "('2', '0.45875', '0.4816666666666667', '0.1325', '0.18333333333333335')\n",
      "('6', '0.65', '0.31333333333333335', '0.245', '0.28')\n",
      "('7', '0.5962500000000001', '0.6050000000000001', '0.3325', '0.08333333333333334')\n",
      "Image No. 85 saved\n",
      "size (400, 300)\n",
      "('0', '0.50125', '0.505', '0.9825', '0.9700000000000001')\n",
      "('7', '0.6637500000000001', '0.6366666666666667', '0.6625', '0.24000000000000002')\n",
      "('6', '0.61125', '0.25333333333333335', '0.7525000000000001', '0.44')\n",
      "('2', '0.22625', '0.775', '0.3725', '0.4033333333333334')\n",
      "Image No. 86 saved\n",
      "set label class to : Larm 6\n"
     ]
    },
    {
     "name": "stderr",
     "output_type": "stream",
     "text": [
      "Exception in Tkinter callback\n",
      "Traceback (most recent call last):\n",
      "  File \"D:\\apps\\Anaconda3\\lib\\tkinter\\__init__.py\", line 1699, in __call__\n",
      "    return self.func(*args)\n",
      "TypeError: setClass() missing 2 required positional arguments: 'b' and 'c'\n"
     ]
    },
    {
     "name": "stdout",
     "output_type": "stream",
     "text": [
      "size (400, 300)\n",
      "box (216, 127, 389, 222, 6)\n",
      "set label class to : Lleg 4\n"
     ]
    },
    {
     "name": "stderr",
     "output_type": "stream",
     "text": [
      "Exception in Tkinter callback\n",
      "Traceback (most recent call last):\n",
      "  File \"D:\\apps\\Anaconda3\\lib\\tkinter\\__init__.py\", line 1699, in __call__\n",
      "    return self.func(*args)\n",
      "TypeError: setClass() missing 2 required positional arguments: 'b' and 'c'\n"
     ]
    },
    {
     "name": "stdout",
     "output_type": "stream",
     "text": [
      "size (400, 300)\n",
      "box (215, 188, 312, 271, 4)\n",
      "set label class to : body 3\n"
     ]
    },
    {
     "name": "stderr",
     "output_type": "stream",
     "text": [
      "Exception in Tkinter callback\n",
      "Traceback (most recent call last):\n",
      "  File \"D:\\apps\\Anaconda3\\lib\\tkinter\\__init__.py\", line 1699, in __call__\n",
      "    return self.func(*args)\n",
      "TypeError: setClass() missing 2 required positional arguments: 'b' and 'c'\n"
     ]
    },
    {
     "name": "stdout",
     "output_type": "stream",
     "text": [
      "size (400, 300)\n",
      "box (199, 122, 289, 217, 3)\n",
      "size (400, 300)\n",
      "('0', '0.7325', '0.5183333333333333', '0.49', '0.8366666666666667')\n",
      "('2', '0.59875', '0.2816666666666667', '0.1875', '0.22333333333333336')\n",
      "(6, 0.75625, 0.5816666666666667, 0.4325, 0.3166666666666667)\n",
      "(4, 0.6587500000000001, 0.765, 0.2425, 0.27666666666666667)\n",
      "(3, 0.61, 0.5650000000000001, 0.225, 0.3166666666666667)\n",
      "Image No. 87 saved\n",
      "size (400, 300)\n",
      "Image No. 88 saved\n",
      "size (400, 300)\n",
      "box (123, 129, 278, 255, 3)\n",
      "set label class to : Rarm 7\n"
     ]
    },
    {
     "name": "stderr",
     "output_type": "stream",
     "text": [
      "Exception in Tkinter callback\n",
      "Traceback (most recent call last):\n",
      "  File \"D:\\apps\\Anaconda3\\lib\\tkinter\\__init__.py\", line 1699, in __call__\n",
      "    return self.func(*args)\n",
      "TypeError: setClass() missing 2 required positional arguments: 'b' and 'c'\n"
     ]
    },
    {
     "name": "stdout",
     "output_type": "stream",
     "text": [
      "size (400, 300)\n",
      "box (117, 146, 323, 294, 7)\n",
      "set label class to : Larm 6\n"
     ]
    },
    {
     "name": "stderr",
     "output_type": "stream",
     "text": [
      "Exception in Tkinter callback\n",
      "Traceback (most recent call last):\n",
      "  File \"D:\\apps\\Anaconda3\\lib\\tkinter\\__init__.py\", line 1699, in __call__\n",
      "    return self.func(*args)\n",
      "TypeError: setClass() missing 2 required positional arguments: 'b' and 'c'\n"
     ]
    },
    {
     "name": "stdout",
     "output_type": "stream",
     "text": [
      "size (400, 300)\n",
      "box (109, 82, 322, 161, 6)\n",
      "size (400, 300)\n",
      "('0', '0.4225', '0.635', '0.765', '0.7233333333333334')\n",
      "('2', '0.215', '0.5983333333333334', '0.34', '0.31')\n",
      "(3, 0.50125, 0.64, 0.3875, 0.42000000000000004)\n",
      "(7, 0.55, 0.7333333333333334, 0.515, 0.49333333333333335)\n",
      "(6, 0.5387500000000001, 0.405, 0.5325, 0.26333333333333336)\n",
      "Image No. 89 saved\n",
      "size (400, 300)\n",
      "box (108, 42, 365, 114, 6)\n",
      "set label class to : Rarm 7\n"
     ]
    },
    {
     "name": "stderr",
     "output_type": "stream",
     "text": [
      "Exception in Tkinter callback\n",
      "Traceback (most recent call last):\n",
      "  File \"D:\\apps\\Anaconda3\\lib\\tkinter\\__init__.py\", line 1699, in __call__\n",
      "    return self.func(*args)\n",
      "TypeError: setClass() missing 2 required positional arguments: 'b' and 'c'\n"
     ]
    },
    {
     "name": "stdout",
     "output_type": "stream",
     "text": [
      "size (400, 300)\n",
      "box (105, 138, 343, 283, 7)\n",
      "set label class to : body 3\n"
     ]
    },
    {
     "name": "stderr",
     "output_type": "stream",
     "text": [
      "Exception in Tkinter callback\n",
      "Traceback (most recent call last):\n",
      "  File \"D:\\apps\\Anaconda3\\lib\\tkinter\\__init__.py\", line 1699, in __call__\n",
      "    return self.func(*args)\n",
      "TypeError: setClass() missing 2 required positional arguments: 'b' and 'c'\n"
     ]
    },
    {
     "name": "stdout",
     "output_type": "stream",
     "text": [
      "size (400, 300)\n",
      "box (109, 90, 305, 235, 3)\n",
      "size (400, 300)\n",
      "('0', '0.4625', '0.545', '0.915', '0.8300000000000001')\n",
      "('2', '0.185', '0.48000000000000004', '0.32', '0.31333333333333335')\n",
      "(6, 0.59125, 0.26, 0.6425, 0.24000000000000002)\n",
      "(7, 0.56, 0.7016666666666667, 0.595, 0.48333333333333334)\n",
      "(3, 0.5175, 0.5416666666666667, 0.49, 0.48333333333333334)\n",
      "Image No. 90 saved\n",
      "size (400, 300)\n",
      "Image No. 91 saved\n",
      "size (400, 300)\n",
      "('0', '0.7262500000000001', '0.5633333333333334', '0.5475', '0.8733333333333334')\n",
      "('1', '0.23625000000000002', '0.5016666666666667', '0.4475', '0.9700000000000001')\n",
      "('2', '0.64', '0.44333333333333336', '0.32', '0.5666666666666667')\n",
      "('2', '0.2125', '0.395', '0.375', '0.5900000000000001')\n",
      "Image No. 92 saved\n",
      "size (400, 300)\n",
      "box (15, 164, 65, 234, 3)\n",
      "set label class to : Larm 6\n"
     ]
    },
    {
     "name": "stderr",
     "output_type": "stream",
     "text": [
      "Exception in Tkinter callback\n",
      "Traceback (most recent call last):\n",
      "  File \"D:\\apps\\Anaconda3\\lib\\tkinter\\__init__.py\", line 1699, in __call__\n",
      "    return self.func(*args)\n",
      "TypeError: setClass() missing 2 required positional arguments: 'b' and 'c'\n"
     ]
    },
    {
     "name": "stdout",
     "output_type": "stream",
     "text": [
      "size (400, 300)\n",
      "box (244, 150, 291, 286, 6)\n",
      "set label class to : body 3\n"
     ]
    },
    {
     "name": "stderr",
     "output_type": "stream",
     "text": [
      "Exception in Tkinter callback\n",
      "Traceback (most recent call last):\n",
      "  File \"D:\\apps\\Anaconda3\\lib\\tkinter\\__init__.py\", line 1699, in __call__\n",
      "    return self.func(*args)\n",
      "TypeError: setClass() missing 2 required positional arguments: 'b' and 'c'\n"
     ]
    },
    {
     "name": "stdout",
     "output_type": "stream",
     "text": [
      "size (400, 300)\n",
      "box (133, 185, 207, 295, 3)\n",
      "size (400, 300)\n",
      "('1', '0.8075', '0.6000000000000001', '0.275', '0.7466666666666667')\n",
      "('1', '0.59', '0.6666666666666667', '0.27', '0.6533333333333333')\n",
      "('0', '0.4025', '0.665', '0.215', '0.65')\n",
      "('0', '0.0975', '0.6583333333333333', '0.155', '0.4566666666666667')\n",
      "('2', '0.775', '0.32833333333333337', '0.14', '0.19666666666666668')\n",
      "('2', '0.5675', '0.4566666666666667', '0.125', '0.2066666666666667')\n",
      "('2', '0.4', '0.4683333333333334', '0.14', '0.2366666666666667')\n",
      "('2', '0.09375', '0.49500000000000005', '0.08750000000000001', '0.11')\n",
      "(3, 0.1, 0.6633333333333333, 0.125, 0.23333333333333334)\n",
      "(6, 0.6687500000000001, 0.7266666666666667, 0.11750000000000001, 0.45333333333333337)\n",
      "(3, 0.425, 0.8, 0.185, 0.3666666666666667)\n",
      "Image No. 93 saved\n",
      "size (400, 300)\n",
      "('0', '0.30875', '0.6583333333333333', '0.4225', '0.6966666666666667')\n",
      "('1', '0.76875', '0.5933333333333334', '0.4625', '0.8')\n",
      "('2', '0.32125', '0.5983333333333334', '0.3775', '0.5633333333333334')\n",
      "('2', '0.75125', '0.515', '0.3625', '0.6166666666666667')\n",
      "Image No. 94 saved\n",
      "size (400, 300)\n",
      "Image No. 95 saved\n",
      "size (400, 300)\n",
      "Image No. 96 saved\n",
      "size (400, 300)\n",
      "Image No. 97 saved\n",
      "size (400, 300)\n",
      "Image No. 98 saved\n",
      "size (400, 300)\n",
      "Image No. 99 saved\n",
      "size (400, 300)\n",
      "('1', '0.6012500000000001', '0.555', '0.7725', '0.7566666666666667')\n",
      "('2', '0.41500000000000004', '0.49333333333333335', '0.365', '0.37333333333333335')\n",
      "Image No. 100 saved\n",
      "size (400, 300)\n",
      "('1', '0.20750000000000002', '0.5883333333333334', '0.37', '0.7833333333333334')\n",
      "('1', '0.49375', '0.62', '0.3725', '0.7266666666666667')\n",
      "('1', '0.82625', '0.5716666666666667', '0.3425', '0.8300000000000001')\n",
      "('2', '0.22375', '0.41500000000000004', '0.1875', '0.35000000000000003')\n",
      "('2', '0.51', '0.4733333333333334', '0.21', '0.3466666666666667')\n",
      "('2', '0.81', '0.3466666666666667', '0.21', '0.3466666666666667')\n",
      "Image No. 101 saved\n",
      "size (400, 300)\n",
      "('1', '0.23125', '0.6033333333333334', '0.3875', '0.8200000000000001')\n",
      "('1', '0.7825', '0.5833333333333334', '0.445', '0.8066666666666668')\n",
      "('0', '0.5375', '0.6433333333333334', '0.265', '0.6866666666666668')\n",
      "('2', '0.3', '0.3866666666666667', '0.21', '0.3866666666666667')\n",
      "('2', '0.5225', '0.47500000000000003', '0.165', '0.3166666666666667')\n",
      "('2', '0.6875', '0.3916666666666667', '0.24', '0.38333333333333336')\n",
      "Image No. 102 saved\n",
      "set label class to : head 2\n"
     ]
    },
    {
     "name": "stderr",
     "output_type": "stream",
     "text": [
      "Exception in Tkinter callback\n",
      "Traceback (most recent call last):\n",
      "  File \"D:\\apps\\Anaconda3\\lib\\tkinter\\__init__.py\", line 1699, in __call__\n",
      "    return self.func(*args)\n",
      "TypeError: setClass() missing 2 required positional arguments: 'b' and 'c'\n"
     ]
    },
    {
     "name": "stdout",
     "output_type": "stream",
     "text": [
      "size (400, 300)\n",
      "box (39, 20, 195, 238, 2)\n",
      "size (400, 300)\n",
      "box (190, 80, 332, 252, 2)\n",
      "size (400, 300)\n",
      "('1', '0.2975', '0.5233333333333333', '0.5750000000000001', '0.9400000000000001')\n",
      "('1', '0.7275', '0.6116666666666667', '0.545', '0.75')\n",
      "(2, 0.2925, 0.43000000000000005, 0.39, 0.7266666666666667)\n",
      "(2, 0.6525, 0.5533333333333333, 0.355, 0.5733333333333334)\n",
      "Image No. 103 saved\n",
      "size (400, 300)\n",
      "box (267, 133, 310, 178, 2)\n",
      "size (400, 300)\n",
      "box (4, 99, 44, 166, 2)\n",
      "size (400, 300)\n",
      "('1', '0.15', '0.6383333333333334', '0.28', '0.63')\n",
      "('0', '0.47500000000000003', '0.63', '0.27', '0.5133333333333334')\n",
      "('0', '0.7262500000000001', '0.635', '0.2175', '0.39')\n",
      "('0', '0.3', '0.6566666666666667', '0.12', '0.30000000000000004')\n",
      "('2', '0.4875', '0.4666666666666667', '0.155', '0.2')\n",
      "(2, 0.7212500000000001, 0.5183333333333333, 0.1075, 0.15000000000000002)\n",
      "(2, 0.06, 0.4416666666666667, 0.1, 0.22333333333333336)\n",
      "Image No. 104 saved\n",
      "size (400, 300)\n",
      "box (197, 161, 224, 196, 2)\n",
      "size (400, 300)\n",
      "box (59, 134, 90, 164, 2)\n",
      "size (400, 300)\n",
      "box (95, 137, 117, 167, 2)\n",
      "size (400, 300)\n",
      "box (63, 192, 111, 261, 2)\n",
      "size (400, 300)\n",
      "box (231, 186, 251, 220, 2)\n",
      "set label class to : Larm 6\n"
     ]
    },
    {
     "name": "stderr",
     "output_type": "stream",
     "text": [
      "Exception in Tkinter callback\n",
      "Traceback (most recent call last):\n",
      "  File \"D:\\apps\\Anaconda3\\lib\\tkinter\\__init__.py\", line 1699, in __call__\n",
      "    return self.func(*args)\n",
      "TypeError: setClass() missing 2 required positional arguments: 'b' and 'c'\n"
     ]
    },
    {
     "name": "stdout",
     "output_type": "stream",
     "text": [
      "size (400, 300)\n",
      "box (35, 219, 75, 294, 6)\n",
      "size (400, 300)\n",
      "('0', '0.185', '0.8166666666666668', '0.21', '0.35333333333333333')\n",
      "('1', '0.17', '0.56', '0.125', '0.24000000000000002')\n",
      "('1', '0.26875', '0.5616666666666666', '0.0775', '0.22333333333333336')\n",
      "('1', '0.365', '0.6583333333333333', '0.1', '0.38333333333333336')\n",
      "('1', '0.50375', '0.6733333333333333', '0.1375', '0.24666666666666667')\n",
      "('1', '0.64', '0.7266666666666667', '0.13', '0.21333333333333335')\n",
      "('1', '0.84375', '0.8416666666666667', '0.17250000000000001', '0.3166666666666667')\n",
      "(2, 0.52625, 0.5950000000000001, 0.0675, 0.11666666666666667)\n",
      "(2, 0.18625, 0.4966666666666667, 0.0775, 0.1)\n",
      "(2, 0.265, 0.5066666666666667, 0.055, 0.1)\n",
      "(2, 0.2175, 0.755, 0.12, 0.23)\n",
      "(2, 0.6025, 0.6766666666666667, 0.05, 0.11333333333333334)\n",
      "(6, 0.1375, 0.8550000000000001, 0.1, 0.25)\n",
      "Image No. 105 saved\n",
      "size (400, 300)\n",
      "Image No. 106 saved\n",
      "size (400, 300)\n",
      "Image No. 107 saved\n",
      "size (400, 300)\n",
      "box (123, 129, 141, 174, 6)\n",
      "set label class to : Rarm 7\n"
     ]
    },
    {
     "name": "stderr",
     "output_type": "stream",
     "text": [
      "Exception in Tkinter callback\n",
      "Traceback (most recent call last):\n",
      "  File \"D:\\apps\\Anaconda3\\lib\\tkinter\\__init__.py\", line 1699, in __call__\n",
      "    return self.func(*args)\n",
      "TypeError: setClass() missing 2 required positional arguments: 'b' and 'c'\n"
     ]
    },
    {
     "name": "stdout",
     "output_type": "stream",
     "text": [
      "size (400, 300)\n",
      "box (143, 142, 179, 182, 7)\n",
      "set label class to : Lleg 4\n"
     ]
    },
    {
     "name": "stderr",
     "output_type": "stream",
     "text": [
      "Exception in Tkinter callback\n",
      "Traceback (most recent call last):\n",
      "  File \"D:\\apps\\Anaconda3\\lib\\tkinter\\__init__.py\", line 1699, in __call__\n",
      "    return self.func(*args)\n",
      "TypeError: setClass() missing 2 required positional arguments: 'b' and 'c'\n"
     ]
    },
    {
     "name": "stdout",
     "output_type": "stream",
     "text": [
      "size (400, 300)\n",
      "box (137, 187, 158, 250, 4)\n",
      "set label class to : Rleg 5\n"
     ]
    },
    {
     "name": "stderr",
     "output_type": "stream",
     "text": [
      "Exception in Tkinter callback\n",
      "Traceback (most recent call last):\n",
      "  File \"D:\\apps\\Anaconda3\\lib\\tkinter\\__init__.py\", line 1699, in __call__\n",
      "    return self.func(*args)\n",
      "TypeError: setClass() missing 2 required positional arguments: 'b' and 'c'\n"
     ]
    },
    {
     "name": "stdout",
     "output_type": "stream",
     "text": [
      "size (400, 300)\n",
      "box (153, 186, 173, 252, 5)\n",
      "set label class to : head 2\n"
     ]
    },
    {
     "name": "stderr",
     "output_type": "stream",
     "text": [
      "Exception in Tkinter callback\n",
      "Traceback (most recent call last):\n",
      "  File \"D:\\apps\\Anaconda3\\lib\\tkinter\\__init__.py\", line 1699, in __call__\n",
      "    return self.func(*args)\n",
      "TypeError: setClass() missing 2 required positional arguments: 'b' and 'c'\n"
     ]
    },
    {
     "name": "stdout",
     "output_type": "stream",
     "text": [
      "size (400, 300)\n",
      "box (137, 143, 151, 165, 2)\n",
      "set label class to : body 3\n"
     ]
    },
    {
     "name": "stderr",
     "output_type": "stream",
     "text": [
      "Exception in Tkinter callback\n",
      "Traceback (most recent call last):\n",
      "  File \"D:\\apps\\Anaconda3\\lib\\tkinter\\__init__.py\", line 1699, in __call__\n",
      "    return self.func(*args)\n",
      "TypeError: setClass() missing 2 required positional arguments: 'b' and 'c'\n"
     ]
    },
    {
     "name": "stdout",
     "output_type": "stream",
     "text": [
      "size (400, 300)\n",
      "box (136, 162, 161, 192, 3)\n",
      "size (400, 300)\n",
      "('0', '0.3725', '0.6283333333333334', '0.145', '0.43000000000000005')\n",
      "(6, 0.33, 0.505, 0.045, 0.15000000000000002)\n",
      "(7, 0.4025, 0.54, 0.09, 0.13333333333333333)\n",
      "(4, 0.36875, 0.7283333333333334, 0.0525, 0.21000000000000002)\n",
      "(5, 0.40750000000000003, 0.7300000000000001, 0.05, 0.22)\n",
      "(2, 0.36, 0.5133333333333334, 0.035, 0.07333333333333333)\n",
      "(3, 0.37125, 0.5900000000000001, 0.0625, 0.1)\n",
      "Image No. 108 saved\n",
      "size (400, 300)\n",
      "Image No. 109 saved\n",
      "size (400, 300)\n",
      "Image No. 110 saved\n",
      "size (400, 300)\n",
      "Image No. 111 saved\n",
      "set label class to : man 1\n"
     ]
    },
    {
     "name": "stderr",
     "output_type": "stream",
     "text": [
      "Exception in Tkinter callback\n",
      "Traceback (most recent call last):\n",
      "  File \"D:\\apps\\Anaconda3\\lib\\tkinter\\__init__.py\", line 1699, in __call__\n",
      "    return self.func(*args)\n",
      "TypeError: setClass() missing 2 required positional arguments: 'b' and 'c'\n"
     ]
    },
    {
     "name": "stdout",
     "output_type": "stream",
     "text": [
      "size (400, 300)\n",
      "box (114, 189, 159, 270, 1)\n",
      "size (400, 300)\n",
      "box (157, 172, 198, 256, 1)\n",
      "size (400, 300)\n",
      "box (207, 144, 232, 256, 1)\n",
      "size (400, 300)\n",
      "box (235, 148, 264, 203, 1)\n",
      "size (400, 300)\n",
      "(1, 0.34125, 0.765, 0.1125, 0.27)\n",
      "(1, 0.44375000000000003, 0.7133333333333334, 0.10250000000000001, 0.28)\n",
      "(1, 0.54875, 0.6666666666666667, 0.0625, 0.37333333333333335)\n",
      "(1, 0.62375, 0.5850000000000001, 0.0725, 0.18333333333333335)\n",
      "Image No. 112 saved\n",
      "size (400, 300)\n",
      "Image No. 113 saved\n",
      "size (400, 300)\n",
      "Image No. 114 saved\n",
      "size (400, 300)\n",
      "Image No. 115 saved\n",
      "set label class to : head 2\n"
     ]
    },
    {
     "name": "stderr",
     "output_type": "stream",
     "text": [
      "Exception in Tkinter callback\n",
      "Traceback (most recent call last):\n",
      "  File \"D:\\apps\\Anaconda3\\lib\\tkinter\\__init__.py\", line 1699, in __call__\n",
      "    return self.func(*args)\n",
      "TypeError: setClass() missing 2 required positional arguments: 'b' and 'c'\n"
     ]
    },
    {
     "name": "stdout",
     "output_type": "stream",
     "text": [
      "size (400, 300)\n",
      "box (167, 182, 195, 218, 2)\n",
      "size (400, 300)\n",
      "box (265, 170, 303, 216, 2)\n",
      "size (400, 300)\n",
      "box (90, 166, 112, 192, 2)\n",
      "size (400, 300)\n",
      "box (7, 166, 30, 198, 2)\n",
      "set label class to : Rarm 7\n"
     ]
    },
    {
     "name": "stderr",
     "output_type": "stream",
     "text": [
      "Exception in Tkinter callback\n",
      "Traceback (most recent call last):\n",
      "  File \"D:\\apps\\Anaconda3\\lib\\tkinter\\__init__.py\", line 1699, in __call__\n",
      "    return self.func(*args)\n",
      "TypeError: setClass() missing 2 required positional arguments: 'b' and 'c'\n"
     ]
    },
    {
     "name": "stdout",
     "output_type": "stream",
     "text": [
      "size (400, 300)\n",
      "box (21, 198, 60, 294, 7)\n",
      "size (400, 300)\n",
      "box (88, 190, 119, 230, 7)\n",
      "size (400, 300)\n",
      "box (268, 194, 332, 264, 7)\n",
      "size (400, 300)\n",
      "('1', '0.45875', '0.7966666666666667', '0.20750000000000002', '0.3666666666666667')\n",
      "('1', '0.255', '0.6950000000000001', '0.1', '0.2366666666666667')\n",
      "('1', '0.74', '0.7766666666666667', '0.215', '0.42000000000000004')\n",
      "('1', '0.08875', '0.77', '0.1525', '0.4066666666666667')\n",
      "(2, 0.4525, 0.6666666666666667, 0.07, 0.12000000000000001)\n",
      "(2, 0.71, 0.6433333333333334, 0.095, 0.15333333333333335)\n",
      "(2, 0.2525, 0.5966666666666667, 0.055, 0.08666666666666667)\n",
      "(2, 0.04625, 0.6066666666666667, 0.0575, 0.10666666666666667)\n",
      "(7, 0.10125, 0.8200000000000001, 0.0975, 0.32)\n",
      "(7, 0.25875, 0.7000000000000001, 0.0775, 0.13333333333333333)\n",
      "(7, 0.75, 0.7633333333333334, 0.16, 0.23333333333333334)\n",
      "Image No. 116 saved\n",
      "set label class to : head 2\n"
     ]
    },
    {
     "name": "stderr",
     "output_type": "stream",
     "text": [
      "Exception in Tkinter callback\n",
      "Traceback (most recent call last):\n",
      "  File \"D:\\apps\\Anaconda3\\lib\\tkinter\\__init__.py\", line 1699, in __call__\n",
      "    return self.func(*args)\n",
      "TypeError: setClass() missing 2 required positional arguments: 'b' and 'c'\n"
     ]
    },
    {
     "name": "stdout",
     "output_type": "stream",
     "text": [
      "size (400, 300)\n",
      "box (181, 208, 227, 263, 2)\n",
      "size (400, 300)\n",
      "box (97, 209, 169, 282, 2)\n",
      "size (400, 300)\n",
      "box (349, 197, 401, 281, 2)\n",
      "size (400, 300)\n",
      "('0', '0.295', '0.8366666666666667', '0.25', '0.30000000000000004')\n",
      "('0', '0.49375', '0.8483333333333334', '0.2525', '0.31')\n",
      "('1', '0.84125', '0.8116666666666668', '0.3125', '0.36333333333333334')\n",
      "(2, 0.51, 0.785, 0.115, 0.18333333333333335)\n",
      "(2, 0.3325, 0.8183333333333334, 0.18, 0.24333333333333335)\n",
      "(2, 0.9375, 0.7966666666666667, 0.13, 0.28)\n",
      "Image No. 117 saved\n",
      "size (400, 300)\n",
      "Image No. 118 saved\n",
      "size (400, 300)\n",
      "Image No. 119 saved\n",
      "size (400, 300)\n",
      "box (51, 30, 117, 109, 2)\n",
      "size (400, 300)\n",
      "box (248, 62, 323, 153, 2)\n",
      "set label class to : Rarm 7\n"
     ]
    },
    {
     "name": "stderr",
     "output_type": "stream",
     "text": [
      "Exception in Tkinter callback\n",
      "Traceback (most recent call last):\n",
      "  File \"D:\\apps\\Anaconda3\\lib\\tkinter\\__init__.py\", line 1699, in __call__\n",
      "    return self.func(*args)\n",
      "TypeError: setClass() missing 2 required positional arguments: 'b' and 'c'\n"
     ]
    },
    {
     "name": "stdout",
     "output_type": "stream",
     "text": [
      "size (400, 300)\n",
      "box (187, 127, 282, 232, 7)\n",
      "size (400, 300)\n",
      "box (31, 110, 77, 224, 7)\n",
      "set label class to : Larm 6\n"
     ]
    },
    {
     "name": "stderr",
     "output_type": "stream",
     "text": [
      "Exception in Tkinter callback\n",
      "Traceback (most recent call last):\n",
      "  File \"D:\\apps\\Anaconda3\\lib\\tkinter\\__init__.py\", line 1699, in __call__\n",
      "    return self.func(*args)\n",
      "TypeError: setClass() missing 2 required positional arguments: 'b' and 'c'\n"
     ]
    },
    {
     "name": "stdout",
     "output_type": "stream",
     "text": [
      "size (400, 300)\n",
      "box (318, 121, 396, 238, 6)\n",
      "size (400, 300)\n",
      "box (133, 99, 184, 220, 6)\n",
      "set label class to : body 3\n"
     ]
    },
    {
     "name": "stderr",
     "output_type": "stream",
     "text": [
      "Exception in Tkinter callback\n",
      "Traceback (most recent call last):\n",
      "  File \"D:\\apps\\Anaconda3\\lib\\tkinter\\__init__.py\", line 1699, in __call__\n",
      "    return self.func(*args)\n",
      "TypeError: setClass() missing 2 required positional arguments: 'b' and 'c'\n"
     ]
    },
    {
     "name": "stdout",
     "output_type": "stream",
     "text": [
      "size (400, 300)\n",
      "box (52, 102, 150, 220, 3)\n",
      "size (400, 300)\n",
      "box (231, 127, 343, 235, 3)\n",
      "size (400, 300)\n",
      "('1', '0.26', '0.4466666666666667', '0.4', '0.6733333333333333')\n",
      "('0', '0.7275', '0.5033333333333334', '0.515', '0.5866666666666667')\n",
      "(2, 0.21, 0.2316666666666667, 0.165, 0.26333333333333336)\n",
      "(2, 0.71375, 0.35833333333333334, 0.1875, 0.30333333333333334)\n",
      "(7, 0.58625, 0.5983333333333334, 0.23750000000000002, 0.35000000000000003)\n",
      "(7, 0.135, 0.5566666666666668, 0.115, 0.38)\n",
      "(6, 0.8925000000000001, 0.5983333333333334, 0.195, 0.39)\n",
      "(6, 0.39625, 0.5316666666666667, 0.1275, 0.4033333333333334)\n",
      "(3, 0.2525, 0.5366666666666667, 0.245, 0.39333333333333337)\n",
      "(3, 0.7175, 0.6033333333333334, 0.28, 0.36000000000000004)\n",
      "Image No. 120 saved\n",
      "size (400, 300)\n",
      "box (85, 108, 191, 228, 3)\n",
      "size (400, 300)\n",
      "box (212, 122, 329, 240, 3)\n",
      "set label class to : head 2\n"
     ]
    },
    {
     "name": "stderr",
     "output_type": "stream",
     "text": [
      "Exception in Tkinter callback\n",
      "Traceback (most recent call last):\n",
      "  File \"D:\\apps\\Anaconda3\\lib\\tkinter\\__init__.py\", line 1699, in __call__\n",
      "    return self.func(*args)\n",
      "TypeError: setClass() missing 2 required positional arguments: 'b' and 'c'\n"
     ]
    },
    {
     "name": "stdout",
     "output_type": "stream",
     "text": [
      "size (400, 300)\n",
      "box (121, 43, 179, 116, 2)\n",
      "size (400, 300)\n",
      "box (213, 63, 269, 132, 2)\n",
      "set label class to : Rarm 7\n"
     ]
    },
    {
     "name": "stderr",
     "output_type": "stream",
     "text": [
      "Exception in Tkinter callback\n",
      "Traceback (most recent call last):\n",
      "  File \"D:\\apps\\Anaconda3\\lib\\tkinter\\__init__.py\", line 1699, in __call__\n",
      "    return self.func(*args)\n",
      "TypeError: setClass() missing 2 required positional arguments: 'b' and 'c'\n"
     ]
    },
    {
     "name": "stdout",
     "output_type": "stream",
     "text": [
      "size (400, 300)\n",
      "box (49, 106, 162, 213, 7)\n",
      "size (400, 300)\n",
      "('0', '0.69625', '0.5233333333333333', '0.4875', '0.5933333333333334')\n",
      "('1', '0.2975', '0.4683333333333334', '0.375', '0.67')\n",
      "(3, 0.34500000000000003, 0.56, 0.265, 0.4)\n",
      "(3, 0.67625, 0.6033333333333334, 0.2925, 0.39333333333333337)\n",
      "(2, 0.375, 0.265, 0.145, 0.24333333333333335)\n",
      "(2, 0.6025, 0.325, 0.14, 0.23)\n",
      "(7, 0.26375, 0.5316666666666667, 0.28250000000000003, 0.3566666666666667)\n",
      "Image No. 121 saved\n",
      "size (400, 300)\n",
      "box (55, 110, 163, 224, 7)\n",
      "set label class to : head 2\n"
     ]
    },
    {
     "name": "stderr",
     "output_type": "stream",
     "text": [
      "Exception in Tkinter callback\n",
      "Traceback (most recent call last):\n",
      "  File \"D:\\apps\\Anaconda3\\lib\\tkinter\\__init__.py\", line 1699, in __call__\n",
      "    return self.func(*args)\n",
      "TypeError: setClass() missing 2 required positional arguments: 'b' and 'c'\n"
     ]
    },
    {
     "name": "stdout",
     "output_type": "stream",
     "text": [
      "size (400, 300)\n",
      "box (120, 52, 177, 128, 2)\n",
      "size (400, 300)\n",
      "box (219, 73, 280, 142, 2)\n",
      "set label class to : body 3\n"
     ]
    },
    {
     "name": "stderr",
     "output_type": "stream",
     "text": [
      "Exception in Tkinter callback\n",
      "Traceback (most recent call last):\n",
      "  File \"D:\\apps\\Anaconda3\\lib\\tkinter\\__init__.py\", line 1699, in __call__\n",
      "    return self.func(*args)\n",
      "TypeError: setClass() missing 2 required positional arguments: 'b' and 'c'\n"
     ]
    },
    {
     "name": "stdout",
     "output_type": "stream",
     "text": [
      "size (400, 300)\n",
      "box (87, 120, 190, 234, 3)\n",
      "set label class to : Larm 6\n"
     ]
    },
    {
     "name": "stderr",
     "output_type": "stream",
     "text": [
      "Exception in Tkinter callback\n",
      "Traceback (most recent call last):\n",
      "  File \"D:\\apps\\Anaconda3\\lib\\tkinter\\__init__.py\", line 1699, in __call__\n",
      "    return self.func(*args)\n",
      "TypeError: setClass() missing 2 required positional arguments: 'b' and 'c'\n"
     ]
    },
    {
     "name": "stdout",
     "output_type": "stream",
     "text": [
      "size (400, 300)\n",
      "box (271, 124, 335, 242, 6)\n",
      "size (400, 300)\n",
      "('1', '0.325', '0.48333333333333334', '0.39', '0.62')\n",
      "('0', '0.6637500000000001', '0.56', '0.3425', '0.6266666666666667')\n",
      "(7, 0.2725, 0.5566666666666668, 0.27, 0.38)\n",
      "(2, 0.37125, 0.30000000000000004, 0.14250000000000002, 0.25333333333333335)\n",
      "(2, 0.62375, 0.35833333333333334, 0.1525, 0.23)\n",
      "(3, 0.34625, 0.5900000000000001, 0.2575, 0.38)\n",
      "(6, 0.7575000000000001, 0.61, 0.16, 0.39333333333333337)\n",
      "Image No. 122 saved\n",
      "set label class to : Lleg 4\n"
     ]
    },
    {
     "name": "stderr",
     "output_type": "stream",
     "text": [
      "Exception in Tkinter callback\n",
      "Traceback (most recent call last):\n",
      "  File \"D:\\apps\\Anaconda3\\lib\\tkinter\\__init__.py\", line 1699, in __call__\n",
      "    return self.func(*args)\n",
      "TypeError: setClass() missing 2 required positional arguments: 'b' and 'c'\n"
     ]
    },
    {
     "name": "stdout",
     "output_type": "stream",
     "text": [
      "size (400, 300)\n",
      "box (89, 160, 131, 244, 4)\n",
      "size (400, 300)\n",
      "box (45, 88, 65, 156, 4)\n",
      "size (400, 300)\n",
      "box (298, 173, 327, 255, 4)\n",
      "set label class to : Rleg 5\n"
     ]
    },
    {
     "name": "stderr",
     "output_type": "stream",
     "text": [
      "Exception in Tkinter callback\n",
      "Traceback (most recent call last):\n",
      "  File \"D:\\apps\\Anaconda3\\lib\\tkinter\\__init__.py\", line 1699, in __call__\n",
      "    return self.func(*args)\n",
      "TypeError: setClass() missing 2 required positional arguments: 'b' and 'c'\n"
     ]
    },
    {
     "name": "stdout",
     "output_type": "stream",
     "text": [
      "size (400, 300)\n",
      "box (209, 211, 238, 295, 5)\n",
      "size (400, 300)\n",
      "box (126, 170, 162, 242, 5)\n",
      "size (400, 300)\n",
      "box (62, 88, 79, 156, 5)\n",
      "size (400, 300)\n",
      "box (11, 119, 32, 191, 5)\n",
      "size (400, 300)\n",
      "('0', '0.31375000000000003', '0.5933333333333334', '0.1875', '0.4666666666666667')\n",
      "('0', '0.535', '0.7333333333333334', '0.19', '0.48000000000000004')\n",
      "('0', '0.6025', '0.44', '0.095', '0.4066666666666667')\n",
      "('0', '0.71375', '0.39', '0.14250000000000002', '0.4466666666666667')\n",
      "('0', '0.0575', '0.42000000000000004', '0.095', '0.45333333333333337')\n",
      "('0', '0.15', '0.33333333333333337', '0.09', '0.4')\n",
      "('1', '0.7837500000000001', '0.5966666666666667', '0.1375', '0.5266666666666667')\n",
      "(4, 0.275, 0.6733333333333333, 0.105, 0.28)\n",
      "(4, 0.1375, 0.4066666666666667, 0.05, 0.22666666666666668)\n",
      "(4, 0.78125, 0.7133333333333334, 0.0725, 0.2733333333333334)\n",
      "(5, 0.55875, 0.8433333333333334, 0.0725, 0.28)\n",
      "(5, 0.36, 0.6866666666666668, 0.09, 0.24000000000000002)\n",
      "(5, 0.17625, 0.4066666666666667, 0.0425, 0.22666666666666668)\n",
      "(5, 0.05375, 0.5166666666666667, 0.0525, 0.24000000000000002)\n",
      "Image No. 123 saved\n",
      "set label class to : head 2\n"
     ]
    },
    {
     "name": "stderr",
     "output_type": "stream",
     "text": [
      "Exception in Tkinter callback\n",
      "Traceback (most recent call last):\n",
      "  File \"D:\\apps\\Anaconda3\\lib\\tkinter\\__init__.py\", line 1699, in __call__\n",
      "    return self.func(*args)\n",
      "TypeError: setClass() missing 2 required positional arguments: 'b' and 'c'\n"
     ]
    },
    {
     "name": "stdout",
     "output_type": "stream",
     "text": [
      "size (400, 300)\n",
      "box (140, 128, 170, 171, 2)\n",
      "size (400, 300)\n",
      "box (170, 65, 193, 98, 2)\n",
      "set label class to : Rarm 7\n"
     ]
    },
    {
     "name": "stderr",
     "output_type": "stream",
     "text": [
      "Exception in Tkinter callback\n",
      "Traceback (most recent call last):\n",
      "  File \"D:\\apps\\Anaconda3\\lib\\tkinter\\__init__.py\", line 1699, in __call__\n",
      "    return self.func(*args)\n",
      "TypeError: setClass() missing 2 required positional arguments: 'b' and 'c'\n"
     ]
    },
    {
     "name": "stdout",
     "output_type": "stream",
     "text": [
      "size (400, 300)\n",
      "box (169, 98, 204, 162, 7)\n",
      "size (400, 300)\n",
      "box (130, 168, 214, 226, 7)\n",
      "set label class to : body 3\n"
     ]
    },
    {
     "name": "stderr",
     "output_type": "stream",
     "text": [
      "Exception in Tkinter callback\n",
      "Traceback (most recent call last):\n",
      "  File \"D:\\apps\\Anaconda3\\lib\\tkinter\\__init__.py\", line 1699, in __call__\n",
      "    return self.func(*args)\n",
      "TypeError: setClass() missing 2 required positional arguments: 'b' and 'c'\n"
     ]
    },
    {
     "name": "stdout",
     "output_type": "stream",
     "text": [
      "size (400, 300)\n",
      "box (151, 92, 187, 155, 3)\n",
      "size (400, 300)\n",
      "box (130, 172, 171, 258, 3)\n",
      "size (400, 300)\n",
      "('1', '0.4275', '0.7000000000000001', '0.225', '0.5466666666666667')\n",
      "('1', '0.42625', '0.5233333333333333', '0.11750000000000001', '0.62')\n",
      "(2, 0.3875, 0.49833333333333335, 0.075, 0.14333333333333334)\n",
      "(2, 0.45375, 0.27166666666666667, 0.0575, 0.11)\n",
      "(7, 0.46625, 0.43333333333333335, 0.08750000000000001, 0.21333333333333335)\n",
      "(7, 0.43, 0.6566666666666667, 0.21, 0.19333333333333336)\n",
      "(3, 0.4225, 0.4116666666666667, 0.09, 0.21000000000000002)\n",
      "(3, 0.37625000000000003, 0.7166666666666667, 0.10250000000000001, 0.2866666666666667)\n",
      "Image No. 124 saved\n",
      "size (400, 300)\n",
      "box (66, 139, 89, 189, 3)\n",
      "size (400, 300)\n",
      "box (196, 159, 226, 198, 3)\n",
      "size (400, 300)\n",
      "box (123, 236, 151, 270, 3)\n",
      "set label class to : head 2\n"
     ]
    },
    {
     "name": "stderr",
     "output_type": "stream",
     "text": [
      "Exception in Tkinter callback\n",
      "Traceback (most recent call last):\n",
      "  File \"D:\\apps\\Anaconda3\\lib\\tkinter\\__init__.py\", line 1699, in __call__\n",
      "    return self.func(*args)\n",
      "TypeError: setClass() missing 2 required positional arguments: 'b' and 'c'\n"
     ]
    },
    {
     "name": "stdout",
     "output_type": "stream",
     "text": [
      "size (400, 300)\n",
      "box (195, 144, 214, 161, 2)\n",
      "set label class to : Rarm 7\n"
     ]
    },
    {
     "name": "stderr",
     "output_type": "stream",
     "text": [
      "Exception in Tkinter callback\n",
      "Traceback (most recent call last):\n",
      "  File \"D:\\apps\\Anaconda3\\lib\\tkinter\\__init__.py\", line 1699, in __call__\n",
      "    return self.func(*args)\n",
      "TypeError: setClass() missing 2 required positional arguments: 'b' and 'c'\n"
     ]
    },
    {
     "name": "stdout",
     "output_type": "stream",
     "text": [
      "size (400, 300)\n",
      "box (144, 236, 166, 272, 7)\n",
      "size (400, 300)\n",
      "box (84, 94, 106, 147, 7)\n",
      "set label class to : Larm 6\n"
     ]
    },
    {
     "name": "stderr",
     "output_type": "stream",
     "text": [
      "Exception in Tkinter callback\n",
      "Traceback (most recent call last):\n",
      "  File \"D:\\apps\\Anaconda3\\lib\\tkinter\\__init__.py\", line 1699, in __call__\n",
      "    return self.func(*args)\n",
      "TypeError: setClass() missing 2 required positional arguments: 'b' and 'c'\n"
     ]
    },
    {
     "name": "stdout",
     "output_type": "stream",
     "text": [
      "size (400, 300)\n",
      "box (99, 237, 131, 274, 6)\n",
      "size (400, 300)\n",
      "box (64, 94, 77, 144, 6)\n",
      "size (400, 300)\n",
      "box (188, 164, 202, 194, 6)\n",
      "size (400, 300)\n",
      "box (206, 162, 223, 200, 6)\n",
      "size (400, 300)\n",
      "('1', '0.3325', '0.8650000000000001', '0.17500000000000002', '0.27')\n",
      "('1', '0.20625000000000002', '0.5800000000000001', '0.0975', '0.5466666666666667')\n",
      "('1', '0.5375', '0.6383333333333334', '0.17500000000000002', '0.3433333333333334')\n",
      "(3, 0.19375, 0.5466666666666667, 0.0575, 0.16666666666666669)\n",
      "(3, 0.5275, 0.5950000000000001, 0.075, 0.13)\n",
      "(3, 0.3425, 0.8433333333333334, 0.07, 0.11333333333333334)\n",
      "(2, 0.51125, 0.5083333333333334, 0.0475, 0.05666666666666667)\n",
      "(7, 0.3875, 0.8466666666666667, 0.055, 0.12000000000000001)\n",
      "(7, 0.23750000000000002, 0.40166666666666667, 0.055, 0.17666666666666667)\n",
      "(6, 0.28750000000000003, 0.8516666666666667, 0.08, 0.12333333333333334)\n",
      "(6, 0.17625, 0.39666666666666667, 0.0325, 0.16666666666666669)\n",
      "(6, 0.53625, 0.6033333333333334, 0.0425, 0.12666666666666668)\n",
      "Image No. 125 saved\n",
      "size (400, 300)\n",
      "('1', '0.1575', '0.8300000000000001', '0.1', '0.32666666666666666')\n",
      "('1', '0.29125', '0.8500000000000001', '0.1125', '0.30000000000000004')\n",
      "('1', '0.41625', '0.8666666666666667', '0.1125', '0.25333333333333335')\n",
      "('1', '0.92', '0.6033333333333334', '0.09', '0.4066666666666667')\n",
      "Image No. 126 saved\n"
     ]
    },
    {
     "name": "stderr",
     "output_type": "stream",
     "text": [
      "Exception in Tkinter callback\n",
      "Traceback (most recent call last):\n",
      "  File \"D:\\apps\\Anaconda3\\lib\\tkinter\\__init__.py\", line 1699, in __call__\n",
      "    return self.func(*args)\n",
      "TypeError: setClass() missing 2 required positional arguments: 'b' and 'c'\n"
     ]
    },
    {
     "name": "stdout",
     "output_type": "stream",
     "text": [
      "set label class to : Rleg 5\n"
     ]
    },
    {
     "name": "stderr",
     "output_type": "stream",
     "text": [
      "Exception in Tkinter callback\n",
      "Traceback (most recent call last):\n",
      "  File \"D:\\apps\\Anaconda3\\lib\\tkinter\\__init__.py\", line 1699, in __call__\n",
      "    return self.func(*args)\n",
      "TypeError: setClass() missing 2 required positional arguments: 'b' and 'c'\n"
     ]
    },
    {
     "name": "stdout",
     "output_type": "stream",
     "text": [
      "size (400, 300)\n",
      "box (101, 161, 122, 238, 5)\n",
      "size (400, 300)\n",
      "box (284, 169, 303, 224, 5)\n",
      "size (400, 300)\n",
      "box (264, 252, 283, 296, 5)\n",
      "set label class to : Lleg 4\n"
     ]
    },
    {
     "name": "stderr",
     "output_type": "stream",
     "text": [
      "Exception in Tkinter callback\n",
      "Traceback (most recent call last):\n",
      "  File \"D:\\apps\\Anaconda3\\lib\\tkinter\\__init__.py\", line 1699, in __call__\n",
      "    return self.func(*args)\n",
      "TypeError: setClass() missing 2 required positional arguments: 'b' and 'c'\n"
     ]
    },
    {
     "name": "stdout",
     "output_type": "stream",
     "text": [
      "size (400, 300)\n",
      "box (235, 252, 266, 296, 4)\n",
      "size (400, 300)\n",
      "box (89, 164, 110, 236, 4)\n",
      "size (400, 300)\n",
      "box (299, 166, 328, 222, 4)\n",
      "size (400, 300)\n",
      "('1', '0.28875', '0.5166666666666667', '0.14250000000000002', '0.5666666666666667')\n",
      "('1', '0.65375', '0.8400000000000001', '0.1525', '0.3066666666666667')\n",
      "('1', '0.7575000000000001', '0.5966666666666667', '0.14', '0.32666666666666666')\n",
      "(5, 0.27875, 0.665, 0.0525, 0.2566666666666667)\n",
      "(5, 0.73375, 0.655, 0.0475, 0.18333333333333335)\n",
      "(5, 0.68375, 0.9133333333333334, 0.0475, 0.14666666666666667)\n",
      "(4, 0.62625, 0.9133333333333334, 0.0775, 0.14666666666666667)\n",
      "(4, 0.24875, 0.6666666666666667, 0.0525, 0.24000000000000002)\n",
      "(4, 0.7837500000000001, 0.6466666666666667, 0.0725, 0.18666666666666668)\n",
      "Image No. 127 saved\n",
      "size (400, 300)\n",
      "('1', '0.56375', '0.6466666666666667', '0.1325', '0.48000000000000004')\n",
      "('1', '0.9', '0.7066666666666667', '0.155', '0.2733333333333334')\n",
      "Image No. 128 saved\n",
      "size (400, 300)\n",
      "('1', '0.41125', '0.6166666666666667', '0.1225', '0.38')\n",
      "('1', '0.715', '0.555', '0.1', '0.5166666666666667')\n",
      "Image No. 129 saved\n",
      "size (400, 300)\n",
      "('1', '0.33125', '0.6333333333333334', '0.1225', '0.3466666666666667')\n",
      "('1', '0.52125', '0.655', '0.1325', '0.3766666666666667')\n",
      "Image No. 130 saved\n",
      "size (400, 300)\n",
      "('1', '0.50125', '0.7233333333333334', '0.1325', '0.43333333333333335')\n",
      "('1', '0.3225', '0.5533333333333333', '0.115', '0.36000000000000004')\n",
      "Image No. 131 saved\n",
      "set label class to : head 2\n"
     ]
    },
    {
     "name": "stderr",
     "output_type": "stream",
     "text": [
      "Exception in Tkinter callback\n",
      "Traceback (most recent call last):\n",
      "  File \"D:\\apps\\Anaconda3\\lib\\tkinter\\__init__.py\", line 1699, in __call__\n",
      "    return self.func(*args)\n",
      "TypeError: setClass() missing 2 required positional arguments: 'b' and 'c'\n"
     ]
    },
    {
     "name": "stdout",
     "output_type": "stream",
     "text": [
      "size (400, 300)\n",
      "box (33, 62, 69, 112, 2)\n",
      "size (400, 300)\n",
      "box (86, 72, 120, 117, 2)\n",
      "size (400, 300)\n",
      "box (163, 67, 193, 105, 2)\n",
      "size (400, 300)\n",
      "box (216, 90, 243, 120, 2)\n",
      "size (400, 300)\n",
      "box (271, 80, 313, 131, 2)\n",
      "set label class to : Larm 6\n"
     ]
    },
    {
     "name": "stderr",
     "output_type": "stream",
     "text": [
      "Exception in Tkinter callback\n",
      "Traceback (most recent call last):\n",
      "  File \"D:\\apps\\Anaconda3\\lib\\tkinter\\__init__.py\", line 1699, in __call__\n",
      "    return self.func(*args)\n",
      "TypeError: setClass() missing 2 required positional arguments: 'b' and 'c'\n"
     ]
    },
    {
     "name": "stdout",
     "output_type": "stream",
     "text": [
      "size (400, 300)\n",
      "box (262, 126, 346, 211, 6)\n",
      "set label class to : Rarm 7\n"
     ]
    },
    {
     "name": "stderr",
     "output_type": "stream",
     "text": [
      "Exception in Tkinter callback\n",
      "Traceback (most recent call last):\n",
      "  File \"D:\\apps\\Anaconda3\\lib\\tkinter\\__init__.py\", line 1699, in __call__\n",
      "    return self.func(*args)\n",
      "TypeError: setClass() missing 2 required positional arguments: 'b' and 'c'\n"
     ]
    },
    {
     "name": "stdout",
     "output_type": "stream",
     "text": [
      "size (400, 300)\n",
      "box (15, 104, 54, 172, 7)\n",
      "size (400, 300)\n",
      "box (134, 98, 171, 154, 7)\n",
      "set label class to : body 3\n"
     ]
    },
    {
     "name": "stderr",
     "output_type": "stream",
     "text": [
      "Exception in Tkinter callback\n",
      "Traceback (most recent call last):\n",
      "  File \"D:\\apps\\Anaconda3\\lib\\tkinter\\__init__.py\", line 1699, in __call__\n",
      "    return self.func(*args)\n",
      "TypeError: setClass() missing 2 required positional arguments: 'b' and 'c'\n"
     ]
    },
    {
     "name": "stdout",
     "output_type": "stream",
     "text": [
      "size (400, 300)\n",
      "box (35, 112, 89, 212, 3)\n",
      "size (400, 300)\n",
      "box (149, 102, 197, 172, 3)\n",
      "set label class to : Rleg 5\n"
     ]
    },
    {
     "name": "stderr",
     "output_type": "stream",
     "text": [
      "Exception in Tkinter callback\n",
      "Traceback (most recent call last):\n",
      "  File \"D:\\apps\\Anaconda3\\lib\\tkinter\\__init__.py\", line 1699, in __call__\n",
      "    return self.func(*args)\n",
      "TypeError: setClass() missing 2 required positional arguments: 'b' and 'c'\n"
     ]
    },
    {
     "name": "stdout",
     "output_type": "stream",
     "text": [
      "size (400, 300)\n",
      "box (139, 167, 170, 296, 5)\n",
      "size (400, 300)\n",
      "box (37, 191, 69, 296, 5)\n",
      "size (400, 300)\n",
      "box (210, 181, 233, 284, 5)\n",
      "set label class to : Lleg 4\n"
     ]
    },
    {
     "name": "stderr",
     "output_type": "stream",
     "text": [
      "Exception in Tkinter callback\n",
      "Traceback (most recent call last):\n",
      "  File \"D:\\apps\\Anaconda3\\lib\\tkinter\\__init__.py\", line 1699, in __call__\n",
      "    return self.func(*args)\n",
      "TypeError: setClass() missing 2 required positional arguments: 'b' and 'c'\n"
     ]
    },
    {
     "name": "stdout",
     "output_type": "stream",
     "text": [
      "size (400, 300)\n",
      "box (173, 173, 207, 294, 4)\n",
      "size (400, 300)\n",
      "box (232, 181, 259, 294, 4)\n",
      "size (400, 300)\n",
      "('1', '0.42125', '0.6033333333333334', '0.17250000000000001', '0.7666666666666667')\n",
      "('1', '0.5750000000000001', '0.6383333333333334', '0.14', '0.6966666666666667')\n",
      "('1', '0.7525000000000001', '0.63', '0.20500000000000002', '0.7000000000000001')\n",
      "('1', '0.26375', '0.61', '0.14250000000000002', '0.76')\n",
      "('0', '0.13625', '0.5983333333333334', '0.2125', '0.7966666666666667')\n",
      "(2, 0.1275, 0.29000000000000004, 0.09, 0.16666666666666669)\n",
      "(2, 0.2575, 0.315, 0.085, 0.15000000000000002)\n",
      "(2, 0.445, 0.2866666666666667, 0.075, 0.12666666666666668)\n",
      "(2, 0.57375, 0.35000000000000003, 0.0675, 0.1)\n",
      "(2, 0.73, 0.3516666666666667, 0.105, 0.17)\n",
      "(6, 0.76, 0.5616666666666666, 0.21, 0.2833333333333333)\n",
      "(7, 0.08625000000000001, 0.46, 0.0975, 0.22666666666666668)\n",
      "(7, 0.38125000000000003, 0.42000000000000004, 0.0925, 0.18666666666666668)\n",
      "(3, 0.155, 0.54, 0.135, 0.33333333333333337)\n",
      "(3, 0.4325, 0.4566666666666667, 0.12, 0.23333333333333334)\n",
      "(5, 0.38625, 0.7716666666666667, 0.0775, 0.43000000000000005)\n",
      "(5, 0.1325, 0.8116666666666668, 0.08, 0.35000000000000003)\n",
      "(5, 0.55375, 0.775, 0.0575, 0.3433333333333334)\n",
      "(4, 0.47500000000000003, 0.7783333333333334, 0.085, 0.4033333333333334)\n",
      "(4, 0.61375, 0.7916666666666667, 0.0675, 0.3766666666666667)\n",
      "Image No. 132 saved\n",
      "set label class to : head 2\n"
     ]
    },
    {
     "name": "stderr",
     "output_type": "stream",
     "text": [
      "Exception in Tkinter callback\n",
      "Traceback (most recent call last):\n",
      "  File \"D:\\apps\\Anaconda3\\lib\\tkinter\\__init__.py\", line 1699, in __call__\n",
      "    return self.func(*args)\n",
      "TypeError: setClass() missing 2 required positional arguments: 'b' and 'c'\n"
     ]
    },
    {
     "name": "stdout",
     "output_type": "stream",
     "text": [
      "size (400, 300)\n",
      "box (7, 60, 53, 126, 2)\n",
      "size (400, 300)\n",
      "box (60, 72, 103, 122, 2)\n",
      "size (400, 300)\n",
      "box (134, 62, 171, 108, 2)\n",
      "size (400, 300)\n",
      "box (202, 80, 227, 116, 2)\n",
      "size (400, 300)\n",
      "box (267, 69, 295, 107, 2)\n",
      "size (400, 300)\n",
      "box (317, 85, 348, 127, 2)\n",
      "set label class to : Larm 6\n"
     ]
    },
    {
     "name": "stderr",
     "output_type": "stream",
     "text": [
      "Exception in Tkinter callback\n",
      "Traceback (most recent call last):\n",
      "  File \"D:\\apps\\Anaconda3\\lib\\tkinter\\__init__.py\", line 1699, in __call__\n",
      "    return self.func(*args)\n",
      "TypeError: setClass() missing 2 required positional arguments: 'b' and 'c'\n"
     ]
    },
    {
     "name": "stdout",
     "output_type": "stream",
     "text": [
      "size (400, 300)\n",
      "box (308, 125, 371, 178, 6)\n",
      "size (400, 300)\n",
      "box (255, 106, 304, 164, 6)\n",
      "size (400, 300)\n",
      "box (211, 118, 248, 164, 6)\n",
      "set label class to : Rarm 7\n"
     ]
    },
    {
     "name": "stderr",
     "output_type": "stream",
     "text": [
      "Exception in Tkinter callback\n",
      "Traceback (most recent call last):\n",
      "  File \"D:\\apps\\Anaconda3\\lib\\tkinter\\__init__.py\", line 1699, in __call__\n",
      "    return self.func(*args)\n",
      "TypeError: setClass() missing 2 required positional arguments: 'b' and 'c'\n"
     ]
    },
    {
     "name": "stdout",
     "output_type": "stream",
     "text": [
      "size (400, 300)\n",
      "box (105, 104, 177, 167, 7)\n",
      "size (400, 300)\n",
      "box (5, 128, 67, 209, 7)\n",
      "size (400, 300)\n",
      "('0', '0.1125', '0.5966666666666667', '0.215', '0.7933333333333333')\n",
      "('1', '0.195', '0.6116666666666667', '0.15', '0.7300000000000001')\n",
      "('1', '0.3675', '0.5933333333333334', '0.195', '0.7733333333333334')\n",
      "('1', '0.52375', '0.6266666666666667', '0.1525', '0.7266666666666667')\n",
      "('1', '0.7000000000000001', '0.5833333333333334', '0.14', '0.7266666666666667')\n",
      "('1', '0.85', '0.63', '0.17', '0.6933333333333334')\n",
      "(2, 0.075, 0.31, 0.115, 0.22)\n",
      "(2, 0.20375000000000001, 0.32333333333333336, 0.1075, 0.16666666666666669)\n",
      "(2, 0.38125000000000003, 0.2833333333333333, 0.0925, 0.15333333333333335)\n",
      "(2, 0.53625, 0.32666666666666666, 0.0625, 0.12000000000000001)\n",
      "(2, 0.7025, 0.29333333333333333, 0.07, 0.12666666666666668)\n",
      "(2, 0.83125, 0.35333333333333333, 0.0775, 0.14)\n",
      "(6, 0.84875, 0.505, 0.1575, 0.17666666666666667)\n",
      "(6, 0.69875, 0.45, 0.1225, 0.19333333333333336)\n",
      "(6, 0.57375, 0.47000000000000003, 0.0925, 0.15333333333333335)\n",
      "(7, 0.3525, 0.4516666666666667, 0.18, 0.21000000000000002)\n",
      "(7, 0.09, 0.5616666666666666, 0.155, 0.27)\n",
      "Image No. 133 saved\n",
      "set label class to : head 2\n"
     ]
    },
    {
     "name": "stderr",
     "output_type": "stream",
     "text": [
      "Exception in Tkinter callback\n",
      "Traceback (most recent call last):\n",
      "  File \"D:\\apps\\Anaconda3\\lib\\tkinter\\__init__.py\", line 1699, in __call__\n",
      "    return self.func(*args)\n",
      "TypeError: setClass() missing 2 required positional arguments: 'b' and 'c'\n"
     ]
    },
    {
     "name": "stdout",
     "output_type": "stream",
     "text": [
      "size (400, 300)\n",
      "box (13, 60, 67, 112, 2)\n",
      "size (400, 300)\n",
      "box (97, 67, 135, 118, 2)\n",
      "size (400, 300)\n",
      "box (169, 60, 206, 100, 2)\n",
      "size (400, 300)\n",
      "box (225, 78, 252, 107, 2)\n",
      "size (400, 300)\n",
      "box (287, 60, 315, 104, 2)\n",
      "size (400, 300)\n",
      "box (335, 81, 366, 122, 2)\n",
      "set label class to : body 3\n"
     ]
    },
    {
     "name": "stderr",
     "output_type": "stream",
     "text": [
      "Exception in Tkinter callback\n",
      "Traceback (most recent call last):\n",
      "  File \"D:\\apps\\Anaconda3\\lib\\tkinter\\__init__.py\", line 1699, in __call__\n",
      "    return self.func(*args)\n",
      "TypeError: setClass() missing 2 required positional arguments: 'b' and 'c'\n"
     ]
    },
    {
     "name": "stdout",
     "output_type": "stream",
     "text": [
      "size (400, 300)\n",
      "box (155, 95, 204, 163, 3)\n",
      "set label class to : Rleg 5\n"
     ]
    },
    {
     "name": "stderr",
     "output_type": "stream",
     "text": [
      "Exception in Tkinter callback\n",
      "Traceback (most recent call last):\n",
      "  File \"D:\\apps\\Anaconda3\\lib\\tkinter\\__init__.py\", line 1699, in __call__\n",
      "    return self.func(*args)\n",
      "TypeError: setClass() missing 2 required positional arguments: 'b' and 'c'\n"
     ]
    },
    {
     "name": "stdout",
     "output_type": "stream",
     "text": [
      "size (400, 300)\n",
      "box (145, 168, 180, 296, 5)\n",
      "set label class to : Lleg 4\n"
     ]
    },
    {
     "name": "stderr",
     "output_type": "stream",
     "text": [
      "Exception in Tkinter callback\n",
      "Traceback (most recent call last):\n",
      "  File \"D:\\apps\\Anaconda3\\lib\\tkinter\\__init__.py\", line 1699, in __call__\n",
      "    return self.func(*args)\n",
      "TypeError: setClass() missing 2 required positional arguments: 'b' and 'c'\n"
     ]
    },
    {
     "name": "stdout",
     "output_type": "stream",
     "text": [
      "size (400, 300)\n",
      "box (180, 170, 205, 291, 4)\n",
      "size (400, 300)\n",
      "box (227, 174, 260, 294, 4)\n",
      "size (400, 300)\n",
      "box (342, 190, 387, 290, 4)\n",
      "set label class to : Rarm 7\n"
     ]
    },
    {
     "name": "stderr",
     "output_type": "stream",
     "text": [
      "Exception in Tkinter callback\n",
      "Traceback (most recent call last):\n",
      "  File \"D:\\apps\\Anaconda3\\lib\\tkinter\\__init__.py\", line 1699, in __call__\n",
      "    return self.func(*args)\n",
      "TypeError: setClass() missing 2 required positional arguments: 'b' and 'c'\n"
     ]
    },
    {
     "name": "stdout",
     "output_type": "stream",
     "text": [
      "size (400, 300)\n",
      "box (9, 116, 123, 178, 7)\n",
      "size (400, 300)\n",
      "('1', '0.8975', '0.6233333333333334', '0.185', '0.7000000000000001')\n",
      "('1', '0.75', '0.5633333333333334', '0.17', '0.7333333333333334')\n",
      "('1', '0.6025', '0.6166666666666667', '0.155', '0.7266666666666667')\n",
      "('1', '0.44625000000000004', '0.5883333333333334', '0.17250000000000001', '0.7566666666666667')\n",
      "('1', '0.28125', '0.5716666666666667', '0.1825', '0.7033333333333334')\n",
      "('0', '0.1475', '0.5783333333333334', '0.27', '0.79')\n",
      "(2, 0.1, 0.2866666666666667, 0.135, 0.17333333333333334)\n",
      "(2, 0.29, 0.30833333333333335, 0.095, 0.17)\n",
      "(2, 0.46875, 0.26666666666666666, 0.0925, 0.13333333333333333)\n",
      "(2, 0.5962500000000001, 0.30833333333333335, 0.0675, 0.09666666666666668)\n",
      "(2, 0.7525000000000001, 0.2733333333333334, 0.07, 0.14666666666666667)\n",
      "(2, 0.87625, 0.3383333333333334, 0.0775, 0.1366666666666667)\n",
      "(3, 0.44875, 0.43000000000000005, 0.1225, 0.22666666666666668)\n",
      "(5, 0.40625, 0.7733333333333334, 0.08750000000000001, 0.4266666666666667)\n",
      "(4, 0.48125, 0.7683333333333334, 0.0625, 0.4033333333333334)\n",
      "(4, 0.60875, 0.78, 0.0825, 0.4)\n",
      "(4, 0.91125, 0.8, 0.1125, 0.33333333333333337)\n",
      "(7, 0.165, 0.49000000000000005, 0.28500000000000003, 0.2066666666666667)\n",
      "Image No. 134 saved\n",
      "size (400, 300)\n",
      "box (57, 130, 135, 206, 7)\n",
      "set label class to : head 2\n"
     ]
    },
    {
     "name": "stderr",
     "output_type": "stream",
     "text": [
      "Exception in Tkinter callback\n",
      "Traceback (most recent call last):\n",
      "  File \"D:\\apps\\Anaconda3\\lib\\tkinter\\__init__.py\", line 1699, in __call__\n",
      "    return self.func(*args)\n",
      "TypeError: setClass() missing 2 required positional arguments: 'b' and 'c'\n"
     ]
    },
    {
     "name": "stdout",
     "output_type": "stream",
     "text": [
      "size (400, 300)\n",
      "box (67, 93, 119, 136, 2)\n",
      "size (400, 300)\n",
      "box (343, 88, 382, 122, 2)\n",
      "size (400, 300)\n",
      "box (249, 104, 285, 143, 2)\n",
      "size (400, 300)\n",
      "box (140, 107, 171, 138, 2)\n",
      "size (400, 300)\n",
      "('0', '0.2625', '0.6433333333333334', '0.28500000000000003', '0.6733333333333333')\n",
      "('0', '0.49125', '0.7050000000000001', '0.17250000000000001', '0.5966666666666667')\n",
      "('1', '0.6975', '0.6666666666666667', '0.20500000000000002', '0.6533333333333333')\n",
      "('1', '0.915', '0.645', '0.17', '0.7233333333333334')\n",
      "('1', '0.3825', '0.655', '0.115', '0.5633333333333334')\n",
      "(7, 0.24, 0.56, 0.195, 0.25333333333333335)\n",
      "(2, 0.2325, 0.3816666666666667, 0.13, 0.14333333333333334)\n",
      "(2, 0.90625, 0.35000000000000003, 0.0975, 0.11333333333333334)\n",
      "(2, 0.6675, 0.4116666666666667, 0.09, 0.13)\n",
      "(2, 0.38875, 0.4083333333333334, 0.0775, 0.10333333333333335)\n",
      "Image No. 135 saved\n",
      "size (400, 300)\n",
      "box (95, 118, 142, 170, 2)\n",
      "size (400, 300)\n",
      "box (171, 120, 207, 174, 2)\n",
      "size (400, 300)\n",
      "box (224, 128, 259, 172, 2)\n",
      "size (400, 300)\n",
      "box (329, 106, 365, 145, 2)\n",
      "size (400, 300)\n",
      "box (280, 129, 305, 164, 2)\n",
      "set label class to : Rarm 7\n"
     ]
    },
    {
     "name": "stderr",
     "output_type": "stream",
     "text": [
      "Exception in Tkinter callback\n",
      "Traceback (most recent call last):\n",
      "  File \"D:\\apps\\Anaconda3\\lib\\tkinter\\__init__.py\", line 1699, in __call__\n",
      "    return self.func(*args)\n",
      "TypeError: setClass() missing 2 required positional arguments: 'b' and 'c'\n"
     ]
    },
    {
     "name": "stdout",
     "output_type": "stream",
     "text": [
      "size (400, 300)\n",
      "box (69, 164, 169, 238, 7)\n",
      "size (400, 300)\n",
      "('1', '0.5475', '0.6866666666666668', '0.38', '0.5733333333333334')\n",
      "('1', '0.73', '0.7116666666666667', '0.18', '0.5233333333333333')\n",
      "('1', '0.865', '0.6000000000000001', '0.125', '0.4666666666666667')\n",
      "('1', '0.845', '0.7183333333333334', '0.3', '0.5433333333333333')\n",
      "('0', '0.5925', '0.7050000000000001', '0.225', '0.55')\n",
      "('0', '0.29375', '0.6833333333333333', '0.2575', '0.5933333333333334')\n",
      "(2, 0.29625, 0.48000000000000004, 0.11750000000000001, 0.17333333333333334)\n",
      "(2, 0.47250000000000003, 0.49000000000000005, 0.09, 0.18000000000000002)\n",
      "(2, 0.60375, 0.5, 0.08750000000000001, 0.14666666666666667)\n",
      "(2, 0.8675, 0.41833333333333333, 0.09, 0.13)\n",
      "(2, 0.7312500000000001, 0.48833333333333334, 0.0625, 0.11666666666666667)\n",
      "(7, 0.2975, 0.67, 0.25, 0.24666666666666667)\n",
      "Image No. 136 saved\n",
      "set label class to : head 2\n"
     ]
    },
    {
     "name": "stderr",
     "output_type": "stream",
     "text": [
      "Exception in Tkinter callback\n",
      "Traceback (most recent call last):\n",
      "  File \"D:\\apps\\Anaconda3\\lib\\tkinter\\__init__.py\", line 1699, in __call__\n",
      "    return self.func(*args)\n",
      "TypeError: setClass() missing 2 required positional arguments: 'b' and 'c'\n"
     ]
    },
    {
     "name": "stdout",
     "output_type": "stream",
     "text": [
      "size (400, 300)\n",
      "box (96, 104, 163, 166, 2)\n",
      "size (400, 300)\n",
      "box (169, 112, 215, 170, 2)\n",
      "size (400, 300)\n",
      "box (266, 127, 301, 163, 2)\n",
      "size (400, 300)\n",
      "box (316, 100, 355, 137, 2)\n",
      "size (400, 300)\n",
      "('0', '0.3775', '0.6666666666666667', '0.425', '0.6533333333333333')\n",
      "('1', '0.505', '0.6833333333333333', '0.31', '0.5933333333333334')\n",
      "('1', '0.70625', '0.6916666666666668', '0.17250000000000001', '0.5700000000000001')\n",
      "('1', '0.835', '0.6633333333333333', '0.12', '0.66')\n",
      "('1', '0.80375', '0.7100000000000001', '0.3975', '0.5533333333333333')\n",
      "(2, 0.32375, 0.45, 0.1675, 0.2066666666666667)\n",
      "(2, 0.48, 0.47000000000000003, 0.115, 0.19333333333333336)\n",
      "(2, 0.70875, 0.48333333333333334, 0.08750000000000001, 0.12000000000000001)\n",
      "(2, 0.83875, 0.395, 0.0975, 0.12333333333333334)\n",
      "Image No. 137 saved\n",
      "size (400, 300)\n",
      "('1', '0.42375', '0.685', '0.1525', '0.6366666666666667')\n",
      "('1', '0.68375', '0.6900000000000001', '0.1875', '0.5933333333333334')\n",
      "('1', '0.82875', '0.6533333333333333', '0.1575', '0.6666666666666667')\n",
      "('1', '0.8675', '0.7166666666666667', '0.265', '0.5533333333333333')\n",
      "('0', '0.36375', '0.6716666666666667', '0.4375', '0.6366666666666667')\n",
      "('0', '0.5325', '0.6966666666666667', '0.14', '0.5866666666666667')\n",
      "Image No. 138 saved\n",
      "size (400, 300)\n",
      "box (77, 96, 123, 141, 2)\n",
      "size (400, 300)\n",
      "box (144, 98, 175, 139, 2)\n",
      "size (400, 300)\n",
      "box (204, 114, 239, 154, 2)\n",
      "size (400, 300)\n",
      "box (264, 118, 295, 153, 2)\n",
      "size (400, 300)\n",
      "box (321, 82, 359, 122, 2)\n",
      "size (400, 300)\n",
      "box (348, 123, 392, 174, 2)\n",
      "size (400, 300)\n",
      "('0', '0.26875', '0.65', '0.2275', '0.6733333333333333')\n",
      "('0', '0.55', '0.6833333333333333', '0.18', '0.6333333333333334')\n",
      "('1', '0.41500000000000004', '0.635', '0.15', '0.6166666666666667')\n",
      "('1', '0.7000000000000001', '0.6966666666666667', '0.17', '0.6066666666666667')\n",
      "('1', '0.81875', '0.5983333333333334', '0.1775', '0.6900000000000001')\n",
      "('1', '0.91125', '0.6833333333333333', '0.1475', '0.5533333333333333')\n",
      "(2, 0.25, 0.395, 0.115, 0.15000000000000002)\n",
      "(2, 0.39875, 0.395, 0.0775, 0.1366666666666667)\n",
      "(2, 0.55375, 0.4466666666666667, 0.08750000000000001, 0.13333333333333333)\n",
      "(2, 0.69875, 0.4516666666666667, 0.0775, 0.11666666666666667)\n",
      "(2, 0.85, 0.34, 0.095, 0.13333333333333333)\n",
      "(2, 0.925, 0.49500000000000005, 0.11, 0.17)\n",
      "Image No. 139 saved\n",
      "size (400, 300)\n",
      "box (74, 94, 113, 145, 2)\n",
      "size (400, 300)\n",
      "box (137, 98, 167, 137, 2)\n",
      "size (400, 300)\n",
      "box (196, 112, 230, 154, 2)\n",
      "size (400, 300)\n",
      "box (257, 111, 287, 147, 2)\n",
      "size (400, 300)\n",
      "box (313, 82, 347, 125, 2)\n",
      "set label class to : body 3\n"
     ]
    },
    {
     "name": "stderr",
     "output_type": "stream",
     "text": [
      "Exception in Tkinter callback\n",
      "Traceback (most recent call last):\n",
      "  File \"D:\\apps\\Anaconda3\\lib\\tkinter\\__init__.py\", line 1699, in __call__\n",
      "    return self.func(*args)\n",
      "TypeError: setClass() missing 2 required positional arguments: 'b' and 'c'\n"
     ]
    },
    {
     "name": "stdout",
     "output_type": "stream",
     "text": [
      "size (400, 300)\n",
      "box (65, 147, 139, 244, 3)\n",
      "size (400, 300)\n",
      "('0', '0.23375', '0.65', '0.2575', '0.6866666666666668')\n",
      "('0', '0.52625', '0.6766666666666667', '0.14250000000000002', '0.6333333333333334')\n",
      "('1', '0.3975', '0.6466666666666667', '0.165', '0.6666666666666667')\n",
      "('1', '0.68', '0.675', '0.18', '0.6233333333333334')\n",
      "('1', '0.81375', '0.6216666666666667', '0.1675', '0.7300000000000001')\n",
      "('1', '0.90375', '0.6783333333333333', '0.1925', '0.6033333333333334')\n",
      "(2, 0.23375, 0.3983333333333334, 0.0975, 0.17)\n",
      "(2, 0.38, 0.3916666666666667, 0.075, 0.13)\n",
      "(2, 0.5325, 0.44333333333333336, 0.085, 0.14)\n",
      "(2, 0.68, 0.43000000000000005, 0.075, 0.12000000000000001)\n",
      "(2, 0.8250000000000001, 0.34500000000000003, 0.085, 0.14333333333333334)\n",
      "(3, 0.255, 0.6516666666666667, 0.185, 0.32333333333333336)\n",
      "Image No. 140 saved\n",
      "size (400, 300)\n",
      "('1', '0.3925', '0.6483333333333334', '0.17500000000000002', '0.7033333333333334')\n",
      "('1', '0.6775', '0.6566666666666667', '0.185', '0.6466666666666667')\n",
      "('1', '0.8125', '0.6066666666666667', '0.195', '0.7533333333333334')\n",
      "('1', '0.89875', '0.6900000000000001', '0.1875', '0.6066666666666667')\n",
      "('0', '0.2425', '0.6483333333333334', '0.245', '0.67')\n",
      "('0', '0.51875', '0.665', '0.1575', '0.6366666666666667')\n",
      "Image No. 141 saved\n",
      "size (400, 300)\n",
      "('0', '0.2525', '0.655', '0.23500000000000001', '0.6766666666666667')\n",
      "('0', '0.5125', '0.6683333333333333', '0.17500000000000002', '0.6566666666666667')\n",
      "('1', '0.3825', '0.6483333333333334', '0.165', '0.6566666666666667')\n",
      "('1', '0.67875', '0.6766666666666667', '0.1875', '0.6333333333333334')\n",
      "('1', '0.8300000000000001', '0.625', '0.18', '0.7100000000000001')\n",
      "('1', '0.9125', '0.6833333333333333', '0.17500000000000002', '0.62')\n",
      "Image No. 142 saved\n",
      "size (400, 300)\n",
      "('0', '0.24375', '0.6466666666666667', '0.2425', '0.6933333333333334')\n",
      "('0', '0.50875', '0.6616666666666667', '0.1675', '0.65')\n",
      "('1', '0.38', '0.6383333333333334', '0.16', '0.6900000000000001')\n",
      "('1', '0.68375', '0.685', '0.20750000000000002', '0.61')\n",
      "('1', '0.82625', '0.6183333333333334', '0.1475', '0.7100000000000001')\n",
      "('1', '0.905', '0.6683333333333333', '0.18', '0.6033333333333334')\n",
      "Image No. 143 saved\n",
      "size (400, 300)\n",
      "('1', '0.69875', '0.6666666666666667', '0.2225', '0.6666666666666667')\n",
      "('1', '0.38125000000000003', '0.62', '0.1275', '0.7333333333333334')\n",
      "('0', '0.2525', '0.6183333333333334', '0.23500000000000001', '0.7433333333333334')\n",
      "('0', '0.5175', '0.6316666666666667', '0.155', '0.7233333333333334')\n",
      "Image No. 144 saved\n",
      "set label class to : head 2\n"
     ]
    },
    {
     "name": "stderr",
     "output_type": "stream",
     "text": [
      "Exception in Tkinter callback\n",
      "Traceback (most recent call last):\n",
      "  File \"D:\\apps\\Anaconda3\\lib\\tkinter\\__init__.py\", line 1699, in __call__\n",
      "    return self.func(*args)\n",
      "TypeError: setClass() missing 2 required positional arguments: 'b' and 'c'\n"
     ]
    },
    {
     "name": "stdout",
     "output_type": "stream",
     "text": [
      "size (400, 300)\n",
      "box (39, 81, 95, 127, 2)\n",
      "size (400, 300)\n",
      "box (105, 82, 143, 117, 2)\n",
      "size (400, 300)\n",
      "box (177, 92, 218, 129, 2)\n",
      "size (400, 300)\n",
      "box (268, 95, 303, 134, 2)\n",
      "set label class to : Rarm 7\n"
     ]
    },
    {
     "name": "stderr",
     "output_type": "stream",
     "text": [
      "Exception in Tkinter callback\n",
      "Traceback (most recent call last):\n",
      "  File \"D:\\apps\\Anaconda3\\lib\\tkinter\\__init__.py\", line 1699, in __call__\n",
      "    return self.func(*args)\n",
      "TypeError: setClass() missing 2 required positional arguments: 'b' and 'c'\n"
     ]
    },
    {
     "name": "stdout",
     "output_type": "stream",
     "text": [
      "size (400, 300)\n",
      "box (29, 132, 97, 204, 7)\n",
      "size (400, 300)\n",
      "box (233, 124, 272, 190, 7)\n",
      "size (400, 300)\n",
      "box (159, 130, 213, 186, 7)\n",
      "size (400, 300)\n",
      "('0', '0.20125', '0.625', '0.2775', '0.7366666666666667')\n",
      "('0', '0.48', '0.64', '0.17500000000000002', '0.7066666666666667')\n",
      "('1', '0.315', '0.6216666666666667', '0.135', '0.7166666666666667')\n",
      "('1', '0.6975', '0.6583333333333333', '0.23500000000000001', '0.6833333333333333')\n",
      "('1', '0.8125', '0.6666666666666667', '0.165', '0.6533333333333333')\n",
      "(2, 0.1675, 0.3466666666666667, 0.14, 0.15333333333333335)\n",
      "(2, 0.31, 0.33166666666666667, 0.095, 0.11666666666666667)\n",
      "(2, 0.49375, 0.36833333333333335, 0.10250000000000001, 0.12333333333333334)\n",
      "(2, 0.71375, 0.3816666666666667, 0.08750000000000001, 0.13)\n",
      "(7, 0.1575, 0.56, 0.17, 0.24000000000000002)\n",
      "(7, 0.63125, 0.5233333333333333, 0.0975, 0.22)\n",
      "(7, 0.465, 0.5266666666666667, 0.135, 0.18666666666666668)\n",
      "Image No. 145 saved\n",
      "size (400, 300)\n",
      "box (23, 120, 99, 190, 7)\n",
      "set label class to : head 2\n"
     ]
    },
    {
     "name": "stderr",
     "output_type": "stream",
     "text": [
      "Exception in Tkinter callback\n",
      "Traceback (most recent call last):\n",
      "  File \"D:\\apps\\Anaconda3\\lib\\tkinter\\__init__.py\", line 1699, in __call__\n",
      "    return self.func(*args)\n",
      "TypeError: setClass() missing 2 required positional arguments: 'b' and 'c'\n"
     ]
    },
    {
     "name": "stdout",
     "output_type": "stream",
     "text": [
      "size (400, 300)\n",
      "box (85, 76, 127, 122, 2)\n",
      "size (400, 300)\n",
      "box (156, 88, 201, 128, 2)\n",
      "size (400, 300)\n",
      "box (267, 88, 319, 134, 2)\n",
      "set label class to : Larm 6\n"
     ]
    },
    {
     "name": "stderr",
     "output_type": "stream",
     "text": [
      "Exception in Tkinter callback\n",
      "Traceback (most recent call last):\n",
      "  File \"D:\\apps\\Anaconda3\\lib\\tkinter\\__init__.py\", line 1699, in __call__\n",
      "    return self.func(*args)\n",
      "TypeError: setClass() missing 2 required positional arguments: 'b' and 'c'\n"
     ]
    },
    {
     "name": "stdout",
     "output_type": "stream",
     "text": [
      "size (400, 300)\n",
      "box (242, 140, 333, 222, 6)\n",
      "size (400, 300)\n",
      "box (179, 132, 213, 200, 6)\n",
      "size (400, 300)\n",
      "('1', '0.27625', '0.6133333333333334', '0.1525', '0.7533333333333334')\n",
      "('1', '0.7175', '0.645', '0.23500000000000001', '0.6833333333333333')\n",
      "('0', '0.14250000000000002', '0.6083333333333334', '0.185', '0.7633333333333334')\n",
      "('0', '0.4425', '0.6516666666666667', '0.185', '0.6833333333333333')\n",
      "(7, 0.1525, 0.5166666666666667, 0.19, 0.23333333333333334)\n",
      "(2, 0.265, 0.33, 0.105, 0.15333333333333335)\n",
      "(2, 0.44625000000000004, 0.36000000000000004, 0.1125, 0.13333333333333333)\n",
      "(2, 0.7325, 0.37000000000000005, 0.13, 0.15333333333333335)\n",
      "(6, 0.71875, 0.6033333333333334, 0.2275, 0.2733333333333334)\n",
      "(6, 0.49, 0.5533333333333333, 0.085, 0.22666666666666668)\n",
      "Image No. 146 saved\n",
      "size (400, 300)\n",
      "('0', '0.16375', '0.6133333333333334', '0.2525', '0.7666666666666667')\n",
      "('0', '0.45625', '0.635', '0.1825', '0.7300000000000001')\n",
      "('1', '0.29125', '0.6133333333333334', '0.1475', '0.7466666666666667')\n",
      "('1', '0.74875', '0.6366666666666667', '0.2475', '0.7133333333333334')\n",
      "('1', '0.88125', '0.6066666666666667', '0.1125', '0.7266666666666667')\n",
      "Image No. 147 saved\n",
      "size (400, 300)\n",
      "('1', '0.4525', '0.66', '0.135', '0.66')\n",
      "('1', '0.9', '0.685', '0.2', '0.63')\n",
      "('0', '0.6125', '0.6783333333333333', '0.19', '0.6233333333333334')\n",
      "('0', '0.33375', '0.655', '0.1875', '0.6633333333333333')\n",
      "Image No. 148 saved\n",
      "size (400, 300)\n",
      "('1', '0.20125', '0.65', '0.3625', '0.6733333333333333')\n",
      "('1', '0.7675000000000001', '0.555', '0.27', '0.7100000000000001')\n",
      "Image No. 149 saved\n",
      "size (400, 300)\n",
      "('1', '0.41500000000000004', '0.5933333333333334', '0.485', '0.8')\n",
      "Image No. 150 saved\n",
      "size (400, 300)\n",
      "('0', '0.38875', '0.7283333333333334', '0.1775', '0.5433333333333333')\n",
      "('1', '0.82375', '0.78', '0.0775', '0.4266666666666667')\n",
      "Image No. 151 saved\n",
      "set label class to : head 2\n"
     ]
    },
    {
     "name": "stderr",
     "output_type": "stream",
     "text": [
      "Exception in Tkinter callback\n",
      "Traceback (most recent call last):\n",
      "  File \"D:\\apps\\Anaconda3\\lib\\tkinter\\__init__.py\", line 1699, in __call__\n",
      "    return self.func(*args)\n",
      "TypeError: setClass() missing 2 required positional arguments: 'b' and 'c'\n"
     ]
    },
    {
     "name": "stdout",
     "output_type": "stream",
     "text": [
      "size (400, 300)\n",
      "box (187, 61, 247, 137, 2)\n",
      "set label class to : Rarm 7\n"
     ]
    },
    {
     "name": "stderr",
     "output_type": "stream",
     "text": [
      "Exception in Tkinter callback\n",
      "Traceback (most recent call last):\n",
      "  File \"D:\\apps\\Anaconda3\\lib\\tkinter\\__init__.py\", line 1699, in __call__\n",
      "    return self.func(*args)\n",
      "TypeError: setClass() missing 2 required positional arguments: 'b' and 'c'\n"
     ]
    },
    {
     "name": "stdout",
     "output_type": "stream",
     "text": [
      "size (400, 300)\n",
      "box (359, 64, 400, 233, 7)\n",
      "size (400, 300)\n",
      "box (124, 135, 251, 230, 7)\n",
      "size (400, 300)\n",
      "('1', '0.41500000000000004', '0.5933333333333334', '0.485', '0.8')\n",
      "(2, 0.5425, 0.33, 0.15, 0.25333333333333335)\n",
      "(7, 0.94875, 0.49500000000000005, 0.10250000000000001, 0.5633333333333334)\n",
      "(7, 0.46875, 0.6083333333333334, 0.3175, 0.3166666666666667)\n",
      "Image No. 150 saved\n",
      "size (400, 300)\n",
      "box (16, 186, 151, 294, 7)\n",
      "size (400, 300)\n",
      "box (254, 108, 297, 184, 7)\n",
      "set label class to : Larm 6\n"
     ]
    },
    {
     "name": "stderr",
     "output_type": "stream",
     "text": [
      "Exception in Tkinter callback\n",
      "Traceback (most recent call last):\n",
      "  File \"D:\\apps\\Anaconda3\\lib\\tkinter\\__init__.py\", line 1699, in __call__\n",
      "    return self.func(*args)\n",
      "TypeError: setClass() missing 2 required positional arguments: 'b' and 'c'\n"
     ]
    },
    {
     "name": "stdout",
     "output_type": "stream",
     "text": [
      "size (400, 300)\n",
      "box (289, 107, 358, 181, 6)\n",
      "set label class to : head 2\n"
     ]
    },
    {
     "name": "stderr",
     "output_type": "stream",
     "text": [
      "Exception in Tkinter callback\n",
      "Traceback (most recent call last):\n",
      "  File \"D:\\apps\\Anaconda3\\lib\\tkinter\\__init__.py\", line 1699, in __call__\n",
      "    return self.func(*args)\n",
      "TypeError: setClass() missing 2 required positional arguments: 'b' and 'c'\n"
     ]
    },
    {
     "name": "stdout",
     "output_type": "stream",
     "text": [
      "size (400, 300)\n",
      "box (287, 62, 331, 116, 2)\n",
      "size (400, 300)\n",
      "box (74, 98, 136, 170, 2)\n",
      "size (400, 300)\n",
      "('1', '0.20125', '0.65', '0.3625', '0.6733333333333333')\n",
      "('1', '0.7675000000000001', '0.555', '0.27', '0.7100000000000001')\n",
      "(7, 0.20875, 0.8, 0.3375, 0.36000000000000004)\n",
      "(7, 0.68875, 0.4866666666666667, 0.1075, 0.25333333333333335)\n",
      "(6, 0.80875, 0.48000000000000004, 0.17250000000000001, 0.24666666666666667)\n",
      "(2, 0.7725, 0.2966666666666667, 0.11, 0.18000000000000002)\n",
      "(2, 0.2625, 0.4466666666666667, 0.155, 0.24000000000000002)\n",
      "Image No. 149 saved\n",
      "size (400, 300)\n",
      "box (105, 102, 150, 147, 2)\n",
      "size (400, 300)\n",
      "box (167, 100, 205, 142, 2)\n",
      "size (400, 300)\n",
      "box (227, 110, 265, 147, 2)\n",
      "size (400, 300)\n",
      "box (355, 112, 400, 156, 2)\n",
      "size (400, 300)\n",
      "('1', '0.4525', '0.66', '0.135', '0.66')\n",
      "('1', '0.9', '0.685', '0.2', '0.63')\n",
      "('0', '0.6125', '0.6783333333333333', '0.19', '0.6233333333333334')\n",
      "('0', '0.33375', '0.655', '0.1875', '0.6633333333333333')\n",
      "(2, 0.31875000000000003, 0.41500000000000004, 0.1125, 0.15000000000000002)\n",
      "(2, 0.465, 0.4033333333333334, 0.095, 0.14)\n",
      "(2, 0.615, 0.42833333333333334, 0.095, 0.12333333333333334)\n",
      "(2, 0.94375, 0.4466666666666667, 0.1125, 0.14666666666666667)\n",
      "Image No. 148 saved\n",
      "size (400, 300)\n",
      "('1', '0.20125', '0.65', '0.3625', '0.6733333333333333')\n",
      "('1', '0.7675000000000001', '0.555', '0.27', '0.7100000000000001')\n",
      "('7', '0.20875', '0.8', '0.3375', '0.36000000000000004')\n",
      "('7', '0.68875', '0.4866666666666667', '0.1075', '0.25333333333333335')\n",
      "('6', '0.80875', '0.48000000000000004', '0.17250000000000001', '0.24666666666666667')\n",
      "('2', '0.7725', '0.2966666666666667', '0.11', '0.18000000000000002')\n",
      "('2', '0.2625', '0.4466666666666667', '0.155', '0.24000000000000002')\n",
      "Image No. 149 saved\n",
      "size (400, 300)\n",
      "('1', '0.41500000000000004', '0.5933333333333334', '0.485', '0.8')\n",
      "('2', '0.5425', '0.33', '0.15', '0.25333333333333335')\n",
      "('7', '0.94875', '0.49500000000000005', '0.10250000000000001', '0.5633333333333334')\n",
      "('7', '0.46875', '0.6083333333333334', '0.3175', '0.3166666666666667')\n",
      "Image No. 150 saved\n",
      "size (400, 300)\n",
      "('0', '0.38875', '0.7283333333333334', '0.1775', '0.5433333333333333')\n",
      "('1', '0.82375', '0.78', '0.0775', '0.4266666666666667')\n",
      "Image No. 151 saved\n",
      "size (400, 300)\n",
      "('0', '0.35625', '0.6166666666666667', '0.1925', '0.4866666666666667')\n",
      "Image No. 152 saved\n",
      "size (400, 300)\n",
      "('0', '0.37', '0.6366666666666667', '0.17', '0.4466666666666667')\n",
      "Image No. 153 saved\n",
      "size (400, 300)\n",
      "('1', '0.77875', '0.5750000000000001', '0.11750000000000001', '0.43000000000000005')\n",
      "Image No. 154 saved\n",
      "set label class to : Rleg 5\n"
     ]
    },
    {
     "name": "stderr",
     "output_type": "stream",
     "text": [
      "Exception in Tkinter callback\n",
      "Traceback (most recent call last):\n",
      "  File \"D:\\apps\\Anaconda3\\lib\\tkinter\\__init__.py\", line 1699, in __call__\n",
      "    return self.func(*args)\n",
      "TypeError: setClass() missing 2 required positional arguments: 'b' and 'c'\n"
     ]
    },
    {
     "name": "stdout",
     "output_type": "stream",
     "text": [
      "size (400, 300)\n",
      "box (116, 195, 152, 253, 5)\n",
      "set label class to : Lleg 4\n"
     ]
    },
    {
     "name": "stderr",
     "output_type": "stream",
     "text": [
      "Exception in Tkinter callback\n",
      "Traceback (most recent call last):\n",
      "  File \"D:\\apps\\Anaconda3\\lib\\tkinter\\__init__.py\", line 1699, in __call__\n",
      "    return self.func(*args)\n",
      "TypeError: setClass() missing 2 required positional arguments: 'b' and 'c'\n"
     ]
    },
    {
     "name": "stdout",
     "output_type": "stream",
     "text": [
      "size (400, 300)\n",
      "box (150, 198, 171, 258, 4)\n",
      "set label class to : body 3\n"
     ]
    },
    {
     "name": "stderr",
     "output_type": "stream",
     "text": [
      "Exception in Tkinter callback\n",
      "Traceback (most recent call last):\n",
      "  File \"D:\\apps\\Anaconda3\\lib\\tkinter\\__init__.py\", line 1699, in __call__\n",
      "    return self.func(*args)\n",
      "TypeError: setClass() missing 2 required positional arguments: 'b' and 'c'\n"
     ]
    },
    {
     "name": "stdout",
     "output_type": "stream",
     "text": [
      "size (400, 300)\n",
      "box (130, 151, 164, 200, 3)\n",
      "set label class to : head 2\n"
     ]
    },
    {
     "name": "stderr",
     "output_type": "stream",
     "text": [
      "Exception in Tkinter callback\n",
      "Traceback (most recent call last):\n",
      "  File \"D:\\apps\\Anaconda3\\lib\\tkinter\\__init__.py\", line 1699, in __call__\n",
      "    return self.func(*args)\n",
      "TypeError: setClass() missing 2 required positional arguments: 'b' and 'c'\n"
     ]
    },
    {
     "name": "stdout",
     "output_type": "stream",
     "text": [
      "size (400, 300)\n",
      "box (125, 131, 150, 154, 2)\n",
      "size (400, 300)\n",
      "('0', '0.37', '0.6366666666666667', '0.17', '0.4466666666666667')\n",
      "(5, 0.335, 0.7466666666666667, 0.09, 0.19333333333333336)\n",
      "(4, 0.40125, 0.76, 0.0525, 0.2)\n",
      "(3, 0.3675, 0.5850000000000001, 0.085, 0.16333333333333333)\n",
      "(2, 0.34375, 0.47500000000000003, 0.0625, 0.07666666666666667)\n",
      "Image No. 153 saved\n",
      "set label class to : Lleg 4\n"
     ]
    },
    {
     "name": "stderr",
     "output_type": "stream",
     "text": [
      "Exception in Tkinter callback\n",
      "Traceback (most recent call last):\n",
      "  File \"D:\\apps\\Anaconda3\\lib\\tkinter\\__init__.py\", line 1699, in __call__\n",
      "    return self.func(*args)\n",
      "TypeError: setClass() missing 2 required positional arguments: 'b' and 'c'\n"
     ]
    },
    {
     "name": "stdout",
     "output_type": "stream",
     "text": [
      "size (400, 300)\n",
      "box (297, 166, 315, 234, 4)\n",
      "set label class to : Rleg 5\n"
     ]
    },
    {
     "name": "stderr",
     "output_type": "stream",
     "text": [
      "Exception in Tkinter callback\n",
      "Traceback (most recent call last):\n",
      "  File \"D:\\apps\\Anaconda3\\lib\\tkinter\\__init__.py\", line 1699, in __call__\n",
      "    return self.func(*args)\n",
      "TypeError: setClass() missing 2 required positional arguments: 'b' and 'c'\n"
     ]
    },
    {
     "name": "stdout",
     "output_type": "stream",
     "text": [
      "size (400, 300)\n",
      "box (317, 169, 334, 236, 5)\n",
      "set label class to : body 3\n"
     ]
    },
    {
     "name": "stderr",
     "output_type": "stream",
     "text": [
      "Exception in Tkinter callback\n",
      "Traceback (most recent call last):\n",
      "  File \"D:\\apps\\Anaconda3\\lib\\tkinter\\__init__.py\", line 1699, in __call__\n",
      "    return self.func(*args)\n",
      "TypeError: setClass() missing 2 required positional arguments: 'b' and 'c'\n"
     ]
    },
    {
     "name": "stdout",
     "output_type": "stream",
     "text": [
      "size (400, 300)\n",
      "box (299, 125, 329, 174, 3)\n",
      "size (400, 300)\n",
      "('1', '0.77875', '0.5750000000000001', '0.11750000000000001', '0.43000000000000005')\n",
      "(4, 0.765, 0.6666666666666667, 0.045, 0.22666666666666668)\n",
      "(5, 0.81375, 0.675, 0.0425, 0.22333333333333336)\n",
      "(3, 0.785, 0.49833333333333335, 0.075, 0.16333333333333333)\n",
      "Image No. 154 saved\n",
      "size (400, 300)\n",
      "box (85, 125, 113, 177, 3)\n",
      "size (400, 300)\n",
      "box (227, 110, 277, 186, 3)\n",
      "set label class to : Lleg 4\n"
     ]
    },
    {
     "name": "stderr",
     "output_type": "stream",
     "text": [
      "Exception in Tkinter callback\n",
      "Traceback (most recent call last):\n",
      "  File \"D:\\apps\\Anaconda3\\lib\\tkinter\\__init__.py\", line 1699, in __call__\n",
      "    return self.func(*args)\n",
      "TypeError: setClass() missing 2 required positional arguments: 'b' and 'c'\n"
     ]
    },
    {
     "name": "stdout",
     "output_type": "stream",
     "text": [
      "size (400, 300)\n",
      "box (97, 175, 124, 246, 4)\n",
      "size (400, 300)\n",
      "box (209, 185, 259, 274, 4)\n",
      "set label class to : Rleg 5\n"
     ]
    },
    {
     "name": "stderr",
     "output_type": "stream",
     "text": [
      "Exception in Tkinter callback\n",
      "Traceback (most recent call last):\n",
      "  File \"D:\\apps\\Anaconda3\\lib\\tkinter\\__init__.py\", line 1699, in __call__\n",
      "    return self.func(*args)\n",
      "TypeError: setClass() missing 2 required positional arguments: 'b' and 'c'\n"
     ]
    },
    {
     "name": "stdout",
     "output_type": "stream",
     "text": [
      "size (400, 300)\n",
      "box (82, 173, 98, 242, 5)\n",
      "size (400, 300)\n",
      "box (259, 183, 297, 272, 5)\n",
      "size (400, 300)\n",
      "('1', '0.26', '0.5666666666666667', '0.12', '0.5')\n",
      "('1', '0.6225', '0.5916666666666667', '0.23', '0.6433333333333334')\n",
      "(3, 0.2475, 0.5033333333333334, 0.07, 0.17333333333333334)\n",
      "(3, 0.63, 0.49333333333333335, 0.125, 0.25333333333333335)\n",
      "(4, 0.27625, 0.7016666666666667, 0.0675, 0.2366666666666667)\n",
      "(4, 0.585, 0.765, 0.125, 0.2966666666666667)\n",
      "(5, 0.225, 0.6916666666666668, 0.04, 0.23)\n",
      "(5, 0.6950000000000001, 0.7583333333333334, 0.095, 0.2966666666666667)\n",
      "Image No. 155 saved\n",
      "size (400, 300)\n",
      "box (172, 154, 209, 238, 5)\n",
      "size (400, 300)\n",
      "('1', '0.395', '0.55', '0.085', '0.42000000000000004')\n",
      "('0', '0.515', '0.5333333333333333', '0.19', '0.52')\n",
      "(5, 0.47625, 0.6533333333333333, 0.0925, 0.28)\n",
      "Image No. 156 saved\n",
      "size (400, 300)\n",
      "box (203, 174, 231, 240, 5)\n",
      "size (400, 300)\n",
      "box (313, 162, 338, 237, 5)\n",
      "set label class to : Lleg 4\n"
     ]
    },
    {
     "name": "stderr",
     "output_type": "stream",
     "text": [
      "Exception in Tkinter callback\n",
      "Traceback (most recent call last):\n",
      "  File \"D:\\apps\\Anaconda3\\lib\\tkinter\\__init__.py\", line 1699, in __call__\n",
      "    return self.func(*args)\n",
      "TypeError: setClass() missing 2 required positional arguments: 'b' and 'c'\n"
     ]
    },
    {
     "name": "stdout",
     "output_type": "stream",
     "text": [
      "size (400, 300)\n",
      "box (277, 162, 315, 237, 4)\n",
      "size (400, 300)\n",
      "('0', '0.55375', '0.6066666666666667', '0.2125', '0.3866666666666667')\n",
      "('1', '0.77', '0.55', '0.17500000000000002', '0.4866666666666667')\n",
      "('1', '0.47250000000000003', '0.5633333333333334', '0.05', '0.38')\n",
      "(5, 0.5425, 0.6900000000000001, 0.07, 0.22)\n",
      "(5, 0.81375, 0.665, 0.0625, 0.25)\n",
      "(4, 0.74, 0.665, 0.095, 0.25)\n",
      "Image No. 157 saved\n",
      "set label class to : Rarm 7\n"
     ]
    },
    {
     "name": "stderr",
     "output_type": "stream",
     "text": [
      "Exception in Tkinter callback\n",
      "Traceback (most recent call last):\n",
      "  File \"D:\\apps\\Anaconda3\\lib\\tkinter\\__init__.py\", line 1699, in __call__\n",
      "    return self.func(*args)\n",
      "TypeError: setClass() missing 2 required positional arguments: 'b' and 'c'\n"
     ]
    },
    {
     "name": "stdout",
     "output_type": "stream",
     "text": [
      "size (400, 300)\n",
      "box (269, 192, 349, 239, 7)\n",
      "size (400, 300)\n",
      "box (98, 174, 124, 243, 7)\n",
      "set label class to : Rleg 5\n"
     ]
    },
    {
     "name": "stderr",
     "output_type": "stream",
     "text": [
      "Exception in Tkinter callback\n",
      "Traceback (most recent call last):\n",
      "  File \"D:\\apps\\Anaconda3\\lib\\tkinter\\__init__.py\", line 1699, in __call__\n",
      "    return self.func(*args)\n",
      "TypeError: setClass() missing 2 required positional arguments: 'b' and 'c'\n"
     ]
    },
    {
     "name": "stdout",
     "output_type": "stream",
     "text": [
      "size (400, 300)\n",
      "box (248, 241, 299, 299, 5)\n",
      "size (400, 300)\n",
      "box (91, 223, 125, 298, 5)\n",
      "set label class to : Lleg 4\n"
     ]
    },
    {
     "name": "stderr",
     "output_type": "stream",
     "text": [
      "Exception in Tkinter callback\n",
      "Traceback (most recent call last):\n",
      "  File \"D:\\apps\\Anaconda3\\lib\\tkinter\\__init__.py\", line 1699, in __call__\n",
      "    return self.func(*args)\n",
      "TypeError: setClass() missing 2 required positional arguments: 'b' and 'c'\n"
     ]
    },
    {
     "name": "stdout",
     "output_type": "stream",
     "text": [
      "size (400, 300)\n",
      "box (74, 226, 96, 297, 4)\n",
      "set label class to : head 2\n"
     ]
    },
    {
     "name": "stderr",
     "output_type": "stream",
     "text": [
      "Exception in Tkinter callback\n",
      "Traceback (most recent call last):\n",
      "  File \"D:\\apps\\Anaconda3\\lib\\tkinter\\__init__.py\", line 1699, in __call__\n",
      "    return self.func(*args)\n",
      "TypeError: setClass() missing 2 required positional arguments: 'b' and 'c'\n"
     ]
    },
    {
     "name": "stdout",
     "output_type": "stream",
     "text": [
      "size (400, 300)\n",
      "box (90, 146, 119, 174, 2)\n",
      "size (400, 300)\n",
      "('1', '0.71375', '0.78', '0.3125', '0.4266666666666667')\n",
      "('0', '0.2425', '0.7400000000000001', '0.13', '0.5133333333333334')\n",
      "(7, 0.7725, 0.7183333333333334, 0.2, 0.15666666666666668)\n",
      "(7, 0.2775, 0.6950000000000001, 0.065, 0.23)\n",
      "(5, 0.68375, 0.9, 0.1275, 0.19333333333333336)\n",
      "(5, 0.27, 0.8683333333333334, 0.085, 0.25)\n",
      "(4, 0.2125, 0.8716666666666667, 0.055, 0.2366666666666667)\n",
      "(2, 0.26125, 0.5333333333333333, 0.0725, 0.09333333333333334)\n",
      "Image No. 158 saved\n",
      "set label class to : Rleg 5\n"
     ]
    },
    {
     "name": "stderr",
     "output_type": "stream",
     "text": [
      "Exception in Tkinter callback\n",
      "Traceback (most recent call last):\n",
      "  File \"D:\\apps\\Anaconda3\\lib\\tkinter\\__init__.py\", line 1699, in __call__\n",
      "    return self.func(*args)\n",
      "TypeError: setClass() missing 2 required positional arguments: 'b' and 'c'\n"
     ]
    },
    {
     "name": "stdout",
     "output_type": "stream",
     "text": [
      "size (400, 300)\n",
      "box (163, 196, 193, 262, 5)\n",
      "set label class to : Lleg 4\n"
     ]
    },
    {
     "name": "stderr",
     "output_type": "stream",
     "text": [
      "Exception in Tkinter callback\n",
      "Traceback (most recent call last):\n",
      "  File \"D:\\apps\\Anaconda3\\lib\\tkinter\\__init__.py\", line 1699, in __call__\n",
      "    return self.func(*args)\n",
      "TypeError: setClass() missing 2 required positional arguments: 'b' and 'c'\n"
     ]
    },
    {
     "name": "stdout",
     "output_type": "stream",
     "text": [
      "size (400, 300)\n",
      "box (138, 197, 167, 258, 4)\n",
      "size (400, 300)\n",
      "('0', '0.42875', '0.64', '0.17250000000000001', '0.46')\n",
      "('1', '0.36', '0.6333333333333334', '0.1', '0.3866666666666667')\n",
      "(5, 0.445, 0.7633333333333334, 0.075, 0.22)\n",
      "(4, 0.38125000000000003, 0.7583333333333334, 0.0725, 0.20333333333333334)\n",
      "Image No. 159 saved\n",
      "size (400, 300)\n",
      "box (221, 164, 247, 219, 4)\n",
      "size (400, 300)\n",
      "box (265, 144, 289, 224, 4)\n",
      "set label class to : Rleg 5\n"
     ]
    },
    {
     "name": "stderr",
     "output_type": "stream",
     "text": [
      "Exception in Tkinter callback\n",
      "Traceback (most recent call last):\n",
      "  File \"D:\\apps\\Anaconda3\\lib\\tkinter\\__init__.py\", line 1699, in __call__\n",
      "    return self.func(*args)\n",
      "TypeError: setClass() missing 2 required positional arguments: 'b' and 'c'\n"
     ]
    },
    {
     "name": "stdout",
     "output_type": "stream",
     "text": [
      "size (400, 300)\n",
      "box (205, 165, 223, 222, 5)\n",
      "size (400, 300)\n",
      "box (307, 160, 327, 218, 5)\n",
      "set label class to : head 2\n"
     ]
    },
    {
     "name": "stderr",
     "output_type": "stream",
     "text": [
      "Exception in Tkinter callback\n",
      "Traceback (most recent call last):\n",
      "  File \"D:\\apps\\Anaconda3\\lib\\tkinter\\__init__.py\", line 1699, in __call__\n",
      "    return self.func(*args)\n",
      "TypeError: setClass() missing 2 required positional arguments: 'b' and 'c'\n"
     ]
    },
    {
     "name": "stdout",
     "output_type": "stream",
     "text": [
      "size (400, 300)\n",
      "box (208, 100, 229, 124, 2)\n",
      "size (400, 300)\n",
      "box (312, 93, 333, 115, 2)\n",
      "set label class to : Larm 6\n"
     ]
    },
    {
     "name": "stderr",
     "output_type": "stream",
     "text": [
      "Exception in Tkinter callback\n",
      "Traceback (most recent call last):\n",
      "  File \"D:\\apps\\Anaconda3\\lib\\tkinter\\__init__.py\", line 1699, in __call__\n",
      "    return self.func(*args)\n",
      "TypeError: setClass() missing 2 required positional arguments: 'b' and 'c'\n"
     ]
    },
    {
     "name": "stdout",
     "output_type": "stream",
     "text": [
      "size (400, 300)\n",
      "box (289, 114, 341, 142, 6)\n",
      "size (400, 300)\n",
      "('1', '0.6525', '0.49833333333333335', '0.135', '0.5166666666666667')\n",
      "('0', '0.5575', '0.5333333333333333', '0.12', '0.4133333333333334')\n",
      "('0', '0.76875', '0.5166666666666667', '0.1625', '0.43333333333333335')\n",
      "(4, 0.585, 0.6383333333333334, 0.065, 0.18333333333333335)\n",
      "(4, 0.6925, 0.6133333333333334, 0.06, 0.26666666666666666)\n",
      "(5, 0.535, 0.645, 0.045, 0.19)\n",
      "(5, 0.7925, 0.63, 0.05, 0.19333333333333336)\n",
      "(2, 0.54625, 0.37333333333333335, 0.0525, 0.08)\n",
      "(2, 0.80625, 0.3466666666666667, 0.0525, 0.07333333333333333)\n",
      "(6, 0.7875, 0.4266666666666667, 0.13, 0.09333333333333334)\n",
      "Image No. 160 saved\n",
      "set label class to : Rarm 7\n"
     ]
    },
    {
     "name": "stderr",
     "output_type": "stream",
     "text": [
      "Exception in Tkinter callback\n",
      "Traceback (most recent call last):\n",
      "  File \"D:\\apps\\Anaconda3\\lib\\tkinter\\__init__.py\", line 1699, in __call__\n",
      "    return self.func(*args)\n",
      "TypeError: setClass() missing 2 required positional arguments: 'b' and 'c'\n"
     ]
    },
    {
     "name": "stdout",
     "output_type": "stream",
     "text": [
      "size (400, 300)\n",
      "box (81, 110, 130, 181, 7)\n",
      "set label class to : head 2\n"
     ]
    },
    {
     "name": "stderr",
     "output_type": "stream",
     "text": [
      "Exception in Tkinter callback\n",
      "Traceback (most recent call last):\n",
      "  File \"D:\\apps\\Anaconda3\\lib\\tkinter\\__init__.py\", line 1699, in __call__\n",
      "    return self.func(*args)\n",
      "TypeError: setClass() missing 2 required positional arguments: 'b' and 'c'\n"
     ]
    },
    {
     "name": "stdout",
     "output_type": "stream",
     "text": [
      "size (400, 300)\n",
      "box (93, 82, 134, 110, 2)\n",
      "size (400, 300)\n",
      "box (9, 135, 45, 179, 2)\n",
      "set label class to : Rleg 5\n"
     ]
    },
    {
     "name": "stderr",
     "output_type": "stream",
     "text": [
      "Exception in Tkinter callback\n",
      "Traceback (most recent call last):\n",
      "  File \"D:\\apps\\Anaconda3\\lib\\tkinter\\__init__.py\", line 1699, in __call__\n",
      "    return self.func(*args)\n",
      "TypeError: setClass() missing 2 required positional arguments: 'b' and 'c'\n"
     ]
    },
    {
     "name": "stdout",
     "output_type": "stream",
     "text": [
      "size (400, 300)\n",
      "box (83, 179, 123, 278, 5)\n",
      "size (400, 300)\n",
      "box (0, 230, 66, 296, 5)\n",
      "set label class to : woman 0\n"
     ]
    },
    {
     "name": "stderr",
     "output_type": "stream",
     "text": [
      "Exception in Tkinter callback\n",
      "Traceback (most recent call last):\n",
      "  File \"D:\\apps\\Anaconda3\\lib\\tkinter\\__init__.py\", line 1699, in __call__\n",
      "    return self.func(*args)\n",
      "TypeError: setClass() missing 2 required positional arguments: 'b' and 'c'\n"
     ]
    },
    {
     "name": "stdout",
     "output_type": "stream",
     "text": [
      "size (400, 300)\n",
      "box (2, 132, 71, 296, 0)\n",
      "size (400, 300)\n",
      "('1', '0.2975', '0.6033333333333334', '0.195', '0.6466666666666667')\n",
      "(7, 0.26375, 0.48500000000000004, 0.1225, 0.2366666666666667)\n",
      "(2, 0.28375, 0.32, 0.10250000000000001, 0.09333333333333334)\n",
      "(2, 0.0675, 0.5233333333333333, 0.09, 0.14666666666666667)\n",
      "(5, 0.2575, 0.7616666666666667, 0.1, 0.33)\n",
      "(5, 0.0825, 0.8766666666666667, 0.165, 0.22)\n",
      "(0, 0.09125, 0.7133333333333334, 0.17250000000000001, 0.5466666666666667)\n",
      "Image No. 161 saved\n",
      "set label class to : Rleg 5\n"
     ]
    },
    {
     "name": "stderr",
     "output_type": "stream",
     "text": [
      "Exception in Tkinter callback\n",
      "Traceback (most recent call last):\n",
      "  File \"D:\\apps\\Anaconda3\\lib\\tkinter\\__init__.py\", line 1699, in __call__\n",
      "    return self.func(*args)\n",
      "TypeError: setClass() missing 2 required positional arguments: 'b' and 'c'\n"
     ]
    },
    {
     "name": "stdout",
     "output_type": "stream",
     "text": [
      "size (400, 300)\n",
      "box (127, 179, 185, 292, 5)\n",
      "set label class to : Rarm 7\n"
     ]
    },
    {
     "name": "stderr",
     "output_type": "stream",
     "text": [
      "Exception in Tkinter callback\n",
      "Traceback (most recent call last):\n",
      "  File \"D:\\apps\\Anaconda3\\lib\\tkinter\\__init__.py\", line 1699, in __call__\n",
      "    return self.func(*args)\n",
      "TypeError: setClass() missing 2 required positional arguments: 'b' and 'c'\n"
     ]
    },
    {
     "name": "stdout",
     "output_type": "stream",
     "text": [
      "size (400, 300)\n",
      "box (119, 60, 172, 123, 7)\n",
      "set label class to : body 3\n"
     ]
    },
    {
     "name": "stderr",
     "output_type": "stream",
     "text": [
      "Exception in Tkinter callback\n",
      "Traceback (most recent call last):\n",
      "  File \"D:\\apps\\Anaconda3\\lib\\tkinter\\__init__.py\", line 1699, in __call__\n",
      "    return self.func(*args)\n",
      "TypeError: setClass() missing 2 required positional arguments: 'b' and 'c'\n"
     ]
    },
    {
     "name": "stdout",
     "output_type": "stream",
     "text": [
      "size (400, 300)\n",
      "box (138, 118, 189, 178, 3)\n",
      "size (400, 300)\n",
      "('1', '0.38625', '0.5916666666666667', '0.1825', '0.79')\n",
      "(5, 0.39, 0.785, 0.145, 0.3766666666666667)\n",
      "(7, 0.36375, 0.305, 0.1325, 0.21000000000000002)\n",
      "(3, 0.40875, 0.49333333333333335, 0.1275, 0.2)\n",
      "Image No. 162 saved\n",
      "size (400, 300)\n",
      "('1', '0.40750000000000003', '0.5133333333333334', '0.095', '0.3866666666666667')\n",
      "Image No. 163 saved\n",
      "size (400, 300)\n",
      "box (243, 132, 291, 186, 3)\n",
      "set label class to : Rarm 7\n"
     ]
    },
    {
     "name": "stderr",
     "output_type": "stream",
     "text": [
      "Exception in Tkinter callback\n",
      "Traceback (most recent call last):\n",
      "  File \"D:\\apps\\Anaconda3\\lib\\tkinter\\__init__.py\", line 1699, in __call__\n",
      "    return self.func(*args)\n",
      "TypeError: setClass() missing 2 required positional arguments: 'b' and 'c'\n"
     ]
    },
    {
     "name": "stdout",
     "output_type": "stream",
     "text": [
      "size (400, 300)\n",
      "box (151, 126, 175, 198, 7)\n",
      "size (400, 300)\n",
      "box (287, 137, 303, 201, 7)\n",
      "set label class to : Rleg 5\n"
     ]
    },
    {
     "name": "stderr",
     "output_type": "stream",
     "text": [
      "Exception in Tkinter callback\n",
      "Traceback (most recent call last):\n",
      "  File \"D:\\apps\\Anaconda3\\lib\\tkinter\\__init__.py\", line 1699, in __call__\n",
      "    return self.func(*args)\n",
      "TypeError: setClass() missing 2 required positional arguments: 'b' and 'c'\n"
     ]
    },
    {
     "name": "stdout",
     "output_type": "stream",
     "text": [
      "size (400, 300)\n",
      "box (264, 184, 300, 279, 5)\n",
      "size (400, 300)\n",
      "box (133, 177, 171, 249, 5)\n",
      "set label class to : Lleg 4\n"
     ]
    },
    {
     "name": "stderr",
     "output_type": "stream",
     "text": [
      "Exception in Tkinter callback\n",
      "Traceback (most recent call last):\n",
      "  File \"D:\\apps\\Anaconda3\\lib\\tkinter\\__init__.py\", line 1699, in __call__\n",
      "    return self.func(*args)\n",
      "TypeError: setClass() missing 2 required positional arguments: 'b' and 'c'\n"
     ]
    },
    {
     "name": "stdout",
     "output_type": "stream",
     "text": [
      "size (400, 300)\n",
      "box (134, 188, 151, 246, 4)\n",
      "size (400, 300)\n",
      "box (221, 184, 265, 283, 4)\n",
      "size (400, 300)\n",
      "('1', '0.38625', '0.5966666666666667', '0.1475', '0.4866666666666667')\n",
      "('0', '0.65625', '0.65', '0.2175', '0.5800000000000001')\n",
      "(3, 0.6675, 0.53, 0.12, 0.18000000000000002)\n",
      "(7, 0.40750000000000003, 0.54, 0.06, 0.24000000000000002)\n",
      "(7, 0.7375, 0.5633333333333334, 0.04, 0.21333333333333335)\n",
      "(5, 0.705, 0.7716666666666667, 0.09, 0.3166666666666667)\n",
      "(5, 0.38, 0.7100000000000001, 0.095, 0.24000000000000002)\n",
      "(4, 0.35625, 0.7233333333333334, 0.0425, 0.19333333333333336)\n",
      "(4, 0.6075, 0.7783333333333334, 0.11, 0.33)\n",
      "Image No. 164 saved\n",
      "set label class to : head 2\n"
     ]
    },
    {
     "name": "stderr",
     "output_type": "stream",
     "text": [
      "Exception in Tkinter callback\n",
      "Traceback (most recent call last):\n",
      "  File \"D:\\apps\\Anaconda3\\lib\\tkinter\\__init__.py\", line 1699, in __call__\n",
      "    return self.func(*args)\n",
      "TypeError: setClass() missing 2 required positional arguments: 'b' and 'c'\n"
     ]
    },
    {
     "name": "stdout",
     "output_type": "stream",
     "text": [
      "size (400, 300)\n",
      "box (165, 92, 222, 142, 2)\n",
      "size (400, 300)\n",
      "box (321, 70, 379, 128, 2)\n",
      "set label class to : Rarm 7\n"
     ]
    },
    {
     "name": "stderr",
     "output_type": "stream",
     "text": [
      "Exception in Tkinter callback\n",
      "Traceback (most recent call last):\n",
      "  File \"D:\\apps\\Anaconda3\\lib\\tkinter\\__init__.py\", line 1699, in __call__\n",
      "    return self.func(*args)\n",
      "TypeError: setClass() missing 2 required positional arguments: 'b' and 'c'\n"
     ]
    },
    {
     "name": "stdout",
     "output_type": "stream",
     "text": [
      "size (400, 300)\n",
      "box (352, 139, 385, 261, 7)\n",
      "size (400, 300)\n",
      "box (173, 142, 242, 249, 7)\n",
      "size (400, 300)\n",
      "('1', '0.4425', '0.6466666666666667', '0.34', '0.6666666666666667')\n",
      "('0', '0.78625', '0.61', '0.3525', '0.7666666666666667')\n",
      "(2, 0.48375, 0.39, 0.14250000000000002, 0.16666666666666669)\n",
      "(2, 0.875, 0.33, 0.145, 0.19333333333333336)\n",
      "(7, 0.92125, 0.6666666666666667, 0.0825, 0.4066666666666667)\n",
      "(7, 0.51875, 0.6516666666666667, 0.17250000000000001, 0.3566666666666667)\n",
      "Image No. 165 saved\n",
      "size (400, 300)\n",
      "box (145, 138, 189, 269, 7)\n",
      "set label class to : head 2\n"
     ]
    },
    {
     "name": "stderr",
     "output_type": "stream",
     "text": [
      "Exception in Tkinter callback\n",
      "Traceback (most recent call last):\n",
      "  File \"D:\\apps\\Anaconda3\\lib\\tkinter\\__init__.py\", line 1699, in __call__\n",
      "    return self.func(*args)\n",
      "TypeError: setClass() missing 2 required positional arguments: 'b' and 'c'\n"
     ]
    },
    {
     "name": "stdout",
     "output_type": "stream",
     "text": [
      "size (400, 300)\n",
      "box (188, 91, 225, 144, 2)\n",
      "size (400, 300)\n",
      "box (269, 154, 309, 199, 2)\n",
      "size (400, 300)\n",
      "('0', '0.655', '0.675', '0.24', '0.3433333333333334')\n",
      "('1', '0.4625', '0.645', '0.225', '0.6966666666666667')\n",
      "(7, 0.4175, 0.6783333333333333, 0.11, 0.4366666666666667)\n",
      "(2, 0.51625, 0.3916666666666667, 0.0925, 0.17666666666666667)\n",
      "(2, 0.7225, 0.5883333333333334, 0.1, 0.15000000000000002)\n",
      "Image No. 166 saved\n",
      "size (400, 300)\n",
      "box (103, 92, 166, 158, 2)\n",
      "size (400, 300)\n",
      "box (18, 16, 86, 88, 2)\n",
      "size (400, 300)\n",
      "box (342, 46, 401, 108, 2)\n",
      "size (400, 300)\n",
      "box (206, 44, 245, 99, 2)\n",
      "set label class to : Rarm 7\n"
     ]
    },
    {
     "name": "stderr",
     "output_type": "stream",
     "text": [
      "Exception in Tkinter callback\n",
      "Traceback (most recent call last):\n",
      "  File \"D:\\apps\\Anaconda3\\lib\\tkinter\\__init__.py\", line 1699, in __call__\n",
      "    return self.func(*args)\n",
      "TypeError: setClass() missing 2 required positional arguments: 'b' and 'c'\n"
     ]
    },
    {
     "name": "stdout",
     "output_type": "stream",
     "text": [
      "size (400, 300)\n",
      "box (36, 166, 195, 296, 7)\n",
      "size (400, 300)\n",
      "box (7, 76, 61, 225, 7)\n",
      "size (400, 300)\n",
      "box (159, 90, 205, 194, 7)\n",
      "size (400, 300)\n",
      "box (303, 111, 351, 214, 7)\n",
      "set label class to : body 3\n"
     ]
    },
    {
     "name": "stderr",
     "output_type": "stream",
     "text": [
      "Exception in Tkinter callback\n",
      "Traceback (most recent call last):\n",
      "  File \"D:\\apps\\Anaconda3\\lib\\tkinter\\__init__.py\", line 1699, in __call__\n",
      "    return self.func(*args)\n",
      "TypeError: setClass() missing 2 required positional arguments: 'b' and 'c'\n"
     ]
    },
    {
     "name": "stdout",
     "output_type": "stream",
     "text": [
      "size (400, 300)\n",
      "box (187, 97, 251, 187, 3)\n",
      "size (400, 300)\n",
      "box (343, 117, 399, 203, 3)\n",
      "size (400, 300)\n",
      "box (87, 167, 170, 284, 3)\n",
      "set label class to : Rleg 5\n"
     ]
    },
    {
     "name": "stderr",
     "output_type": "stream",
     "text": [
      "Exception in Tkinter callback\n",
      "Traceback (most recent call last):\n",
      "  File \"D:\\apps\\Anaconda3\\lib\\tkinter\\__init__.py\", line 1699, in __call__\n",
      "    return self.func(*args)\n",
      "TypeError: setClass() missing 2 required positional arguments: 'b' and 'c'\n"
     ]
    },
    {
     "name": "stdout",
     "output_type": "stream",
     "text": [
      "size (400, 300)\n",
      "box (324, 205, 365, 296, 5)\n",
      "size (400, 300)\n",
      "box (177, 189, 217, 250, 5)\n",
      "set label class to : Lleg 4\n"
     ]
    },
    {
     "name": "stderr",
     "output_type": "stream",
     "text": [
      "Exception in Tkinter callback\n",
      "Traceback (most recent call last):\n",
      "  File \"D:\\apps\\Anaconda3\\lib\\tkinter\\__init__.py\", line 1699, in __call__\n",
      "    return self.func(*args)\n",
      "TypeError: setClass() missing 2 required positional arguments: 'b' and 'c'\n"
     ]
    },
    {
     "name": "stdout",
     "output_type": "stream",
     "text": [
      "size (400, 300)\n",
      "box (214, 196, 253, 274, 4)\n",
      "size (400, 300)\n",
      "box (363, 220, 402, 298, 4)\n",
      "size (400, 300)\n",
      "('1', '0.36625', '0.6516666666666667', '0.5325', '0.6900000000000001')\n",
      "('0', '0.11125', '0.51', '0.2225', '0.9133333333333334')\n",
      "('0', '0.53625', '0.54', '0.3125', '0.7866666666666667')\n",
      "('0', '0.87875', '0.5766666666666667', '0.2475', '0.8466666666666667')\n",
      "(2, 0.33625, 0.4166666666666667, 0.1575, 0.22)\n",
      "(2, 0.13, 0.17333333333333334, 0.17, 0.24000000000000002)\n",
      "(2, 0.92875, 0.2566666666666667, 0.1475, 0.2066666666666667)\n",
      "(2, 0.56375, 0.23833333333333334, 0.0975, 0.18333333333333335)\n",
      "(7, 0.28875, 0.77, 0.3975, 0.43333333333333335)\n",
      "(7, 0.085, 0.5016666666666667, 0.135, 0.4966666666666667)\n",
      "(7, 0.455, 0.4733333333333334, 0.115, 0.3466666666666667)\n",
      "(7, 0.8175, 0.5416666666666667, 0.12, 0.3433333333333334)\n",
      "(3, 0.5475, 0.4733333333333334, 0.16, 0.30000000000000004)\n",
      "(3, 0.9275, 0.5333333333333333, 0.14, 0.2866666666666667)\n",
      "(3, 0.32125, 0.7516666666666667, 0.20750000000000002, 0.39)\n",
      "(5, 0.8612500000000001, 0.8350000000000001, 0.10250000000000001, 0.30333333333333334)\n",
      "(5, 0.4925, 0.7316666666666667, 0.1, 0.20333333333333334)\n",
      "(4, 0.58375, 0.7833333333333334, 0.0975, 0.26)\n",
      "(4, 0.95625, 0.8633333333333334, 0.0975, 0.26)\n",
      "Image No. 167 saved\n",
      "set label class to : head 2\n"
     ]
    },
    {
     "name": "stderr",
     "output_type": "stream",
     "text": [
      "Exception in Tkinter callback\n",
      "Traceback (most recent call last):\n",
      "  File \"D:\\apps\\Anaconda3\\lib\\tkinter\\__init__.py\", line 1699, in __call__\n",
      "    return self.func(*args)\n",
      "TypeError: setClass() missing 2 required positional arguments: 'b' and 'c'\n"
     ]
    },
    {
     "name": "stdout",
     "output_type": "stream",
     "text": [
      "size (400, 300)\n",
      "box (192, 38, 227, 84, 2)\n",
      "size (400, 300)\n",
      "box (187, 98, 248, 159, 2)\n",
      "size (400, 300)\n",
      "box (58, 31, 109, 86, 2)\n",
      "set label class to : Rarm 7\n"
     ]
    },
    {
     "name": "stderr",
     "output_type": "stream",
     "text": [
      "Exception in Tkinter callback\n",
      "Traceback (most recent call last):\n",
      "  File \"D:\\apps\\Anaconda3\\lib\\tkinter\\__init__.py\", line 1699, in __call__\n",
      "    return self.func(*args)\n",
      "TypeError: setClass() missing 2 required positional arguments: 'b' and 'c'\n"
     ]
    },
    {
     "name": "stdout",
     "output_type": "stream",
     "text": [
      "size (400, 300)\n",
      "box (50, 86, 105, 245, 7)\n",
      "size (400, 300)\n",
      "box (145, 176, 286, 296, 7)\n",
      "set label class to : body 3\n"
     ]
    },
    {
     "name": "stderr",
     "output_type": "stream",
     "text": [
      "Exception in Tkinter callback\n",
      "Traceback (most recent call last):\n",
      "  File \"D:\\apps\\Anaconda3\\lib\\tkinter\\__init__.py\", line 1699, in __call__\n",
      "    return self.func(*args)\n",
      "TypeError: setClass() missing 2 required positional arguments: 'b' and 'c'\n"
     ]
    },
    {
     "name": "stdout",
     "output_type": "stream",
     "text": [
      "size (400, 300)\n",
      "box (177, 166, 265, 278, 3)\n",
      "size (400, 300)\n",
      "('0', '0.17375000000000002', '0.535', '0.2275', '0.8700000000000001')\n",
      "('0', '0.50375', '0.3566666666666667', '0.2525', '0.46')\n",
      "('1', '0.61625', '0.6666666666666667', '0.5175', '0.6666666666666667')\n",
      "(2, 0.52375, 0.20333333333333334, 0.08750000000000001, 0.15333333333333335)\n",
      "(2, 0.5437500000000001, 0.42833333333333334, 0.1525, 0.20333333333333334)\n",
      "(2, 0.20875, 0.195, 0.1275, 0.18333333333333335)\n",
      "(7, 0.19375, 0.5516666666666667, 0.1375, 0.53)\n",
      "(7, 0.5387500000000001, 0.7866666666666667, 0.3525, 0.4)\n",
      "(3, 0.5525, 0.7400000000000001, 0.22, 0.37333333333333335)\n",
      "Image No. 168 saved\n",
      "size (400, 300)\n",
      "('4', '0.30375', '0.5016666666666667', '0.3625', '0.9833333333333334')\n",
      "('5', '0.64125', '0.5066666666666667', '0.3275', '0.9466666666666668')\n",
      "('0', '0.45', '0.5133333333333334', '0.74', '0.9866666666666667')\n",
      "Image No. 169 saved\n",
      "size (400, 300)\n",
      "('0', '0.49875', '0.5066666666666667', '0.9625', '0.9400000000000001')\n",
      "('5', '0.41875', '0.26', '0.7825', '0.38')\n",
      "('4', '0.39875', '0.6433333333333334', '0.7675000000000001', '0.46')\n",
      "Image No. 170 saved\n",
      "set label class to : head 2\n"
     ]
    },
    {
     "name": "stderr",
     "output_type": "stream",
     "text": [
      "Exception in Tkinter callback\n",
      "Traceback (most recent call last):\n",
      "  File \"D:\\apps\\Anaconda3\\lib\\tkinter\\__init__.py\", line 1699, in __call__\n",
      "    return self.func(*args)\n",
      "TypeError: setClass() missing 2 required positional arguments: 'b' and 'c'\n"
     ]
    },
    {
     "name": "stdout",
     "output_type": "stream",
     "text": [
      "size (400, 300)\n",
      "box (91, 82, 136, 124, 2)\n",
      "size (400, 300)\n",
      "box (205, 102, 242, 136, 2)\n",
      "size (400, 300)\n",
      "box (261, 44, 311, 103, 2)\n",
      "set label class to : Larm 6\n"
     ]
    },
    {
     "name": "stderr",
     "output_type": "stream",
     "text": [
      "Exception in Tkinter callback\n",
      "Traceback (most recent call last):\n",
      "  File \"D:\\apps\\Anaconda3\\lib\\tkinter\\__init__.py\", line 1699, in __call__\n",
      "    return self.func(*args)\n",
      "TypeError: setClass() missing 2 required positional arguments: 'b' and 'c'\n"
     ]
    },
    {
     "name": "stdout",
     "output_type": "stream",
     "text": [
      "size (400, 300)\n",
      "box (264, 105, 341, 205, 6)\n",
      "size (400, 300)\n",
      "box (227, 142, 259, 248, 6)\n",
      "set label class to : Rarm 7\n"
     ]
    },
    {
     "name": "stderr",
     "output_type": "stream",
     "text": [
      "Exception in Tkinter callback\n",
      "Traceback (most recent call last):\n",
      "  File \"D:\\apps\\Anaconda3\\lib\\tkinter\\__init__.py\", line 1699, in __call__\n",
      "    return self.func(*args)\n",
      "TypeError: setClass() missing 2 required positional arguments: 'b' and 'c'\n"
     ]
    },
    {
     "name": "stdout",
     "output_type": "stream",
     "text": [
      "size (400, 300)\n",
      "box (93, 126, 121, 217, 7)\n",
      "set label class to : Lleg 4\n"
     ]
    },
    {
     "name": "stderr",
     "output_type": "stream",
     "text": [
      "Exception in Tkinter callback\n",
      "Traceback (most recent call last):\n",
      "  File \"D:\\apps\\Anaconda3\\lib\\tkinter\\__init__.py\", line 1699, in __call__\n",
      "    return self.func(*args)\n",
      "TypeError: setClass() missing 2 required positional arguments: 'b' and 'c'\n"
     ]
    },
    {
     "name": "stdout",
     "output_type": "stream",
     "text": [
      "size (400, 300)\n",
      "box (133, 190, 161, 296, 4)\n",
      "set label class to : Rleg 5\n"
     ]
    },
    {
     "name": "stderr",
     "output_type": "stream",
     "text": [
      "Exception in Tkinter callback\n",
      "Traceback (most recent call last):\n",
      "  File \"D:\\apps\\Anaconda3\\lib\\tkinter\\__init__.py\", line 1699, in __call__\n",
      "    return self.func(*args)\n",
      "TypeError: setClass() missing 2 required positional arguments: 'b' and 'c'\n"
     ]
    },
    {
     "name": "stdout",
     "output_type": "stream",
     "text": [
      "size (400, 300)\n",
      "box (105, 195, 138, 294, 5)\n",
      "set label class to : body 3\n"
     ]
    },
    {
     "name": "stderr",
     "output_type": "stream",
     "text": [
      "Exception in Tkinter callback\n",
      "Traceback (most recent call last):\n",
      "  File \"D:\\apps\\Anaconda3\\lib\\tkinter\\__init__.py\", line 1699, in __call__\n",
      "    return self.func(*args)\n",
      "TypeError: setClass() missing 2 required positional arguments: 'b' and 'c'\n"
     ]
    },
    {
     "name": "stdout",
     "output_type": "stream",
     "text": [
      "size (400, 300)\n",
      "box (99, 125, 147, 188, 3)\n",
      "size (400, 300)\n",
      "box (211, 136, 248, 201, 3)\n",
      "size (400, 300)\n",
      "('0', '0.315', '0.63', '0.195', '0.7266666666666667')\n",
      "('1', '0.5725', '0.6516666666666667', '0.165', '0.6566666666666667')\n",
      "('1', '0.77125', '0.5633333333333334', '0.2475', '0.8466666666666667')\n",
      "(2, 0.28375, 0.3433333333333334, 0.1125, 0.14)\n",
      "(2, 0.55875, 0.39666666666666667, 0.0925, 0.11333333333333334)\n",
      "(2, 0.715, 0.24500000000000002, 0.125, 0.19666666666666668)\n",
      "(6, 0.75625, 0.5166666666666667, 0.1925, 0.33333333333333337)\n",
      "(6, 0.6075, 0.65, 0.08, 0.35333333333333333)\n",
      "(7, 0.2675, 0.5716666666666667, 0.07, 0.30333333333333334)\n",
      "(4, 0.3675, 0.81, 0.07, 0.35333333333333333)\n",
      "(5, 0.30375, 0.8150000000000001, 0.0825, 0.33)\n",
      "(3, 0.3075, 0.5216666666666667, 0.12, 0.21000000000000002)\n",
      "(3, 0.57375, 0.5616666666666666, 0.0925, 0.21666666666666667)\n",
      "Image No. 171 saved\n",
      "size (400, 300)\n",
      "box (160, 142, 210, 211, 3)\n",
      "size (400, 300)\n",
      "box (60, 142, 119, 229, 3)\n",
      "set label class to : head 2\n"
     ]
    },
    {
     "name": "stderr",
     "output_type": "stream",
     "text": [
      "Exception in Tkinter callback\n",
      "Traceback (most recent call last):\n",
      "  File \"D:\\apps\\Anaconda3\\lib\\tkinter\\__init__.py\", line 1699, in __call__\n",
      "    return self.func(*args)\n",
      "TypeError: setClass() missing 2 required positional arguments: 'b' and 'c'\n"
     ]
    },
    {
     "name": "stdout",
     "output_type": "stream",
     "text": [
      "size (400, 300)\n",
      "box (299, 42, 355, 110, 2)\n",
      "size (400, 300)\n",
      "box (168, 114, 205, 147, 2)\n",
      "size (400, 300)\n",
      "box (72, 93, 122, 150, 2)\n",
      "set label class to : Larm 6\n"
     ]
    },
    {
     "name": "stderr",
     "output_type": "stream",
     "text": [
      "Exception in Tkinter callback\n",
      "Traceback (most recent call last):\n",
      "  File \"D:\\apps\\Anaconda3\\lib\\tkinter\\__init__.py\", line 1699, in __call__\n",
      "    return self.func(*args)\n",
      "TypeError: setClass() missing 2 required positional arguments: 'b' and 'c'\n"
     ]
    },
    {
     "name": "stdout",
     "output_type": "stream",
     "text": [
      "size (400, 300)\n",
      "box (257, 126, 396, 241, 6)\n",
      "size (400, 300)\n",
      "box (56, 144, 100, 260, 6)\n",
      "set label class to : Rarm 7\n"
     ]
    },
    {
     "name": "stderr",
     "output_type": "stream",
     "text": [
      "Exception in Tkinter callback\n",
      "Traceback (most recent call last):\n",
      "  File \"D:\\apps\\Anaconda3\\lib\\tkinter\\__init__.py\", line 1699, in __call__\n",
      "    return self.func(*args)\n",
      "TypeError: setClass() missing 2 required positional arguments: 'b' and 'c'\n"
     ]
    },
    {
     "name": "stdout",
     "output_type": "stream",
     "text": [
      "size (400, 300)\n",
      "box (146, 152, 174, 196, 7)\n",
      "set label class to : Rleg 5\n"
     ]
    },
    {
     "name": "stderr",
     "output_type": "stream",
     "text": [
      "Exception in Tkinter callback\n",
      "Traceback (most recent call last):\n",
      "  File \"D:\\apps\\Anaconda3\\lib\\tkinter\\__init__.py\", line 1699, in __call__\n",
      "    return self.func(*args)\n",
      "TypeError: setClass() missing 2 required positional arguments: 'b' and 'c'\n"
     ]
    },
    {
     "name": "stdout",
     "output_type": "stream",
     "text": [
      "size (400, 300)\n",
      "box (157, 205, 191, 295, 5)\n",
      "size (400, 300)\n",
      "box (91, 228, 125, 295, 5)\n",
      "set label class to : Lleg 4\n"
     ]
    },
    {
     "name": "stderr",
     "output_type": "stream",
     "text": [
      "Exception in Tkinter callback\n",
      "Traceback (most recent call last):\n",
      "  File \"D:\\apps\\Anaconda3\\lib\\tkinter\\__init__.py\", line 1699, in __call__\n",
      "    return self.func(*args)\n",
      "TypeError: setClass() missing 2 required positional arguments: 'b' and 'c'\n"
     ]
    },
    {
     "name": "stdout",
     "output_type": "stream",
     "text": [
      "size (400, 300)\n",
      "box (186, 209, 229, 293, 4)\n",
      "size (400, 300)\n",
      "box (64, 240, 94, 300, 4)\n",
      "size (400, 300)\n",
      "('1', '0.79', '0.5666666666666667', '0.38', '0.88')\n",
      "('1', '0.46875', '0.6866666666666668', '0.2275', '0.62')\n",
      "('0', '0.2325', '0.6516666666666667', '0.185', '0.67')\n",
      "(3, 0.4625, 0.5883333333333334, 0.125, 0.23)\n",
      "(3, 0.22375, 0.6183333333333334, 0.1475, 0.29000000000000004)\n",
      "(2, 0.8175, 0.25333333333333335, 0.14, 0.22666666666666668)\n",
      "(2, 0.46625, 0.43500000000000005, 0.0925, 0.11)\n",
      "(2, 0.2425, 0.405, 0.125, 0.19)\n",
      "(6, 0.81625, 0.6116666666666667, 0.34750000000000003, 0.38333333333333336)\n",
      "(6, 0.195, 0.6733333333333333, 0.11, 0.3866666666666667)\n",
      "(7, 0.4, 0.5800000000000001, 0.07, 0.14666666666666667)\n",
      "(5, 0.435, 0.8333333333333334, 0.085, 0.30000000000000004)\n",
      "(5, 0.27, 0.8716666666666667, 0.085, 0.22333333333333336)\n",
      "(4, 0.51875, 0.8366666666666667, 0.1075, 0.28)\n",
      "(4, 0.1975, 0.9, 0.075, 0.2)\n",
      "Image No. 172 saved\n",
      "set label class to : head 2\n"
     ]
    },
    {
     "name": "stderr",
     "output_type": "stream",
     "text": [
      "Exception in Tkinter callback\n",
      "Traceback (most recent call last):\n",
      "  File \"D:\\apps\\Anaconda3\\lib\\tkinter\\__init__.py\", line 1699, in __call__\n",
      "    return self.func(*args)\n",
      "TypeError: setClass() missing 2 required positional arguments: 'b' and 'c'\n"
     ]
    },
    {
     "name": "stdout",
     "output_type": "stream",
     "text": [
      "size (400, 300)\n",
      "box (241, 44, 339, 155, 2)\n",
      "size (400, 300)\n",
      "box (72, 90, 123, 125, 2)\n",
      "size (400, 300)\n",
      "box (186, 101, 217, 140, 2)\n",
      "set label class to : Larm 6\n"
     ]
    },
    {
     "name": "stderr",
     "output_type": "stream",
     "text": [
      "Exception in Tkinter callback\n",
      "Traceback (most recent call last):\n",
      "  File \"D:\\apps\\Anaconda3\\lib\\tkinter\\__init__.py\", line 1699, in __call__\n",
      "    return self.func(*args)\n",
      "TypeError: setClass() missing 2 required positional arguments: 'b' and 'c'\n"
     ]
    },
    {
     "name": "stdout",
     "output_type": "stream",
     "text": [
      "size (400, 300)\n",
      "box (65, 127, 104, 243, 6)\n",
      "set label class to : body 3\n"
     ]
    },
    {
     "name": "stderr",
     "output_type": "stream",
     "text": [
      "Exception in Tkinter callback\n",
      "Traceback (most recent call last):\n",
      "  File \"D:\\apps\\Anaconda3\\lib\\tkinter\\__init__.py\", line 1699, in __call__\n",
      "    return self.func(*args)\n",
      "TypeError: setClass() missing 2 required positional arguments: 'b' and 'c'\n"
     ]
    },
    {
     "name": "stdout",
     "output_type": "stream",
     "text": [
      "size (400, 300)\n",
      "box (65, 134, 125, 209, 3)\n",
      "set label class to : Lleg 4\n"
     ]
    },
    {
     "name": "stderr",
     "output_type": "stream",
     "text": [
      "Exception in Tkinter callback\n",
      "Traceback (most recent call last):\n",
      "  File \"D:\\apps\\Anaconda3\\lib\\tkinter\\__init__.py\", line 1699, in __call__\n",
      "    return self.func(*args)\n",
      "TypeError: setClass() missing 2 required positional arguments: 'b' and 'c'\n"
     ]
    },
    {
     "name": "stdout",
     "output_type": "stream",
     "text": [
      "size (400, 300)\n",
      "box (69, 224, 108, 296, 4)\n",
      "size (400, 300)\n",
      "('0', '0.24875', '0.6416666666666667', '0.1825', '0.7033333333333334')\n",
      "('0', '0.78', '0.5633333333333334', '0.44', '0.8600000000000001')\n",
      "('1', '0.46625', '0.6533333333333333', '0.1625', '0.6533333333333333')\n",
      "(2, 0.725, 0.33166666666666667, 0.245, 0.37000000000000005)\n",
      "(2, 0.24375, 0.35833333333333334, 0.1275, 0.11666666666666667)\n",
      "(2, 0.50375, 0.40166666666666667, 0.0775, 0.13)\n",
      "(6, 0.21125, 0.6166666666666667, 0.0975, 0.3866666666666667)\n",
      "(3, 0.23750000000000002, 0.5716666666666667, 0.15, 0.25)\n",
      "(4, 0.22125, 0.8666666666666667, 0.0975, 0.24000000000000002)\n",
      "Image No. 173 saved\n",
      "set label class to : body 3\n"
     ]
    },
    {
     "name": "stderr",
     "output_type": "stream",
     "text": [
      "Exception in Tkinter callback\n",
      "Traceback (most recent call last):\n",
      "  File \"D:\\apps\\Anaconda3\\lib\\tkinter\\__init__.py\", line 1699, in __call__\n",
      "    return self.func(*args)\n",
      "TypeError: setClass() missing 2 required positional arguments: 'b' and 'c'\n"
     ]
    },
    {
     "name": "stdout",
     "output_type": "stream",
     "text": [
      "size (400, 300)\n",
      "box (122, 60, 313, 163, 3)\n",
      "set label class to : head 2\n"
     ]
    },
    {
     "name": "stderr",
     "output_type": "stream",
     "text": [
      "Exception in Tkinter callback\n",
      "Traceback (most recent call last):\n",
      "  File \"D:\\apps\\Anaconda3\\lib\\tkinter\\__init__.py\", line 1699, in __call__\n",
      "    return self.func(*args)\n",
      "TypeError: setClass() missing 2 required positional arguments: 'b' and 'c'\n"
     ]
    },
    {
     "name": "stdout",
     "output_type": "stream",
     "text": [
      "size (400, 300)\n",
      "box (35, 80, 128, 162, 2)\n",
      "set label class to : Larm 6\n"
     ]
    },
    {
     "name": "stderr",
     "output_type": "stream",
     "text": [
      "Exception in Tkinter callback\n",
      "Traceback (most recent call last):\n",
      "  File \"D:\\apps\\Anaconda3\\lib\\tkinter\\__init__.py\", line 1699, in __call__\n",
      "    return self.func(*args)\n",
      "TypeError: setClass() missing 2 required positional arguments: 'b' and 'c'\n"
     ]
    },
    {
     "name": "stdout",
     "output_type": "stream",
     "text": [
      "size (400, 300)\n",
      "box (116, 123, 275, 196, 6)\n",
      "size (400, 300)\n",
      "('0', '0.53625', '0.4166666666666667', '0.9075', '0.5')\n",
      "(3, 0.5437500000000001, 0.3716666666666667, 0.47750000000000004, 0.3433333333333334)\n",
      "(2, 0.20375000000000001, 0.4033333333333334, 0.2325, 0.2733333333333334)\n",
      "(6, 0.48875, 0.5316666666666667, 0.3975, 0.24333333333333335)\n",
      "Image No. 174 saved\n",
      "set label class to : head 2\n"
     ]
    },
    {
     "name": "stderr",
     "output_type": "stream",
     "text": [
      "Exception in Tkinter callback\n",
      "Traceback (most recent call last):\n",
      "  File \"D:\\apps\\Anaconda3\\lib\\tkinter\\__init__.py\", line 1699, in __call__\n",
      "    return self.func(*args)\n",
      "TypeError: setClass() missing 2 required positional arguments: 'b' and 'c'\n"
     ]
    },
    {
     "name": "stdout",
     "output_type": "stream",
     "text": [
      "size (400, 300)\n",
      "box (152, 142, 205, 178, 2)\n",
      "size (400, 300)\n",
      "box (156, 203, 195, 230, 2)\n",
      "set label class to : Rarm 7\n"
     ]
    },
    {
     "name": "stderr",
     "output_type": "stream",
     "text": [
      "Exception in Tkinter callback\n",
      "Traceback (most recent call last):\n",
      "  File \"D:\\apps\\Anaconda3\\lib\\tkinter\\__init__.py\", line 1699, in __call__\n",
      "    return self.func(*args)\n",
      "TypeError: setClass() missing 2 required positional arguments: 'b' and 'c'\n"
     ]
    },
    {
     "name": "stdout",
     "output_type": "stream",
     "text": [
      "size (400, 300)\n",
      "box (197, 112, 280, 164, 7)\n",
      "size (400, 300)\n",
      "('0', '0.685', '0.505', '0.6', '0.2833333333333333')\n",
      "('0', '0.72', '0.9083333333333334', '0.53', '0.15666666666666668')\n",
      "('1', '0.675', '0.7100000000000001', '0.62', '0.18000000000000002')\n",
      "(2, 0.44625000000000004, 0.5333333333333333, 0.1325, 0.12000000000000001)\n",
      "(2, 0.43875000000000003, 0.7216666666666667, 0.0975, 0.09000000000000001)\n",
      "(7, 0.5962500000000001, 0.46, 0.20750000000000002, 0.17333333333333334)\n",
      "Image No. 175 saved\n",
      "size (400, 300)\n",
      "box (183, 113, 247, 168, 7)\n",
      "set label class to : head 2\n"
     ]
    },
    {
     "name": "stderr",
     "output_type": "stream",
     "text": [
      "Exception in Tkinter callback\n",
      "Traceback (most recent call last):\n",
      "  File \"D:\\apps\\Anaconda3\\lib\\tkinter\\__init__.py\", line 1699, in __call__\n",
      "    return self.func(*args)\n",
      "TypeError: setClass() missing 2 required positional arguments: 'b' and 'c'\n"
     ]
    },
    {
     "name": "stdout",
     "output_type": "stream",
     "text": [
      "size (400, 300)\n",
      "box (240, 29, 281, 64, 2)\n",
      "size (400, 300)\n",
      "box (251, 147, 297, 181, 2)\n",
      "size (400, 300)\n",
      "box (233, 204, 262, 238, 2)\n",
      "set label class to : Rleg 5\n"
     ]
    },
    {
     "name": "stderr",
     "output_type": "stream",
     "text": [
      "Exception in Tkinter callback\n",
      "Traceback (most recent call last):\n",
      "  File \"D:\\apps\\Anaconda3\\lib\\tkinter\\__init__.py\", line 1699, in __call__\n",
      "    return self.func(*args)\n",
      "TypeError: setClass() missing 2 required positional arguments: 'b' and 'c'\n"
     ]
    },
    {
     "name": "stdout",
     "output_type": "stream",
     "text": [
      "size (400, 300)\n",
      "box (5, 127, 143, 165, 5)\n",
      "set label class to : Lleg 4\n"
     ]
    },
    {
     "name": "stderr",
     "output_type": "stream",
     "text": [
      "Exception in Tkinter callback\n",
      "Traceback (most recent call last):\n",
      "  File \"D:\\apps\\Anaconda3\\lib\\tkinter\\__init__.py\", line 1699, in __call__\n",
      "    return self.func(*args)\n",
      "TypeError: setClass() missing 2 required positional arguments: 'b' and 'c'\n"
     ]
    },
    {
     "name": "stdout",
     "output_type": "stream",
     "text": [
      "size (400, 300)\n",
      "box (13, 170, 150, 202, 4)\n",
      "set label class to : Rarm 7\n"
     ]
    },
    {
     "name": "stderr",
     "output_type": "stream",
     "text": [
      "Exception in Tkinter callback\n",
      "Traceback (most recent call last):\n",
      "  File \"D:\\apps\\Anaconda3\\lib\\tkinter\\__init__.py\", line 1699, in __call__\n",
      "    return self.func(*args)\n",
      "TypeError: setClass() missing 2 required positional arguments: 'b' and 'c'\n"
     ]
    },
    {
     "name": "stdout",
     "output_type": "stream",
     "text": [
      "size (400, 300)\n",
      "box (152, 218, 230, 264, 7)\n",
      "size (400, 300)\n",
      "('1', '0.37125', '0.5366666666666667', '0.7275', '0.35333333333333333')\n",
      "('1', '0.44125000000000003', '0.195', '0.5025000000000001', '0.24333333333333335')\n",
      "('0', '0.39125', '0.76', '0.5425', '0.2')\n",
      "(7, 0.5375, 0.4683333333333334, 0.16, 0.18333333333333335)\n",
      "(2, 0.65125, 0.155, 0.10250000000000001, 0.11666666666666667)\n",
      "(2, 0.685, 0.5466666666666667, 0.115, 0.11333333333333334)\n",
      "(2, 0.61875, 0.7366666666666667, 0.0725, 0.11333333333333334)\n",
      "(5, 0.185, 0.4866666666666667, 0.34500000000000003, 0.12666666666666668)\n",
      "(4, 0.20375000000000001, 0.62, 0.3425, 0.10666666666666667)\n",
      "(7, 0.47750000000000004, 0.8033333333333333, 0.195, 0.15333333333333335)\n",
      "Image No. 176 saved\n",
      "set label class to : head 2\n"
     ]
    },
    {
     "name": "stderr",
     "output_type": "stream",
     "text": [
      "Exception in Tkinter callback\n",
      "Traceback (most recent call last):\n",
      "  File \"D:\\apps\\Anaconda3\\lib\\tkinter\\__init__.py\", line 1699, in __call__\n",
      "    return self.func(*args)\n",
      "TypeError: setClass() missing 2 required positional arguments: 'b' and 'c'\n"
     ]
    },
    {
     "name": "stdout",
     "output_type": "stream",
     "text": [
      "size (400, 300)\n",
      "box (289, 131, 339, 175, 2)\n",
      "set label class to : Rleg 5\n"
     ]
    },
    {
     "name": "stderr",
     "output_type": "stream",
     "text": [
      "Exception in Tkinter callback\n",
      "Traceback (most recent call last):\n",
      "  File \"D:\\apps\\Anaconda3\\lib\\tkinter\\__init__.py\", line 1699, in __call__\n",
      "    return self.func(*args)\n",
      "TypeError: setClass() missing 2 required positional arguments: 'b' and 'c'\n"
     ]
    },
    {
     "name": "stdout",
     "output_type": "stream",
     "text": [
      "size (400, 300)\n",
      "box (22, 116, 177, 163, 5)\n",
      "set label class to : Lleg 4\n"
     ]
    },
    {
     "name": "stderr",
     "output_type": "stream",
     "text": [
      "Exception in Tkinter callback\n",
      "Traceback (most recent call last):\n",
      "  File \"D:\\apps\\Anaconda3\\lib\\tkinter\\__init__.py\", line 1699, in __call__\n",
      "    return self.func(*args)\n",
      "TypeError: setClass() missing 2 required positional arguments: 'b' and 'c'\n"
     ]
    },
    {
     "name": "stdout",
     "output_type": "stream",
     "text": [
      "size (400, 300)\n",
      "box (51, 162, 178, 193, 4)\n",
      "set label class to : Rarm 7\n"
     ]
    },
    {
     "name": "stderr",
     "output_type": "stream",
     "text": [
      "Exception in Tkinter callback\n",
      "Traceback (most recent call last):\n",
      "  File \"D:\\apps\\Anaconda3\\lib\\tkinter\\__init__.py\", line 1699, in __call__\n",
      "    return self.func(*args)\n",
      "TypeError: setClass() missing 2 required positional arguments: 'b' and 'c'\n"
     ]
    },
    {
     "name": "stdout",
     "output_type": "stream",
     "text": [
      "size (400, 300)\n",
      "box (241, 61, 321, 120, 7)\n",
      "set label class to : Larm 6\n"
     ]
    },
    {
     "name": "stderr",
     "output_type": "stream",
     "text": [
      "Exception in Tkinter callback\n",
      "Traceback (most recent call last):\n",
      "  File \"D:\\apps\\Anaconda3\\lib\\tkinter\\__init__.py\", line 1699, in __call__\n",
      "    return self.func(*args)\n",
      "TypeError: setClass() missing 2 required positional arguments: 'b' and 'c'\n"
     ]
    },
    {
     "name": "stdout",
     "output_type": "stream",
     "text": [
      "size (400, 300)\n",
      "box (242, 178, 312, 245, 6)\n",
      "set label class to : body 3\n"
     ]
    },
    {
     "name": "stderr",
     "output_type": "stream",
     "text": [
      "Exception in Tkinter callback\n",
      "Traceback (most recent call last):\n",
      "  File \"D:\\apps\\Anaconda3\\lib\\tkinter\\__init__.py\", line 1699, in __call__\n",
      "    return self.func(*args)\n",
      "TypeError: setClass() missing 2 required positional arguments: 'b' and 'c'\n"
     ]
    },
    {
     "name": "stdout",
     "output_type": "stream",
     "text": [
      "size (400, 300)\n",
      "box (183, 120, 291, 199, 3)\n",
      "size (400, 300)\n",
      "('1', '0.4475', '0.5066666666666667', '0.785', '0.6266666666666667')\n",
      "(2, 0.785, 0.51, 0.125, 0.14666666666666667)\n",
      "(5, 0.24875, 0.465, 0.3875, 0.15666666666666668)\n",
      "(4, 0.28625, 0.5916666666666667, 0.3175, 0.10333333333333335)\n",
      "(7, 0.7025, 0.3016666666666667, 0.2, 0.19666666666666668)\n",
      "(6, 0.6925, 0.7050000000000001, 0.17500000000000002, 0.22333333333333336)\n",
      "(3, 0.5925, 0.5316666666666667, 0.27, 0.26333333333333336)\n",
      "Image No. 177 saved\n",
      "size (400, 300)\n",
      "('1', '0.40875', '0.48333333333333334', '0.7275', '0.43333333333333335')\n",
      "('0', '0.45125', '0.895', '0.8925000000000001', '0.21000000000000002')\n",
      "Image No. 178 saved\n",
      "size (400, 300)\n",
      "('0', '0.7525000000000001', '0.5933333333333334', '0.495', '0.8066666666666668')\n",
      "('0', '0.27875', '0.5616666666666666', '0.47750000000000004', '0.81')\n",
      "('1', '0.135', '0.52', '0.22', '0.46')\n",
      "Image No. 179 saved\n",
      "size (400, 300)\n",
      "box (185, 113, 273, 176, 3)\n",
      "set label class to : head 2\n"
     ]
    },
    {
     "name": "stderr",
     "output_type": "stream",
     "text": [
      "Exception in Tkinter callback\n",
      "Traceback (most recent call last):\n",
      "  File \"D:\\apps\\Anaconda3\\lib\\tkinter\\__init__.py\", line 1699, in __call__\n",
      "    return self.func(*args)\n",
      "TypeError: setClass() missing 2 required positional arguments: 'b' and 'c'\n"
     ]
    },
    {
     "name": "stdout",
     "output_type": "stream",
     "text": [
      "size (400, 300)\n",
      "box (264, 147, 306, 188, 2)\n",
      "set label class to : Rleg 5\n"
     ]
    },
    {
     "name": "stderr",
     "output_type": "stream",
     "text": [
      "Exception in Tkinter callback\n",
      "Traceback (most recent call last):\n",
      "  File \"D:\\apps\\Anaconda3\\lib\\tkinter\\__init__.py\", line 1699, in __call__\n",
      "    return self.func(*args)\n",
      "TypeError: setClass() missing 2 required positional arguments: 'b' and 'c'\n"
     ]
    },
    {
     "name": "stdout",
     "output_type": "stream",
     "text": [
      "size (400, 300)\n",
      "box (22, 118, 176, 156, 5)\n",
      "set label class to : Lleg 4\n"
     ]
    },
    {
     "name": "stderr",
     "output_type": "stream",
     "text": [
      "Exception in Tkinter callback\n",
      "Traceback (most recent call last):\n",
      "  File \"D:\\apps\\Anaconda3\\lib\\tkinter\\__init__.py\", line 1699, in __call__\n",
      "    return self.func(*args)\n",
      "TypeError: setClass() missing 2 required positional arguments: 'b' and 'c'\n"
     ]
    },
    {
     "name": "stdout",
     "output_type": "stream",
     "text": [
      "size (400, 300)\n",
      "box (43, 161, 173, 190, 4)\n",
      "set label class to : Rarm 7\n"
     ]
    },
    {
     "name": "stderr",
     "output_type": "stream",
     "text": [
      "Exception in Tkinter callback\n",
      "Traceback (most recent call last):\n",
      "  File \"D:\\apps\\Anaconda3\\lib\\tkinter\\__init__.py\", line 1699, in __call__\n",
      "    return self.func(*args)\n",
      "TypeError: setClass() missing 2 required positional arguments: 'b' and 'c'\n"
     ]
    },
    {
     "name": "stdout",
     "output_type": "stream",
     "text": [
      "size (400, 300)\n",
      "box (203, 235, 301, 295, 7)\n",
      "set label class to : Rleg 5\n"
     ]
    },
    {
     "name": "stderr",
     "output_type": "stream",
     "text": [
      "Exception in Tkinter callback\n",
      "Traceback (most recent call last):\n",
      "  File \"D:\\apps\\Anaconda3\\lib\\tkinter\\__init__.py\", line 1699, in __call__\n",
      "    return self.func(*args)\n",
      "TypeError: setClass() missing 2 required positional arguments: 'b' and 'c'\n"
     ]
    },
    {
     "name": "stdout",
     "output_type": "stream",
     "text": [
      "size (400, 300)\n",
      "box (3, 255, 170, 298, 5)\n",
      "size (400, 300)\n",
      "('1', '0.40875', '0.48333333333333334', '0.7275', '0.43333333333333335')\n",
      "('0', '0.45125', '0.895', '0.8925000000000001', '0.21000000000000002')\n",
      "(3, 0.5725, 0.4816666666666667, 0.22, 0.21000000000000002)\n",
      "(2, 0.7125, 0.5583333333333333, 0.105, 0.1366666666666667)\n",
      "(5, 0.2475, 0.4566666666666667, 0.385, 0.12666666666666668)\n",
      "(4, 0.27, 0.5850000000000001, 0.325, 0.09666666666666668)\n",
      "(7, 0.63, 0.8833333333333334, 0.245, 0.2)\n",
      "(5, 0.21625, 0.9216666666666667, 0.4175, 0.14333333333333334)\n",
      "Image No. 178 saved\n",
      "set label class to : head 2\n"
     ]
    },
    {
     "name": "stderr",
     "output_type": "stream",
     "text": [
      "Exception in Tkinter callback\n",
      "Traceback (most recent call last):\n",
      "  File \"D:\\apps\\Anaconda3\\lib\\tkinter\\__init__.py\", line 1699, in __call__\n",
      "    return self.func(*args)\n",
      "TypeError: setClass() missing 2 required positional arguments: 'b' and 'c'\n"
     ]
    },
    {
     "name": "stdout",
     "output_type": "stream",
     "text": [
      "size (400, 300)\n",
      "box (95, 50, 179, 167, 2)\n",
      "size (400, 300)\n",
      "box (223, 63, 309, 170, 2)\n",
      "size (400, 300)\n",
      "box (33, 86, 76, 137, 2)\n",
      "set label class to : body 3\n"
     ]
    },
    {
     "name": "stderr",
     "output_type": "stream",
     "text": [
      "Exception in Tkinter callback\n",
      "Traceback (most recent call last):\n",
      "  File \"D:\\apps\\Anaconda3\\lib\\tkinter\\__init__.py\", line 1699, in __call__\n",
      "    return self.func(*args)\n",
      "TypeError: setClass() missing 2 required positional arguments: 'b' and 'c'\n"
     ]
    },
    {
     "name": "stdout",
     "output_type": "stream",
     "text": [
      "size (400, 300)\n",
      "box (227, 176, 359, 301, 3)\n",
      "size (400, 300)\n",
      "box (71, 163, 217, 295, 3)\n",
      "size (400, 300)\n",
      "('0', '0.7525000000000001', '0.5933333333333334', '0.495', '0.8066666666666668')\n",
      "('0', '0.27875', '0.5616666666666666', '0.47750000000000004', '0.81')\n",
      "('1', '0.135', '0.52', '0.22', '0.46')\n",
      "(2, 0.3425, 0.3616666666666667, 0.21, 0.39)\n",
      "(2, 0.665, 0.38833333333333336, 0.215, 0.3566666666666667)\n",
      "(2, 0.13625, 0.3716666666666667, 0.1075, 0.17)\n",
      "(3, 0.7325, 0.795, 0.33, 0.4166666666666667)\n",
      "(3, 0.36, 0.7633333333333334, 0.365, 0.44)\n",
      "Image No. 179 saved\n",
      "size (400, 300)\n",
      "box (249, 82, 401, 174, 3)\n",
      "set label class to : head 2\n"
     ]
    },
    {
     "name": "stderr",
     "output_type": "stream",
     "text": [
      "Exception in Tkinter callback\n",
      "Traceback (most recent call last):\n",
      "  File \"D:\\apps\\Anaconda3\\lib\\tkinter\\__init__.py\", line 1699, in __call__\n",
      "    return self.func(*args)\n",
      "TypeError: setClass() missing 2 required positional arguments: 'b' and 'c'\n"
     ]
    },
    {
     "name": "stdout",
     "output_type": "stream",
     "text": [
      "size (400, 300)\n",
      "box (169, 110, 251, 168, 2)\n",
      "size (400, 300)\n",
      "box (128, 180, 215, 234, 2)\n",
      "set label class to : Larm 6\n"
     ]
    },
    {
     "name": "stderr",
     "output_type": "stream",
     "text": [
      "Exception in Tkinter callback\n",
      "Traceback (most recent call last):\n",
      "  File \"D:\\apps\\Anaconda3\\lib\\tkinter\\__init__.py\", line 1699, in __call__\n",
      "    return self.func(*args)\n",
      "TypeError: setClass() missing 2 required positional arguments: 'b' and 'c'\n"
     ]
    },
    {
     "name": "stdout",
     "output_type": "stream",
     "text": [
      "size (400, 300)\n",
      "box (233, 38, 399, 93, 6)\n",
      "size (400, 300)\n",
      "('0', '0.7025', '0.36000000000000004', '0.5750000000000001', '0.48000000000000004')\n",
      "('0', '0.65', '0.7666666666666667', '0.685', '0.4133333333333334')\n",
      "('0', '0.4625', '0.2366666666666667', '0.34500000000000003', '0.18666666666666668')\n",
      "(3, 0.8125, 0.4266666666666667, 0.38, 0.3066666666666667)\n",
      "(2, 0.525, 0.4633333333333334, 0.20500000000000002, 0.19333333333333336)\n",
      "(2, 0.42875, 0.6900000000000001, 0.2175, 0.18000000000000002)\n",
      "(6, 0.79, 0.21833333333333335, 0.41500000000000004, 0.18333333333333335)\n",
      "Image No. 180 saved\n",
      "set label class to : body 3\n"
     ]
    },
    {
     "name": "stderr",
     "output_type": "stream",
     "text": [
      "Exception in Tkinter callback\n",
      "Traceback (most recent call last):\n",
      "  File \"D:\\apps\\Anaconda3\\lib\\tkinter\\__init__.py\", line 1699, in __call__\n",
      "    return self.func(*args)\n",
      "TypeError: setClass() missing 2 required positional arguments: 'b' and 'c'\n"
     ]
    },
    {
     "name": "stdout",
     "output_type": "stream",
     "text": [
      "size (400, 300)\n",
      "box (207, 173, 367, 270, 3)\n",
      "set label class to : head 2\n"
     ]
    },
    {
     "name": "stderr",
     "output_type": "stream",
     "text": [
      "Exception in Tkinter callback\n",
      "Traceback (most recent call last):\n",
      "  File \"D:\\apps\\Anaconda3\\lib\\tkinter\\__init__.py\", line 1699, in __call__\n",
      "    return self.func(*args)\n",
      "TypeError: setClass() missing 2 required positional arguments: 'b' and 'c'\n"
     ]
    },
    {
     "name": "stdout",
     "output_type": "stream",
     "text": [
      "size (400, 300)\n",
      "box (141, 206, 203, 253, 2)\n",
      "size (400, 300)\n",
      "box (127, 48, 177, 90, 2)\n",
      "set label class to : Rarm 7\n"
     ]
    },
    {
     "name": "stderr",
     "output_type": "stream",
     "text": [
      "Exception in Tkinter callback\n",
      "Traceback (most recent call last):\n",
      "  File \"D:\\apps\\Anaconda3\\lib\\tkinter\\__init__.py\", line 1699, in __call__\n",
      "    return self.func(*args)\n",
      "TypeError: setClass() missing 2 required positional arguments: 'b' and 'c'\n"
     ]
    },
    {
     "name": "stdout",
     "output_type": "stream",
     "text": [
      "size (400, 300)\n",
      "box (225, 254, 398, 292, 7)\n",
      "size (400, 300)\n",
      "box (178, 38, 282, 110, 7)\n",
      "size (400, 300)\n",
      "('0', '0.665', '0.6916666666666668', '0.64', '0.5033333333333334')\n",
      "('1', '0.65375', '0.25', '0.6875', '0.2866666666666667')\n",
      "(3, 0.7175, 0.7383333333333334, 0.4, 0.32333333333333336)\n",
      "(2, 0.43, 0.765, 0.155, 0.15666666666666668)\n",
      "(2, 0.38, 0.23, 0.125, 0.14)\n",
      "(7, 0.77875, 0.91, 0.4325, 0.12666666666666668)\n",
      "(7, 0.5750000000000001, 0.24666666666666667, 0.26, 0.24000000000000002)\n",
      "Image No. 181 saved\n",
      "set label class to : Larm 6\n"
     ]
    },
    {
     "name": "stderr",
     "output_type": "stream",
     "text": [
      "Exception in Tkinter callback\n",
      "Traceback (most recent call last):\n",
      "  File \"D:\\apps\\Anaconda3\\lib\\tkinter\\__init__.py\", line 1699, in __call__\n",
      "    return self.func(*args)\n",
      "TypeError: setClass() missing 2 required positional arguments: 'b' and 'c'\n"
     ]
    },
    {
     "name": "stdout",
     "output_type": "stream",
     "text": [
      "size (400, 300)\n",
      "box (235, 5, 395, 139, 6)\n",
      "set label class to : head 2\n"
     ]
    },
    {
     "name": "stderr",
     "output_type": "stream",
     "text": [
      "Exception in Tkinter callback\n",
      "Traceback (most recent call last):\n",
      "  File \"D:\\apps\\Anaconda3\\lib\\tkinter\\__init__.py\", line 1699, in __call__\n",
      "    return self.func(*args)\n",
      "TypeError: setClass() missing 2 required positional arguments: 'b' and 'c'\n"
     ]
    },
    {
     "name": "stdout",
     "output_type": "stream",
     "text": [
      "size (400, 300)\n",
      "box (127, 72, 235, 162, 2)\n",
      "size (400, 300)\n",
      "box (78, 170, 220, 283, 2)\n",
      "set label class to : body 3\n"
     ]
    },
    {
     "name": "stderr",
     "output_type": "stream",
     "text": [
      "Exception in Tkinter callback\n",
      "Traceback (most recent call last):\n",
      "  File \"D:\\apps\\Anaconda3\\lib\\tkinter\\__init__.py\", line 1699, in __call__\n",
      "    return self.func(*args)\n",
      "TypeError: setClass() missing 2 required positional arguments: 'b' and 'c'\n"
     ]
    },
    {
     "name": "stdout",
     "output_type": "stream",
     "text": [
      "size (400, 300)\n",
      "box (208, 151, 397, 292, 3)\n",
      "size (400, 300)\n",
      "('1', '0.64', '0.29333333333333333', '0.7000000000000001', '0.5333333333333333')\n",
      "('0', '0.5750000000000001', '0.7016666666666667', '0.81', '0.5433333333333333')\n",
      "(6, 0.7875, 0.24000000000000002, 0.4, 0.4466666666666667)\n",
      "(2, 0.4525, 0.39, 0.27, 0.30000000000000004)\n",
      "(2, 0.3725, 0.755, 0.355, 0.3766666666666667)\n",
      "(3, 0.75625, 0.7383333333333334, 0.47250000000000003, 0.47000000000000003)\n",
      "Image No. 182 saved\n",
      "set label class to : head 2\n"
     ]
    },
    {
     "name": "stderr",
     "output_type": "stream",
     "text": [
      "Exception in Tkinter callback\n",
      "Traceback (most recent call last):\n",
      "  File \"D:\\apps\\Anaconda3\\lib\\tkinter\\__init__.py\", line 1699, in __call__\n",
      "    return self.func(*args)\n",
      "TypeError: setClass() missing 2 required positional arguments: 'b' and 'c'\n"
     ]
    },
    {
     "name": "stdout",
     "output_type": "stream",
     "text": [
      "size (400, 300)\n",
      "box (84, 72, 277, 209, 2)\n",
      "size (400, 300)\n",
      "('1', '0.59', '0.5366666666666667', '0.81', '0.9')\n",
      "(2, 0.45125, 0.4683333333333334, 0.4825, 0.4566666666666667)\n",
      "Image No. 183 saved\n",
      "size (400, 300)\n",
      "box (208, 162, 264, 214, 2)\n",
      "size (400, 300)\n",
      "box (82, 99, 132, 138, 2)\n",
      "set label class to : body 3\n"
     ]
    },
    {
     "name": "stderr",
     "output_type": "stream",
     "text": [
      "Exception in Tkinter callback\n",
      "Traceback (most recent call last):\n",
      "  File \"D:\\apps\\Anaconda3\\lib\\tkinter\\__init__.py\", line 1699, in __call__\n",
      "    return self.func(*args)\n",
      "TypeError: setClass() missing 2 required positional arguments: 'b' and 'c'\n"
     ]
    },
    {
     "name": "stdout",
     "output_type": "stream",
     "text": [
      "size (400, 300)\n",
      "box (131, 88, 212, 152, 3)\n",
      "size (400, 300)\n",
      "('1', '0.6950000000000001', '0.6266666666666667', '0.595', '0.31333333333333335')\n",
      "('1', '0.52875', '0.395', '0.6525', '0.29000000000000004')\n",
      "(2, 0.59, 0.6266666666666667, 0.14, 0.17333333333333334)\n",
      "(2, 0.2675, 0.395, 0.125, 0.13)\n",
      "(3, 0.42875, 0.4, 0.2025, 0.21333333333333335)\n",
      "Image No. 184 saved\n",
      "size (400, 300)\n",
      "box (184, 87, 271, 135, 3)\n",
      "set label class to : head 2\n"
     ]
    },
    {
     "name": "stderr",
     "output_type": "stream",
     "text": [
      "Exception in Tkinter callback\n",
      "Traceback (most recent call last):\n",
      "  File \"D:\\apps\\Anaconda3\\lib\\tkinter\\__init__.py\", line 1699, in __call__\n",
      "    return self.func(*args)\n",
      "TypeError: setClass() missing 2 required positional arguments: 'b' and 'c'\n"
     ]
    },
    {
     "name": "stdout",
     "output_type": "stream",
     "text": [
      "size (400, 300)\n",
      "box (203, 228, 255, 276, 2)\n",
      "size (400, 300)\n",
      "box (151, 65, 198, 106, 2)\n",
      "set label class to : Rarm 7\n"
     ]
    },
    {
     "name": "stderr",
     "output_type": "stream",
     "text": [
      "Exception in Tkinter callback\n",
      "Traceback (most recent call last):\n",
      "  File \"D:\\apps\\Anaconda3\\lib\\tkinter\\__init__.py\", line 1699, in __call__\n",
      "    return self.func(*args)\n",
      "TypeError: setClass() missing 2 required positional arguments: 'b' and 'c'\n"
     ]
    },
    {
     "name": "stdout",
     "output_type": "stream",
     "text": [
      "size (400, 300)\n",
      "box (203, 52, 287, 98, 7)\n",
      "set label class to : Larm 6\n"
     ]
    },
    {
     "name": "stderr",
     "output_type": "stream",
     "text": [
      "Exception in Tkinter callback\n",
      "Traceback (most recent call last):\n",
      "  File \"D:\\apps\\Anaconda3\\lib\\tkinter\\__init__.py\", line 1699, in __call__\n",
      "    return self.func(*args)\n",
      "TypeError: setClass() missing 2 required positional arguments: 'b' and 'c'\n"
     ]
    },
    {
     "name": "stdout",
     "output_type": "stream",
     "text": [
      "size (400, 300)\n",
      "box (267, 233, 394, 296, 6)\n",
      "size (400, 300)\n",
      "('1', '0.61375', '0.3433333333333334', '0.4925', '0.34')\n",
      "('1', '0.7425', '0.8533333333333334', '0.505', '0.26666666666666666')\n",
      "(3, 0.56875, 0.37000000000000005, 0.2175, 0.16)\n",
      "(2, 0.5725, 0.8400000000000001, 0.13, 0.16)\n",
      "(2, 0.43625, 0.28500000000000003, 0.11750000000000001, 0.1366666666666667)\n",
      "(7, 0.6125, 0.25, 0.21, 0.15333333333333335)\n",
      "(6, 0.82625, 0.8816666666666667, 0.3175, 0.21000000000000002)\n",
      "Image No. 185 saved\n",
      "set label class to : head 2\n"
     ]
    },
    {
     "name": "stderr",
     "output_type": "stream",
     "text": [
      "Exception in Tkinter callback\n",
      "Traceback (most recent call last):\n",
      "  File \"D:\\apps\\Anaconda3\\lib\\tkinter\\__init__.py\", line 1699, in __call__\n",
      "    return self.func(*args)\n",
      "TypeError: setClass() missing 2 required positional arguments: 'b' and 'c'\n"
     ]
    },
    {
     "name": "stdout",
     "output_type": "stream",
     "text": [
      "size (400, 300)\n",
      "box (84, 139, 169, 236, 2)\n",
      "size (400, 300)\n",
      "('1', '0.3225', '0.7200000000000001', '0.46', '0.52')\n",
      "(2, 0.31625000000000003, 0.625, 0.2125, 0.32333333333333336)\n",
      "Image No. 186 saved\n",
      "size (400, 300)\n",
      "box (74, 123, 119, 177, 2)\n",
      "size (400, 300)\n",
      "box (290, 130, 316, 166, 2)\n",
      "set label class to : body 3\n"
     ]
    },
    {
     "name": "stderr",
     "output_type": "stream",
     "text": [
      "Exception in Tkinter callback\n",
      "Traceback (most recent call last):\n",
      "  File \"D:\\apps\\Anaconda3\\lib\\tkinter\\__init__.py\", line 1699, in __call__\n",
      "    return self.func(*args)\n",
      "TypeError: setClass() missing 2 required positional arguments: 'b' and 'c'\n"
     ]
    },
    {
     "name": "stdout",
     "output_type": "stream",
     "text": [
      "size (400, 300)\n",
      "box (284, 161, 326, 218, 3)\n",
      "set label class to : Rarm 7\n"
     ]
    },
    {
     "name": "stderr",
     "output_type": "stream",
     "text": [
      "Exception in Tkinter callback\n",
      "Traceback (most recent call last):\n",
      "  File \"D:\\apps\\Anaconda3\\lib\\tkinter\\__init__.py\", line 1699, in __call__\n",
      "    return self.func(*args)\n",
      "TypeError: setClass() missing 2 required positional arguments: 'b' and 'c'\n"
     ]
    },
    {
     "name": "stdout",
     "output_type": "stream",
     "text": [
      "size (400, 300)\n",
      "box (272, 166, 293, 246, 7)\n",
      "size (400, 300)\n",
      "box (11, 174, 97, 291, 7)\n",
      "set label class to : Larm 6\n"
     ]
    },
    {
     "name": "stderr",
     "output_type": "stream",
     "text": [
      "Exception in Tkinter callback\n",
      "Traceback (most recent call last):\n",
      "  File \"D:\\apps\\Anaconda3\\lib\\tkinter\\__init__.py\", line 1699, in __call__\n",
      "    return self.func(*args)\n",
      "TypeError: setClass() missing 2 required positional arguments: 'b' and 'c'\n"
     ]
    },
    {
     "name": "stdout",
     "output_type": "stream",
     "text": [
      "size (400, 300)\n",
      "box (322, 164, 357, 238, 6)\n",
      "set label class to : Rleg 5\n"
     ]
    },
    {
     "name": "stderr",
     "output_type": "stream",
     "text": [
      "Exception in Tkinter callback\n",
      "Traceback (most recent call last):\n",
      "  File \"D:\\apps\\Anaconda3\\lib\\tkinter\\__init__.py\", line 1699, in __call__\n",
      "    return self.func(*args)\n",
      "TypeError: setClass() missing 2 required positional arguments: 'b' and 'c'\n"
     ]
    },
    {
     "name": "stdout",
     "output_type": "stream",
     "text": [
      "size (400, 300)\n",
      "box (282, 226, 312, 294, 5)\n",
      "set label class to : Lleg 4\n"
     ]
    },
    {
     "name": "stderr",
     "output_type": "stream",
     "text": [
      "Exception in Tkinter callback\n",
      "Traceback (most recent call last):\n",
      "  File \"D:\\apps\\Anaconda3\\lib\\tkinter\\__init__.py\", line 1699, in __call__\n",
      "    return self.func(*args)\n",
      "TypeError: setClass() missing 2 required positional arguments: 'b' and 'c'\n"
     ]
    },
    {
     "name": "stdout",
     "output_type": "stream",
     "text": [
      "size (400, 300)\n",
      "box (316, 224, 355, 296, 4)\n",
      "size (400, 300)\n",
      "('1', '0.15625', '0.6933333333333334', '0.2775', '0.5800000000000001')\n",
      "('1', '0.7837500000000001', '0.7083333333333334', '0.2175', '0.5633333333333334')\n",
      "(2, 0.24125, 0.5, 0.1125, 0.18000000000000002)\n",
      "(2, 0.7575000000000001, 0.49333333333333335, 0.065, 0.12000000000000001)\n",
      "(3, 0.7625000000000001, 0.6316666666666667, 0.105, 0.19)\n",
      "(7, 0.70625, 0.6866666666666668, 0.0525, 0.26666666666666666)\n",
      "(7, 0.135, 0.775, 0.215, 0.39)\n",
      "(6, 0.84875, 0.67, 0.08750000000000001, 0.24666666666666667)\n",
      "(5, 0.7425, 0.8666666666666667, 0.075, 0.22666666666666668)\n",
      "(4, 0.83875, 0.8666666666666667, 0.0975, 0.24000000000000002)\n",
      "Image No. 187 saved\n",
      "size (400, 300)\n",
      "('1', '0.5075000000000001', '0.6183333333333334', '0.975', '0.7366666666666667')\n",
      "('2', '0.4425', '0.49500000000000005', '0.28500000000000003', '0.4966666666666667')\n",
      "Image No. 188 saved\n",
      "set label class to : Rarm 7\n"
     ]
    },
    {
     "name": "stderr",
     "output_type": "stream",
     "text": [
      "Exception in Tkinter callback\n",
      "Traceback (most recent call last):\n",
      "  File \"D:\\apps\\Anaconda3\\lib\\tkinter\\__init__.py\", line 1699, in __call__\n",
      "    return self.func(*args)\n",
      "TypeError: setClass() missing 2 required positional arguments: 'b' and 'c'\n"
     ]
    },
    {
     "name": "stdout",
     "output_type": "stream",
     "text": [
      "size (400, 300)\n",
      "box (47, 91, 171, 222, 7)\n",
      "set label class to : Larm 6\n"
     ]
    },
    {
     "name": "stderr",
     "output_type": "stream",
     "text": [
      "Exception in Tkinter callback\n",
      "Traceback (most recent call last):\n",
      "  File \"D:\\apps\\Anaconda3\\lib\\tkinter\\__init__.py\", line 1699, in __call__\n",
      "    return self.func(*args)\n",
      "TypeError: setClass() missing 2 required positional arguments: 'b' and 'c'\n"
     ]
    },
    {
     "name": "stdout",
     "output_type": "stream",
     "text": [
      "size (400, 300)\n",
      "box (260, 140, 359, 294, 6)\n",
      "size (400, 300)\n",
      "('2', '0.365', '0.20833333333333334', '0.18', '0.29000000000000004')\n",
      "('2', '0.665', '0.27166666666666667', '0.18', '0.26333333333333336')\n",
      "('1', '0.30125', '0.5283333333333333', '0.3925', '0.9500000000000001')\n",
      "('1', '0.68', '0.555', '0.44', '0.8433333333333334')\n",
      "(7, 0.2725, 0.5216666666666667, 0.31, 0.4366666666666667)\n",
      "(6, 0.77375, 0.7233333333333334, 0.2475, 0.5133333333333334)\n",
      "Image No. 189 saved\n",
      "size (400, 300)\n",
      "box (185, 12, 397, 139, 6)\n",
      "set label class to : head 2\n"
     ]
    },
    {
     "name": "stderr",
     "output_type": "stream",
     "text": [
      "Exception in Tkinter callback\n",
      "Traceback (most recent call last):\n",
      "  File \"D:\\apps\\Anaconda3\\lib\\tkinter\\__init__.py\", line 1699, in __call__\n",
      "    return self.func(*args)\n",
      "TypeError: setClass() missing 2 required positional arguments: 'b' and 'c'\n"
     ]
    },
    {
     "name": "stdout",
     "output_type": "stream",
     "text": [
      "size (400, 300)\n",
      "box (61, 199, 139, 248, 2)\n",
      "size (400, 300)\n",
      "box (56, 58, 169, 130, 2)\n",
      "size (400, 300)\n",
      "box (55, 46, 171, 135, 2)\n",
      "size (400, 300)\n",
      "('1', '0.5575', '0.31833333333333336', '0.845', '0.5833333333333334')\n",
      "('1', '0.5650000000000001', '0.7300000000000001', '0.86', '0.5133333333333334')\n",
      "(6, 0.7275, 0.2516666666666667, 0.53, 0.42333333333333334)\n",
      "(2, 0.25, 0.745, 0.195, 0.16333333333333333)\n",
      "(2, 0.28250000000000003, 0.3016666666666667, 0.29, 0.2966666666666667)\n",
      "Image No. 190 saved\n",
      "size (400, 300)\n",
      "box (84, 57, 142, 134, 2)\n",
      "size (400, 300)\n",
      "box (151, 72, 191, 123, 2)\n"
     ]
    },
    {
     "name": "stderr",
     "output_type": "stream",
     "text": [
      "Exception in Tkinter callback\n",
      "Traceback (most recent call last):\n",
      "  File \"D:\\apps\\Anaconda3\\lib\\tkinter\\__init__.py\", line 1699, in __call__\n",
      "    return self.func(*args)\n",
      "TypeError: setClass() missing 2 required positional arguments: 'b' and 'c'\n"
     ]
    },
    {
     "name": "stdout",
     "output_type": "stream",
     "text": [
      "set label class to : Rarm 7\n"
     ]
    },
    {
     "name": "stderr",
     "output_type": "stream",
     "text": [
      "Exception in Tkinter callback\n",
      "Traceback (most recent call last):\n",
      "  File \"D:\\apps\\Anaconda3\\lib\\tkinter\\__init__.py\", line 1699, in __call__\n",
      "    return self.func(*args)\n",
      "TypeError: setClass() missing 2 required positional arguments: 'b' and 'c'\n"
     ]
    },
    {
     "name": "stdout",
     "output_type": "stream",
     "text": [
      "size (400, 300)\n",
      "box (7, 118, 167, 295, 7)\n",
      "size (400, 300)\n",
      "('1', '0.2225', '0.5833333333333334', '0.405', '0.7933333333333333')\n",
      "('1', '0.4675', '0.6066666666666667', '0.255', '0.7666666666666667')\n",
      "(2, 0.28250000000000003, 0.31833333333333336, 0.145, 0.2566666666666667)\n",
      "(2, 0.4275, 0.325, 0.1, 0.17)\n",
      "(7, 0.2175, 0.6883333333333334, 0.4, 0.5900000000000001)\n",
      "Image No. 191 saved\n"
     ]
    },
    {
     "name": "stderr",
     "output_type": "stream",
     "text": [
      "Exception in Tkinter callback\n",
      "Traceback (most recent call last):\n",
      "  File \"D:\\apps\\Anaconda3\\lib\\tkinter\\__init__.py\", line 1699, in __call__\n",
      "    return self.func(*args)\n",
      "TypeError: setClass() missing 2 required positional arguments: 'b' and 'c'\n"
     ]
    },
    {
     "name": "stdout",
     "output_type": "stream",
     "text": [
      "set label class to : head 2\n"
     ]
    },
    {
     "name": "stderr",
     "output_type": "stream",
     "text": [
      "Exception in Tkinter callback\n",
      "Traceback (most recent call last):\n",
      "  File \"D:\\apps\\Anaconda3\\lib\\tkinter\\__init__.py\", line 1699, in __call__\n",
      "    return self.func(*args)\n",
      "TypeError: setClass() missing 2 required positional arguments: 'b' and 'c'\n"
     ]
    },
    {
     "name": "stdout",
     "output_type": "stream",
     "text": [
      "size (400, 300)\n",
      "box (177, 96, 251, 171, 2)\n",
      "size (400, 300)\n",
      "('0', '0.505', '0.6483333333333334', '0.32', '0.6433333333333334')\n",
      "(2, 0.535, 0.445, 0.185, 0.25)\n",
      "Image No. 192 saved\n",
      "size (400, 300)\n",
      "box (173, 140, 239, 221, 2)\n",
      "size (400, 300)\n",
      "box (253, 89, 291, 140, 2)\n",
      "size (400, 300)\n",
      "box (141, 132, 181, 177, 2)\n",
      "set label class to : Rarm 7\n"
     ]
    },
    {
     "name": "stderr",
     "output_type": "stream",
     "text": [
      "Exception in Tkinter callback\n",
      "Traceback (most recent call last):\n",
      "  File \"D:\\apps\\Anaconda3\\lib\\tkinter\\__init__.py\", line 1699, in __call__\n",
      "    return self.func(*args)\n",
      "TypeError: setClass() missing 2 required positional arguments: 'b' and 'c'\n"
     ]
    },
    {
     "name": "stdout",
     "output_type": "stream",
     "text": [
      "size (400, 300)\n",
      "box (119, 182, 150, 294, 7)\n",
      "set label class to : Larm 6\n"
     ]
    },
    {
     "name": "stderr",
     "output_type": "stream",
     "text": [
      "Exception in Tkinter callback\n",
      "Traceback (most recent call last):\n",
      "  File \"D:\\apps\\Anaconda3\\lib\\tkinter\\__init__.py\", line 1699, in __call__\n",
      "    return self.func(*args)\n",
      "TypeError: setClass() missing 2 required positional arguments: 'b' and 'c'\n"
     ]
    },
    {
     "name": "stdout",
     "output_type": "stream",
     "text": [
      "size (400, 300)\n",
      "box (285, 143, 322, 262, 6)\n",
      "size (400, 300)\n",
      "('0', '0.395', '0.67', '0.185', '0.5333333333333333')\n",
      "('1', '0.55375', '0.7133333333333334', '0.41250000000000003', '0.5466666666666667')\n",
      "('1', '0.70625', '0.5883333333333334', '0.2175', '0.5900000000000001')\n",
      "('1', '0.13875', '0.6316666666666667', '0.2575', '0.7166666666666667')\n",
      "(2, 0.515, 0.6016666666666667, 0.165, 0.27)\n",
      "(2, 0.68, 0.3816666666666667, 0.095, 0.17)\n",
      "(2, 0.4025, 0.515, 0.1, 0.15000000000000002)\n",
      "(7, 0.33625, 0.7933333333333333, 0.0775, 0.37333333333333335)\n",
      "(6, 0.75875, 0.675, 0.0925, 0.39666666666666667)\n",
      "Image No. 193 saved\n",
      "set label class to : head 2\n"
     ]
    },
    {
     "name": "stderr",
     "output_type": "stream",
     "text": [
      "Exception in Tkinter callback\n",
      "Traceback (most recent call last):\n",
      "  File \"D:\\apps\\Anaconda3\\lib\\tkinter\\__init__.py\", line 1699, in __call__\n",
      "    return self.func(*args)\n",
      "TypeError: setClass() missing 2 required positional arguments: 'b' and 'c'\n"
     ]
    },
    {
     "name": "stdout",
     "output_type": "stream",
     "text": [
      "size (400, 300)\n",
      "box (195, 96, 249, 168, 2)\n",
      "size (400, 300)\n",
      "box (52, 114, 137, 192, 2)\n",
      "set label class to : Larm 6\n"
     ]
    },
    {
     "name": "stderr",
     "output_type": "stream",
     "text": [
      "Exception in Tkinter callback\n",
      "Traceback (most recent call last):\n",
      "  File \"D:\\apps\\Anaconda3\\lib\\tkinter\\__init__.py\", line 1699, in __call__\n",
      "    return self.func(*args)\n",
      "TypeError: setClass() missing 2 required positional arguments: 'b' and 'c'\n"
     ]
    },
    {
     "name": "stdout",
     "output_type": "stream",
     "text": [
      "size (400, 300)\n",
      "box (249, 180, 294, 298, 6)\n",
      "size (400, 300)\n",
      "box (89, 139, 165, 252, 6)\n",
      "size (400, 300)\n",
      "('1', '0.53', '0.6483333333333334', '0.41000000000000003', '0.6766666666666667')\n",
      "('1', '0.22125', '0.6733333333333333', '0.3825', '0.6066666666666667')\n",
      "(2, 0.555, 0.44, 0.135, 0.24000000000000002)\n",
      "(2, 0.23625000000000002, 0.51, 0.2125, 0.26)\n",
      "(6, 0.67875, 0.7966666666666667, 0.1125, 0.39333333333333337)\n",
      "(6, 0.3175, 0.6516666666666667, 0.19, 0.3766666666666667)\n",
      "Image No. 194 saved\n",
      "set label class to : head 2\n"
     ]
    },
    {
     "name": "stderr",
     "output_type": "stream",
     "text": [
      "Exception in Tkinter callback\n",
      "Traceback (most recent call last):\n",
      "  File \"D:\\apps\\Anaconda3\\lib\\tkinter\\__init__.py\", line 1699, in __call__\n",
      "    return self.func(*args)\n",
      "TypeError: setClass() missing 2 required positional arguments: 'b' and 'c'\n"
     ]
    },
    {
     "name": "stdout",
     "output_type": "stream",
     "text": [
      "size (400, 300)\n",
      "box (100, 16, 165, 112, 2)\n",
      "size (400, 300)\n",
      "box (204, 20, 259, 88, 2)\n",
      "set label class to : Rarm 7\n"
     ]
    },
    {
     "name": "stderr",
     "output_type": "stream",
     "text": [
      "Exception in Tkinter callback\n",
      "Traceback (most recent call last):\n",
      "  File \"D:\\apps\\Anaconda3\\lib\\tkinter\\__init__.py\", line 1699, in __call__\n",
      "    return self.func(*args)\n",
      "TypeError: setClass() missing 2 required positional arguments: 'b' and 'c'\n"
     ]
    },
    {
     "name": "stdout",
     "output_type": "stream",
     "text": [
      "size (400, 300)\n",
      "box (80, 116, 197, 288, 7)\n",
      "set label class to : head 2\n"
     ]
    },
    {
     "name": "stderr",
     "output_type": "stream",
     "text": [
      "Exception in Tkinter callback\n",
      "Traceback (most recent call last):\n",
      "  File \"D:\\apps\\Anaconda3\\lib\\tkinter\\__init__.py\", line 1699, in __call__\n",
      "    return self.func(*args)\n",
      "TypeError: setClass() missing 2 required positional arguments: 'b' and 'c'\n"
     ]
    },
    {
     "name": "stdout",
     "output_type": "stream",
     "text": [
      "size (400, 300)\n",
      "box (304, 27, 347, 75, 2)\n",
      "size (400, 300)\n",
      "('1', '0.36625', '0.505', '0.3575', '0.9700000000000001')\n",
      "('1', '0.61375', '0.3666666666666667', '0.2125', '0.6266666666666667')\n",
      "('0', '0.80625', '0.2366666666666667', '0.17250000000000001', '0.34')\n",
      "(2, 0.33125, 0.21333333333333335, 0.1625, 0.32)\n",
      "(2, 0.57875, 0.18000000000000002, 0.1375, 0.22666666666666668)\n",
      "(7, 0.34625, 0.6733333333333333, 0.2925, 0.5733333333333334)\n",
      "(2, 0.81375, 0.17, 0.1075, 0.16)\n",
      "Image No. 195 saved\n",
      "size (400, 300)\n",
      "box (28, 60, 141, 184, 2)\n",
      "size (400, 300)\n",
      "box (156, 66, 226, 156, 2)\n",
      "size (400, 300)\n",
      "box (241, 92, 314, 181, 2)\n",
      "size (400, 300)\n",
      "('0', '0.72875', '0.6366666666666667', '0.2775', '0.7133333333333334')\n",
      "('0', '0.23', '0.5766666666666667', '0.37', '0.8066666666666668')\n",
      "('1', '0.46125', '0.5666666666666667', '0.3325', '0.7400000000000001')\n",
      "(2, 0.21125, 0.4066666666666667, 0.28250000000000003, 0.4133333333333334)\n",
      "(2, 0.47750000000000004, 0.37000000000000005, 0.17500000000000002, 0.30000000000000004)\n",
      "(2, 0.69375, 0.455, 0.1825, 0.2966666666666667)\n",
      "Image No. 196 saved\n",
      "size (400, 300)\n",
      "box (50, 39, 157, 138, 2)\n",
      "size (400, 300)\n",
      "box (152, 37, 217, 126, 2)\n",
      "size (400, 300)\n",
      "box (226, 52, 323, 158, 2)\n",
      "size (400, 300)\n",
      "('1', '0.46125', '0.5416666666666667', '0.3025', '0.8700000000000001')\n",
      "('0', '0.23750000000000002', '0.5333333333333333', '0.325', '0.88')\n",
      "('0', '0.74875', '0.56', '0.3725', '0.8400000000000001')\n",
      "(2, 0.25875, 0.29500000000000004, 0.2675, 0.33)\n",
      "(2, 0.46125, 0.27166666666666667, 0.1625, 0.2966666666666667)\n",
      "(2, 0.68625, 0.35000000000000003, 0.2425, 0.35333333333333333)\n",
      "Image No. 197 saved\n",
      "size (400, 330)\n",
      "Image No. 198 saved\n",
      "size (400, 287)\n",
      "Image No. 199 saved\n",
      "size (400, 353)\n",
      "Image No. 200 saved\n",
      "size (400, 353)\n",
      "Image No. 200 saved\n",
      "size (400, 287)\n",
      "Image No. 199 saved\n",
      "size (400, 330)\n",
      "Image No. 198 saved\n",
      "size (400, 300)\n",
      "('1', '0.46125', '0.5416666666666667', '0.3025', '0.8700000000000001')\n",
      "('0', '0.23750000000000002', '0.5333333333333333', '0.325', '0.88')\n",
      "('0', '0.74875', '0.56', '0.3725', '0.8400000000000001')\n",
      "('2', '0.25875', '0.29500000000000004', '0.2675', '0.33')\n",
      "('2', '0.46125', '0.27166666666666667', '0.1625', '0.2966666666666667')\n",
      "('2', '0.68625', '0.35000000000000003', '0.2425', '0.35333333333333333')\n",
      "Image No. 197 saved\n",
      "size (400, 300)\n",
      "('0', '0.72875', '0.6366666666666667', '0.2775', '0.7133333333333334')\n",
      "('0', '0.23', '0.5766666666666667', '0.37', '0.8066666666666668')\n",
      "('1', '0.46125', '0.5666666666666667', '0.3325', '0.7400000000000001')\n",
      "('2', '0.21125', '0.4066666666666667', '0.28250000000000003', '0.4133333333333334')\n",
      "('2', '0.47750000000000004', '0.37000000000000005', '0.17500000000000002', '0.30000000000000004')\n",
      "('2', '0.69375', '0.455', '0.1825', '0.2966666666666667')\n",
      "Image No. 196 saved\n",
      "size (400, 300)\n",
      "('1', '0.36625', '0.505', '0.3575', '0.9700000000000001')\n",
      "('1', '0.61375', '0.3666666666666667', '0.2125', '0.6266666666666667')\n",
      "('0', '0.80625', '0.2366666666666667', '0.17250000000000001', '0.34')\n",
      "('2', '0.33125', '0.21333333333333335', '0.1625', '0.32')\n",
      "('2', '0.57875', '0.18000000000000002', '0.1375', '0.22666666666666668')\n",
      "('7', '0.34625', '0.6733333333333333', '0.2925', '0.5733333333333334')\n",
      "('2', '0.81375', '0.17', '0.1075', '0.16')\n",
      "Image No. 195 saved\n",
      "size (400, 300)\n",
      "('1', '0.53', '0.6483333333333334', '0.41000000000000003', '0.6766666666666667')\n",
      "('1', '0.22125', '0.6733333333333333', '0.3825', '0.6066666666666667')\n",
      "('2', '0.555', '0.44', '0.135', '0.24000000000000002')\n",
      "('2', '0.23625000000000002', '0.51', '0.2125', '0.26')\n",
      "('6', '0.67875', '0.7966666666666667', '0.1125', '0.39333333333333337')\n",
      "('6', '0.3175', '0.6516666666666667', '0.19', '0.3766666666666667')\n",
      "Image No. 194 saved\n",
      "size (400, 300)\n",
      "('0', '0.395', '0.67', '0.185', '0.5333333333333333')\n",
      "('1', '0.55375', '0.7133333333333334', '0.41250000000000003', '0.5466666666666667')\n",
      "('1', '0.70625', '0.5883333333333334', '0.2175', '0.5900000000000001')\n",
      "('1', '0.13875', '0.6316666666666667', '0.2575', '0.7166666666666667')\n",
      "('2', '0.515', '0.6016666666666667', '0.165', '0.27')\n",
      "('2', '0.68', '0.3816666666666667', '0.095', '0.17')\n",
      "('2', '0.4025', '0.515', '0.1', '0.15000000000000002')\n",
      "('7', '0.33625', '0.7933333333333333', '0.0775', '0.37333333333333335')\n",
      "('6', '0.75875', '0.675', '0.0925', '0.39666666666666667')\n",
      "Image No. 193 saved\n",
      "size (400, 300)\n",
      "('0', '0.505', '0.6483333333333334', '0.32', '0.6433333333333334')\n",
      "('2', '0.535', '0.445', '0.185', '0.25')\n",
      "Image No. 192 saved\n",
      "size (400, 300)\n",
      "('1', '0.2225', '0.5833333333333334', '0.405', '0.7933333333333333')\n",
      "('1', '0.4675', '0.6066666666666667', '0.255', '0.7666666666666667')\n",
      "('2', '0.28250000000000003', '0.31833333333333336', '0.145', '0.2566666666666667')\n",
      "('2', '0.4275', '0.325', '0.1', '0.17')\n",
      "('7', '0.2175', '0.6883333333333334', '0.4', '0.5900000000000001')\n",
      "Image No. 191 saved\n",
      "size (400, 300)\n",
      "('1', '0.5575', '0.31833333333333336', '0.845', '0.5833333333333334')\n",
      "('1', '0.5650000000000001', '0.7300000000000001', '0.86', '0.5133333333333334')\n",
      "('6', '0.7275', '0.2516666666666667', '0.53', '0.42333333333333334')\n",
      "('2', '0.25', '0.745', '0.195', '0.16333333333333333')\n",
      "('2', '0.28250000000000003', '0.3016666666666667', '0.29', '0.2966666666666667')\n",
      "Image No. 190 saved\n",
      "size (400, 300)\n",
      "('2', '0.365', '0.20833333333333334', '0.18', '0.29000000000000004')\n",
      "('2', '0.665', '0.27166666666666667', '0.18', '0.26333333333333336')\n",
      "('1', '0.30125', '0.5283333333333333', '0.3925', '0.9500000000000001')\n",
      "('1', '0.68', '0.555', '0.44', '0.8433333333333334')\n",
      "('7', '0.2725', '0.5216666666666667', '0.31', '0.4366666666666667')\n",
      "('6', '0.77375', '0.7233333333333334', '0.2475', '0.5133333333333334')\n",
      "Image No. 189 saved\n",
      "size (400, 300)\n",
      "('1', '0.5075000000000001', '0.6183333333333334', '0.975', '0.7366666666666667')\n",
      "('2', '0.4425', '0.49500000000000005', '0.28500000000000003', '0.4966666666666667')\n",
      "Image No. 188 saved\n",
      "size (400, 300)\n",
      "('1', '0.15625', '0.6933333333333334', '0.2775', '0.5800000000000001')\n",
      "('1', '0.7837500000000001', '0.7083333333333334', '0.2175', '0.5633333333333334')\n",
      "('2', '0.24125', '0.5', '0.1125', '0.18000000000000002')\n",
      "('2', '0.7575000000000001', '0.49333333333333335', '0.065', '0.12000000000000001')\n",
      "('3', '0.7625000000000001', '0.6316666666666667', '0.105', '0.19')\n",
      "('7', '0.70625', '0.6866666666666668', '0.0525', '0.26666666666666666')\n",
      "('7', '0.135', '0.775', '0.215', '0.39')\n",
      "('6', '0.84875', '0.67', '0.08750000000000001', '0.24666666666666667')\n",
      "('5', '0.7425', '0.8666666666666667', '0.075', '0.22666666666666668')\n",
      "('4', '0.83875', '0.8666666666666667', '0.0975', '0.24000000000000002')\n",
      "Image No. 187 saved\n",
      "size (400, 300)\n",
      "('1', '0.3225', '0.7200000000000001', '0.46', '0.52')\n",
      "('2', '0.31625000000000003', '0.625', '0.2125', '0.32333333333333336')\n",
      "Image No. 186 saved\n",
      "size (400, 300)\n",
      "('1', '0.61375', '0.3433333333333334', '0.4925', '0.34')\n",
      "('1', '0.7425', '0.8533333333333334', '0.505', '0.26666666666666666')\n",
      "('3', '0.56875', '0.37000000000000005', '0.2175', '0.16')\n",
      "('2', '0.5725', '0.8400000000000001', '0.13', '0.16')\n",
      "('2', '0.43625', '0.28500000000000003', '0.11750000000000001', '0.1366666666666667')\n",
      "('7', '0.6125', '0.25', '0.21', '0.15333333333333335')\n",
      "('6', '0.82625', '0.8816666666666667', '0.3175', '0.21000000000000002')\n",
      "Image No. 185 saved\n",
      "size (400, 300)\n",
      "('1', '0.6950000000000001', '0.6266666666666667', '0.595', '0.31333333333333335')\n",
      "('1', '0.52875', '0.395', '0.6525', '0.29000000000000004')\n",
      "('2', '0.59', '0.6266666666666667', '0.14', '0.17333333333333334')\n",
      "('2', '0.2675', '0.395', '0.125', '0.13')\n",
      "('3', '0.42875', '0.4', '0.2025', '0.21333333333333335')\n",
      "Image No. 184 saved\n",
      "size (400, 300)\n",
      "('1', '0.59', '0.5366666666666667', '0.81', '0.9')\n",
      "('2', '0.45125', '0.4683333333333334', '0.4825', '0.4566666666666667')\n",
      "Image No. 183 saved\n",
      "size (400, 300)\n",
      "('1', '0.64', '0.29333333333333333', '0.7000000000000001', '0.5333333333333333')\n",
      "('0', '0.5750000000000001', '0.7016666666666667', '0.81', '0.5433333333333333')\n",
      "('6', '0.7875', '0.24000000000000002', '0.4', '0.4466666666666667')\n",
      "('2', '0.4525', '0.39', '0.27', '0.30000000000000004')\n",
      "('2', '0.3725', '0.755', '0.355', '0.3766666666666667')\n",
      "('3', '0.75625', '0.7383333333333334', '0.47250000000000003', '0.47000000000000003')\n",
      "Image No. 182 saved\n",
      "size (400, 300)\n",
      "('0', '0.665', '0.6916666666666668', '0.64', '0.5033333333333334')\n",
      "('1', '0.65375', '0.25', '0.6875', '0.2866666666666667')\n",
      "('3', '0.7175', '0.7383333333333334', '0.4', '0.32333333333333336')\n",
      "('2', '0.43', '0.765', '0.155', '0.15666666666666668')\n",
      "('2', '0.38', '0.23', '0.125', '0.14')\n",
      "('7', '0.77875', '0.91', '0.4325', '0.12666666666666668')\n",
      "('7', '0.5750000000000001', '0.24666666666666667', '0.26', '0.24000000000000002')\n",
      "Image No. 181 saved\n"
     ]
    },
    {
     "name": "stdout",
     "output_type": "stream",
     "text": [
      "size (400, 300)\n",
      "('0', '0.7025', '0.36000000000000004', '0.5750000000000001', '0.48000000000000004')\n",
      "('0', '0.65', '0.7666666666666667', '0.685', '0.4133333333333334')\n",
      "('0', '0.4625', '0.2366666666666667', '0.34500000000000003', '0.18666666666666668')\n",
      "('3', '0.8125', '0.4266666666666667', '0.38', '0.3066666666666667')\n",
      "('2', '0.525', '0.4633333333333334', '0.20500000000000002', '0.19333333333333336')\n",
      "('2', '0.42875', '0.6900000000000001', '0.2175', '0.18000000000000002')\n",
      "('6', '0.79', '0.21833333333333335', '0.41500000000000004', '0.18333333333333335')\n",
      "Image No. 180 saved\n",
      "size (400, 300)\n",
      "('0', '0.7525000000000001', '0.5933333333333334', '0.495', '0.8066666666666668')\n",
      "('0', '0.27875', '0.5616666666666666', '0.47750000000000004', '0.81')\n",
      "('1', '0.135', '0.52', '0.22', '0.46')\n",
      "('2', '0.3425', '0.3616666666666667', '0.21', '0.39')\n",
      "('2', '0.665', '0.38833333333333336', '0.215', '0.3566666666666667')\n",
      "('2', '0.13625', '0.3716666666666667', '0.1075', '0.17')\n",
      "('3', '0.7325', '0.795', '0.33', '0.4166666666666667')\n",
      "('3', '0.36', '0.7633333333333334', '0.365', '0.44')\n",
      "Image No. 179 saved\n",
      "size (400, 300)\n",
      "('1', '0.40875', '0.48333333333333334', '0.7275', '0.43333333333333335')\n",
      "('0', '0.45125', '0.895', '0.8925000000000001', '0.21000000000000002')\n",
      "('3', '0.5725', '0.4816666666666667', '0.22', '0.21000000000000002')\n",
      "('2', '0.7125', '0.5583333333333333', '0.105', '0.1366666666666667')\n",
      "('5', '0.2475', '0.4566666666666667', '0.385', '0.12666666666666668')\n",
      "('4', '0.27', '0.5850000000000001', '0.325', '0.09666666666666668')\n",
      "('7', '0.63', '0.8833333333333334', '0.245', '0.2')\n",
      "('5', '0.21625', '0.9216666666666667', '0.4175', '0.14333333333333334')\n",
      "Image No. 178 saved\n",
      "size (400, 300)\n",
      "('1', '0.4475', '0.5066666666666667', '0.785', '0.6266666666666667')\n",
      "('2', '0.785', '0.51', '0.125', '0.14666666666666667')\n",
      "('5', '0.24875', '0.465', '0.3875', '0.15666666666666668')\n",
      "('4', '0.28625', '0.5916666666666667', '0.3175', '0.10333333333333335')\n",
      "('7', '0.7025', '0.3016666666666667', '0.2', '0.19666666666666668')\n",
      "('6', '0.6925', '0.7050000000000001', '0.17500000000000002', '0.22333333333333336')\n",
      "('3', '0.5925', '0.5316666666666667', '0.27', '0.26333333333333336')\n",
      "Image No. 177 saved\n",
      "size (400, 300)\n",
      "('1', '0.37125', '0.5366666666666667', '0.7275', '0.35333333333333333')\n",
      "('1', '0.44125000000000003', '0.195', '0.5025000000000001', '0.24333333333333335')\n",
      "('0', '0.39125', '0.76', '0.5425', '0.2')\n",
      "('7', '0.5375', '0.4683333333333334', '0.16', '0.18333333333333335')\n",
      "('2', '0.65125', '0.155', '0.10250000000000001', '0.11666666666666667')\n",
      "('2', '0.685', '0.5466666666666667', '0.115', '0.11333333333333334')\n",
      "('2', '0.61875', '0.7366666666666667', '0.0725', '0.11333333333333334')\n",
      "('5', '0.185', '0.4866666666666667', '0.34500000000000003', '0.12666666666666668')\n",
      "('4', '0.20375000000000001', '0.62', '0.3425', '0.10666666666666667')\n",
      "('7', '0.47750000000000004', '0.8033333333333333', '0.195', '0.15333333333333335')\n",
      "Image No. 176 saved\n",
      "size (400, 300)\n",
      "('0', '0.685', '0.505', '0.6', '0.2833333333333333')\n",
      "('0', '0.72', '0.9083333333333334', '0.53', '0.15666666666666668')\n",
      "('1', '0.675', '0.7100000000000001', '0.62', '0.18000000000000002')\n",
      "('2', '0.44625000000000004', '0.5333333333333333', '0.1325', '0.12000000000000001')\n",
      "('2', '0.43875000000000003', '0.7216666666666667', '0.0975', '0.09000000000000001')\n",
      "('7', '0.5962500000000001', '0.46', '0.20750000000000002', '0.17333333333333334')\n",
      "Image No. 175 saved\n",
      "size (400, 300)\n",
      "('0', '0.53625', '0.4166666666666667', '0.9075', '0.5')\n",
      "('3', '0.5437500000000001', '0.3716666666666667', '0.47750000000000004', '0.3433333333333334')\n",
      "('2', '0.20375000000000001', '0.4033333333333334', '0.2325', '0.2733333333333334')\n",
      "('6', '0.48875', '0.5316666666666667', '0.3975', '0.24333333333333335')\n",
      "Image No. 174 saved\n",
      "size (400, 300)\n",
      "('0', '0.24875', '0.6416666666666667', '0.1825', '0.7033333333333334')\n",
      "('0', '0.78', '0.5633333333333334', '0.44', '0.8600000000000001')\n",
      "('1', '0.46625', '0.6533333333333333', '0.1625', '0.6533333333333333')\n",
      "('2', '0.725', '0.33166666666666667', '0.245', '0.37000000000000005')\n",
      "('2', '0.24375', '0.35833333333333334', '0.1275', '0.11666666666666667')\n",
      "('2', '0.50375', '0.40166666666666667', '0.0775', '0.13')\n",
      "('6', '0.21125', '0.6166666666666667', '0.0975', '0.3866666666666667')\n",
      "('3', '0.23750000000000002', '0.5716666666666667', '0.15', '0.25')\n",
      "('4', '0.22125', '0.8666666666666667', '0.0975', '0.24000000000000002')\n",
      "Image No. 173 saved\n",
      "size (400, 300)\n",
      "('1', '0.79', '0.5666666666666667', '0.38', '0.88')\n",
      "('1', '0.46875', '0.6866666666666668', '0.2275', '0.62')\n",
      "('0', '0.2325', '0.6516666666666667', '0.185', '0.67')\n",
      "('3', '0.4625', '0.5883333333333334', '0.125', '0.23')\n",
      "('3', '0.22375', '0.6183333333333334', '0.1475', '0.29000000000000004')\n",
      "('2', '0.8175', '0.25333333333333335', '0.14', '0.22666666666666668')\n",
      "('2', '0.46625', '0.43500000000000005', '0.0925', '0.11')\n",
      "('2', '0.2425', '0.405', '0.125', '0.19')\n",
      "('6', '0.81625', '0.6116666666666667', '0.34750000000000003', '0.38333333333333336')\n",
      "('6', '0.195', '0.6733333333333333', '0.11', '0.3866666666666667')\n",
      "('7', '0.4', '0.5800000000000001', '0.07', '0.14666666666666667')\n",
      "('5', '0.435', '0.8333333333333334', '0.085', '0.30000000000000004')\n",
      "('5', '0.27', '0.8716666666666667', '0.085', '0.22333333333333336')\n",
      "('4', '0.51875', '0.8366666666666667', '0.1075', '0.28')\n",
      "('4', '0.1975', '0.9', '0.075', '0.2')\n",
      "Image No. 172 saved\n",
      "size (400, 300)\n",
      "('0', '0.315', '0.63', '0.195', '0.7266666666666667')\n",
      "('1', '0.5725', '0.6516666666666667', '0.165', '0.6566666666666667')\n",
      "('1', '0.77125', '0.5633333333333334', '0.2475', '0.8466666666666667')\n",
      "('2', '0.28375', '0.3433333333333334', '0.1125', '0.14')\n",
      "('2', '0.55875', '0.39666666666666667', '0.0925', '0.11333333333333334')\n",
      "('2', '0.715', '0.24500000000000002', '0.125', '0.19666666666666668')\n",
      "('6', '0.75625', '0.5166666666666667', '0.1925', '0.33333333333333337')\n",
      "('6', '0.6075', '0.65', '0.08', '0.35333333333333333')\n",
      "('7', '0.2675', '0.5716666666666667', '0.07', '0.30333333333333334')\n",
      "('4', '0.3675', '0.81', '0.07', '0.35333333333333333')\n",
      "('5', '0.30375', '0.8150000000000001', '0.0825', '0.33')\n",
      "('3', '0.3075', '0.5216666666666667', '0.12', '0.21000000000000002')\n",
      "('3', '0.57375', '0.5616666666666666', '0.0925', '0.21666666666666667')\n",
      "Image No. 171 saved\n",
      "size (400, 300)\n",
      "('0', '0.49875', '0.5066666666666667', '0.9625', '0.9400000000000001')\n",
      "('5', '0.41875', '0.26', '0.7825', '0.38')\n",
      "('4', '0.39875', '0.6433333333333334', '0.7675000000000001', '0.46')\n",
      "Image No. 170 saved\n",
      "size (400, 300)\n",
      "('4', '0.30375', '0.5016666666666667', '0.3625', '0.9833333333333334')\n",
      "('5', '0.64125', '0.5066666666666667', '0.3275', '0.9466666666666668')\n",
      "('0', '0.45', '0.5133333333333334', '0.74', '0.9866666666666667')\n",
      "Image No. 169 saved\n",
      "size (400, 300)\n",
      "('0', '0.17375000000000002', '0.535', '0.2275', '0.8700000000000001')\n",
      "('0', '0.50375', '0.3566666666666667', '0.2525', '0.46')\n",
      "('1', '0.61625', '0.6666666666666667', '0.5175', '0.6666666666666667')\n",
      "('2', '0.52375', '0.20333333333333334', '0.08750000000000001', '0.15333333333333335')\n",
      "('2', '0.5437500000000001', '0.42833333333333334', '0.1525', '0.20333333333333334')\n",
      "('2', '0.20875', '0.195', '0.1275', '0.18333333333333335')\n",
      "('7', '0.19375', '0.5516666666666667', '0.1375', '0.53')\n",
      "('7', '0.5387500000000001', '0.7866666666666667', '0.3525', '0.4')\n",
      "('3', '0.5525', '0.7400000000000001', '0.22', '0.37333333333333335')\n",
      "Image No. 168 saved\n",
      "size (400, 300)\n",
      "('1', '0.36625', '0.6516666666666667', '0.5325', '0.6900000000000001')\n",
      "('0', '0.11125', '0.51', '0.2225', '0.9133333333333334')\n",
      "('0', '0.53625', '0.54', '0.3125', '0.7866666666666667')\n",
      "('0', '0.87875', '0.5766666666666667', '0.2475', '0.8466666666666667')\n",
      "('2', '0.33625', '0.4166666666666667', '0.1575', '0.22')\n",
      "('2', '0.13', '0.17333333333333334', '0.17', '0.24000000000000002')\n",
      "('2', '0.92875', '0.2566666666666667', '0.1475', '0.2066666666666667')\n",
      "('2', '0.56375', '0.23833333333333334', '0.0975', '0.18333333333333335')\n",
      "('7', '0.28875', '0.77', '0.3975', '0.43333333333333335')\n",
      "('7', '0.085', '0.5016666666666667', '0.135', '0.4966666666666667')\n",
      "('7', '0.455', '0.4733333333333334', '0.115', '0.3466666666666667')\n",
      "('7', '0.8175', '0.5416666666666667', '0.12', '0.3433333333333334')\n",
      "('3', '0.5475', '0.4733333333333334', '0.16', '0.30000000000000004')\n",
      "('3', '0.9275', '0.5333333333333333', '0.14', '0.2866666666666667')\n",
      "('3', '0.32125', '0.7516666666666667', '0.20750000000000002', '0.39')\n",
      "('5', '0.8612500000000001', '0.8350000000000001', '0.10250000000000001', '0.30333333333333334')\n",
      "('5', '0.4925', '0.7316666666666667', '0.1', '0.20333333333333334')\n",
      "('4', '0.58375', '0.7833333333333334', '0.0975', '0.26')\n",
      "('4', '0.95625', '0.8633333333333334', '0.0975', '0.26')\n",
      "Image No. 167 saved\n"
     ]
    },
    {
     "name": "stdout",
     "output_type": "stream",
     "text": [
      "size (400, 300)\n",
      "('0', '0.655', '0.675', '0.24', '0.3433333333333334')\n",
      "('1', '0.4625', '0.645', '0.225', '0.6966666666666667')\n",
      "('7', '0.4175', '0.6783333333333333', '0.11', '0.4366666666666667')\n",
      "('2', '0.51625', '0.3916666666666667', '0.0925', '0.17666666666666667')\n",
      "('2', '0.7225', '0.5883333333333334', '0.1', '0.15000000000000002')\n",
      "Image No. 166 saved\n",
      "size (400, 300)\n",
      "('1', '0.4425', '0.6466666666666667', '0.34', '0.6666666666666667')\n",
      "('0', '0.78625', '0.61', '0.3525', '0.7666666666666667')\n",
      "('2', '0.48375', '0.39', '0.14250000000000002', '0.16666666666666669')\n",
      "('2', '0.875', '0.33', '0.145', '0.19333333333333336')\n",
      "('7', '0.92125', '0.6666666666666667', '0.0825', '0.4066666666666667')\n",
      "('7', '0.51875', '0.6516666666666667', '0.17250000000000001', '0.3566666666666667')\n",
      "Image No. 165 saved\n",
      "size (400, 300)\n",
      "('1', '0.38625', '0.5966666666666667', '0.1475', '0.4866666666666667')\n",
      "('0', '0.65625', '0.65', '0.2175', '0.5800000000000001')\n",
      "('3', '0.6675', '0.53', '0.12', '0.18000000000000002')\n",
      "('7', '0.40750000000000003', '0.54', '0.06', '0.24000000000000002')\n",
      "('7', '0.7375', '0.5633333333333334', '0.04', '0.21333333333333335')\n",
      "('5', '0.705', '0.7716666666666667', '0.09', '0.3166666666666667')\n",
      "('5', '0.38', '0.7100000000000001', '0.095', '0.24000000000000002')\n",
      "('4', '0.35625', '0.7233333333333334', '0.0425', '0.19333333333333336')\n",
      "('4', '0.6075', '0.7783333333333334', '0.11', '0.33')\n",
      "Image No. 164 saved\n",
      "size (400, 300)\n",
      "('1', '0.40750000000000003', '0.5133333333333334', '0.095', '0.3866666666666667')\n",
      "Image No. 163 saved\n",
      "size (400, 300)\n",
      "('1', '0.38625', '0.5916666666666667', '0.1825', '0.79')\n",
      "('5', '0.39', '0.785', '0.145', '0.3766666666666667')\n",
      "('7', '0.36375', '0.305', '0.1325', '0.21000000000000002')\n",
      "('3', '0.40875', '0.49333333333333335', '0.1275', '0.2')\n",
      "Image No. 162 saved\n",
      "size (400, 300)\n",
      "('1', '0.2975', '0.6033333333333334', '0.195', '0.6466666666666667')\n",
      "('7', '0.26375', '0.48500000000000004', '0.1225', '0.2366666666666667')\n",
      "('2', '0.28375', '0.32', '0.10250000000000001', '0.09333333333333334')\n",
      "('2', '0.0675', '0.5233333333333333', '0.09', '0.14666666666666667')\n",
      "('5', '0.2575', '0.7616666666666667', '0.1', '0.33')\n",
      "('5', '0.0825', '0.8766666666666667', '0.165', '0.22')\n",
      "('0', '0.09125', '0.7133333333333334', '0.17250000000000001', '0.5466666666666667')\n",
      "Image No. 161 saved\n",
      "size (400, 300)\n",
      "('1', '0.6525', '0.49833333333333335', '0.135', '0.5166666666666667')\n",
      "('0', '0.5575', '0.5333333333333333', '0.12', '0.4133333333333334')\n",
      "('0', '0.76875', '0.5166666666666667', '0.1625', '0.43333333333333335')\n",
      "('4', '0.585', '0.6383333333333334', '0.065', '0.18333333333333335')\n",
      "('4', '0.6925', '0.6133333333333334', '0.06', '0.26666666666666666')\n",
      "('5', '0.535', '0.645', '0.045', '0.19')\n",
      "('5', '0.7925', '0.63', '0.05', '0.19333333333333336')\n",
      "('2', '0.54625', '0.37333333333333335', '0.0525', '0.08')\n",
      "('2', '0.80625', '0.3466666666666667', '0.0525', '0.07333333333333333')\n",
      "('6', '0.7875', '0.4266666666666667', '0.13', '0.09333333333333334')\n",
      "Image No. 160 saved\n",
      "size (400, 300)\n",
      "('0', '0.42875', '0.64', '0.17250000000000001', '0.46')\n",
      "('1', '0.36', '0.6333333333333334', '0.1', '0.3866666666666667')\n",
      "('5', '0.445', '0.7633333333333334', '0.075', '0.22')\n",
      "('4', '0.38125000000000003', '0.7583333333333334', '0.0725', '0.20333333333333334')\n",
      "Image No. 159 saved\n",
      "size (400, 300)\n",
      "('1', '0.71375', '0.78', '0.3125', '0.4266666666666667')\n",
      "('0', '0.2425', '0.7400000000000001', '0.13', '0.5133333333333334')\n",
      "('7', '0.7725', '0.7183333333333334', '0.2', '0.15666666666666668')\n",
      "('7', '0.2775', '0.6950000000000001', '0.065', '0.23')\n",
      "('5', '0.68375', '0.9', '0.1275', '0.19333333333333336')\n",
      "('5', '0.27', '0.8683333333333334', '0.085', '0.25')\n",
      "('4', '0.2125', '0.8716666666666667', '0.055', '0.2366666666666667')\n",
      "('2', '0.26125', '0.5333333333333333', '0.0725', '0.09333333333333334')\n",
      "Image No. 158 saved\n",
      "size (400, 300)\n",
      "('0', '0.55375', '0.6066666666666667', '0.2125', '0.3866666666666667')\n",
      "('1', '0.77', '0.55', '0.17500000000000002', '0.4866666666666667')\n",
      "('1', '0.47250000000000003', '0.5633333333333334', '0.05', '0.38')\n",
      "('5', '0.5425', '0.6900000000000001', '0.07', '0.22')\n",
      "('5', '0.81375', '0.665', '0.0625', '0.25')\n",
      "('4', '0.74', '0.665', '0.095', '0.25')\n",
      "Image No. 157 saved\n",
      "size (400, 300)\n",
      "('1', '0.395', '0.55', '0.085', '0.42000000000000004')\n",
      "('0', '0.515', '0.5333333333333333', '0.19', '0.52')\n",
      "('5', '0.47625', '0.6533333333333333', '0.0925', '0.28')\n",
      "Image No. 156 saved\n",
      "size (400, 300)\n",
      "('1', '0.26', '0.5666666666666667', '0.12', '0.5')\n",
      "('1', '0.6225', '0.5916666666666667', '0.23', '0.6433333333333334')\n",
      "('3', '0.2475', '0.5033333333333334', '0.07', '0.17333333333333334')\n",
      "('3', '0.63', '0.49333333333333335', '0.125', '0.25333333333333335')\n",
      "('4', '0.27625', '0.7016666666666667', '0.0675', '0.2366666666666667')\n",
      "('4', '0.585', '0.765', '0.125', '0.2966666666666667')\n",
      "('5', '0.225', '0.6916666666666668', '0.04', '0.23')\n",
      "('5', '0.6950000000000001', '0.7583333333333334', '0.095', '0.2966666666666667')\n",
      "Image No. 155 saved\n",
      "size (400, 300)\n",
      "('1', '0.77875', '0.5750000000000001', '0.11750000000000001', '0.43000000000000005')\n",
      "('4', '0.765', '0.6666666666666667', '0.045', '0.22666666666666668')\n",
      "('5', '0.81375', '0.675', '0.0425', '0.22333333333333336')\n",
      "('3', '0.785', '0.49833333333333335', '0.075', '0.16333333333333333')\n",
      "Image No. 154 saved\n",
      "size (400, 300)\n",
      "('0', '0.37', '0.6366666666666667', '0.17', '0.4466666666666667')\n",
      "('5', '0.335', '0.7466666666666667', '0.09', '0.19333333333333336')\n",
      "('4', '0.40125', '0.76', '0.0525', '0.2')\n",
      "('3', '0.3675', '0.5850000000000001', '0.085', '0.16333333333333333')\n",
      "('2', '0.34375', '0.47500000000000003', '0.0625', '0.07666666666666667')\n",
      "Image No. 153 saved\n",
      "size (400, 300)\n",
      "('0', '0.35625', '0.6166666666666667', '0.1925', '0.4866666666666667')\n",
      "Image No. 152 saved\n",
      "size (400, 300)\n",
      "('0', '0.38875', '0.7283333333333334', '0.1775', '0.5433333333333333')\n",
      "('1', '0.82375', '0.78', '0.0775', '0.4266666666666667')\n",
      "Image No. 151 saved\n",
      "size (400, 300)\n",
      "('1', '0.41500000000000004', '0.5933333333333334', '0.485', '0.8')\n",
      "('2', '0.5425', '0.33', '0.15', '0.25333333333333335')\n",
      "('7', '0.94875', '0.49500000000000005', '0.10250000000000001', '0.5633333333333334')\n",
      "('7', '0.46875', '0.6083333333333334', '0.3175', '0.3166666666666667')\n",
      "Image No. 150 saved\n",
      "size (400, 300)\n",
      "('1', '0.20125', '0.65', '0.3625', '0.6733333333333333')\n",
      "('1', '0.7675000000000001', '0.555', '0.27', '0.7100000000000001')\n",
      "('7', '0.20875', '0.8', '0.3375', '0.36000000000000004')\n",
      "('7', '0.68875', '0.4866666666666667', '0.1075', '0.25333333333333335')\n",
      "('6', '0.80875', '0.48000000000000004', '0.17250000000000001', '0.24666666666666667')\n",
      "('2', '0.7725', '0.2966666666666667', '0.11', '0.18000000000000002')\n",
      "('2', '0.2625', '0.4466666666666667', '0.155', '0.24000000000000002')\n",
      "Image No. 149 saved\n",
      "size (400, 300)\n",
      "('1', '0.4525', '0.66', '0.135', '0.66')\n",
      "('1', '0.9', '0.685', '0.2', '0.63')\n",
      "('0', '0.6125', '0.6783333333333333', '0.19', '0.6233333333333334')\n",
      "('0', '0.33375', '0.655', '0.1875', '0.6633333333333333')\n",
      "('2', '0.31875000000000003', '0.41500000000000004', '0.1125', '0.15000000000000002')\n",
      "('2', '0.465', '0.4033333333333334', '0.095', '0.14')\n",
      "('2', '0.615', '0.42833333333333334', '0.095', '0.12333333333333334')\n",
      "('2', '0.94375', '0.4466666666666667', '0.1125', '0.14666666666666667')\n",
      "Image No. 148 saved\n",
      "size (400, 300)\n",
      "('0', '0.16375', '0.6133333333333334', '0.2525', '0.7666666666666667')\n",
      "('0', '0.45625', '0.635', '0.1825', '0.7300000000000001')\n",
      "('1', '0.29125', '0.6133333333333334', '0.1475', '0.7466666666666667')\n",
      "('1', '0.74875', '0.6366666666666667', '0.2475', '0.7133333333333334')\n",
      "('1', '0.88125', '0.6066666666666667', '0.1125', '0.7266666666666667')\n",
      "Image No. 147 saved\n",
      "size (400, 300)\n",
      "('1', '0.27625', '0.6133333333333334', '0.1525', '0.7533333333333334')\n",
      "('1', '0.7175', '0.645', '0.23500000000000001', '0.6833333333333333')\n",
      "('0', '0.14250000000000002', '0.6083333333333334', '0.185', '0.7633333333333334')\n",
      "('0', '0.4425', '0.6516666666666667', '0.185', '0.6833333333333333')\n",
      "('7', '0.1525', '0.5166666666666667', '0.19', '0.23333333333333334')\n",
      "('2', '0.265', '0.33', '0.105', '0.15333333333333335')\n",
      "('2', '0.44625000000000004', '0.36000000000000004', '0.1125', '0.13333333333333333')\n",
      "('2', '0.7325', '0.37000000000000005', '0.13', '0.15333333333333335')\n",
      "('6', '0.71875', '0.6033333333333334', '0.2275', '0.2733333333333334')\n",
      "('6', '0.49', '0.5533333333333333', '0.085', '0.22666666666666668')\n",
      "Image No. 146 saved\n"
     ]
    },
    {
     "name": "stdout",
     "output_type": "stream",
     "text": [
      "size (400, 300)\n",
      "('0', '0.20125', '0.625', '0.2775', '0.7366666666666667')\n",
      "('0', '0.48', '0.64', '0.17500000000000002', '0.7066666666666667')\n",
      "('1', '0.315', '0.6216666666666667', '0.135', '0.7166666666666667')\n",
      "('1', '0.6975', '0.6583333333333333', '0.23500000000000001', '0.6833333333333333')\n",
      "('1', '0.8125', '0.6666666666666667', '0.165', '0.6533333333333333')\n",
      "('2', '0.1675', '0.3466666666666667', '0.14', '0.15333333333333335')\n",
      "('2', '0.31', '0.33166666666666667', '0.095', '0.11666666666666667')\n",
      "('2', '0.49375', '0.36833333333333335', '0.10250000000000001', '0.12333333333333334')\n",
      "('2', '0.71375', '0.3816666666666667', '0.08750000000000001', '0.13')\n",
      "('7', '0.1575', '0.56', '0.17', '0.24000000000000002')\n",
      "('7', '0.63125', '0.5233333333333333', '0.0975', '0.22')\n",
      "('7', '0.465', '0.5266666666666667', '0.135', '0.18666666666666668')\n",
      "Image No. 145 saved\n",
      "size (400, 300)\n",
      "('1', '0.69875', '0.6666666666666667', '0.2225', '0.6666666666666667')\n",
      "('1', '0.38125000000000003', '0.62', '0.1275', '0.7333333333333334')\n",
      "('0', '0.2525', '0.6183333333333334', '0.23500000000000001', '0.7433333333333334')\n",
      "('0', '0.5175', '0.6316666666666667', '0.155', '0.7233333333333334')\n",
      "Image No. 144 saved\n",
      "size (400, 300)\n",
      "('0', '0.24375', '0.6466666666666667', '0.2425', '0.6933333333333334')\n",
      "('0', '0.50875', '0.6616666666666667', '0.1675', '0.65')\n",
      "('1', '0.38', '0.6383333333333334', '0.16', '0.6900000000000001')\n",
      "('1', '0.68375', '0.685', '0.20750000000000002', '0.61')\n",
      "('1', '0.82625', '0.6183333333333334', '0.1475', '0.7100000000000001')\n",
      "('1', '0.905', '0.6683333333333333', '0.18', '0.6033333333333334')\n",
      "Image No. 143 saved\n",
      "size (400, 300)\n",
      "('0', '0.2525', '0.655', '0.23500000000000001', '0.6766666666666667')\n",
      "('0', '0.5125', '0.6683333333333333', '0.17500000000000002', '0.6566666666666667')\n",
      "('1', '0.3825', '0.6483333333333334', '0.165', '0.6566666666666667')\n",
      "('1', '0.67875', '0.6766666666666667', '0.1875', '0.6333333333333334')\n",
      "('1', '0.8300000000000001', '0.625', '0.18', '0.7100000000000001')\n",
      "('1', '0.9125', '0.6833333333333333', '0.17500000000000002', '0.62')\n",
      "Image No. 142 saved\n",
      "size (400, 300)\n",
      "('1', '0.3925', '0.6483333333333334', '0.17500000000000002', '0.7033333333333334')\n",
      "('1', '0.6775', '0.6566666666666667', '0.185', '0.6466666666666667')\n",
      "('1', '0.8125', '0.6066666666666667', '0.195', '0.7533333333333334')\n",
      "('1', '0.89875', '0.6900000000000001', '0.1875', '0.6066666666666667')\n",
      "('0', '0.2425', '0.6483333333333334', '0.245', '0.67')\n",
      "('0', '0.51875', '0.665', '0.1575', '0.6366666666666667')\n",
      "Image No. 141 saved\n",
      "size (400, 300)\n",
      "('0', '0.23375', '0.65', '0.2575', '0.6866666666666668')\n",
      "('0', '0.52625', '0.6766666666666667', '0.14250000000000002', '0.6333333333333334')\n",
      "('1', '0.3975', '0.6466666666666667', '0.165', '0.6666666666666667')\n",
      "('1', '0.68', '0.675', '0.18', '0.6233333333333334')\n",
      "('1', '0.81375', '0.6216666666666667', '0.1675', '0.7300000000000001')\n",
      "('1', '0.90375', '0.6783333333333333', '0.1925', '0.6033333333333334')\n",
      "('2', '0.23375', '0.3983333333333334', '0.0975', '0.17')\n",
      "('2', '0.38', '0.3916666666666667', '0.075', '0.13')\n",
      "('2', '0.5325', '0.44333333333333336', '0.085', '0.14')\n",
      "('2', '0.68', '0.43000000000000005', '0.075', '0.12000000000000001')\n",
      "('2', '0.8250000000000001', '0.34500000000000003', '0.085', '0.14333333333333334')\n",
      "('3', '0.255', '0.6516666666666667', '0.185', '0.32333333333333336')\n",
      "Image No. 140 saved\n",
      "size (400, 300)\n",
      "('0', '0.26875', '0.65', '0.2275', '0.6733333333333333')\n",
      "('0', '0.55', '0.6833333333333333', '0.18', '0.6333333333333334')\n",
      "('1', '0.41500000000000004', '0.635', '0.15', '0.6166666666666667')\n",
      "('1', '0.7000000000000001', '0.6966666666666667', '0.17', '0.6066666666666667')\n",
      "('1', '0.81875', '0.5983333333333334', '0.1775', '0.6900000000000001')\n",
      "('1', '0.91125', '0.6833333333333333', '0.1475', '0.5533333333333333')\n",
      "('2', '0.25', '0.395', '0.115', '0.15000000000000002')\n",
      "('2', '0.39875', '0.395', '0.0775', '0.1366666666666667')\n",
      "('2', '0.55375', '0.4466666666666667', '0.08750000000000001', '0.13333333333333333')\n",
      "('2', '0.69875', '0.4516666666666667', '0.0775', '0.11666666666666667')\n",
      "('2', '0.85', '0.34', '0.095', '0.13333333333333333')\n",
      "('2', '0.925', '0.49500000000000005', '0.11', '0.17')\n",
      "Image No. 139 saved\n",
      "size (400, 300)\n",
      "('1', '0.42375', '0.685', '0.1525', '0.6366666666666667')\n",
      "('1', '0.68375', '0.6900000000000001', '0.1875', '0.5933333333333334')\n",
      "('1', '0.82875', '0.6533333333333333', '0.1575', '0.6666666666666667')\n",
      "('1', '0.8675', '0.7166666666666667', '0.265', '0.5533333333333333')\n",
      "('0', '0.36375', '0.6716666666666667', '0.4375', '0.6366666666666667')\n",
      "('0', '0.5325', '0.6966666666666667', '0.14', '0.5866666666666667')\n",
      "Image No. 138 saved\n",
      "size (400, 300)\n",
      "('0', '0.3775', '0.6666666666666667', '0.425', '0.6533333333333333')\n",
      "('1', '0.505', '0.6833333333333333', '0.31', '0.5933333333333334')\n",
      "('1', '0.70625', '0.6916666666666668', '0.17250000000000001', '0.5700000000000001')\n",
      "('1', '0.835', '0.6633333333333333', '0.12', '0.66')\n",
      "('1', '0.80375', '0.7100000000000001', '0.3975', '0.5533333333333333')\n",
      "('2', '0.32375', '0.45', '0.1675', '0.2066666666666667')\n",
      "('2', '0.48', '0.47000000000000003', '0.115', '0.19333333333333336')\n",
      "('2', '0.70875', '0.48333333333333334', '0.08750000000000001', '0.12000000000000001')\n",
      "('2', '0.83875', '0.395', '0.0975', '0.12333333333333334')\n",
      "Image No. 137 saved\n",
      "size (400, 300)\n",
      "('1', '0.5475', '0.6866666666666668', '0.38', '0.5733333333333334')\n",
      "('1', '0.73', '0.7116666666666667', '0.18', '0.5233333333333333')\n",
      "('1', '0.865', '0.6000000000000001', '0.125', '0.4666666666666667')\n",
      "('1', '0.845', '0.7183333333333334', '0.3', '0.5433333333333333')\n",
      "('0', '0.5925', '0.7050000000000001', '0.225', '0.55')\n",
      "('0', '0.29375', '0.6833333333333333', '0.2575', '0.5933333333333334')\n",
      "('2', '0.29625', '0.48000000000000004', '0.11750000000000001', '0.17333333333333334')\n",
      "('2', '0.47250000000000003', '0.49000000000000005', '0.09', '0.18000000000000002')\n",
      "('2', '0.60375', '0.5', '0.08750000000000001', '0.14666666666666667')\n",
      "('2', '0.8675', '0.41833333333333333', '0.09', '0.13')\n",
      "('2', '0.7312500000000001', '0.48833333333333334', '0.0625', '0.11666666666666667')\n",
      "('7', '0.2975', '0.67', '0.25', '0.24666666666666667')\n",
      "Image No. 136 saved\n",
      "size (400, 300)\n",
      "('0', '0.2625', '0.6433333333333334', '0.28500000000000003', '0.6733333333333333')\n",
      "('0', '0.49125', '0.7050000000000001', '0.17250000000000001', '0.5966666666666667')\n",
      "('1', '0.6975', '0.6666666666666667', '0.20500000000000002', '0.6533333333333333')\n",
      "('1', '0.915', '0.645', '0.17', '0.7233333333333334')\n",
      "('1', '0.3825', '0.655', '0.115', '0.5633333333333334')\n",
      "('7', '0.24', '0.56', '0.195', '0.25333333333333335')\n",
      "('2', '0.2325', '0.3816666666666667', '0.13', '0.14333333333333334')\n",
      "('2', '0.90625', '0.35000000000000003', '0.0975', '0.11333333333333334')\n",
      "('2', '0.6675', '0.4116666666666667', '0.09', '0.13')\n",
      "('2', '0.38875', '0.4083333333333334', '0.0775', '0.10333333333333335')\n",
      "Image No. 135 saved\n",
      "size (400, 300)\n",
      "('1', '0.8975', '0.6233333333333334', '0.185', '0.7000000000000001')\n",
      "('1', '0.75', '0.5633333333333334', '0.17', '0.7333333333333334')\n",
      "('1', '0.6025', '0.6166666666666667', '0.155', '0.7266666666666667')\n",
      "('1', '0.44625000000000004', '0.5883333333333334', '0.17250000000000001', '0.7566666666666667')\n",
      "('1', '0.28125', '0.5716666666666667', '0.1825', '0.7033333333333334')\n",
      "('0', '0.1475', '0.5783333333333334', '0.27', '0.79')\n",
      "('2', '0.1', '0.2866666666666667', '0.135', '0.17333333333333334')\n",
      "('2', '0.29', '0.30833333333333335', '0.095', '0.17')\n",
      "('2', '0.46875', '0.26666666666666666', '0.0925', '0.13333333333333333')\n",
      "('2', '0.5962500000000001', '0.30833333333333335', '0.0675', '0.09666666666666668')\n",
      "('2', '0.7525000000000001', '0.2733333333333334', '0.07', '0.14666666666666667')\n",
      "('2', '0.87625', '0.3383333333333334', '0.0775', '0.1366666666666667')\n",
      "('3', '0.44875', '0.43000000000000005', '0.1225', '0.22666666666666668')\n",
      "('5', '0.40625', '0.7733333333333334', '0.08750000000000001', '0.4266666666666667')\n",
      "('4', '0.48125', '0.7683333333333334', '0.0625', '0.4033333333333334')\n",
      "('4', '0.60875', '0.78', '0.0825', '0.4')\n",
      "('4', '0.91125', '0.8', '0.1125', '0.33333333333333337')\n",
      "('7', '0.165', '0.49000000000000005', '0.28500000000000003', '0.2066666666666667')\n",
      "Image No. 134 saved\n",
      "size (400, 300)\n",
      "('0', '0.1125', '0.5966666666666667', '0.215', '0.7933333333333333')\n",
      "('1', '0.195', '0.6116666666666667', '0.15', '0.7300000000000001')\n",
      "('1', '0.3675', '0.5933333333333334', '0.195', '0.7733333333333334')\n",
      "('1', '0.52375', '0.6266666666666667', '0.1525', '0.7266666666666667')\n",
      "('1', '0.7000000000000001', '0.5833333333333334', '0.14', '0.7266666666666667')\n",
      "('1', '0.85', '0.63', '0.17', '0.6933333333333334')\n",
      "('2', '0.075', '0.31', '0.115', '0.22')\n",
      "('2', '0.20375000000000001', '0.32333333333333336', '0.1075', '0.16666666666666669')\n",
      "('2', '0.38125000000000003', '0.2833333333333333', '0.0925', '0.15333333333333335')\n",
      "('2', '0.53625', '0.32666666666666666', '0.0625', '0.12000000000000001')\n",
      "('2', '0.7025', '0.29333333333333333', '0.07', '0.12666666666666668')\n",
      "('2', '0.83125', '0.35333333333333333', '0.0775', '0.14')\n",
      "('6', '0.84875', '0.505', '0.1575', '0.17666666666666667')\n",
      "('6', '0.69875', '0.45', '0.1225', '0.19333333333333336')\n",
      "('6', '0.57375', '0.47000000000000003', '0.0925', '0.15333333333333335')\n",
      "('7', '0.3525', '0.4516666666666667', '0.18', '0.21000000000000002')\n",
      "('7', '0.09', '0.5616666666666666', '0.155', '0.27')\n",
      "Image No. 133 saved\n"
     ]
    },
    {
     "name": "stdout",
     "output_type": "stream",
     "text": [
      "size (400, 300)\n",
      "('1', '0.42125', '0.6033333333333334', '0.17250000000000001', '0.7666666666666667')\n",
      "('1', '0.5750000000000001', '0.6383333333333334', '0.14', '0.6966666666666667')\n",
      "('1', '0.7525000000000001', '0.63', '0.20500000000000002', '0.7000000000000001')\n",
      "('1', '0.26375', '0.61', '0.14250000000000002', '0.76')\n",
      "('0', '0.13625', '0.5983333333333334', '0.2125', '0.7966666666666667')\n",
      "('2', '0.1275', '0.29000000000000004', '0.09', '0.16666666666666669')\n",
      "('2', '0.2575', '0.315', '0.085', '0.15000000000000002')\n",
      "('2', '0.445', '0.2866666666666667', '0.075', '0.12666666666666668')\n",
      "('2', '0.57375', '0.35000000000000003', '0.0675', '0.1')\n",
      "('2', '0.73', '0.3516666666666667', '0.105', '0.17')\n",
      "('6', '0.76', '0.5616666666666666', '0.21', '0.2833333333333333')\n",
      "('7', '0.08625000000000001', '0.46', '0.0975', '0.22666666666666668')\n",
      "('7', '0.38125000000000003', '0.42000000000000004', '0.0925', '0.18666666666666668')\n",
      "('3', '0.155', '0.54', '0.135', '0.33333333333333337')\n",
      "('3', '0.4325', '0.4566666666666667', '0.12', '0.23333333333333334')\n",
      "('5', '0.38625', '0.7716666666666667', '0.0775', '0.43000000000000005')\n",
      "('5', '0.1325', '0.8116666666666668', '0.08', '0.35000000000000003')\n",
      "('5', '0.55375', '0.775', '0.0575', '0.3433333333333334')\n",
      "('4', '0.47500000000000003', '0.7783333333333334', '0.085', '0.4033333333333334')\n",
      "('4', '0.61375', '0.7916666666666667', '0.0675', '0.3766666666666667')\n",
      "Image No. 132 saved\n",
      "size (400, 300)\n",
      "('1', '0.50125', '0.7233333333333334', '0.1325', '0.43333333333333335')\n",
      "('1', '0.3225', '0.5533333333333333', '0.115', '0.36000000000000004')\n",
      "Image No. 131 saved\n",
      "size (400, 300)\n",
      "('1', '0.33125', '0.6333333333333334', '0.1225', '0.3466666666666667')\n",
      "('1', '0.52125', '0.655', '0.1325', '0.3766666666666667')\n",
      "Image No. 130 saved\n",
      "size (400, 300)\n",
      "('1', '0.41125', '0.6166666666666667', '0.1225', '0.38')\n",
      "('1', '0.715', '0.555', '0.1', '0.5166666666666667')\n",
      "Image No. 129 saved\n",
      "size (400, 300)\n",
      "('1', '0.56375', '0.6466666666666667', '0.1325', '0.48000000000000004')\n",
      "('1', '0.9', '0.7066666666666667', '0.155', '0.2733333333333334')\n",
      "Image No. 128 saved\n",
      "size (400, 300)\n",
      "('1', '0.28875', '0.5166666666666667', '0.14250000000000002', '0.5666666666666667')\n",
      "('1', '0.65375', '0.8400000000000001', '0.1525', '0.3066666666666667')\n",
      "('1', '0.7575000000000001', '0.5966666666666667', '0.14', '0.32666666666666666')\n",
      "('5', '0.27875', '0.665', '0.0525', '0.2566666666666667')\n",
      "('5', '0.73375', '0.655', '0.0475', '0.18333333333333335')\n",
      "('5', '0.68375', '0.9133333333333334', '0.0475', '0.14666666666666667')\n",
      "('4', '0.62625', '0.9133333333333334', '0.0775', '0.14666666666666667')\n",
      "('4', '0.24875', '0.6666666666666667', '0.0525', '0.24000000000000002')\n",
      "('4', '0.7837500000000001', '0.6466666666666667', '0.0725', '0.18666666666666668')\n",
      "Image No. 127 saved\n",
      "size (400, 300)\n",
      "('1', '0.1575', '0.8300000000000001', '0.1', '0.32666666666666666')\n",
      "('1', '0.29125', '0.8500000000000001', '0.1125', '0.30000000000000004')\n",
      "('1', '0.41625', '0.8666666666666667', '0.1125', '0.25333333333333335')\n",
      "('1', '0.92', '0.6033333333333334', '0.09', '0.4066666666666667')\n",
      "Image No. 126 saved\n",
      "size (400, 300)\n",
      "('1', '0.3325', '0.8650000000000001', '0.17500000000000002', '0.27')\n",
      "('1', '0.20625000000000002', '0.5800000000000001', '0.0975', '0.5466666666666667')\n",
      "('1', '0.5375', '0.6383333333333334', '0.17500000000000002', '0.3433333333333334')\n",
      "('3', '0.19375', '0.5466666666666667', '0.0575', '0.16666666666666669')\n",
      "('3', '0.5275', '0.5950000000000001', '0.075', '0.13')\n",
      "('3', '0.3425', '0.8433333333333334', '0.07', '0.11333333333333334')\n",
      "('2', '0.51125', '0.5083333333333334', '0.0475', '0.05666666666666667')\n",
      "('7', '0.3875', '0.8466666666666667', '0.055', '0.12000000000000001')\n",
      "('7', '0.23750000000000002', '0.40166666666666667', '0.055', '0.17666666666666667')\n",
      "('6', '0.28750000000000003', '0.8516666666666667', '0.08', '0.12333333333333334')\n",
      "('6', '0.17625', '0.39666666666666667', '0.0325', '0.16666666666666669')\n",
      "('6', '0.53625', '0.6033333333333334', '0.0425', '0.12666666666666668')\n",
      "Image No. 125 saved\n",
      "size (400, 300)\n",
      "('1', '0.4275', '0.7000000000000001', '0.225', '0.5466666666666667')\n",
      "('1', '0.42625', '0.5233333333333333', '0.11750000000000001', '0.62')\n",
      "('2', '0.3875', '0.49833333333333335', '0.075', '0.14333333333333334')\n",
      "('2', '0.45375', '0.27166666666666667', '0.0575', '0.11')\n",
      "('7', '0.46625', '0.43333333333333335', '0.08750000000000001', '0.21333333333333335')\n",
      "('7', '0.43', '0.6566666666666667', '0.21', '0.19333333333333336')\n",
      "('3', '0.4225', '0.4116666666666667', '0.09', '0.21000000000000002')\n",
      "('3', '0.37625000000000003', '0.7166666666666667', '0.10250000000000001', '0.2866666666666667')\n",
      "Image No. 124 saved\n",
      "size (400, 300)\n",
      "('0', '0.31375000000000003', '0.5933333333333334', '0.1875', '0.4666666666666667')\n",
      "('0', '0.535', '0.7333333333333334', '0.19', '0.48000000000000004')\n",
      "('0', '0.6025', '0.44', '0.095', '0.4066666666666667')\n",
      "('0', '0.71375', '0.39', '0.14250000000000002', '0.4466666666666667')\n",
      "('0', '0.0575', '0.42000000000000004', '0.095', '0.45333333333333337')\n",
      "('0', '0.15', '0.33333333333333337', '0.09', '0.4')\n",
      "('1', '0.7837500000000001', '0.5966666666666667', '0.1375', '0.5266666666666667')\n",
      "('4', '0.275', '0.6733333333333333', '0.105', '0.28')\n",
      "('4', '0.1375', '0.4066666666666667', '0.05', '0.22666666666666668')\n",
      "('4', '0.78125', '0.7133333333333334', '0.0725', '0.2733333333333334')\n",
      "('5', '0.55875', '0.8433333333333334', '0.0725', '0.28')\n",
      "('5', '0.36', '0.6866666666666668', '0.09', '0.24000000000000002')\n",
      "('5', '0.17625', '0.4066666666666667', '0.0425', '0.22666666666666668')\n",
      "('5', '0.05375', '0.5166666666666667', '0.0525', '0.24000000000000002')\n",
      "Image No. 123 saved\n",
      "size (400, 300)\n",
      "('1', '0.325', '0.48333333333333334', '0.39', '0.62')\n",
      "('0', '0.6637500000000001', '0.56', '0.3425', '0.6266666666666667')\n",
      "('7', '0.2725', '0.5566666666666668', '0.27', '0.38')\n",
      "('2', '0.37125', '0.30000000000000004', '0.14250000000000002', '0.25333333333333335')\n",
      "('2', '0.62375', '0.35833333333333334', '0.1525', '0.23')\n",
      "('3', '0.34625', '0.5900000000000001', '0.2575', '0.38')\n",
      "('6', '0.7575000000000001', '0.61', '0.16', '0.39333333333333337')\n",
      "Image No. 122 saved\n",
      "size (400, 300)\n",
      "('0', '0.69625', '0.5233333333333333', '0.4875', '0.5933333333333334')\n",
      "('1', '0.2975', '0.4683333333333334', '0.375', '0.67')\n",
      "('3', '0.34500000000000003', '0.56', '0.265', '0.4')\n",
      "('3', '0.67625', '0.6033333333333334', '0.2925', '0.39333333333333337')\n",
      "('2', '0.375', '0.265', '0.145', '0.24333333333333335')\n",
      "('2', '0.6025', '0.325', '0.14', '0.23')\n",
      "('7', '0.26375', '0.5316666666666667', '0.28250000000000003', '0.3566666666666667')\n",
      "Image No. 121 saved\n",
      "size (400, 300)\n",
      "('1', '0.26', '0.4466666666666667', '0.4', '0.6733333333333333')\n",
      "('0', '0.7275', '0.5033333333333334', '0.515', '0.5866666666666667')\n",
      "('2', '0.21', '0.2316666666666667', '0.165', '0.26333333333333336')\n",
      "('2', '0.71375', '0.35833333333333334', '0.1875', '0.30333333333333334')\n",
      "('7', '0.58625', '0.5983333333333334', '0.23750000000000002', '0.35000000000000003')\n",
      "('7', '0.135', '0.5566666666666668', '0.115', '0.38')\n",
      "('6', '0.8925000000000001', '0.5983333333333334', '0.195', '0.39')\n",
      "('6', '0.39625', '0.5316666666666667', '0.1275', '0.4033333333333334')\n",
      "('3', '0.2525', '0.5366666666666667', '0.245', '0.39333333333333337')\n",
      "('3', '0.7175', '0.6033333333333334', '0.28', '0.36000000000000004')\n",
      "Image No. 120 saved\n",
      "size (400, 300)\n",
      "Image No. 119 saved\n",
      "size (400, 300)\n",
      "Image No. 118 saved\n",
      "size (400, 300)\n",
      "('0', '0.295', '0.8366666666666667', '0.25', '0.30000000000000004')\n",
      "('0', '0.49375', '0.8483333333333334', '0.2525', '0.31')\n",
      "('1', '0.84125', '0.8116666666666668', '0.3125', '0.36333333333333334')\n",
      "('2', '0.51', '0.785', '0.115', '0.18333333333333335')\n",
      "('2', '0.3325', '0.8183333333333334', '0.18', '0.24333333333333335')\n",
      "('2', '0.9375', '0.7966666666666667', '0.13', '0.28')\n",
      "Image No. 117 saved\n",
      "size (400, 300)\n",
      "('1', '0.45875', '0.7966666666666667', '0.20750000000000002', '0.3666666666666667')\n",
      "('1', '0.255', '0.6950000000000001', '0.1', '0.2366666666666667')\n",
      "('1', '0.74', '0.7766666666666667', '0.215', '0.42000000000000004')\n",
      "('1', '0.08875', '0.77', '0.1525', '0.4066666666666667')\n",
      "('2', '0.4525', '0.6666666666666667', '0.07', '0.12000000000000001')\n",
      "('2', '0.71', '0.6433333333333334', '0.095', '0.15333333333333335')\n",
      "('2', '0.2525', '0.5966666666666667', '0.055', '0.08666666666666667')\n",
      "('2', '0.04625', '0.6066666666666667', '0.0575', '0.10666666666666667')\n",
      "('7', '0.10125', '0.8200000000000001', '0.0975', '0.32')\n",
      "('7', '0.25875', '0.7000000000000001', '0.0775', '0.13333333333333333')\n",
      "('7', '0.75', '0.7633333333333334', '0.16', '0.23333333333333334')\n",
      "Image No. 116 saved\n"
     ]
    },
    {
     "name": "stdout",
     "output_type": "stream",
     "text": [
      "size (400, 300)\n",
      "Image No. 115 saved\n",
      "size (400, 300)\n",
      "Image No. 114 saved\n",
      "size (400, 300)\n",
      "Image No. 113 saved\n",
      "size (400, 300)\n",
      "('1', '0.34125', '0.765', '0.1125', '0.27')\n",
      "('1', '0.44375000000000003', '0.7133333333333334', '0.10250000000000001', '0.28')\n",
      "('1', '0.54875', '0.6666666666666667', '0.0625', '0.37333333333333335')\n",
      "('1', '0.62375', '0.5850000000000001', '0.0725', '0.18333333333333335')\n",
      "Image No. 112 saved\n",
      "size (400, 300)\n",
      "Image No. 111 saved\n",
      "size (400, 300)\n",
      "Image No. 110 saved\n",
      "size (400, 300)\n",
      "Image No. 109 saved\n",
      "size (400, 300)\n",
      "('0', '0.3725', '0.6283333333333334', '0.145', '0.43000000000000005')\n",
      "('6', '0.33', '0.505', '0.045', '0.15000000000000002')\n",
      "('7', '0.4025', '0.54', '0.09', '0.13333333333333333')\n",
      "('4', '0.36875', '0.7283333333333334', '0.0525', '0.21000000000000002')\n",
      "('5', '0.40750000000000003', '0.7300000000000001', '0.05', '0.22')\n",
      "('2', '0.36', '0.5133333333333334', '0.035', '0.07333333333333333')\n",
      "('3', '0.37125', '0.5900000000000001', '0.0625', '0.1')\n",
      "Image No. 108 saved\n",
      "size (400, 300)\n",
      "Image No. 107 saved\n",
      "size (400, 300)\n",
      "Image No. 106 saved\n",
      "size (400, 300)\n",
      "('0', '0.185', '0.8166666666666668', '0.21', '0.35333333333333333')\n",
      "('1', '0.17', '0.56', '0.125', '0.24000000000000002')\n",
      "('1', '0.26875', '0.5616666666666666', '0.0775', '0.22333333333333336')\n",
      "('1', '0.365', '0.6583333333333333', '0.1', '0.38333333333333336')\n",
      "('1', '0.50375', '0.6733333333333333', '0.1375', '0.24666666666666667')\n",
      "('1', '0.64', '0.7266666666666667', '0.13', '0.21333333333333335')\n",
      "('1', '0.84375', '0.8416666666666667', '0.17250000000000001', '0.3166666666666667')\n",
      "('2', '0.52625', '0.5950000000000001', '0.0675', '0.11666666666666667')\n",
      "('2', '0.18625', '0.4966666666666667', '0.0775', '0.1')\n",
      "('2', '0.265', '0.5066666666666667', '0.055', '0.1')\n",
      "('2', '0.2175', '0.755', '0.12', '0.23')\n",
      "('2', '0.6025', '0.6766666666666667', '0.05', '0.11333333333333334')\n",
      "('6', '0.1375', '0.8550000000000001', '0.1', '0.25')\n",
      "Image No. 105 saved\n",
      "size (400, 300)\n",
      "('1', '0.15', '0.6383333333333334', '0.28', '0.63')\n",
      "('0', '0.47500000000000003', '0.63', '0.27', '0.5133333333333334')\n",
      "('0', '0.7262500000000001', '0.635', '0.2175', '0.39')\n",
      "('0', '0.3', '0.6566666666666667', '0.12', '0.30000000000000004')\n",
      "('2', '0.4875', '0.4666666666666667', '0.155', '0.2')\n",
      "('2', '0.7212500000000001', '0.5183333333333333', '0.1075', '0.15000000000000002')\n",
      "('2', '0.06', '0.4416666666666667', '0.1', '0.22333333333333336')\n",
      "Image No. 104 saved\n",
      "size (400, 300)\n",
      "('1', '0.2975', '0.5233333333333333', '0.5750000000000001', '0.9400000000000001')\n",
      "('1', '0.7275', '0.6116666666666667', '0.545', '0.75')\n",
      "('2', '0.2925', '0.43000000000000005', '0.39', '0.7266666666666667')\n",
      "('2', '0.6525', '0.5533333333333333', '0.355', '0.5733333333333334')\n",
      "Image No. 103 saved\n",
      "size (400, 300)\n",
      "('1', '0.23125', '0.6033333333333334', '0.3875', '0.8200000000000001')\n",
      "('1', '0.7825', '0.5833333333333334', '0.445', '0.8066666666666668')\n",
      "('0', '0.5375', '0.6433333333333334', '0.265', '0.6866666666666668')\n",
      "('2', '0.3', '0.3866666666666667', '0.21', '0.3866666666666667')\n",
      "('2', '0.5225', '0.47500000000000003', '0.165', '0.3166666666666667')\n",
      "('2', '0.6875', '0.3916666666666667', '0.24', '0.38333333333333336')\n",
      "Image No. 102 saved\n",
      "size (400, 300)\n",
      "('1', '0.20750000000000002', '0.5883333333333334', '0.37', '0.7833333333333334')\n",
      "('1', '0.49375', '0.62', '0.3725', '0.7266666666666667')\n",
      "('1', '0.82625', '0.5716666666666667', '0.3425', '0.8300000000000001')\n",
      "('2', '0.22375', '0.41500000000000004', '0.1875', '0.35000000000000003')\n",
      "('2', '0.51', '0.4733333333333334', '0.21', '0.3466666666666667')\n",
      "('2', '0.81', '0.3466666666666667', '0.21', '0.3466666666666667')\n",
      "Image No. 101 saved\n",
      "size (400, 300)\n",
      "('1', '0.6012500000000001', '0.555', '0.7725', '0.7566666666666667')\n",
      "('2', '0.41500000000000004', '0.49333333333333335', '0.365', '0.37333333333333335')\n",
      "Image No. 100 saved\n",
      "size (400, 300)\n",
      "Image No. 99 saved\n",
      "size (400, 300)\n",
      "Image No. 98 saved\n",
      "size (400, 300)\n",
      "Image No. 97 saved\n",
      "size (400, 300)\n",
      "Image No. 96 saved\n",
      "size (400, 300)\n",
      "Image No. 95 saved\n",
      "size (400, 300)\n",
      "('0', '0.30875', '0.6583333333333333', '0.4225', '0.6966666666666667')\n",
      "('1', '0.76875', '0.5933333333333334', '0.4625', '0.8')\n",
      "('2', '0.32125', '0.5983333333333334', '0.3775', '0.5633333333333334')\n",
      "('2', '0.75125', '0.515', '0.3625', '0.6166666666666667')\n",
      "Image No. 94 saved\n",
      "size (400, 300)\n",
      "('1', '0.8075', '0.6000000000000001', '0.275', '0.7466666666666667')\n",
      "('1', '0.59', '0.6666666666666667', '0.27', '0.6533333333333333')\n",
      "('0', '0.4025', '0.665', '0.215', '0.65')\n",
      "('0', '0.0975', '0.6583333333333333', '0.155', '0.4566666666666667')\n",
      "('2', '0.775', '0.32833333333333337', '0.14', '0.19666666666666668')\n",
      "('2', '0.5675', '0.4566666666666667', '0.125', '0.2066666666666667')\n",
      "('2', '0.4', '0.4683333333333334', '0.14', '0.2366666666666667')\n",
      "('2', '0.09375', '0.49500000000000005', '0.08750000000000001', '0.11')\n",
      "('3', '0.1', '0.6633333333333333', '0.125', '0.23333333333333334')\n",
      "('6', '0.6687500000000001', '0.7266666666666667', '0.11750000000000001', '0.45333333333333337')\n",
      "('3', '0.425', '0.8', '0.185', '0.3666666666666667')\n",
      "Image No. 93 saved\n",
      "size (400, 300)\n",
      "('0', '0.7262500000000001', '0.5633333333333334', '0.5475', '0.8733333333333334')\n",
      "('1', '0.23625000000000002', '0.5016666666666667', '0.4475', '0.9700000000000001')\n",
      "('2', '0.64', '0.44333333333333336', '0.32', '0.5666666666666667')\n",
      "('2', '0.2125', '0.395', '0.375', '0.5900000000000001')\n",
      "Image No. 92 saved\n",
      "size (400, 300)\n",
      "Image No. 91 saved\n",
      "size (400, 300)\n",
      "('0', '0.4625', '0.545', '0.915', '0.8300000000000001')\n",
      "('2', '0.185', '0.48000000000000004', '0.32', '0.31333333333333335')\n",
      "('6', '0.59125', '0.26', '0.6425', '0.24000000000000002')\n",
      "('7', '0.56', '0.7016666666666667', '0.595', '0.48333333333333334')\n",
      "('3', '0.5175', '0.5416666666666667', '0.49', '0.48333333333333334')\n",
      "Image No. 90 saved\n",
      "size (400, 300)\n",
      "('0', '0.4225', '0.635', '0.765', '0.7233333333333334')\n",
      "('2', '0.215', '0.5983333333333334', '0.34', '0.31')\n",
      "('3', '0.50125', '0.64', '0.3875', '0.42000000000000004')\n",
      "('7', '0.55', '0.7333333333333334', '0.515', '0.49333333333333335')\n",
      "('6', '0.5387500000000001', '0.405', '0.5325', '0.26333333333333336')\n",
      "Image No. 89 saved\n",
      "size (400, 300)\n",
      "Image No. 88 saved\n",
      "size (400, 300)\n",
      "('0', '0.7325', '0.5183333333333333', '0.49', '0.8366666666666667')\n",
      "('2', '0.59875', '0.2816666666666667', '0.1875', '0.22333333333333336')\n",
      "('6', '0.75625', '0.5816666666666667', '0.4325', '0.3166666666666667')\n",
      "('4', '0.6587500000000001', '0.765', '0.2425', '0.27666666666666667')\n",
      "('3', '0.61', '0.5650000000000001', '0.225', '0.3166666666666667')\n",
      "Image No. 87 saved\n",
      "size (400, 300)\n",
      "('0', '0.50125', '0.505', '0.9825', '0.9700000000000001')\n",
      "('7', '0.6637500000000001', '0.6366666666666667', '0.6625', '0.24000000000000002')\n",
      "('6', '0.61125', '0.25333333333333335', '0.7525000000000001', '0.44')\n",
      "('2', '0.22625', '0.775', '0.3725', '0.4033333333333334')\n",
      "Image No. 86 saved\n",
      "size (400, 300)\n",
      "('0', '0.57875', '0.445', '0.3925', '0.5966666666666667')\n",
      "('2', '0.45875', '0.4816666666666667', '0.1325', '0.18333333333333335')\n",
      "('6', '0.65', '0.31333333333333335', '0.245', '0.28')\n",
      "('7', '0.5962500000000001', '0.6050000000000001', '0.3325', '0.08333333333333334')\n",
      "Image No. 85 saved\n",
      "size (400, 300)\n",
      "('0', '0.265', '0.7316666666666667', '0.48', '0.5233333333333333')\n",
      "('1', '0.21375', '0.37000000000000005', '0.23750000000000002', '0.43333333333333335')\n",
      "('1', '0.3775', '0.33333333333333337', '0.165', '0.36000000000000004')\n",
      "('1', '0.59', '0.43000000000000005', '0.24', '0.2866666666666667')\n",
      "('2', '0.27', '0.26', '0.125', '0.2')\n",
      "('2', '0.4025', '0.24500000000000002', '0.075', '0.14333333333333334')\n",
      "('2', '0.38375000000000004', '0.5616666666666666', '0.1575', '0.19')\n",
      "('2', '0.51875', '0.34', '0.0475', '0.10666666666666667')\n",
      "('5', '0.22625', '0.9316666666666668', '0.3975', '0.12333333333333334')\n",
      "('5', '0.6225', '0.525', '0.24', '0.12333333333333334')\n",
      "('7', '0.37375', '0.6633333333333333', '0.2725', '0.32666666666666666')\n",
      "Image No. 84 saved\n",
      "size (400, 300)\n",
      "('1', '0.59', '0.51', '0.8300000000000001', '0.4733333333333334')\n",
      "('0', '0.62', '0.8333333333333334', '0.76', '0.32666666666666666')\n",
      "('2', '0.28875', '0.5633333333333334', '0.20750000000000002', '0.2066666666666667')\n",
      "('2', '0.34', '0.8333333333333334', '0.19', '0.2')\n",
      "('6', '0.635', '0.36000000000000004', '0.53', '0.16666666666666669')\n",
      "('6', '0.56875', '0.785', '0.28250000000000003', '0.2366666666666667')\n",
      "('3', '0.6175', '0.5066666666666667', '0.49', '0.28')\n",
      "('3', '0.6225', '0.8566666666666667', '0.39', '0.24666666666666667')\n",
      "('4', '0.91625', '0.4066666666666667', '0.1575', '0.2')\n",
      "('4', '0.9025', '0.7983333333333333', '0.17', '0.19')\n",
      "('5', '0.9087500000000001', '0.6066666666666667', '0.17250000000000001', '0.17333333333333334')\n",
      "('5', '0.90375', '0.9333333333333333', '0.1975', '0.14')\n",
      "Image No. 83 saved\n",
      "size (400, 300)\n",
      "('1', '0.6825', '0.17', '0.635', '0.32666666666666666')\n",
      "('0', '0.7175', '0.5316666666666667', '0.5650000000000001', '0.51')\n",
      "('2', '0.58625', '0.44333333333333336', '0.2675', '0.2866666666666667')\n",
      "('2', '0.5425', '0.14666666666666667', '0.335', '0.25333333333333335')\n",
      "Image No. 82 saved\n"
     ]
    },
    {
     "name": "stdout",
     "output_type": "stream",
     "text": [
      "size (400, 300)\n",
      "Image No. 81 saved\n",
      "size (400, 300)\n",
      "('0', '0.785', '0.615', '0.43', '0.7433333333333334')\n",
      "('1', '0.38875', '0.5466666666666667', '0.4575', '0.7533333333333334')\n",
      "('2', '0.42125', '0.3433333333333334', '0.2175', '0.35333333333333333')\n",
      "('2', '0.71875', '0.4083333333333334', '0.2425', '0.31')\n",
      "('3', '0.4625', '0.64', '0.22', '0.2733333333333334')\n",
      "('3', '0.78125', '0.78', '0.2425', '0.4')\n",
      "('7', '0.29375', '0.66', '0.2475', '0.44')\n",
      "Image No. 80 saved\n",
      "size (400, 300)\n",
      "('1', '0.18', '0.44333333333333336', '0.33', '0.8600000000000001')\n",
      "('0', '0.47375', '0.6983333333333334', '0.2975', '0.55')\n",
      "('6', '0.18', '0.6316666666666667', '0.305', '0.45')\n",
      "('2', '0.1875', '0.25', '0.32', '0.46')\n",
      "('2', '0.47125', '0.5566666666666668', '0.1775', '0.24666666666666667')\n",
      "('3', '0.48125', '0.8283333333333334', '0.2125', '0.2566666666666667')\n",
      "Image No. 79 saved\n",
      "size (400, 300)\n",
      "('0', '0.51', '0.5416666666666667', '0.9550000000000001', '0.8700000000000001')\n",
      "('2', '0.18125', '0.5583333333333333', '0.2775', '0.3766666666666667')\n",
      "('7', '0.57125', '0.6666666666666667', '0.8125', '0.56')\n",
      "('6', '0.52375', '0.24666666666666667', '0.7275', '0.22666666666666668')\n",
      "Image No. 78 saved\n",
      "size (400, 300)\n",
      "('0', '0.6425', '0.6683333333333333', '0.325', '0.5966666666666667')\n",
      "('1', '0.34625', '0.6316666666666667', '0.3925', '0.6900000000000001')\n",
      "('7', '0.3075', '0.7483333333333334', '0.245', '0.4366666666666667')\n",
      "('7', '0.63', '0.7616666666666667', '0.265', '0.38333333333333336')\n",
      "('6', '0.71875', '0.6900000000000001', '0.1625', '0.39333333333333337')\n",
      "('2', '0.41625', '0.4216666666666667', '0.1275', '0.24333333333333335')\n",
      "('2', '0.54125', '0.4733333333333334', '0.0975', '0.17333333333333334')\n",
      "('3', '0.39', '0.7433333333333334', '0.21', '0.3666666666666667')\n",
      "('3', '0.63', '0.6816666666666668', '0.165', '0.2833333333333333')\n",
      "Image No. 77 saved\n",
      "size (400, 300)\n",
      "('0', '0.23375', '0.5', '0.3075', '0.7133333333333334')\n",
      "('0', '0.4', '0.4816666666666667', '0.32', '0.5633333333333334')\n",
      "('2', '0.18125', '0.25833333333333336', '0.1275', '0.19666666666666668')\n",
      "('2', '0.295', '0.2866666666666667', '0.095', '0.16')\n",
      "('7', '0.255', '0.45833333333333337', '0.23500000000000001', '0.18333333333333335')\n",
      "Image No. 76 saved\n",
      "size (400, 300)\n",
      "('0', '0.2025', '0.48000000000000004', '0.335', '0.66')\n",
      "('0', '0.7325', '0.4716666666666667', '0.195', '0.65')\n",
      "('2', '0.17', '0.28', '0.135', '0.18666666666666668')\n",
      "('2', '0.7175', '0.24333333333333335', '0.15', '0.16666666666666669')\n",
      "('4', '0.75875', '0.5950000000000001', '0.14250000000000002', '0.2566666666666667')\n",
      "('4', '0.2675', '0.685', '0.19', '0.21000000000000002')\n",
      "('7', '0.11', '0.52', '0.125', '0.29333333333333333')\n",
      "('6', '0.7725', '0.44', '0.13', '0.21333333333333335')\n",
      "Image No. 75 saved\n",
      "size (400, 300)\n",
      "('0', '0.43125', '0.37000000000000005', '0.4925', '0.30000000000000004')\n",
      "('2', '0.23500000000000001', '0.36333333333333334', '0.095', '0.12000000000000001')\n",
      "('3', '0.355', '0.335', '0.145', '0.13')\n",
      "('4', '0.5425', '0.4133333333333334', '0.25', '0.16666666666666669')\n",
      "('5', '0.57125', '0.3566666666666667', '0.20750000000000002', '0.11333333333333334')\n",
      "Image No. 74 saved\n",
      "size (400, 300)\n",
      "('0', '0.52625', '0.6216666666666667', '0.9325', '0.44333333333333336')\n",
      "('0', '0.51375', '0.24166666666666667', '0.9175', '0.3166666666666667')\n",
      "('6', '0.38125000000000003', '0.7466666666666667', '0.3075', '0.14666666666666667')\n",
      "('4', '0.74875', '0.6766666666666667', '0.4875', '0.16666666666666669')\n",
      "('4', '0.69875', '0.29833333333333334', '0.5375', '0.17666666666666667')\n",
      "('5', '0.69375', '0.19833333333333333', '0.4975', '0.13')\n",
      "('5', '0.74625', '0.52', '0.4875', '0.12000000000000001')\n",
      "('3', '0.35625', '0.5683333333333334', '0.2625', '0.2366666666666667')\n",
      "('3', '0.3175', '0.25', '0.25', '0.23333333333333334')\n",
      "Image No. 73 saved\n",
      "size (400, 300)\n",
      "('0', '0.505', '0.6333333333333334', '0.98', '0.32666666666666666')\n",
      "('0', '0.5075000000000001', '0.7766666666666667', '0.975', '0.24000000000000002')\n",
      "('0', '0.40125', '0.38833333333333336', '0.7825', '0.19')\n",
      "('2', '0.085', '0.8150000000000001', '0.135', '0.15666666666666668')\n",
      "('2', '0.095', '0.6033333333333334', '0.17', '0.19333333333333336')\n",
      "('4', '0.73', '0.6066666666666667', '0.53', '0.2066666666666667')\n",
      "('4', '0.7525000000000001', '0.7933333333333333', '0.485', '0.16')\n",
      "('6', '0.4', '0.6616666666666667', '0.445', '0.3433333333333334')\n",
      "Image No. 72 saved\n",
      "size (400, 300)\n",
      "('0', '0.615', '0.5983333333333334', '0.78', '0.6233333333333334')\n",
      "('2', '0.38625', '0.6183333333333334', '0.3175', '0.32333333333333336')\n",
      "('7', '0.7937500000000001', '0.5733333333333334', '0.40750000000000003', '0.5466666666666667')\n",
      "('3', '0.72', '0.5683333333333334', '0.335', '0.17666666666666667')\n",
      "Image No. 71 saved\n",
      "size (400, 300)\n",
      "('0', '0.58875', '0.64', '0.8225', '0.6666666666666667')\n",
      "('0', '0.54', '0.18000000000000002', '0.91', '0.33333333333333337')\n",
      "('2', '0.37125', '0.7000000000000001', '0.3625', '0.37333333333333335')\n",
      "('3', '0.76375', '0.65', '0.4675', '0.5066666666666667')\n",
      "('6', '0.675', '0.16833333333333333', '0.55', '0.2966666666666667')\n",
      "('2', '0.29875', '0.07500000000000001', '0.3625', '0.13')\n",
      "Image No. 70 saved\n",
      "size (400, 300)\n",
      "('0', '0.64', '0.41000000000000003', '0.725', '0.78')\n",
      "('2', '0.58625', '0.30333333333333334', '0.5625', '0.5')\n",
      "Image No. 69 saved\n",
      "size (400, 300)\n",
      "('0', '0.61', '0.3566666666666667', '0.785', '0.6866666666666668')\n",
      "('2', '0.4425', '0.3616666666666667', '0.38', '0.5033333333333334')\n",
      "Image No. 68 saved\n",
      "size (400, 300)\n",
      "('0', '0.5875', '0.5266666666666667', '0.8300000000000001', '0.7733333333333334')\n",
      "('2', '0.35625', '0.4733333333333334', '0.3375', '0.3866666666666667')\n",
      "('6', '0.745', '0.3866666666666667', '0.36', '0.4666666666666667')\n",
      "('3', '0.73', '0.5133333333333334', '0.395', '0.3866666666666667')\n",
      "Image No. 67 saved\n",
      "size (400, 300)\n",
      "('0', '0.505', '0.5', '0.99', '0.9600000000000001')\n",
      "('3', '0.335', '0.6133333333333334', '0.635', '0.6933333333333334')\n",
      "('6', '0.39', '0.26666666666666666', '0.765', '0.49333333333333335')\n",
      "Image No. 66 saved\n",
      "size (400, 300)\n",
      "('5', '0.7225', '0.7966666666666667', '0.55', '0.38')\n",
      "('4', '0.7175', '0.37833333333333335', '0.545', '0.44333333333333336')\n",
      "('3', '0.22625', '0.5700000000000001', '0.4225', '0.8066666666666668')\n",
      "('0', '0.49875', '0.5733333333333334', '0.9975', '0.8266666666666668')\n",
      "Image No. 65 saved\n",
      "size (400, 300)\n",
      "('0', '0.5125', '0.5833333333333334', '0.605', '0.5')\n",
      "('2', '0.31', '0.6416666666666667', '0.165', '0.18333333333333335')\n",
      "Image No. 64 saved\n",
      "size (400, 300)\n",
      "('0', '0.49', '0.7933333333333333', '0.215', '0.4266666666666667')\n",
      "('0', '0.3725', '0.7733333333333334', '0.155', '0.45333333333333337')\n",
      "('0', '0.09125', '0.8033333333333333', '0.1575', '0.38')\n",
      "('0', '0.8300000000000001', '0.8', '0.195', '0.3866666666666667')\n",
      "('2', '0.07625', '0.7166666666666667', '0.11750000000000001', '0.18000000000000002')\n",
      "('2', '0.3675', '0.6583333333333333', '0.135', '0.15666666666666668')\n",
      "('2', '0.5375', '0.66', '0.115', '0.13333333333333333')\n",
      "Image No. 63 saved\n",
      "size (400, 300)\n",
      "('2', '0.31', '0.17833333333333334', '0.12', '0.1366666666666667')\n",
      "('1', '0.6012500000000001', '0.25833333333333336', '0.7075', '0.31')\n",
      "('3', '0.47875', '0.2966666666666667', '0.2425', '0.16666666666666669')\n",
      "('7', '0.455', '0.24000000000000002', '0.165', '0.24666666666666667')\n",
      "('0', '0.56625', '0.8600000000000001', '0.4025', '0.24000000000000002')\n",
      "('2', '0.445', '0.8266666666666668', '0.115', '0.14666666666666667')\n",
      "('7', '0.5375', '0.8600000000000001', '0.135', '0.21333333333333335')\n",
      "Image No. 62 saved\n",
      "size (400, 300)\n",
      "('0', '0.5825', '0.7483333333333334', '0.8250000000000001', '0.22333333333333336')\n",
      "('2', '0.28', '0.7416666666666667', '0.16', '0.17666666666666667')\n",
      "('4', '0.8', '0.7416666666666667', '0.38', '0.18333333333333335')\n",
      "Image No. 61 saved\n",
      "size (400, 300)\n",
      "Image No. 60 saved\n",
      "size (400, 300)\n",
      "Image No. 59 saved\n",
      "size (400, 300)\n",
      "('0', '0.64', '0.5533333333333333', '0.6950000000000001', '0.8666666666666667')\n",
      "('2', '0.42375', '0.48833333333333334', '0.2575', '0.27')\n",
      "('3', '0.7525000000000001', '0.49000000000000005', '0.4', '0.32666666666666666')\n",
      "('6', '0.7275', '0.22333333333333336', '0.34', '0.18000000000000002')\n",
      "Image No. 58 saved\n",
      "size (400, 300)\n",
      "Image No. 57 saved\n",
      "size (400, 300)\n",
      "('1', '0.5650000000000001', '0.5433333333333333', '0.875', '0.6466666666666667')\n",
      "('0', '0.52375', '0.3116666666666667', '0.47750000000000004', '0.3433333333333334')\n",
      "('2', '0.2175', '0.4766666666666667', '0.17500000000000002', '0.2')\n",
      "('2', '0.35000000000000003', '0.22833333333333336', '0.12', '0.16333333333333333')\n",
      "('7', '0.48125', '0.3816666666666667', '0.2775', '0.31')\n",
      "('3', '0.505', '0.6616666666666667', '0.445', '0.32333333333333336')\n",
      "('5', '0.87', '0.5866666666666667', '0.255', '0.18666666666666668')\n",
      "('4', '0.865', '0.7716666666666667', '0.265', '0.17')\n",
      "Image No. 56 saved\n"
     ]
    },
    {
     "name": "stdout",
     "output_type": "stream",
     "text": [
      "size (400, 533)\n",
      "('0', '0.6950000000000001', '0.46622889305816134', '0.405', '0.726078799249531')\n",
      "('1', '0.37', '0.5375234521575984', '0.56', '0.9136960600375235')\n",
      "('2', '0.42125', '0.19136960600375236', '0.14250000000000002', '0.19136960600375236')\n",
      "('2', '0.795', '0.3433395872420263', '0.145', '0.11632270168855535')\n",
      "('7', '0.6062500000000001', '0.2626641651031895', '0.2225', '0.2926829268292683')\n",
      "('7', '0.72375', '0.5834896810506567', '0.3225', '0.17636022514071295')\n",
      "('7', '0.505', '0.50187617260788', '0.275', '0.3808630393996248')\n",
      "('3', '0.33875', '0.49624765478424016', '0.2925', '0.4333958724202627')\n",
      "('3', '0.74625', '0.5065666041275797', '0.2175', '0.2401500938086304')\n",
      "('5', '0.6325000000000001', '0.873358348968105', '0.275', '0.24953095684803')\n",
      "Image No. 55 saved\n",
      "size (400, 300)\n",
      "('0', '0.505', '0.55', '0.985', '0.33333333333333337')\n",
      "('2', '0.09625', '0.6083333333333334', '0.14250000000000002', '0.17')\n",
      "('4', '0.73', '0.6383333333333334', '0.53', '0.15000000000000002')\n",
      "('5', '0.73375', '0.49333333333333335', '0.5275', '0.13333333333333333')\n",
      "('3', '0.30125', '0.53', '0.2475', '0.22')\n",
      "('6', '0.2725', '0.6683333333333333', '0.21', '0.09000000000000001')\n",
      "('7', '0.275', '0.41500000000000004', '0.18', '0.05666666666666667')\n",
      "Image No. 54 saved\n",
      "size (400, 300)\n",
      "('1', '0.46125', '0.5800000000000001', '0.3125', '0.2066666666666667')\n",
      "('2', '0.34750000000000003', '0.5883333333333334', '0.075', '0.07666666666666667')\n",
      "('7', '0.4325', '0.5950000000000001', '0.08', '0.16333333333333333')\n",
      "Image No. 53 saved\n",
      "size (400, 300)\n",
      "('0', '0.50875', '0.5583333333333333', '0.9725', '0.4633333333333334')\n",
      "('2', '0.11', '0.655', '0.16', '0.17666666666666667')\n",
      "('5', '0.77', '0.6566666666666667', '0.44', '0.2')\n",
      "('4', '0.76625', '0.43000000000000005', '0.4425', '0.15333333333333335')\n",
      "('6', '0.27625', '0.5750000000000001', '0.2675', '0.33')\n",
      "('3', '0.38', '0.5516666666666667', '0.315', '0.27')\n",
      "Image No. 52 saved\n",
      "size (400, 300)\n",
      "Image No. 51 saved\n",
      "size (400, 300)\n",
      "('0', '0.58375', '0.4466666666666667', '0.8425', '0.3866666666666667')\n",
      "('0', '0.435', '0.8416666666666667', '0.405', '0.27666666666666667')\n",
      "('2', '0.31375000000000003', '0.8366666666666667', '0.1575', '0.23333333333333334')\n",
      "('2', '0.28', '0.445', '0.21', '0.29000000000000004')\n",
      "('6', '0.50375', '0.4466666666666667', '0.2675', '0.38')\n",
      "('6', '0.45375', '0.8350000000000001', '0.1125', '0.2833333333333333')\n",
      "Image No. 50 saved\n",
      "size (400, 300)\n",
      "('1', '0.685', '0.545', '0.28', '0.15666666666666668')\n",
      "('1', '0.7675000000000001', '0.4366666666666667', '0.45', '0.26')\n",
      "('0', '0.7837500000000001', '0.14833333333333334', '0.4325', '0.27666666666666667')\n",
      "('0', '0.7837500000000001', '0.685', '0.4025', '0.19')\n",
      "('6', '0.765', '0.6766666666666667', '0.17500000000000002', '0.15333333333333335')\n",
      "('2', '0.63375', '0.6866666666666668', '0.0775', '0.10666666666666667')\n",
      "('2', '0.6025', '0.5466666666666667', '0.09', '0.09333333333333334')\n",
      "('2', '0.645', '0.125', '0.145', '0.19')\n",
      "('6', '0.8575', '0.08333333333333334', '0.29', '0.12666666666666668')\n",
      "Image No. 49 saved\n",
      "size (400, 300)\n",
      "('0', '0.515', '0.6583333333333333', '0.9550000000000001', '0.67')\n",
      "('2', '0.20625000000000002', '0.5616666666666666', '0.3225', '0.31')\n",
      "('6', '0.595', '0.6533333333333333', '0.455', '0.6066666666666667')\n",
      "Image No. 48 saved\n",
      "size (400, 300)\n",
      "('0', '0.87', '0.3616666666666667', '0.245', '0.16333333333333333')\n",
      "('0', '0.9187500000000001', '0.9066666666666667', '0.1575', '0.16666666666666669')\n",
      "('2', '0.795', '0.3433333333333334', '0.085', '0.11333333333333334')\n",
      "('2', '0.9025', '0.9083333333333334', '0.105', '0.15000000000000002')\n",
      "Image No. 47 saved\n",
      "size (400, 300)\n",
      "('0', '0.495', '0.6000000000000001', '0.5750000000000001', '0.5333333333333333')\n",
      "('2', '0.26375', '0.42333333333333334', '0.0925', '0.1')\n",
      "('3', '0.40875', '0.5016666666666667', '0.1375', '0.14333333333333334')\n",
      "('5', '0.62', '0.515', '0.315', '0.15666666666666668')\n",
      "('4', '0.5225', '0.6933333333333334', '0.19', '0.32')\n",
      "('7', '0.3625', '0.45333333333333337', '0.12', '0.17333333333333334')\n",
      "Image No. 46 saved\n",
      "size (400, 300)\n",
      "('0', '0.485', '0.53', '0.925', '0.5733333333333334')\n",
      "('2', '0.09875', '0.5566666666666668', '0.1475', '0.19333333333333336')\n",
      "('7', '0.20375000000000001', '0.4366666666666667', '0.1675', '0.39333333333333337')\n",
      "('5', '0.665', '0.7000000000000001', '0.55', '0.2066666666666667')\n",
      "('4', '0.66125', '0.49833333333333335', '0.47750000000000004', '0.21000000000000002')\n",
      "('3', '0.28500000000000003', '0.6233333333333334', '0.23500000000000001', '0.25333333333333335')\n",
      "Image No. 45 saved\n",
      "size (400, 300)\n",
      "('0', '0.5175', '0.315', '0.9500000000000001', '0.5033333333333334')\n",
      "('2', '0.14', '0.36500000000000005', '0.18', '0.21666666666666667')\n",
      "('3', '0.44375000000000003', '0.32833333333333337', '0.2675', '0.2966666666666667')\n",
      "('5', '0.78', '0.4033333333333334', '0.41500000000000004', '0.21333333333333335')\n",
      "('4', '0.77625', '0.18000000000000002', '0.4325', '0.2')\n",
      "('6', '0.4225', '0.1716666666666667', '0.38', '0.1366666666666667')\n",
      "('7', '0.505', '0.48000000000000004', '0.505', '0.12000000000000001')\n",
      "Image No. 44 saved\n",
      "size (400, 300)\n",
      "('0', '0.4325', '0.5766666666666667', '0.835', '0.4866666666666667')\n",
      "('2', '0.0825', '0.4816666666666667', '0.125', '0.18333333333333335')\n",
      "('3', '0.2625', '0.5833333333333334', '0.23', '0.2866666666666667')\n",
      "('5', '0.61125', '0.6833333333333333', '0.4625', '0.2733333333333334')\n",
      "('4', '0.62', '0.6166666666666667', '0.45', '0.23333333333333334')\n",
      "Image No. 43 saved\n",
      "size (400, 300)\n",
      "('0', '0.5475', '0.4216666666666667', '0.56', '0.33666666666666667')\n",
      "('2', '0.315', '0.4133333333333334', '0.06', '0.09333333333333334')\n",
      "('4', '0.6575', '0.39', '0.32', '0.08666666666666667')\n",
      "('5', '0.6425', '0.45333333333333337', '0.32', '0.09333333333333334')\n",
      "('3', '0.405', '0.4083333333333334', '0.14', '0.13')\n",
      "('7', '0.3175', '0.5066666666666667', '0.1', '0.13333333333333333')\n",
      "Image No. 42 saved\n",
      "size (400, 300)\n",
      "('0', '0.535', '0.5266666666666667', '0.745', '0.5066666666666667')\n",
      "('2', '0.385', '0.5583333333333333', '0.08', '0.11')\n",
      "('7', '0.495', '0.6983333333333334', '0.105', '0.19666666666666668')\n",
      "('5', '0.735', '0.555', '0.325', '0.17')\n",
      "('4', '0.74', '0.375', '0.325', '0.17666666666666667')\n",
      "('6', '0.28875', '0.44', '0.2475', '0.12000000000000001')\n",
      "('3', '0.49625', '0.4866666666666667', '0.17250000000000001', '0.16666666666666669')\n",
      "Image No. 41 saved\n",
      "size (400, 300)\n",
      "('0', '0.52125', '0.385', '0.9475', '0.77')\n",
      "('2', '0.215', '0.4866666666666667', '0.18', '0.2')\n",
      "('3', '0.435', '0.36333333333333334', '0.325', '0.38')\n",
      "('7', '0.465', '0.635', '0.255', '0.23')\n",
      "('5', '0.8', '0.4366666666666667', '0.39', '0.26666666666666666')\n",
      "('4', '0.80375', '0.17666666666666667', '0.3925', '0.19333333333333336')\n",
      "('6', '0.1675', '0.18500000000000003', '0.26', '0.35000000000000003')\n",
      "Image No. 40 saved\n",
      "size (400, 300)\n",
      "('0', '0.51', '0.53', '0.975', '0.48000000000000004')\n",
      "('2', '0.12375', '0.5266666666666667', '0.20750000000000002', '0.16')\n",
      "('3', '0.4425', '0.5850000000000001', '0.45', '0.26333333333333336')\n",
      "('5', '0.82875', '0.62', '0.3325', '0.21333333333333335')\n",
      "('4', '0.83125', '0.43833333333333335', '0.34750000000000003', '0.14333333333333334')\n",
      "('7', '0.5375', '0.4066666666666667', '0.61', '0.2')\n",
      "('6', '0.45125', '0.7166666666666667', '0.4575', '0.09333333333333334')\n",
      "Image No. 39 saved\n",
      "size (400, 300)\n",
      "('0', '0.5975', '0.7166666666666667', '0.8', '0.4466666666666667')\n",
      "('2', '0.31875000000000003', '0.6883333333333334', '0.2175', '0.2366666666666667')\n",
      "('7', '0.63125', '0.7283333333333334', '0.3925', '0.39')\n",
      "('3', '0.625', '0.7233333333333334', '0.305', '0.23333333333333334')\n",
      "Image No. 38 saved\n",
      "size (400, 300)\n",
      "('0', '0.5825', '0.7000000000000001', '0.8250000000000001', '0.6133333333333334')\n",
      "('2', '0.29875', '0.5650000000000001', '0.2275', '0.21666666666666667')\n",
      "('3', '0.6625', '0.5900000000000001', '0.45', '0.39333333333333337')\n",
      "('5', '0.9475', '0.6833333333333333', '0.1', '0.23333333333333334')\n",
      "('4', '0.9450000000000001', '0.4966666666666667', '0.1', '0.14')\n",
      "('7', '0.6575', '0.8683333333333334', '0.45', '0.27')\n",
      "Image No. 37 saved\n",
      "size (400, 300)\n",
      "('0', '0.56375', '0.6733333333333333', '0.8775000000000001', '0.64')\n",
      "('2', '0.26625', '0.5866666666666667', '0.2475', '0.29333333333333333')\n",
      "('6', '0.65375', '0.8283333333333334', '0.5425', '0.32333333333333336')\n",
      "('4', '0.9225', '0.5316666666666667', '0.15', '0.23')\n",
      "('5', '0.9275', '0.7716666666666667', '0.14', '0.25')\n",
      "('3', '0.62625', '0.62', '0.4875', '0.43333333333333335')\n",
      "Image No. 36 saved\n"
     ]
    },
    {
     "name": "stdout",
     "output_type": "stream",
     "text": [
      "size (400, 300)\n",
      "('1', '0.7925', '0.6233333333333334', '0.41000000000000003', '0.23333333333333334')\n",
      "('1', '0.8075', '0.26666666666666666', '0.39', '0.28')\n",
      "('2', '0.6375000000000001', '0.5800000000000001', '0.095', '0.08666666666666667')\n",
      "('6', '0.755', '0.6783333333333333', '0.195', '0.11')\n",
      "('5', '0.9', '0.6483333333333334', '0.20500000000000002', '0.08333333333333334')\n",
      "('4', '0.89625', '0.5766666666666667', '0.20750000000000002', '0.060000000000000005')\n",
      "('6', '0.7625000000000001', '0.5666666666666667', '0.16', '0.10666666666666667')\n",
      "('3', '0.73', '0.6133333333333334', '0.145', '0.16')\n",
      "Image No. 35 saved\n",
      "size (400, 300)\n",
      "Image No. 34 saved\n",
      "size (400, 300)\n",
      "('1', '0.65125', '0.5833333333333334', '0.4175', '0.8200000000000001')\n",
      "('0', '0.3075', '0.66', '0.365', '0.6533333333333333')\n",
      "('2', '0.305', '0.6666666666666667', '0.355', '0.64')\n",
      "('2', '0.65125', '0.5783333333333334', '0.4025', '0.8033333333333333')\n",
      "Image No. 33 saved\n",
      "size (400, 300)\n",
      "('1', '0.57625', '0.535', '0.8425', '0.9166666666666667')\n",
      "('2', '0.5', '0.305', '0.23500000000000001', '0.43000000000000005')\n",
      "('3', '0.44625000000000004', '0.7100000000000001', '0.3225', '0.5266666666666667')\n",
      "('7', '0.27875', '0.7383333333333334', '0.2125', '0.4766666666666667')\n",
      "('6', '0.79', '0.765', '0.405', '0.4366666666666667')\n",
      "('6', '0.7212500000000001', '0.7583333333333334', '0.28250000000000003', '0.4366666666666667')\n",
      "Image No. 32 saved\n",
      "size (400, 300)\n",
      "('1', '0.65125', '0.5833333333333334', '0.4175', '0.8200000000000001')\n",
      "('0', '0.3075', '0.66', '0.365', '0.6533333333333333')\n",
      "('2', '0.305', '0.6666666666666667', '0.355', '0.64')\n",
      "('2', '0.65125', '0.5783333333333334', '0.4025', '0.8033333333333333')\n",
      "Image No. 33 saved\n",
      "size (400, 300)\n",
      "Image No. 34 saved\n",
      "size (400, 300)\n",
      "('1', '0.7925', '0.6233333333333334', '0.41000000000000003', '0.23333333333333334')\n",
      "('1', '0.8075', '0.26666666666666666', '0.39', '0.28')\n",
      "('2', '0.6375000000000001', '0.5800000000000001', '0.095', '0.08666666666666667')\n",
      "('6', '0.755', '0.6783333333333333', '0.195', '0.11')\n",
      "('5', '0.9', '0.6483333333333334', '0.20500000000000002', '0.08333333333333334')\n",
      "('4', '0.89625', '0.5766666666666667', '0.20750000000000002', '0.060000000000000005')\n",
      "('6', '0.7625000000000001', '0.5666666666666667', '0.16', '0.10666666666666667')\n",
      "('3', '0.73', '0.6133333333333334', '0.145', '0.16')\n",
      "Image No. 35 saved\n",
      "size (400, 300)\n",
      "('0', '0.56375', '0.6733333333333333', '0.8775000000000001', '0.64')\n",
      "('2', '0.26625', '0.5866666666666667', '0.2475', '0.29333333333333333')\n",
      "('6', '0.65375', '0.8283333333333334', '0.5425', '0.32333333333333336')\n",
      "('4', '0.9225', '0.5316666666666667', '0.15', '0.23')\n",
      "('5', '0.9275', '0.7716666666666667', '0.14', '0.25')\n",
      "('3', '0.62625', '0.62', '0.4875', '0.43333333333333335')\n",
      "Image No. 36 saved\n",
      "size (400, 300)\n",
      "('0', '0.5825', '0.7000000000000001', '0.8250000000000001', '0.6133333333333334')\n",
      "('2', '0.29875', '0.5650000000000001', '0.2275', '0.21666666666666667')\n",
      "('3', '0.6625', '0.5900000000000001', '0.45', '0.39333333333333337')\n",
      "('5', '0.9475', '0.6833333333333333', '0.1', '0.23333333333333334')\n",
      "('4', '0.9450000000000001', '0.4966666666666667', '0.1', '0.14')\n",
      "('7', '0.6575', '0.8683333333333334', '0.45', '0.27')\n",
      "Image No. 37 saved\n",
      "size (400, 300)\n",
      "('0', '0.5975', '0.7166666666666667', '0.8', '0.4466666666666667')\n",
      "('2', '0.31875000000000003', '0.6883333333333334', '0.2175', '0.2366666666666667')\n",
      "('7', '0.63125', '0.7283333333333334', '0.3925', '0.39')\n",
      "('3', '0.625', '0.7233333333333334', '0.305', '0.23333333333333334')\n",
      "Image No. 38 saved\n",
      "size (400, 300)\n",
      "('0', '0.51', '0.53', '0.975', '0.48000000000000004')\n",
      "('2', '0.12375', '0.5266666666666667', '0.20750000000000002', '0.16')\n",
      "('3', '0.4425', '0.5850000000000001', '0.45', '0.26333333333333336')\n",
      "('5', '0.82875', '0.62', '0.3325', '0.21333333333333335')\n",
      "('4', '0.83125', '0.43833333333333335', '0.34750000000000003', '0.14333333333333334')\n",
      "('7', '0.5375', '0.4066666666666667', '0.61', '0.2')\n",
      "('6', '0.45125', '0.7166666666666667', '0.4575', '0.09333333333333334')\n",
      "Image No. 39 saved\n",
      "size (400, 300)\n",
      "('0', '0.52125', '0.385', '0.9475', '0.77')\n",
      "('2', '0.215', '0.4866666666666667', '0.18', '0.2')\n",
      "('3', '0.435', '0.36333333333333334', '0.325', '0.38')\n",
      "('7', '0.465', '0.635', '0.255', '0.23')\n",
      "('5', '0.8', '0.4366666666666667', '0.39', '0.26666666666666666')\n",
      "('4', '0.80375', '0.17666666666666667', '0.3925', '0.19333333333333336')\n",
      "('6', '0.1675', '0.18500000000000003', '0.26', '0.35000000000000003')\n",
      "Image No. 40 saved\n",
      "size (400, 300)\n",
      "('0', '0.535', '0.5266666666666667', '0.745', '0.5066666666666667')\n",
      "('2', '0.385', '0.5583333333333333', '0.08', '0.11')\n",
      "('7', '0.495', '0.6983333333333334', '0.105', '0.19666666666666668')\n",
      "('5', '0.735', '0.555', '0.325', '0.17')\n",
      "('4', '0.74', '0.375', '0.325', '0.17666666666666667')\n",
      "('6', '0.28875', '0.44', '0.2475', '0.12000000000000001')\n",
      "('3', '0.49625', '0.4866666666666667', '0.17250000000000001', '0.16666666666666669')\n",
      "Image No. 41 saved\n",
      "size (400, 300)\n",
      "('0', '0.5475', '0.4216666666666667', '0.56', '0.33666666666666667')\n",
      "('2', '0.315', '0.4133333333333334', '0.06', '0.09333333333333334')\n",
      "('4', '0.6575', '0.39', '0.32', '0.08666666666666667')\n",
      "('5', '0.6425', '0.45333333333333337', '0.32', '0.09333333333333334')\n",
      "('3', '0.405', '0.4083333333333334', '0.14', '0.13')\n",
      "('7', '0.3175', '0.5066666666666667', '0.1', '0.13333333333333333')\n",
      "Image No. 42 saved\n",
      "size (400, 300)\n",
      "('0', '0.4325', '0.5766666666666667', '0.835', '0.4866666666666667')\n",
      "('2', '0.0825', '0.4816666666666667', '0.125', '0.18333333333333335')\n",
      "('3', '0.2625', '0.5833333333333334', '0.23', '0.2866666666666667')\n",
      "('5', '0.61125', '0.6833333333333333', '0.4625', '0.2733333333333334')\n",
      "('4', '0.62', '0.6166666666666667', '0.45', '0.23333333333333334')\n",
      "Image No. 43 saved\n",
      "size (400, 300)\n",
      "('0', '0.5175', '0.315', '0.9500000000000001', '0.5033333333333334')\n",
      "('2', '0.14', '0.36500000000000005', '0.18', '0.21666666666666667')\n",
      "('3', '0.44375000000000003', '0.32833333333333337', '0.2675', '0.2966666666666667')\n",
      "('5', '0.78', '0.4033333333333334', '0.41500000000000004', '0.21333333333333335')\n",
      "('4', '0.77625', '0.18000000000000002', '0.4325', '0.2')\n",
      "('6', '0.4225', '0.1716666666666667', '0.38', '0.1366666666666667')\n",
      "('7', '0.505', '0.48000000000000004', '0.505', '0.12000000000000001')\n",
      "Image No. 44 saved\n",
      "size (400, 300)\n",
      "('0', '0.485', '0.53', '0.925', '0.5733333333333334')\n",
      "('2', '0.09875', '0.5566666666666668', '0.1475', '0.19333333333333336')\n",
      "('7', '0.20375000000000001', '0.4366666666666667', '0.1675', '0.39333333333333337')\n",
      "('5', '0.665', '0.7000000000000001', '0.55', '0.2066666666666667')\n",
      "('4', '0.66125', '0.49833333333333335', '0.47750000000000004', '0.21000000000000002')\n",
      "('3', '0.28500000000000003', '0.6233333333333334', '0.23500000000000001', '0.25333333333333335')\n",
      "Image No. 45 saved\n",
      "size (400, 300)\n",
      "('0', '0.495', '0.6000000000000001', '0.5750000000000001', '0.5333333333333333')\n",
      "('2', '0.26375', '0.42333333333333334', '0.0925', '0.1')\n",
      "('3', '0.40875', '0.5016666666666667', '0.1375', '0.14333333333333334')\n",
      "('5', '0.62', '0.515', '0.315', '0.15666666666666668')\n",
      "('4', '0.5225', '0.6933333333333334', '0.19', '0.32')\n",
      "('7', '0.3625', '0.45333333333333337', '0.12', '0.17333333333333334')\n",
      "Image No. 46 saved\n",
      "size (400, 300)\n",
      "('0', '0.87', '0.3616666666666667', '0.245', '0.16333333333333333')\n",
      "('0', '0.9187500000000001', '0.9066666666666667', '0.1575', '0.16666666666666669')\n",
      "('2', '0.795', '0.3433333333333334', '0.085', '0.11333333333333334')\n",
      "('2', '0.9025', '0.9083333333333334', '0.105', '0.15000000000000002')\n",
      "Image No. 47 saved\n",
      "size (400, 300)\n",
      "('0', '0.515', '0.6583333333333333', '0.9550000000000001', '0.67')\n",
      "('2', '0.20625000000000002', '0.5616666666666666', '0.3225', '0.31')\n",
      "('6', '0.595', '0.6533333333333333', '0.455', '0.6066666666666667')\n",
      "Image No. 48 saved\n",
      "size (400, 300)\n",
      "('0', '0.87', '0.3616666666666667', '0.245', '0.16333333333333333')\n",
      "('0', '0.9187500000000001', '0.9066666666666667', '0.1575', '0.16666666666666669')\n",
      "('2', '0.795', '0.3433333333333334', '0.085', '0.11333333333333334')\n",
      "('2', '0.9025', '0.9083333333333334', '0.105', '0.15000000000000002')\n",
      "Image No. 47 saved\n",
      "size (400, 300)\n",
      "('0', '0.495', '0.6000000000000001', '0.5750000000000001', '0.5333333333333333')\n",
      "('2', '0.26375', '0.42333333333333334', '0.0925', '0.1')\n",
      "('3', '0.40875', '0.5016666666666667', '0.1375', '0.14333333333333334')\n",
      "('5', '0.62', '0.515', '0.315', '0.15666666666666668')\n",
      "('4', '0.5225', '0.6933333333333334', '0.19', '0.32')\n",
      "('7', '0.3625', '0.45333333333333337', '0.12', '0.17333333333333334')\n",
      "Image No. 46 saved\n"
     ]
    },
    {
     "name": "stdout",
     "output_type": "stream",
     "text": [
      "size (400, 300)\n",
      "('0', '0.485', '0.53', '0.925', '0.5733333333333334')\n",
      "('2', '0.09875', '0.5566666666666668', '0.1475', '0.19333333333333336')\n",
      "('7', '0.20375000000000001', '0.4366666666666667', '0.1675', '0.39333333333333337')\n",
      "('5', '0.665', '0.7000000000000001', '0.55', '0.2066666666666667')\n",
      "('4', '0.66125', '0.49833333333333335', '0.47750000000000004', '0.21000000000000002')\n",
      "('3', '0.28500000000000003', '0.6233333333333334', '0.23500000000000001', '0.25333333333333335')\n",
      "Image No. 45 saved\n",
      "size (400, 300)\n",
      "('0', '0.5175', '0.315', '0.9500000000000001', '0.5033333333333334')\n",
      "('2', '0.14', '0.36500000000000005', '0.18', '0.21666666666666667')\n",
      "('3', '0.44375000000000003', '0.32833333333333337', '0.2675', '0.2966666666666667')\n",
      "('5', '0.78', '0.4033333333333334', '0.41500000000000004', '0.21333333333333335')\n",
      "('4', '0.77625', '0.18000000000000002', '0.4325', '0.2')\n",
      "('6', '0.4225', '0.1716666666666667', '0.38', '0.1366666666666667')\n",
      "('7', '0.505', '0.48000000000000004', '0.505', '0.12000000000000001')\n",
      "Image No. 44 saved\n",
      "size (400, 300)\n",
      "('0', '0.4325', '0.5766666666666667', '0.835', '0.4866666666666667')\n",
      "('2', '0.0825', '0.4816666666666667', '0.125', '0.18333333333333335')\n",
      "('3', '0.2625', '0.5833333333333334', '0.23', '0.2866666666666667')\n",
      "('5', '0.61125', '0.6833333333333333', '0.4625', '0.2733333333333334')\n",
      "('4', '0.62', '0.6166666666666667', '0.45', '0.23333333333333334')\n",
      "Image No. 43 saved\n",
      "size (400, 300)\n",
      "('0', '0.5475', '0.4216666666666667', '0.56', '0.33666666666666667')\n",
      "('2', '0.315', '0.4133333333333334', '0.06', '0.09333333333333334')\n",
      "('4', '0.6575', '0.39', '0.32', '0.08666666666666667')\n",
      "('5', '0.6425', '0.45333333333333337', '0.32', '0.09333333333333334')\n",
      "('3', '0.405', '0.4083333333333334', '0.14', '0.13')\n",
      "('7', '0.3175', '0.5066666666666667', '0.1', '0.13333333333333333')\n",
      "Image No. 42 saved\n",
      "size (400, 300)\n",
      "('0', '0.535', '0.5266666666666667', '0.745', '0.5066666666666667')\n",
      "('2', '0.385', '0.5583333333333333', '0.08', '0.11')\n",
      "('7', '0.495', '0.6983333333333334', '0.105', '0.19666666666666668')\n",
      "('5', '0.735', '0.555', '0.325', '0.17')\n",
      "('4', '0.74', '0.375', '0.325', '0.17666666666666667')\n",
      "('6', '0.28875', '0.44', '0.2475', '0.12000000000000001')\n",
      "('3', '0.49625', '0.4866666666666667', '0.17250000000000001', '0.16666666666666669')\n",
      "Image No. 41 saved\n",
      "size (400, 300)\n",
      "('0', '0.52125', '0.385', '0.9475', '0.77')\n",
      "('2', '0.215', '0.4866666666666667', '0.18', '0.2')\n",
      "('3', '0.435', '0.36333333333333334', '0.325', '0.38')\n",
      "('7', '0.465', '0.635', '0.255', '0.23')\n",
      "('5', '0.8', '0.4366666666666667', '0.39', '0.26666666666666666')\n",
      "('4', '0.80375', '0.17666666666666667', '0.3925', '0.19333333333333336')\n",
      "('6', '0.1675', '0.18500000000000003', '0.26', '0.35000000000000003')\n",
      "Image No. 40 saved\n",
      "size (400, 300)\n",
      "('0', '0.51', '0.53', '0.975', '0.48000000000000004')\n",
      "('2', '0.12375', '0.5266666666666667', '0.20750000000000002', '0.16')\n",
      "('3', '0.4425', '0.5850000000000001', '0.45', '0.26333333333333336')\n",
      "('5', '0.82875', '0.62', '0.3325', '0.21333333333333335')\n",
      "('4', '0.83125', '0.43833333333333335', '0.34750000000000003', '0.14333333333333334')\n",
      "('7', '0.5375', '0.4066666666666667', '0.61', '0.2')\n",
      "('6', '0.45125', '0.7166666666666667', '0.4575', '0.09333333333333334')\n",
      "Image No. 39 saved\n",
      "size (400, 300)\n",
      "('0', '0.5975', '0.7166666666666667', '0.8', '0.4466666666666667')\n",
      "('2', '0.31875000000000003', '0.6883333333333334', '0.2175', '0.2366666666666667')\n",
      "('7', '0.63125', '0.7283333333333334', '0.3925', '0.39')\n",
      "('3', '0.625', '0.7233333333333334', '0.305', '0.23333333333333334')\n",
      "Image No. 38 saved\n",
      "size (400, 300)\n",
      "('0', '0.5825', '0.7000000000000001', '0.8250000000000001', '0.6133333333333334')\n",
      "('2', '0.29875', '0.5650000000000001', '0.2275', '0.21666666666666667')\n",
      "('3', '0.6625', '0.5900000000000001', '0.45', '0.39333333333333337')\n",
      "('5', '0.9475', '0.6833333333333333', '0.1', '0.23333333333333334')\n",
      "('4', '0.9450000000000001', '0.4966666666666667', '0.1', '0.14')\n",
      "('7', '0.6575', '0.8683333333333334', '0.45', '0.27')\n",
      "Image No. 37 saved\n",
      "size (400, 300)\n",
      "('0', '0.56375', '0.6733333333333333', '0.8775000000000001', '0.64')\n",
      "('2', '0.26625', '0.5866666666666667', '0.2475', '0.29333333333333333')\n",
      "('6', '0.65375', '0.8283333333333334', '0.5425', '0.32333333333333336')\n",
      "('4', '0.9225', '0.5316666666666667', '0.15', '0.23')\n",
      "('5', '0.9275', '0.7716666666666667', '0.14', '0.25')\n",
      "('3', '0.62625', '0.62', '0.4875', '0.43333333333333335')\n",
      "Image No. 36 saved\n",
      "size (400, 300)\n",
      "('1', '0.7925', '0.6233333333333334', '0.41000000000000003', '0.23333333333333334')\n",
      "('1', '0.8075', '0.26666666666666666', '0.39', '0.28')\n",
      "('2', '0.6375000000000001', '0.5800000000000001', '0.095', '0.08666666666666667')\n",
      "('6', '0.755', '0.6783333333333333', '0.195', '0.11')\n",
      "('5', '0.9', '0.6483333333333334', '0.20500000000000002', '0.08333333333333334')\n",
      "('4', '0.89625', '0.5766666666666667', '0.20750000000000002', '0.060000000000000005')\n",
      "('6', '0.7625000000000001', '0.5666666666666667', '0.16', '0.10666666666666667')\n",
      "('3', '0.73', '0.6133333333333334', '0.145', '0.16')\n",
      "Image No. 35 saved\n",
      "size (400, 300)\n",
      "Image No. 34 saved\n",
      "size (400, 300)\n",
      "('1', '0.65125', '0.5833333333333334', '0.4175', '0.8200000000000001')\n",
      "('0', '0.3075', '0.66', '0.365', '0.6533333333333333')\n",
      "('2', '0.305', '0.6666666666666667', '0.355', '0.64')\n",
      "('2', '0.65125', '0.5783333333333334', '0.4025', '0.8033333333333333')\n",
      "Image No. 33 saved\n",
      "size (400, 300)\n",
      "('1', '0.57625', '0.535', '0.8425', '0.9166666666666667')\n",
      "('2', '0.5', '0.305', '0.23500000000000001', '0.43000000000000005')\n",
      "('3', '0.44625000000000004', '0.7100000000000001', '0.3225', '0.5266666666666667')\n",
      "('7', '0.27875', '0.7383333333333334', '0.2125', '0.4766666666666667')\n",
      "('6', '0.79', '0.765', '0.405', '0.4366666666666667')\n",
      "('6', '0.7212500000000001', '0.7583333333333334', '0.28250000000000003', '0.4366666666666667')\n",
      "Image No. 32 saved\n",
      "size (400, 300)\n",
      "('0', '0.2025', '0.5433333333333333', '0.35000000000000003', '0.5266666666666667')\n",
      "('1', '0.8425', '0.63', '0.31', '0.7133333333333334')\n",
      "('2', '0.21375', '0.40166666666666667', '0.1575', '0.21666666666666667')\n",
      "('2', '0.8462500000000001', '0.4', '0.1825', '0.22666666666666668')\n",
      "('3', '0.21625', '0.65', '0.1825', '0.26')\n",
      "('3', '0.84375', '0.7400000000000001', '0.1575', '0.4133333333333334')\n",
      "('7', '0.17', '0.6383333333333334', '0.275', '0.26333333333333336')\n",
      "('7', '0.7675000000000001', '0.7283333333333334', '0.11', '0.41000000000000003')\n",
      "('6', '0.22', '0.6483333333333334', '0.305', '0.27')\n",
      "('6', '0.8875000000000001', '0.7400000000000001', '0.215', '0.4866666666666667')\n",
      "Image No. 31 saved\n",
      "size (400, 300)\n",
      "('0', '0.78', '0.5283333333333333', '0.335', '0.5433333333333333')\n",
      "('1', '0.2175', '0.5633333333333334', '0.41000000000000003', '0.8666666666666667')\n",
      "('2', '0.78625', '0.3866666666666667', '0.1475', '0.24000000000000002')\n",
      "('2', '0.20625000000000002', '0.30000000000000004', '0.20750000000000002', '0.32')\n",
      "('6', '0.315', '0.635', '0.2', '0.37000000000000005')\n",
      "('3', '0.79', '0.6266666666666667', '0.17500000000000002', '0.29333333333333333')\n",
      "('3', '0.155', '0.675', '0.225', '0.53')\n",
      "Image No. 30 saved\n",
      "size (400, 300)\n",
      "('0', '0.535', '0.6133333333333334', '0.435', '0.7666666666666667')\n",
      "('2', '0.46', '0.39333333333333337', '0.18', '0.2866666666666667')\n",
      "('3', '0.5225', '0.7633333333333334', '0.28', '0.4466666666666667')\n",
      "Image No. 29 saved\n",
      "size (400, 300)\n",
      "('0', '0.775', '0.675', '0.375', '0.6233333333333334')\n",
      "('1', '0.3875', '0.41833333333333333', '0.23', '0.3566666666666667')\n",
      "('2', '0.82875', '0.4633333333333334', '0.1675', '0.15333333333333335')\n",
      "('2', '0.385', '0.3116666666666667', '0.095', '0.12333333333333334')\n",
      "('7', '0.795', '0.7400000000000001', '0.3', '0.37333333333333335')\n",
      "Image No. 28 saved\n",
      "size (400, 300)\n",
      "('0', '0.50625', '0.6433333333333334', '0.41250000000000003', '0.6733333333333333')\n",
      "('0', '0.745', '0.5766666666666667', '0.515', '0.8466666666666667')\n",
      "('2', '0.6075', '0.5166666666666667', '0.20500000000000002', '0.4066666666666667')\n",
      "('2', '0.845', '0.43333333333333335', '0.315', '0.5133333333333334')\n",
      "('3', '0.8425', '0.8483333333333334', '0.33', '0.2833333333333333')\n",
      "('3', '0.46875', '0.7816666666666667', '0.2675', '0.35000000000000003')\n",
      "Image No. 27 saved\n",
      "size (400, 300)\n",
      "('1', '0.225', '0.6466666666666667', '0.405', '0.7066666666666667')\n",
      "('1', '0.41375', '0.22666666666666668', '0.1225', '0.26666666666666666')\n",
      "('1', '0.94625', '0.545', '0.1075', '0.44333333333333336')\n",
      "('0', '0.4525', '0.5983333333333334', '0.215', '0.44333333333333336')\n",
      "('0', '0.7325', '0.4966666666666667', '0.23', '0.32666666666666666')\n",
      "('2', '0.35875', '0.4166666666666667', '0.1375', '0.22666666666666668')\n",
      "('2', '0.49125', '0.4633333333333334', '0.0925', '0.15333333333333335')\n",
      "('2', '0.67875', '0.43500000000000005', '0.11750000000000001', '0.17666666666666667')\n",
      "('2', '0.4325', '0.165', '0.085', '0.11666666666666667')\n",
      "('7', '0.3225', '0.625', '0.23', '0.38333333333333336')\n",
      "Image No. 26 saved\n",
      "size (400, 300)\n",
      "('0', '0.12875', '0.6266666666666667', '0.2425', '0.5066666666666667')\n",
      "('0', '0.4675', '0.5983333333333334', '0.23', '0.47000000000000003')\n",
      "('1', '0.74', '0.6116666666666667', '0.315', '0.4566666666666667')\n",
      "('2', '0.14625', '0.49000000000000005', '0.1475', '0.19333333333333336')\n",
      "('2', '0.49125', '0.48833333333333334', '0.1325', '0.19666666666666668')\n",
      "('2', '0.6637500000000001', '0.49500000000000005', '0.1375', '0.20333333333333334')\n",
      "('7', '0.11', '0.7066666666666667', '0.19', '0.28')\n"
     ]
    },
    {
     "name": "stdout",
     "output_type": "stream",
     "text": [
      "('6', '0.53125', '0.7000000000000001', '0.0925', '0.26666666666666666')\n",
      "('6', '0.80875', '0.67', '0.17250000000000001', '0.34')\n",
      "Image No. 25 saved\n",
      "size (400, 300)\n",
      "('0', '0.42', '0.6783333333333333', '0.275', '0.48333333333333334')\n",
      "('0', '0.7175', '0.5416666666666667', '0.225', '0.3433333333333334')\n",
      "('1', '0.17500000000000002', '0.6566666666666667', '0.335', '0.66')\n",
      "('1', '0.9175', '0.6166666666666667', '0.155', '0.42000000000000004')\n",
      "('2', '0.23375', '0.4733333333333334', '0.1875', '0.26')\n",
      "('2', '0.42125', '0.5333333333333333', '0.1075', '0.16')\n",
      "('2', '0.6950000000000001', '0.4816666666666667', '0.11', '0.18333333333333335')\n",
      "('2', '0.93125', '0.5116666666666667', '0.1275', '0.20333333333333334')\n",
      "('7', '0.17', '0.785', '0.325', '0.38333333333333336')\n",
      "('7', '0.4225', '0.7100000000000001', '0.25', '0.23333333333333334')\n",
      "Image No. 24 saved\n",
      "size (400, 300)\n",
      "('0', '0.34', '0.675', '0.455', '0.65')\n",
      "('0', '0.65375', '0.6266666666666667', '0.6525', '0.7333333333333334')\n",
      "('2', '0.48875', '0.44333333333333336', '0.1475', '0.18000000000000002')\n",
      "('2', '0.645', '0.42000000000000004', '0.145', '0.22666666666666668')\n",
      "('6', '0.83375', '0.7200000000000001', '0.28750000000000003', '0.5066666666666667')\n",
      "('7', '0.4425', '0.7100000000000001', '0.23', '0.46')\n",
      "Image No. 23 saved\n",
      "size (400, 300)\n",
      "('0', '0.29875', '0.6900000000000001', '0.3875', '0.6466666666666667')\n",
      "('0', '0.65625', '0.655', '0.6975', '0.67')\n",
      "('2', '0.4225', '0.47000000000000003', '0.13', '0.2066666666666667')\n",
      "('2', '0.59', '0.4466666666666667', '0.17', '0.24000000000000002')\n",
      "('7', '0.45875', '0.7366666666666667', '0.2925', '0.46')\n",
      "('7', '0.24875', '0.5766666666666667', '0.2625', '0.3466666666666667')\n",
      "('6', '0.80375', '0.7133333333333334', '0.1575', '0.29333333333333333')\n",
      "Image No. 22 saved\n",
      "size (400, 300)\n",
      "('0', '0.25375000000000003', '0.6266666666666667', '0.4675', '0.76')\n",
      "('0', '0.65375', '0.56', '0.6325000000000001', '0.8666666666666667')\n",
      "('2', '0.42125', '0.36000000000000004', '0.1325', '0.22666666666666668')\n",
      "('2', '0.64', '0.26833333333333337', '0.18', '0.27')\n",
      "('6', '0.4575', '0.7050000000000001', '0.23', '0.5833333333333334')\n",
      "('7', '0.83875', '0.6900000000000001', '0.2475', '0.6066666666666667')\n",
      "('7', '0.33125', '0.6283333333333334', '0.2475', '0.43000000000000005')\n",
      "Image No. 21 saved\n",
      "size (400, 300)\n",
      "('0', '0.3175', '0.4866666666666667', '0.36', '0.26666666666666666')\n",
      "('0', '0.6', '0.5933333333333334', '0.505', '0.6000000000000001')\n",
      "('2', '0.455', '0.7366666666666667', '0.19', '0.22')\n",
      "('2', '0.17500000000000002', '0.45', '0.085', '0.1')\n",
      "('7', '0.70875', '0.5866666666666667', '0.2325', '0.5733333333333334')\n",
      "('6', '0.5875', '0.48000000000000004', '0.26', '0.32')\n",
      "Image No. 20 saved\n",
      "size (400, 300)\n",
      "('0', '0.54625', '0.48500000000000004', '0.9175', '0.9033333333333334')\n",
      "('5', '0.68625', '0.7383333333333334', '0.6225', '0.33666666666666667')\n",
      "('4', '0.685', '0.305', '0.635', '0.51')\n",
      "('2', '0.16625', '0.6050000000000001', '0.11750000000000001', '0.16333333333333333')\n",
      "Image No. 19 saved\n",
      "size (400, 300)\n",
      "('0', '0.24', '0.42833333333333334', '0.465', '0.35000000000000003')\n",
      "('0', '0.67375', '0.42833333333333334', '0.6525', '0.8566666666666667')\n",
      "('2', '0.68125', '0.095', '0.1875', '0.17')\n",
      "('5', '0.89', '0.65', '0.22', '0.18000000000000002')\n",
      "('5', '0.225', '0.41833333333333333', '0.245', '0.3166666666666667')\n",
      "('4', '0.3725', '0.3866666666666667', '0.185', '0.24000000000000002')\n",
      "('7', '0.7000000000000001', '0.5133333333333334', '0.145', '0.6533333333333333')\n",
      "('7', '0.08750000000000001', '0.39333333333333337', '0.15', '0.10666666666666667')\n",
      "('6', '0.46375', '0.41000000000000003', '0.2275', '0.45333333333333337')\n",
      "Image No. 18 saved\n",
      "size (400, 300)\n",
      "Image No. 17 saved\n",
      "size (400, 300)\n",
      "('0', '0.17500000000000002', '0.6816666666666668', '0.34500000000000003', '0.6366666666666667')\n",
      "('1', '0.665', '0.5066666666666667', '0.595', '0.9733333333333334')\n",
      "('2', '0.70125', '0.19833333333333333', '0.1825', '0.33')\n",
      "('2', '0.16375', '0.4766666666666667', '0.1475', '0.21333333333333335')\n",
      "('6', '0.7575000000000001', '0.6000000000000001', '0.41500000000000004', '0.45333333333333337')\n",
      "('7', '0.275', '0.65', '0.17500000000000002', '0.16666666666666669')\n",
      "('5', '0.23750000000000002', '0.8300000000000001', '0.2', '0.30000000000000004')\n",
      "Image No. 16 saved\n",
      "size (400, 300)\n",
      "('0', '0.25875', '0.6016666666666667', '0.4925', '0.7966666666666667')\n",
      "('0', '0.745', '0.5700000000000001', '0.395', '0.8600000000000001')\n",
      "('2', '0.2325', '0.3766666666666667', '0.185', '0.35333333333333333')\n",
      "('2', '0.75375', '0.2566666666666667', '0.1275', '0.22')\n",
      "('7', '0.1975', '0.7416666666666667', '0.37', '0.5033333333333334')\n",
      "('7', '0.73', '0.61', '0.25', '0.5133333333333334')\n",
      "('6', '0.85375', '0.5366666666666667', '0.1625', '0.43333333333333335')\n",
      "('6', '0.30375', '0.6533333333333333', '0.0675', '0.29333333333333333')\n",
      "('5', '0.72', '0.7533333333333334', '0.31', '0.49333333333333335')\n",
      "Image No. 15 saved\n",
      "size (400, 300)\n",
      "('0', '0.27', '0.6133333333333334', '0.485', '0.7533333333333334')\n",
      "('0', '0.79125', '0.5750000000000001', '0.3725', '0.8300000000000001')\n",
      "('2', '0.2625', '0.39666666666666667', '0.17', '0.31333333333333335')\n",
      "('2', '0.7937500000000001', '0.275', '0.1325', '0.20333333333333334')\n",
      "('3', '0.18375', '0.7566666666666667', '0.2475', '0.38')\n",
      "('3', '0.7212500000000001', '0.5166666666666667', '0.1925', '0.24666666666666667')\n",
      "('5', '0.7625000000000001', '0.78', '0.3', '0.4266666666666667')\n",
      "('4', '0.87625', '0.7533333333333334', '0.20750000000000002', '0.4666666666666667')\n",
      "('4', '0.41500000000000004', '0.8450000000000001', '0.20500000000000002', '0.27')\n",
      "('7', '0.775', '0.6633333333333333', '0.265', '0.5266666666666667')\n",
      "('7', '0.1225', '0.7766666666666667', '0.19', '0.4066666666666667')\n",
      "('6', '0.3325', '0.6733333333333333', '0.06', '0.37333333333333335')\n",
      "('6', '0.9025', '0.5900000000000001', '0.16', '0.4133333333333334')\n",
      "Image No. 14 saved\n",
      "size (400, 300)\n",
      "('0', '0.34500000000000003', '0.48000000000000004', '0.07', '0.26666666666666666')\n",
      "('0', '0.66125', '0.49000000000000005', '0.0675', '0.2733333333333334')\n",
      "('0', '0.88375', '0.49000000000000005', '0.0725', '0.25333333333333335')\n",
      "('1', '0.57125', '0.4816666666666667', '0.08750000000000001', '0.21666666666666667')\n",
      "('1', '0.12625', '0.41833333333333333', '0.10250000000000001', '0.4366666666666667')\n",
      "('2', '0.14375000000000002', '0.24833333333333335', '0.0425', '0.07')\n",
      "('2', '0.35000000000000003', '0.3766666666666667', '0.045', '0.04666666666666667')\n",
      "('2', '0.56125', '0.39666666666666667', '0.0325', '0.04666666666666667')\n",
      "('2', '0.66625', '0.3866666666666667', '0.0325', '0.05333333333333334')\n",
      "('2', '0.8825000000000001', '0.39', '0.04', '0.03333333333333333')\n",
      "Image No. 13 saved\n",
      "size (400, 300)\n",
      "('1', '0.5775', '0.4083333333333334', '0.125', '0.30333333333333334')\n",
      "('1', '0.1575', '0.32333333333333336', '0.13', '0.62')\n",
      "('0', '0.86875', '0.3816666666666667', '0.14250000000000002', '0.43000000000000005')\n",
      "('4', '0.59', '0.47000000000000003', '0.055', '0.14')\n",
      "('4', '0.86375', '0.47500000000000003', '0.0625', '0.20333333333333334')\n",
      "('4', '0.1925', '0.46', '0.04', '0.32')\n",
      "('5', '0.9087500000000001', '0.4816666666666667', '0.0475', '0.19666666666666668')\n",
      "('5', '0.15', '0.46166666666666667', '0.07', '0.33')\n",
      "('5', '0.5387500000000001', '0.4733333333333334', '0.0375', '0.14')\n",
      "('2', '0.88375', '0.2066666666666667', '0.0475', '0.06666666666666667')\n",
      "('2', '0.5825', '0.2916666666666667', '0.04', '0.05666666666666667')\n",
      "('2', '0.18625', '0.04666666666666667', '0.0625', '0.08')\n",
      "('7', '0.17375000000000002', '0.17666666666666667', '0.0625', '0.19333333333333336')\n",
      "('7', '0.5975', '0.35500000000000004', '0.09', '0.08333333333333334')\n",
      "('7', '0.9225', '0.3216666666666667', '0.03', '0.15666666666666668')\n",
      "('6', '0.8375', '0.31833333333333336', '0.06', '0.15000000000000002')\n",
      "('6', '0.1325', '0.17833333333333334', '0.07', '0.17')\n",
      "Image No. 12 saved\n",
      "size (400, 300)\n",
      "('2', '0.56', '0.3116666666666667', '0.045', '0.08333333333333334')\n",
      "('1', '0.25375000000000003', '0.44333333333333336', '0.2775', '0.8733333333333334')\n",
      "('1', '0.53', '0.4966666666666667', '0.135', '0.46')\n",
      "('6', '0.59125', '0.41833333333333333', '0.0375', '0.09666666666666668')\n",
      "('7', '0.50625', '0.4416666666666667', '0.08750000000000001', '0.16333333333333333')\n",
      "('7', '0.3425', '0.27666666666666667', '0.09', '0.4466666666666667')\n",
      "('5', '0.55', '0.6016666666666667', '0.075', '0.23')\n",
      "('5', '0.22', '0.6216666666666667', '0.195', '0.49000000000000005')\n",
      "('4', '0.51625', '0.6033333333333334', '0.0925', '0.19333333333333336')\n",
      "('4', '0.32375', '0.665', '0.0675', '0.39666666666666667')\n",
      "Image No. 11 saved\n"
     ]
    },
    {
     "name": "stdout",
     "output_type": "stream",
     "text": [
      "size (400, 300)\n",
      "('1', '0.43', '0.4683333333333334', '0.18', '0.45')\n",
      "('1', '0.075', '0.3866666666666667', '0.14', '0.3866666666666667')\n",
      "('0', '0.11625', '0.5133333333333334', '0.2025', '0.44')\n",
      "('2', '0.41000000000000003', '0.29333333333333333', '0.05', '0.09333333333333334')\n",
      "('2', '0.11375', '0.24666666666666667', '0.0675', '0.10666666666666667')\n",
      "('2', '0.18625', '0.34500000000000003', '0.0675', '0.09666666666666668')\n",
      "('4', '0.4275', '0.5700000000000001', '0.04', '0.22')\n",
      "('5', '0.3775', '0.5633333333333334', '0.06', '0.22')\n",
      "('5', '0.075', '0.5766666666666667', '0.095', '0.2866666666666667')\n",
      "('7', '0.14125000000000001', '0.46166666666666667', '0.0975', '0.19666666666666668')\n",
      "('7', '0.365', '0.4266666666666667', '0.045', '0.2')\n",
      "('7', '0.06', '0.41000000000000003', '0.1', '0.28')\n",
      "('6', '0.47750000000000004', '0.35500000000000004', '0.09', '0.06333333333333334')\n",
      "Image No. 10 saved\n",
      "size (400, 300)\n",
      "('1', '0.41125', '0.5900000000000001', '0.11750000000000001', '0.46')\n",
      "('1', '0.15', '0.6083333333333334', '0.265', '0.67')\n",
      "('0', '0.26', '0.62', '0.155', '0.48000000000000004')\n",
      "('2', '0.24875', '0.32666666666666666', '0.0775', '0.10666666666666667')\n",
      "('2', '0.30625', '0.42333333333333334', '0.0625', '0.08666666666666667')\n",
      "('2', '0.43875000000000003', '0.405', '0.0475', '0.09666666666666668')\n",
      "('5', '0.1', '0.7150000000000001', '0.14', '0.43000000000000005')\n",
      "('5', '0.22375', '0.7000000000000001', '0.0675', '0.3066666666666667')\n",
      "('5', '0.3925', '0.6833333333333333', '0.07', '0.24666666666666667')\n",
      "('7', '0.41625', '0.535', '0.0575', '0.21000000000000002')\n",
      "('7', '0.25', '0.5466666666666667', '0.085', '0.21333333333333335')\n",
      "('7', '0.18125', '0.5216666666666667', '0.1225', '0.32333333333333336')\n",
      "('4', '0.4375', '0.7000000000000001', '0.03', '0.2066666666666667')\n",
      "Image No. 9 saved\n",
      "size (400, 300)\n",
      "('1', '0.2925', '0.5283333333333333', '0.18', '0.9433333333333334')\n",
      "('2', '0.2925', '0.13166666666666668', '0.1', '0.1366666666666667')\n",
      "('3', '0.275', '0.3433333333333334', '0.115', '0.24666666666666667')\n",
      "('7', '0.31625000000000003', '0.395', '0.1325', '0.36333333333333334')\n",
      "('5', '0.27375', '0.7200000000000001', '0.1325', '0.5066666666666667')\n",
      "('4', '0.23', '0.7350000000000001', '0.05', '0.4766666666666667')\n",
      "Image No. 8 saved\n",
      "size (400, 300)\n",
      "('0', '0.775', '0.6066666666666667', '0.38', '0.7866666666666667')\n",
      "('1', '0.18125', '0.5833333333333334', '0.3425', '0.8066666666666668')\n",
      "('2', '0.165', '0.35833333333333334', '0.195', '0.3433333333333334')\n",
      "('2', '0.77', '0.39', '0.225', '0.34')\n",
      "('3', '0.17125', '0.765', '0.2925', '0.4566666666666667')\n",
      "('3', '0.77', '0.7866666666666667', '0.225', '0.4266666666666667')\n",
      "('7', '0.10250000000000001', '0.5233333333333333', '0.17', '0.26')\n",
      "Image No. 7 saved\n",
      "size (400, 300)\n",
      "('2', '0.41500000000000004', '0.32833333333333337', '0.1', '0.16333333333333333')\n",
      "('2', '0.57375', '0.36000000000000004', '0.10250000000000001', '0.16')\n",
      "('0', '0.5825', '0.63', '0.19', '0.7133333333333334')\n",
      "('1', '0.395', '0.6283333333333334', '0.26', '0.7366666666666667')\n",
      "Image No. 6 saved\n",
      "size (400, 300)\n",
      "('1', '0.56375', '0.625', '0.2475', '0.7433333333333334')\n",
      "('0', '0.41500000000000004', '0.6433333333333334', '0.17500000000000002', '0.7066666666666667')\n",
      "('0', '0.735', '0.635', '0.17500000000000002', '0.7233333333333334')\n",
      "('2', '0.4425', '0.37333333333333335', '0.125', '0.16')\n",
      "('2', '0.56625', '0.33666666666666667', '0.0775', '0.16')\n",
      "('2', '0.73875', '0.3566666666666667', '0.0925', '0.15333333333333335')\n",
      "('3', '0.39125', '0.5733333333333334', '0.10250000000000001', '0.28')\n",
      "('3', '0.56875', '0.6050000000000001', '0.17250000000000001', '0.37000000000000005')\n",
      "('3', '0.75', '0.5633333333333334', '0.105', '0.24666666666666667')\n",
      "('4', '0.61', '0.8883333333333334', '0.085', '0.19')\n",
      "('4', '0.7675000000000001', '0.8600000000000001', '0.09', '0.26666666666666666')\n",
      "('5', '0.39125', '0.8566666666666667', '0.1225', '0.2733333333333334')\n",
      "('5', '0.51875', '0.8883333333333334', '0.0975', '0.17666666666666667')\n",
      "('5', '0.6950000000000001', '0.8650000000000001', '0.055', '0.22333333333333336')\n",
      "('6', '0.75', '0.6116666666666667', '0.125', '0.3433333333333334')\n",
      "('7', '0.40750000000000003', '0.5933333333333334', '0.08', '0.24000000000000002')\n",
      "('7', '0.49625', '0.55', '0.08750000000000001', '0.25333333333333335')\n",
      "('7', '0.685', '0.6383333333333334', '0.055', '0.37000000000000005')\n",
      "Image No. 5 saved\n",
      "size (400, 300)\n",
      "('0', '0.745', '0.6816666666666668', '0.275', '0.6233333333333334')\n",
      "('0', '0.28625', '0.6833333333333333', '0.1975', '0.6333333333333334')\n",
      "('1', '0.6225', '0.6766666666666667', '0.24', '0.6266666666666667')\n",
      "('2', '0.32125', '0.4666666666666667', '0.11750000000000001', '0.17333333333333334')\n",
      "('2', '0.64125', '0.4516666666666667', '0.08750000000000001', '0.15666666666666668')\n",
      "('2', '0.7887500000000001', '0.46', '0.11750000000000001', '0.17333333333333334')\n",
      "('3', '0.27375', '0.67', '0.1475', '0.26')\n",
      "('3', '0.6425', '0.7016666666666667', '0.17', '0.36333333333333334')\n",
      "('3', '0.8', '0.6833333333333333', '0.125', '0.2733333333333334')\n",
      "('5', '0.25', '0.9083333333333334', '0.115', '0.19')\n",
      "('5', '0.58125', '0.9316666666666668', '0.10250000000000001', '0.10333333333333335')\n",
      "('4', '0.68375', '0.9416666666666668', '0.08750000000000001', '0.11')\n",
      "('4', '0.7925', '0.905', '0.11', '0.15666666666666668')\n",
      "Image No. 4 saved\n",
      "size (400, 300)\n",
      "('0', '0.6012500000000001', '0.6533333333333333', '0.2475', '0.6933333333333334')\n",
      "('1', '0.38625', '0.6483333333333334', '0.2925', '0.7166666666666667')\n",
      "('2', '0.40125', '0.38333333333333336', '0.0825', '0.16666666666666669')\n",
      "('2', '0.63', '0.39666666666666667', '0.105', '0.18000000000000002')\n",
      "('7', '0.29', '0.6766666666666667', '0.085', '0.4066666666666667')\n",
      "('7', '0.5337500000000001', '0.7316666666666667', '0.0975', '0.17666666666666667')\n",
      "('6', '0.44625000000000004', '0.6083333333333334', '0.1625', '0.23')\n",
      "('6', '0.62625', '0.52', '0.1275', '0.26666666666666666')\n",
      "('5', '0.34875', '0.9133333333333334', '0.10250000000000001', '0.18666666666666668')\n",
      "('5', '0.58625', '0.885', '0.0725', '0.21666666666666667')\n",
      "('4', '0.45375', '0.915', '0.0975', '0.17666666666666667')\n",
      "('4', '0.66125', '0.89', '0.10250000000000001', '0.2066666666666667')\n",
      "('3', '0.40875', '0.6316666666666667', '0.1675', '0.3566666666666667')\n",
      "('3', '0.6475', '0.6233333333333334', '0.13', '0.30000000000000004')\n",
      "Image No. 3 saved\n",
      "size (400, 300)\n",
      "('3', '0.5750000000000001', '0.67', '0.21', '0.4866666666666667')\n",
      "('3', '0.7825', '0.5933333333333334', '0.15', '0.3066666666666667')\n",
      "('3', '0.04625', '0.6566666666666667', '0.0725', '0.39333333333333337')\n",
      "('0', '0.7875', '0.6333333333333334', '0.2', '0.7333333333333334')\n",
      "('0', '0.05625', '0.6016666666666667', '0.0925', '0.7766666666666667')\n",
      "('1', '0.5437500000000001', '0.615', '0.2925', '0.7766666666666667')\n",
      "('2', '0.62125', '0.325', '0.1075', '0.19666666666666668')\n",
      "('2', '0.775', '0.34833333333333333', '0.115', '0.16333333333333333')\n",
      "('2', '0.04875', '0.33333333333333337', '0.0775', '0.22666666666666668')\n",
      "('5', '0.4975', '0.9600000000000001', '0.12', '0.09333333333333334')\n",
      "('5', '0.73625', '0.8816666666666667', '0.0675', '0.25')\n",
      "('5', '0.05', '0.9316666666666668', '0.065', '0.1366666666666667')\n",
      "('4', '0.60875', '0.9733333333333334', '0.0975', '0.08')\n",
      "('4', '0.82625', '0.8816666666666667', '0.10250000000000001', '0.25')\n",
      "('7', '0.4875', '0.49833333333333335', '0.16', '0.26333333333333336')\n",
      "('7', '0.058750000000000004', '0.6233333333333334', '0.0925', '0.2733333333333334')\n",
      "('6', '0.79', '0.7050000000000001', '0.145', '0.48333333333333334')\n",
      "Image No. 2 saved\n",
      "size (400, 300)\n",
      "('0', '0.10250000000000001', '0.6966666666666667', '0.185', '0.62')\n",
      "('0', '0.81', '0.6900000000000001', '0.215', '0.62')\n",
      "('1', '0.445', '0.6733333333333333', '0.3', '0.64')\n",
      "('2', '0.8225', '0.48333333333333334', '0.125', '0.19333333333333336')\n",
      "('2', '0.4825', '0.465', '0.135', '0.21000000000000002')\n",
      "('2', '0.10875', '0.49833333333333335', '0.1625', '0.23')\n",
      "('7', '0.095', '0.7766666666666667', '0.145', '0.30000000000000004')\n",
      "('7', '0.41375', '0.7883333333333333', '0.2325', '0.33')\n",
      "('7', '0.73625', '0.7983333333333333', '0.0525', '0.4166666666666667')\n",
      "('3', '0.45625', '0.77', '0.1975', '0.44')\n",
      "('3', '0.82125', '0.75', '0.1375', '0.30000000000000004')\n",
      "('3', '0.06875', '0.8016666666666667', '0.0975', '0.36333333333333334')\n",
      "Image No. 1 saved\n",
      "size (400, 300)\n",
      "('0', '0.10250000000000001', '0.6966666666666667', '0.185', '0.62')\n",
      "('0', '0.81', '0.6900000000000001', '0.215', '0.62')\n",
      "('1', '0.445', '0.6733333333333333', '0.3', '0.64')\n",
      "('2', '0.8225', '0.48333333333333334', '0.125', '0.19333333333333336')\n",
      "('2', '0.4825', '0.465', '0.135', '0.21000000000000002')\n",
      "('2', '0.10875', '0.49833333333333335', '0.1625', '0.23')\n",
      "('7', '0.095', '0.7766666666666667', '0.145', '0.30000000000000004')\n",
      "('7', '0.41375', '0.7883333333333333', '0.2325', '0.33')\n",
      "('7', '0.73625', '0.7983333333333333', '0.0525', '0.4166666666666667')\n",
      "('3', '0.45625', '0.77', '0.1975', '0.44')\n",
      "('3', '0.82125', '0.75', '0.1375', '0.30000000000000004')\n",
      "('3', '0.06875', '0.8016666666666667', '0.0975', '0.36333333333333334')\n",
      "Image No. 1 saved\n"
     ]
    },
    {
     "name": "stdout",
     "output_type": "stream",
     "text": [
      "size (400, 300)\n",
      "('0', '0.10250000000000001', '0.6966666666666667', '0.185', '0.62')\n",
      "('0', '0.81', '0.6900000000000001', '0.215', '0.62')\n",
      "('1', '0.445', '0.6733333333333333', '0.3', '0.64')\n",
      "('2', '0.8225', '0.48333333333333334', '0.125', '0.19333333333333336')\n",
      "('2', '0.4825', '0.465', '0.135', '0.21000000000000002')\n",
      "('2', '0.10875', '0.49833333333333335', '0.1625', '0.23')\n",
      "('7', '0.095', '0.7766666666666667', '0.145', '0.30000000000000004')\n",
      "('7', '0.41375', '0.7883333333333333', '0.2325', '0.33')\n",
      "('7', '0.73625', '0.7983333333333333', '0.0525', '0.4166666666666667')\n",
      "('3', '0.45625', '0.77', '0.1975', '0.44')\n",
      "('3', '0.82125', '0.75', '0.1375', '0.30000000000000004')\n",
      "('3', '0.06875', '0.8016666666666667', '0.0975', '0.36333333333333334')\n",
      "Image No. 1 saved\n",
      "size (400, 300)\n",
      "('0', '0.10250000000000001', '0.6966666666666667', '0.185', '0.62')\n",
      "('0', '0.81', '0.6900000000000001', '0.215', '0.62')\n",
      "('1', '0.445', '0.6733333333333333', '0.3', '0.64')\n",
      "('2', '0.8225', '0.48333333333333334', '0.125', '0.19333333333333336')\n",
      "('2', '0.4825', '0.465', '0.135', '0.21000000000000002')\n",
      "('2', '0.10875', '0.49833333333333335', '0.1625', '0.23')\n",
      "('7', '0.095', '0.7766666666666667', '0.145', '0.30000000000000004')\n",
      "('7', '0.41375', '0.7883333333333333', '0.2325', '0.33')\n",
      "('7', '0.73625', '0.7983333333333333', '0.0525', '0.4166666666666667')\n",
      "('3', '0.45625', '0.77', '0.1975', '0.44')\n",
      "('3', '0.82125', '0.75', '0.1375', '0.30000000000000004')\n",
      "('3', '0.06875', '0.8016666666666667', '0.0975', '0.36333333333333334')\n",
      "Image No. 1 saved\n",
      "size (400, 300)\n",
      "('0', '0.10250000000000001', '0.6966666666666667', '0.185', '0.62')\n",
      "('0', '0.81', '0.6900000000000001', '0.215', '0.62')\n",
      "('1', '0.445', '0.6733333333333333', '0.3', '0.64')\n",
      "('2', '0.8225', '0.48333333333333334', '0.125', '0.19333333333333336')\n",
      "('2', '0.4825', '0.465', '0.135', '0.21000000000000002')\n",
      "('2', '0.10875', '0.49833333333333335', '0.1625', '0.23')\n",
      "('7', '0.095', '0.7766666666666667', '0.145', '0.30000000000000004')\n",
      "('7', '0.41375', '0.7883333333333333', '0.2325', '0.33')\n",
      "('7', '0.73625', '0.7983333333333333', '0.0525', '0.4166666666666667')\n",
      "('3', '0.45625', '0.77', '0.1975', '0.44')\n",
      "('3', '0.82125', '0.75', '0.1375', '0.30000000000000004')\n",
      "('3', '0.06875', '0.8016666666666667', '0.0975', '0.36333333333333334')\n",
      "Image No. 1 saved\n",
      "size (400, 300)\n",
      "('0', '0.10250000000000001', '0.6966666666666667', '0.185', '0.62')\n",
      "('0', '0.81', '0.6900000000000001', '0.215', '0.62')\n",
      "('1', '0.445', '0.6733333333333333', '0.3', '0.64')\n",
      "('2', '0.8225', '0.48333333333333334', '0.125', '0.19333333333333336')\n",
      "('2', '0.4825', '0.465', '0.135', '0.21000000000000002')\n",
      "('2', '0.10875', '0.49833333333333335', '0.1625', '0.23')\n",
      "('7', '0.095', '0.7766666666666667', '0.145', '0.30000000000000004')\n",
      "('7', '0.41375', '0.7883333333333333', '0.2325', '0.33')\n",
      "('7', '0.73625', '0.7983333333333333', '0.0525', '0.4166666666666667')\n",
      "('3', '0.45625', '0.77', '0.1975', '0.44')\n",
      "('3', '0.82125', '0.75', '0.1375', '0.30000000000000004')\n",
      "('3', '0.06875', '0.8016666666666667', '0.0975', '0.36333333333333334')\n",
      "Image No. 1 saved\n",
      "size (400, 300)\n",
      "('0', '0.10250000000000001', '0.6966666666666667', '0.185', '0.62')\n",
      "('0', '0.81', '0.6900000000000001', '0.215', '0.62')\n",
      "('1', '0.445', '0.6733333333333333', '0.3', '0.64')\n",
      "('2', '0.8225', '0.48333333333333334', '0.125', '0.19333333333333336')\n",
      "('2', '0.4825', '0.465', '0.135', '0.21000000000000002')\n",
      "('2', '0.10875', '0.49833333333333335', '0.1625', '0.23')\n",
      "('7', '0.095', '0.7766666666666667', '0.145', '0.30000000000000004')\n",
      "('7', '0.41375', '0.7883333333333333', '0.2325', '0.33')\n",
      "('7', '0.73625', '0.7983333333333333', '0.0525', '0.4166666666666667')\n",
      "('3', '0.45625', '0.77', '0.1975', '0.44')\n",
      "('3', '0.82125', '0.75', '0.1375', '0.30000000000000004')\n",
      "('3', '0.06875', '0.8016666666666667', '0.0975', '0.36333333333333334')\n",
      "Image No. 1 saved\n",
      "size (400, 300)\n",
      "('0', '0.10250000000000001', '0.6966666666666667', '0.185', '0.62')\n",
      "('0', '0.81', '0.6900000000000001', '0.215', '0.62')\n",
      "('1', '0.445', '0.6733333333333333', '0.3', '0.64')\n",
      "('2', '0.8225', '0.48333333333333334', '0.125', '0.19333333333333336')\n",
      "('2', '0.4825', '0.465', '0.135', '0.21000000000000002')\n",
      "('2', '0.10875', '0.49833333333333335', '0.1625', '0.23')\n",
      "('7', '0.095', '0.7766666666666667', '0.145', '0.30000000000000004')\n",
      "('7', '0.41375', '0.7883333333333333', '0.2325', '0.33')\n",
      "('7', '0.73625', '0.7983333333333333', '0.0525', '0.4166666666666667')\n",
      "('3', '0.45625', '0.77', '0.1975', '0.44')\n",
      "('3', '0.82125', '0.75', '0.1375', '0.30000000000000004')\n",
      "('3', '0.06875', '0.8016666666666667', '0.0975', '0.36333333333333334')\n",
      "Image No. 1 saved\n"
     ]
    }
   ],
   "source": [
    "#-------------------------------------------------------------------------------\n",
    "\n",
    "# Name:        Object bounding box label tool\n",
    "\n",
    "# Purpose:     Label object bboxes for ImageNet Detection data\n",
    "\n",
    "# Author:      Qiushi\n",
    "\n",
    "# Created:     06/06/2014\n",
    "\n",
    "\n",
    "\n",
    "#\n",
    "\n",
    "#-------------------------------------------------------------------------------\n",
    "\n",
    "from __future__ import division\n",
    "from tkinter import *\n",
    "#import tkMessageBox\n",
    "from PIL import Image, ImageTk\n",
    "from tkinter import ttk\n",
    "import os\n",
    "import glob\n",
    "import random\n",
    "\n",
    "# colors for the bboxes\n",
    "COLORS = ['red', 'blue', 'olive', 'teal', 'cyan', 'green', 'black']\n",
    "# image sizes for the examples\n",
    "SIZE = 256, 256\n",
    "\n",
    "class LabelTool():\n",
    "    def __init__(self, master):\n",
    "        # set up the main frame\n",
    "        self.parent = master\n",
    "        self.parent.title(\"LabelTool\")\n",
    "        self.frame = Frame(self.parent)\n",
    "        self.frame.pack(fill=BOTH, expand=1)\n",
    "        self.parent.resizable(width = FALSE, height = FALSE)\n",
    "\n",
    "        # initialize global state\n",
    "        self.imageDir = ''\n",
    "        self.imageList= []\n",
    "        self.egDir = ''\n",
    "        self.egList = []\n",
    "        self.outDir = ''\n",
    "        self.cur = 0\n",
    "        self.total = 0\n",
    "        self.category = 0\n",
    "        self.imagename = ''\n",
    "        self.labelfilename = ''\n",
    "        self.tkimg = None\n",
    "        self.currentLabelclass = ''\n",
    "        self.cla_can_temp = []\n",
    "        self.classcandidate_filename = 'class.txt'\n",
    "\n",
    "        # initialize mouse state\n",
    "        self.STATE = {}\n",
    "        self.STATE['click'] = 0\n",
    "        self.STATE['x'], self.STATE['y'] = 0, 0\n",
    "\n",
    "        # reference to bbox\n",
    "        self.bboxIdList = []\n",
    "        self.bboxId = None\n",
    "        self.bboxList = []\n",
    "        self.hl = None\n",
    "        self.vl = None\n",
    "\n",
    "        # ----------------- GUI stuff ---------------------\n",
    "        # dir entry & load\n",
    "        self.label = Label(self.frame, text = \"Image Dir:\")\n",
    "        self.label.grid(row = 0, column = 0, sticky = E)\n",
    "        self.entry = Entry(self.frame)\n",
    "        self.entry.grid(row = 0, column = 1, sticky = W+E)\n",
    "        self.ldBtn = Button(self.frame, text = \"Load\", command = self.loadDir)\n",
    "        self.ldBtn.grid(row = 0, column = 2,sticky = W+E)\n",
    "\n",
    "        # main panel for labeling\n",
    "        self.mainPanel = Canvas(self.frame, cursor='tcross')\n",
    "        self.mainPanel.bind(\"<Button-1>\", self.mouseClick)\n",
    "        self.mainPanel.bind(\"<Motion>\", self.mouseMove)\n",
    "        self.parent.bind(\"<Escape>\", self.cancelBBox)  # press <Espace> to cancel current bbox\n",
    "        self.parent.bind(\"s\", self.cancelBBox)\n",
    "        self.parent.bind(\"a\", self.prevImage) # press 'a' to go backforward\n",
    "        self.parent.bind(\"d\", self.nextImage) # press 'd' to go forward\n",
    "        self.mainPanel.grid(row = 1, column = 1, rowspan = 4, sticky = W+N)\n",
    "\n",
    "        # choose class\n",
    "        self.classname = StringVar()\n",
    "        self.classcandidate = ttk.Combobox(self.frame,state='readonly',textvariable=self.classname)\n",
    "        self.classcandidate.bind(\"<FocusIn>\", self.setClass)\n",
    "        self.classcandidate.grid(row=1,column=2)\n",
    "        if os.path.exists(self.classcandidate_filename):\n",
    "            with open(self.classcandidate_filename) as cf:\n",
    "                for line in cf.readlines():\n",
    "                    #print(line)\n",
    "                    self.cla_can_temp.append(line.strip('\\n'))\n",
    "        #print self.cla_can_temp\n",
    "        self.classcandidate['values'] = self.cla_can_temp\n",
    "        #self.classcandidate.current(0)\n",
    "        self.currentLabelclass = self.classcandidate.get() #init\n",
    "        self.currentLabelclassidx = self.classcandidate.current() #init\n",
    "        self.classname.trace(\"w\", self.setClass)\n",
    "        self.btnclass = Button(self.frame, text = 'ComfirmClass', command = self.setClass)\n",
    "        self.btnclass.grid(row=2,column=2,sticky = W+E)\n",
    "\n",
    "        # showing bbox info & delete bbox\n",
    "        self.lb1 = Label(self.frame, text = 'Bounding boxes:')\n",
    "        self.lb1.grid(row = 3, column = 2,  sticky = W+N)\n",
    "        self.listbox = Listbox(self.frame, width = 22, height = 12)\n",
    "        self.listbox.grid(row = 4, column = 2, sticky = N+S)\n",
    "        self.btnDel = Button(self.frame, text = 'Delete', command = self.delBBox)\n",
    "        self.btnDel.grid(row = 5, column = 2, sticky = W+E+N)\n",
    "        self.btnClear = Button(self.frame, text = 'ClearAll', command = self.clearBBox)\n",
    "        self.btnClear.grid(row = 6, column = 2, sticky = W+E+N)\n",
    "\n",
    "        # control panel for image navigation\n",
    "        self.ctrPanel = Frame(self.frame)\n",
    "        self.ctrPanel.grid(row = 7, column = 1, columnspan = 2, sticky = W+E)\n",
    "        self.prevBtn = Button(self.ctrPanel, text='<< Prev', width = 10, command = self.prevImage)\n",
    "        self.prevBtn.pack(side = LEFT, padx = 5, pady = 3)\n",
    "        self.nextBtn = Button(self.ctrPanel, text='Next >>', width = 10, command = self.nextImage)\n",
    "        self.nextBtn.pack(side = LEFT, padx = 5, pady = 3)\n",
    "        self.progLabel = Label(self.ctrPanel, text = \"Progress:     /    \")\n",
    "        self.progLabel.pack(side = LEFT, padx = 5)\n",
    "        self.tmpLabel = Label(self.ctrPanel, text = \"Go to Image No.\")\n",
    "        self.tmpLabel.pack(side = LEFT, padx = 5)\n",
    "        self.idxEntry = Entry(self.ctrPanel, width = 5)\n",
    "        self.idxEntry.pack(side = LEFT)\n",
    "        self.goBtn = Button(self.ctrPanel, text = 'Go', command = self.gotoImage)\n",
    "        self.goBtn.pack(side = LEFT)\n",
    "\n",
    "\n",
    "        # example pannel for illustration\n",
    "        self.egPanel = Frame(self.frame, border = 10)\n",
    "        self.egPanel.grid(row = 1, column = 0, rowspan = 5, sticky = N)\n",
    "        self.tmpLabel2 = Label(self.egPanel, text = \"Examples:\")\n",
    "        self.tmpLabel2.pack(side = TOP, pady = 5)\n",
    "        self.egLabels = []\n",
    "        for i in range(3):\n",
    "            self.egLabels.append(Label(self.egPanel))\n",
    "            self.egLabels[-1].pack(side = TOP)\n",
    "\n",
    "        # display mouse position\n",
    "        self.disp = Label(self.ctrPanel, text='')\n",
    "        self.disp.pack(side = RIGHT)\n",
    "\n",
    "        self.frame.columnconfigure(1, weight = 1)\n",
    "        self.frame.rowconfigure(4, weight = 1)\n",
    "\n",
    "        # for debugging\n",
    "##        self.setImage()\n",
    "##        self.loadDir()\n",
    "\n",
    "    def loadDir(self, dbg = False):\n",
    "        print('debug = ', dbg)\n",
    "        if not dbg:\n",
    "            s = self.entry.get()\n",
    "            self.parent.focus()\n",
    "            self.category = int(s)\n",
    "        else:\n",
    "            s = r'../darknet/data/'\n",
    "##        if not os.path.isdir(s):\n",
    "##            tkMessageBox.showerror(\"Error!\", message = \"The specified dir doesn't exist!\")\n",
    "##            return\n",
    "        # get image list\n",
    "        self.imageDir = os.path.join(os.getcwd(),'Images', '%03d' %(self.category))\n",
    "        print(self.imageDir)\n",
    "        #print self.category\n",
    "        self.imageList = glob.glob(os.path.join(self.imageDir, '*.JPG'))\n",
    "        print(self.imageList)\n",
    "        if len(self.imageList) == 0:\n",
    "            print('No .JPG images found in the specified dir!')\n",
    "            return\n",
    "\n",
    "        # default to the 1st image in the collection\n",
    "        self.cur = 1\n",
    "\n",
    "        self.total = len(self.imageList)\n",
    "\n",
    "\n",
    "\n",
    "         # set up output dir\n",
    "\n",
    "        self.outDir = os.path.join(r'./Labels', '%03d' %(self.category))\n",
    "\n",
    "        if not os.path.exists(self.outDir):\n",
    "\n",
    "            os.mkdir(self.outDir)\n",
    "\n",
    "\n",
    "\n",
    "        # load example bboxes\n",
    "\n",
    "        self.egDir = os.path.join(r'./Examples', '%03d' %(self.category))\n",
    "\n",
    "        #self.egDir = os.path.join(r'./Examples/demo')\n",
    "\n",
    "        print(os.path.exists(self.egDir))\n",
    "\n",
    "        if not os.path.exists(self.egDir):\n",
    "\n",
    "            return\n",
    "\n",
    "        filelist = glob.glob(os.path.join(self.egDir, '*.JPG'))\n",
    "\n",
    "        self.tmp = []\n",
    "\n",
    "        self.egList = []\n",
    "\n",
    "        random.shuffle(filelist)\n",
    "\n",
    "        for (i, f) in enumerate(filelist):\n",
    "\n",
    "            if i == 3:\n",
    "\n",
    "                break\n",
    "\n",
    "            im = Image.open(f)\n",
    "\n",
    "            r = min(SIZE[0] / im.size[0], SIZE[1] / im.size[1])\n",
    "\n",
    "            new_size = int(r * im.size[0]), int(r * im.size[1])\n",
    "\n",
    "            self.tmp.append(im.resize(new_size, Image.ANTIALIAS))\n",
    "\n",
    "            self.egList.append(ImageTk.PhotoImage(self.tmp[-1]))\n",
    "\n",
    "            self.egLabels[i].config(image = self.egList[-1], width = SIZE[0], height = SIZE[1])\n",
    "\n",
    "\n",
    "\n",
    "        self.loadImage()\n",
    "\n",
    "        print('%d images loaded from %s' %(self.total, s))\n",
    "\n",
    "\n",
    "\n",
    "    def loadImage(self):\n",
    "\n",
    "        # load image\n",
    "\n",
    "        imagepath = self.imageList[self.cur - 1]\n",
    "\n",
    "        tempimg = Image.open(imagepath)\n",
    "        basewidth = 400\n",
    "        wpercent = (basewidth / float(tempimg.size[0]))\n",
    "        hsize = int((float(tempimg.size[1]) * float(wpercent)))\n",
    "        self.img = tempimg.resize((basewidth, hsize), Image.ANTIALIAS)\n",
    "\n",
    "\n",
    "        self.tkimg = ImageTk.PhotoImage(self.img)\n",
    "\n",
    "        self.mainPanel.config(width = max(self.tkimg.width(), 400), height = max(self.tkimg.height(), 400))\n",
    "\n",
    "        self.mainPanel.create_image(0, 0, image = self.tkimg, anchor=NW)\n",
    "\n",
    "        self.progLabel.config(text = \"%04d/%04d\" %(self.cur, self.total))\n",
    "\n",
    "\n",
    "\n",
    "        # load labels\n",
    "\n",
    "        self.clearBBox()\n",
    "\n",
    "        self.imagename = os.path.split(imagepath)[-1].split('.')[0]\n",
    "\n",
    "        labelname = self.imagename + '.txt'\n",
    "\n",
    "        self.labelfilename = os.path.join(self.outDir, labelname)\n",
    "\n",
    "        #bbox_cnt = 0\n",
    "\n",
    "        if os.path.exists(self.labelfilename):\n",
    "\n",
    "            with open(self.labelfilename) as f:\n",
    "\n",
    "                for (i, line) in enumerate(f):\n",
    "\n",
    "                    #if i == 0:\n",
    "\n",
    "                        #bbox_cnt = int(line.strip())\n",
    "\n",
    "                        #continue\n",
    "                    \n",
    "                    # tmp = [int(t.strip()) for t in line.split()]\n",
    "\n",
    "                    tmppc = line.split()\n",
    "                    tmp = self.unconvert(tuple(tmppc))\n",
    "                    #print tmp\n",
    "\n",
    "                    self.bboxList.append(tuple(tmppc))\n",
    "\n",
    "                    tmpId = self.mainPanel.create_rectangle(int(tmp[0]), int(tmp[1]), \\\n",
    "\n",
    "                                                            int(tmp[2]), int(tmp[3]), \\\n",
    "\n",
    "                                                            width = 2, \\\n",
    "\n",
    "                                                            outline = COLORS[(len(self.bboxList)-1) % len(COLORS)])\n",
    "\n",
    "                    #print(tmpId\n",
    "\n",
    "                    self.bboxIdList.append(tmpId)\n",
    "\n",
    "                    self.listbox.insert(END, '%s : (%d, %d) -> (%d, %d)' %(tmp[4],int(tmp[0]), int(tmp[1]), \\\n",
    "\n",
    "                                                            int(tmp[2]), int(tmp[3])))\n",
    "\n",
    "                    self.listbox.itemconfig(len(self.bboxIdList) - 1, fg = COLORS[(len(self.bboxIdList) - 1) % len(COLORS)])\n",
    "\n",
    "\n",
    "\n",
    "    def saveImage(self):\n",
    "        print(\"size\", self.img.size)\n",
    "\n",
    "        with open(self.labelfilename, 'w') as f:\n",
    "\n",
    "            #f.write('%d\\n' %len(self.bboxList))\n",
    "\n",
    "            for bbox in self.bboxList:\n",
    "                print(bbox)\n",
    "                #f.write(' '.join(map(str, bbox)) + '\\n')\n",
    "                f.write(' '.join(map(str, bbox)) + '\\n')\n",
    "\n",
    "        print('Image No. %d saved' %(self.cur))\n",
    "\n",
    "\n",
    "\n",
    "\n",
    "\n",
    "    def mouseClick(self, event):\n",
    "\n",
    "        if self.STATE['click'] == 0:\n",
    "\n",
    "            self.STATE['x'], self.STATE['y'] = event.x, event.y\n",
    "\n",
    "        else:\n",
    "\n",
    "            x1, x2 = min(self.STATE['x'], event.x), max(self.STATE['x'], event.x)\n",
    "\n",
    "            y1, y2 = min(self.STATE['y'], event.y), max(self.STATE['y'], event.y)\n",
    "\n",
    "            self.bboxList.append(self.convert((x1, y1, x2, y2, self.currentLabelclassidx)))\n",
    "\n",
    "            self.bboxIdList.append(self.bboxId)\n",
    "\n",
    "            self.bboxId = None\n",
    "\n",
    "            self.listbox.insert(END, '%s : (%d, %d) -> (%d, %d)' %(self.currentLabelclass,x1, y1, x2, y2))\n",
    "\n",
    "            self.listbox.itemconfig(len(self.bboxIdList) - 1, fg = COLORS[(len(self.bboxIdList) - 1) % len(COLORS)])\n",
    "\n",
    "        self.STATE['click'] = 1 - self.STATE['click']\n",
    "\n",
    "\n",
    "\n",
    "    def mouseMove(self, event):\n",
    "\n",
    "        self.disp.config(text = 'x: %d, y: %d' %(event.x, event.y))\n",
    "\n",
    "        if self.tkimg:\n",
    "\n",
    "            if self.hl:\n",
    "\n",
    "                self.mainPanel.delete(self.hl)\n",
    "\n",
    "            self.hl = self.mainPanel.create_line(0, event.y, self.tkimg.width(), event.y, width = 2)\n",
    "\n",
    "            if self.vl:\n",
    "\n",
    "                self.mainPanel.delete(self.vl)\n",
    "\n",
    "            self.vl = self.mainPanel.create_line(event.x, 0, event.x, self.tkimg.height(), width = 2)\n",
    "\n",
    "        if 1 == self.STATE['click']:\n",
    "\n",
    "            if self.bboxId:\n",
    "\n",
    "                self.mainPanel.delete(self.bboxId)\n",
    "\n",
    "            self.bboxId = self.mainPanel.create_rectangle(self.STATE['x'], self.STATE['y'], \\\n",
    "\n",
    "                                                            event.x, event.y, \\\n",
    "\n",
    "                                                            width = 2, \\\n",
    "\n",
    "                                                            outline = COLORS[len(self.bboxList) % len(COLORS)])\n",
    "\n",
    "\n",
    "\n",
    "    def cancelBBox(self, event):\n",
    "\n",
    "        if 1 == self.STATE['click']:\n",
    "\n",
    "            if self.bboxId:\n",
    "\n",
    "                self.mainPanel.delete(self.bboxId)\n",
    "\n",
    "                self.bboxId = None\n",
    "\n",
    "                self.STATE['click'] = 0\n",
    "\n",
    "\n",
    "\n",
    "    def delBBox(self):\n",
    "\n",
    "        sel = self.listbox.curselection()\n",
    "\n",
    "        if len(sel) != 1 :\n",
    "\n",
    "            return\n",
    "\n",
    "        idx = int(sel[0])\n",
    "\n",
    "        self.mainPanel.delete(self.bboxIdList[idx])\n",
    "\n",
    "        self.bboxIdList.pop(idx)\n",
    "\n",
    "        self.bboxList.pop(idx)\n",
    "\n",
    "        self.listbox.delete(idx)\n",
    "\n",
    "\n",
    "\n",
    "    def clearBBox(self):\n",
    "\n",
    "        for idx in range(len(self.bboxIdList)):\n",
    "\n",
    "            self.mainPanel.delete(self.bboxIdList[idx])\n",
    "\n",
    "        self.listbox.delete(0, len(self.bboxList))\n",
    "\n",
    "        self.bboxIdList = []\n",
    "\n",
    "        self.bboxList = []\n",
    "\n",
    "\n",
    "\n",
    "    def prevImage(self, event = None):\n",
    "\n",
    "        self.saveImage()\n",
    "\n",
    "        if self.cur > 1:\n",
    "\n",
    "            self.cur -= 1\n",
    "\n",
    "            self.loadImage()\n",
    "\n",
    "\n",
    "\n",
    "    def nextImage(self, event = None):\n",
    "\n",
    "        self.saveImage()\n",
    "\n",
    "        if self.cur < self.total:\n",
    "\n",
    "            self.cur += 1\n",
    "\n",
    "            self.loadImage()\n",
    "\n",
    "\n",
    "\n",
    "    def gotoImage(self):\n",
    "\n",
    "        idx = int(self.idxEntry.get())\n",
    "\n",
    "        if 1 <= idx and idx <= self.total:\n",
    "\n",
    "            self.saveImage()\n",
    "\n",
    "            self.cur = idx\n",
    "\n",
    "            self.loadImage()\n",
    "\n",
    "\n",
    "\n",
    "    def setClass(self, a, b, c):\n",
    "\n",
    "        self.currentLabelclass = self.classcandidate.get()\n",
    "        self.currentLabelclassidx = int(self.classcandidate.current())\n",
    "        print('set label class to :',self.currentLabelclass, self.currentLabelclassidx)\n",
    "\n",
    "    def convert(self, box):\n",
    "        print(\"size\", self.img.size)\n",
    "        print(\"box\", box)\n",
    "        dw = 1./self.img.size[0]\n",
    "        dh = 1./self.img.size[1]\n",
    "        x1 = int(box[0])\n",
    "        y1 = int(box[1])\n",
    "        x2 = int(box[2])\n",
    "        y2 = int(box[3])\n",
    "        x = (x1 + x2)/2.0\n",
    "        y = (y1 + y2)/2.0\n",
    "        w = x2 - x1\n",
    "        h = y2 - y1\n",
    "        x = x*dw\n",
    "        w = w*dw\n",
    "        y = y*dh\n",
    "        h = h*dh\n",
    "        return (box[4], x, y, w, h)\n",
    "\n",
    "    def unconvert(self, box):\n",
    "        dw = self.img.size[0]\n",
    "        dh = self.img.size[1]\n",
    "        cat = int(box[0])\n",
    "        mix = float(box[1])\n",
    "        miy = float(box[2])\n",
    "        w = float(box[3])\n",
    "        h = float(box[4])\n",
    "        x1 = (mix - w/2.0)*dw\n",
    "        x2 = (mix + w/2.0)*dw\n",
    "        y1 = (miy - h/2.0)*dh\n",
    "        y2 = (miy + h/2.0)*dh\n",
    "        return (int(x1) ,int(y1) ,int(x2) ,int(y2), self.classcandidate['values'][cat])\n",
    "\n",
    "##    def setImage(self, imagepath = r'test2.png'):\n",
    "\n",
    "##        self.img = Image.open(imagepath)\n",
    "\n",
    "##        self.tkimg = ImageTk.PhotoImage(self.img)\n",
    "\n",
    "##        self.mainPanel.config(width = self.tkimg.width())\n",
    "\n",
    "##        self.mainPanel.config(height = self.tkimg.height())\n",
    "\n",
    "##        self.mainPanel.create_image(0, 0, image = self.tkimg, anchor=NW)\n",
    "\n",
    "\n",
    "\n",
    "if __name__ == '__main__':\n",
    "\n",
    "    root = Tk()\n",
    "\n",
    "    tool = LabelTool(root)\n",
    "\n",
    "    root.resizable(width =  True, height = True)\n",
    "\n",
    "    root.mainloop()"
   ]
  },
  {
   "cell_type": "code",
   "execution_count": null,
   "metadata": {
    "collapsed": true
   },
   "outputs": [],
   "source": [
    "os.getcwd()"
   ]
  },
  {
   "cell_type": "code",
   "execution_count": null,
   "metadata": {
    "collapsed": true
   },
   "outputs": [],
   "source": [
    "imagepath = \"C:/Users/erik/Documents/GitHub/BBox-Label-Tool/Images/001/P1090459.JpG\"\n",
    "tempimg = Image.open(imagepath)\n",
    "if tempimg.width > 400 or tempimg.height > 400:\n",
    "    ratio = max(tempimg.width, tempimg.width)/400\n",
    "else:\n",
    "    ratio = 1\n",
    "resized = ratio*tempimg.width, ratio*tempimg.height\n",
    "#img = tempimg.thumbnail(resized,Image.ANTIALIAS)\n",
    "tkimg = ImageTk.PhotoImage(tempimg)\n",
    "print(tkimg.size)\n",
    "      "
   ]
  },
  {
   "cell_type": "code",
   "execution_count": null,
   "metadata": {
    "collapsed": true
   },
   "outputs": [],
   "source": [
    "def convert(size, box):\n",
    "        print(\"size\", size)\n",
    "        print(\"box\", box)\n",
    "        dw = 1./size[0]\n",
    "        dh = 1./size[1]\n",
    "        x = (box[0] + box[2])/2.0\n",
    "        y = (box[1] + box[3])/2.0\n",
    "        w = box[2] - box[0]\n",
    "        h = box[3] - box[1]\n",
    "        x = x*dw\n",
    "        w = w*dw\n",
    "        y = y*dh\n",
    "        h = h*dh\n",
    "        return (box[4], x, y, w, h)\n",
    "    \n",
    "def unconvert(size, box):\n",
    "        dw = size[0]\n",
    "        dh = size[1]\n",
    "        x1 = (box[1] - box[3]/2.0)*dw\n",
    "        x2 = (box[1] + box[3]/2.0)*dw\n",
    "        y1 = (box[2] - box[4]/2.0)*dh\n",
    "        y2 = (box[2] + box[4]/2.0)*dh\n",
    "        return (x1 ,x2 ,y1 ,y2, box[0])\n",
    "\n",
    "unconvert((400,200),convert((400,200),(100,200,50,100,'k')))"
   ]
  },
  {
   "cell_type": "code",
   "execution_count": 47,
   "metadata": {},
   "outputs": [
    {
     "data": {
      "text/plain": [
       "('human', 0.5, 0.5, 1.0, 1.0)"
      ]
     },
     "execution_count": 47,
     "metadata": {},
     "output_type": "execute_result"
    }
   ],
   "source": [
    "convert((400,300),(0,400,0,300,'human'))"
   ]
  },
  {
   "cell_type": "code",
   "execution_count": 50,
   "metadata": {},
   "outputs": [
    {
     "data": {
      "text/plain": [
       "(0.0, 400.0, 0.0, 300.0, 'human')"
      ]
     },
     "execution_count": 50,
     "metadata": {},
     "output_type": "execute_result"
    }
   ],
   "source": [
    "unconvert((400,300),('human',0.5,0.5,1,1))"
   ]
  },
  {
   "cell_type": "code",
   "execution_count": 59,
   "metadata": {},
   "outputs": [
    {
     "name": "stdout",
     "output_type": "stream",
     "text": [
      "size (400, 300)\n",
      "box (6, 4, 400, 298, '')\n"
     ]
    },
    {
     "data": {
      "text/plain": [
       "('', 0.5075000000000001, 0.5033333333333334, 0.985, 0.9800000000000001)"
      ]
     },
     "execution_count": 59,
     "metadata": {},
     "output_type": "execute_result"
    }
   ],
   "source": [
    "convert((400, 300), (6, 4, 400, 298, ''))"
   ]
  },
  {
   "cell_type": "code",
   "execution_count": 69,
   "metadata": {
    "collapsed": true
   },
   "outputs": [],
   "source": [
    "tup = (1,2,5,\"we\")"
   ]
  },
  {
   "cell_type": "code",
   "execution_count": 75,
   "metadata": {},
   "outputs": [
    {
     "data": {
      "text/plain": [
       "0"
      ]
     },
     "execution_count": 75,
     "metadata": {},
     "output_type": "execute_result"
    }
   ],
   "source": [
    "tup.index(1)"
   ]
  },
  {
   "cell_type": "code",
   "execution_count": 81,
   "metadata": {
    "collapsed": true
   },
   "outputs": [],
   "source": [
    "classcandidate = ttk.Combobox(Frame(),state='readonly',textvariable=\"h\")"
   ]
  },
  {
   "cell_type": "code",
   "execution_count": 3,
   "metadata": {
    "collapsed": true
   },
   "outputs": [],
   "source": [
    "import random\n",
    "imagepath = \"C:/Users/erik/Documents/GitHub/BBox-Label-Tool/Images/001\"\n",
    "labeltrainfilename = \"C:/Users/erik/Documents/GitHub/darknet/train.txt\"\n",
    "labeltestfilename = \"C:/Users/erik/Documents/GitHub/darknet/test.txt\"\n",
    "imagelist = [label for label in os.listdir(imagepath) if label.split('.')[1] == 'JPG']\n",
    "idxs = random.sample(range(len(imagelist)),int(len(imagelist)*0.9))\n",
    "with open(labeltrainfilename, 'w') as f, open(labeltestfilename, 'w') as g:\n",
    "\n",
    "        for i,label in enumerate(imagelist):\n",
    "            #label = label.split('.')[0]\n",
    "            if i in idxs:\n",
    "                f.write(\"data/001/{0}\\n\".format(label))\n",
    "            else:\n",
    "                g.write(\"data/001/{0}\\n\".format(label))\n",
    "\n",
    "\n"
   ]
  },
  {
   "cell_type": "code",
   "execution_count": 4,
   "metadata": {},
   "outputs": [
    {
     "data": {
      "text/plain": [
       "'C:\\\\Users\\\\erik\\\\Documents\\\\GitHub\\\\BBox-Label-Tool'"
      ]
     },
     "execution_count": 4,
     "metadata": {},
     "output_type": "execute_result"
    }
   ],
   "source": [
    "os.getcwd()"
   ]
  },
  {
   "cell_type": "code",
   "execution_count": null,
   "metadata": {
    "collapsed": true
   },
   "outputs": [],
   "source": []
  }
 ],
 "metadata": {
  "kernelspec": {
   "display_name": "Python 3",
   "language": "python",
   "name": "python3"
  },
  "language_info": {
   "codemirror_mode": {
    "name": "ipython",
    "version": 3
   },
   "file_extension": ".py",
   "mimetype": "text/x-python",
   "name": "python",
   "nbconvert_exporter": "python",
   "pygments_lexer": "ipython3",
   "version": "3.6.3"
  }
 },
 "nbformat": 4,
 "nbformat_minor": 2
}
